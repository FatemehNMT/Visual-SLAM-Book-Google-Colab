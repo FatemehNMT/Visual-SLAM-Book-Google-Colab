{
  "nbformat": 4,
  "nbformat_minor": 0,
  "metadata": {
    "colab": {
      "provenance": [],
      "collapsed_sections": [
        "y83y0GpQadIc",
        "MWEO4GjeaF8z",
        "f2LAFlMvriAn",
        "lgIlKYcJrmV3",
        "DnIuUAa3mHi2",
        "0Q7r3nUxmK9j"
      ],
      "toc_visible": true,
      "authorship_tag": "ABX9TyNnx4GynenbnKvZZj8ByzJg",
      "include_colab_link": true
    },
    "kernelspec": {
      "name": "python3",
      "display_name": "Python 3"
    },
    "language_info": {
      "name": "python"
    }
  },
  "cells": [
    {
      "cell_type": "markdown",
      "metadata": {
        "id": "view-in-github",
        "colab_type": "text"
      },
      "source": [
        "<a href=\"https://colab.research.google.com/github/FatemehNMT/Visual-SLAM-Book-Google-Colab/blob/main/Chapter_1.ipynb\" target=\"_parent\"><img src=\"https://colab.research.google.com/assets/colab-badge.svg\" alt=\"Open In Colab\"/></a>"
      ]
    },
    {
      "cell_type": "markdown",
      "source": [
        "# **Chapter 1: Introduction to SLAM**\n",
        "\n",
        "**Chapter Reference:** https://github.com/gaoxiang12/slambook2/tree/master/ch2"
      ],
      "metadata": {
        "id": "y83y0GpQadIc"
      }
    },
    {
      "cell_type": "markdown",
      "source": [
        "## **Mount**"
      ],
      "metadata": {
        "id": "MWEO4GjeaF8z"
      }
    },
    {
      "cell_type": "code",
      "source": [
        "from google.colab import drive\n",
        "drive.mount('/content/gdrive')"
      ],
      "metadata": {
        "colab": {
          "base_uri": "https://localhost:8080/"
        },
        "id": "3MK2PMyuaOGi",
        "outputId": "a25bb292-581e-4161-fda6-2c0542b0b231"
      },
      "execution_count": null,
      "outputs": [
        {
          "output_type": "stream",
          "name": "stdout",
          "text": [
            "Mounted at /content/gdrive\n"
          ]
        }
      ]
    },
    {
      "cell_type": "code",
      "source": [
        "!pwd"
      ],
      "metadata": {
        "colab": {
          "base_uri": "https://localhost:8080/"
        },
        "id": "1a_45WTZs8hM",
        "outputId": "b0add8af-1bdf-478e-ad39-6ed252ac50b8"
      },
      "execution_count": null,
      "outputs": [
        {
          "output_type": "stream",
          "name": "stdout",
          "text": [
            "/content\n"
          ]
        }
      ]
    },
    {
      "cell_type": "markdown",
      "source": [
        "## **Applying compiler**"
      ],
      "metadata": {
        "id": "rqtmA9zBbUKa"
      }
    },
    {
      "cell_type": "markdown",
      "source": [
        "Installed c++ compiler in google colab:\n",
        "g++ (Ubuntu 11.4.0-1ubuntu1~22.04) 11.4.0\\\n",
        "Check the vrsion: ```!g++ --version```\\\n",
        "to install it in linux: `!sudo apt-get install g++`\\\n",
        "One of the g2o requirements: C++17 compiler\n",
        "So,\n",
        "Use the -std=c++17 flag when compiling your code.\n",
        "For example: g++ -std=c++17 your_code.cpp -o your_program\n"
      ],
      "metadata": {
        "id": "Bh4zsHxdp2PQ"
      }
    },
    {
      "cell_type": "code",
      "source": [
        "!g++ --version"
      ],
      "metadata": {
        "colab": {
          "base_uri": "https://localhost:8080/"
        },
        "id": "FyCG9efqb2TB",
        "outputId": "3eebc52f-fa28-482d-87ca-c6cea45f190d"
      },
      "execution_count": null,
      "outputs": [
        {
          "output_type": "stream",
          "name": "stdout",
          "text": [
            "g++ (Ubuntu 11.4.0-1ubuntu1~22.04) 11.4.0\n",
            "Copyright (C) 2021 Free Software Foundation, Inc.\n",
            "This is free software; see the source for copying conditions.  There is NO\n",
            "warranty; not even for MERCHANTABILITY or FITNESS FOR A PARTICULAR PURPOSE.\n",
            "\n"
          ]
        }
      ]
    },
    {
      "cell_type": "markdown",
      "source": [
        "### 1"
      ],
      "metadata": {
        "id": "f2LAFlMvriAn"
      }
    },
    {
      "cell_type": "code",
      "source": [
        "%%writefile multiply.h\n",
        "double multiply(double x,double y);"
      ],
      "metadata": {
        "id": "QtOgk-0G7EFB",
        "outputId": "704fabb9-a14c-40b2-cb5e-0ae915f1b717",
        "colab": {
          "base_uri": "https://localhost:8080/"
        }
      },
      "execution_count": null,
      "outputs": [
        {
          "output_type": "stream",
          "name": "stdout",
          "text": [
            "Writing multiply.h\n"
          ]
        }
      ]
    },
    {
      "cell_type": "code",
      "source": [
        "%%writefile multiply.cpp\n",
        "#include \"multiply.h\"\n",
        "using namespace std;\n",
        "\n",
        "double multiply(double x,double y)\n",
        "{\n",
        "  return x*y;\n",
        "};"
      ],
      "metadata": {
        "id": "o7nzfsex7D2p",
        "outputId": "46d8707d-a3d0-4a1a-fb74-b9daa0be1250",
        "colab": {
          "base_uri": "https://localhost:8080/"
        }
      },
      "execution_count": null,
      "outputs": [
        {
          "output_type": "stream",
          "name": "stdout",
          "text": [
            "Writing multiply.cpp\n"
          ]
        }
      ]
    },
    {
      "cell_type": "code",
      "execution_count": null,
      "metadata": {
        "colab": {
          "base_uri": "https://localhost:8080/"
        },
        "id": "HRz95ybAnBA4",
        "outputId": "f77ce690-ff1f-467c-f7c8-880aa4a40a71"
      },
      "outputs": [
        {
          "output_type": "stream",
          "name": "stdout",
          "text": [
            "Writing main.cpp\n"
          ]
        }
      ],
      "source": [
        "%%writefile main.cpp\n",
        "#include <iostream>\n",
        "#include \"multiply.h\"\n",
        "using namespace std;\n",
        "\n",
        "int main()\n",
        "{\n",
        " cout << multiply(10,6) << '\\n';\n",
        " return 0;\n",
        "};"
      ]
    },
    {
      "cell_type": "code",
      "source": [
        "%%script bash\n",
        "g++ main.cpp multiply.cpp -std=c++11 -o product_1\n",
        "g++ main.cpp multiply.cpp -std=c++14 -o product_2\n",
        "g++ main.cpp multiply.cpp -std=c++17 -o product_3"
      ],
      "metadata": {
        "id": "g9_GWrIb-BCJ"
      },
      "execution_count": null,
      "outputs": []
    },
    {
      "cell_type": "markdown",
      "source": [
        "product.out has executed permissions."
      ],
      "metadata": {
        "id": "PV_Kx1QlkygC"
      }
    },
    {
      "cell_type": "code",
      "source": [
        "!./product_1\n",
        "!./product_2\n",
        "!./product_3"
      ],
      "metadata": {
        "id": "gzjlHSMV-vnt",
        "outputId": "c746c381-3143-4e15-d2a2-7131d411597d",
        "colab": {
          "base_uri": "https://localhost:8080/"
        }
      },
      "execution_count": null,
      "outputs": [
        {
          "output_type": "stream",
          "name": "stdout",
          "text": [
            "60\n",
            "60\n",
            "60\n"
          ]
        }
      ]
    },
    {
      "cell_type": "markdown",
      "source": [
        "### 2"
      ],
      "metadata": {
        "id": "lgIlKYcJrmV3"
      }
    },
    {
      "cell_type": "markdown",
      "source": [
        "\n",
        "According to:\n",
        "https://github.com/pyk/cmake-tutorial"
      ],
      "metadata": {
        "id": "Jj_1a7tXhfeM"
      }
    },
    {
      "cell_type": "code",
      "source": [
        "%%writefile math.h\n",
        "\n",
        "#ifndef CMAKE_TUTORIAL_MATH_H\n",
        "#define CMAKE_TUTORIAL_MATH_H\n",
        "\n",
        "namespace math {\n",
        "int add(int a, int b);\n",
        "int sub(int a, int b);\n",
        "int mul(int a, int b);\n",
        "}\n",
        "\n",
        "#endif"
      ],
      "metadata": {
        "colab": {
          "base_uri": "https://localhost:8080/"
        },
        "id": "6Mv1tQZbjVQg",
        "outputId": "ed60eccf-f328-45ba-ce02-c8b502a9ed02"
      },
      "execution_count": null,
      "outputs": [
        {
          "output_type": "stream",
          "name": "stdout",
          "text": [
            "Writing math.h\n"
          ]
        }
      ]
    },
    {
      "cell_type": "code",
      "source": [
        "%%writefile math.cpp\n",
        "\n",
        "namespace math {\n",
        "\n",
        "int add(int a, int b) {\n",
        "    return a + b;\n",
        "}\n",
        "int sub(int a, int b) {\n",
        "    return a - b;\n",
        "}\n",
        "int mul(int a, int b) {\n",
        "    return a * b;\n",
        "}\n",
        "}\n"
      ],
      "metadata": {
        "colab": {
          "base_uri": "https://localhost:8080/"
        },
        "id": "UEpzgy9KjMUA",
        "outputId": "a4bfbe2b-19d2-4862-85c5-cfcb2e7ced4d"
      },
      "execution_count": null,
      "outputs": [
        {
          "output_type": "stream",
          "name": "stdout",
          "text": [
            "Writing math.cpp\n"
          ]
        }
      ]
    },
    {
      "cell_type": "code",
      "source": [
        "%%writefile main.cpp\n",
        "\n",
        "#include <iostream>\n",
        "#include \"math.h\"\n",
        "\n",
        "using namespace std;\n",
        "\n",
        "int main(int argc, char **argv) {\n",
        "    int result;\n",
        "\n",
        "    result = math::add(1, 2);\n",
        "    cout << \"add 1 + 2 : \" << result << endl;\n",
        "\n",
        "    result = math::add(4, 2);\n",
        "    cout << \"add 4 + 2 : \" << result << endl;\n",
        "\n",
        "    result = math::sub(1, 2);\n",
        "    cout << \"sub 1 - 2 : \" << result << endl;\n",
        "\n",
        "    result = math::sub(4, 2);\n",
        "    cout << \"sub 4 - 2 : \" << result << endl;\n",
        "\n",
        "    result = math::mul(1, 2);\n",
        "    cout << \"mul 1 * 2 : \" << result << endl;\n",
        "\n",
        "    result = math::mul(4, 2);\n",
        "    cout << \"mul 4 * 2 : \" << result << endl;\n",
        "}"
      ],
      "metadata": {
        "colab": {
          "base_uri": "https://localhost:8080/"
        },
        "id": "F5qqEBzojB2d",
        "outputId": "76478330-0ca3-402b-a8fd-a9e5f07276a6"
      },
      "execution_count": null,
      "outputs": [
        {
          "output_type": "stream",
          "name": "stdout",
          "text": [
            "Overwriting main.cpp\n"
          ]
        }
      ]
    },
    {
      "cell_type": "code",
      "source": [
        "%%script bash\n",
        "g++ main.cpp math.cpp -std=c++11 -o MATH"
      ],
      "metadata": {
        "id": "bW27IwolkYwt"
      },
      "execution_count": null,
      "outputs": []
    },
    {
      "cell_type": "code",
      "source": [
        "!./MATH"
      ],
      "metadata": {
        "colab": {
          "base_uri": "https://localhost:8080/"
        },
        "id": "MYVR4mQLkio3",
        "outputId": "5bc3e3fc-ccea-4dae-f268-82d09b88e95e"
      },
      "execution_count": null,
      "outputs": [
        {
          "output_type": "stream",
          "name": "stdout",
          "text": [
            "add 1 + 2 : 3\n",
            "add 4 + 2 : 6\n",
            "sub 1 - 2 : -1\n",
            "sub 4 - 2 : 2\n",
            "mul 1 * 2 : 2\n",
            "mul 4 * 2 : 8\n"
          ]
        }
      ]
    },
    {
      "cell_type": "markdown",
      "source": [
        "## **Applying CMake**"
      ],
      "metadata": {
        "id": "b-l91Br6bike"
      }
    },
    {
      "cell_type": "code",
      "source": [
        "!cmake --version"
      ],
      "metadata": {
        "colab": {
          "base_uri": "https://localhost:8080/"
        },
        "id": "a6Xgb-onh1jh",
        "outputId": "a6ddfd04-59fa-4e9a-c877-8eacca7c6548"
      },
      "execution_count": null,
      "outputs": [
        {
          "output_type": "stream",
          "name": "stdout",
          "text": [
            "cmake version 3.31.6\n",
            "\n",
            "CMake suite maintained and supported by Kitware (kitware.com/cmake).\n"
          ]
        }
      ]
    },
    {
      "cell_type": "markdown",
      "source": [
        "According to: https://github.com/pyk/cmake-tutorial"
      ],
      "metadata": {
        "id": "fHelMXHArxvH"
      }
    },
    {
      "cell_type": "markdown",
      "source": [
        "### 1"
      ],
      "metadata": {
        "id": "DnIuUAa3mHi2"
      }
    },
    {
      "cell_type": "code",
      "source": [
        "!pwd"
      ],
      "metadata": {
        "colab": {
          "base_uri": "https://localhost:8080/"
        },
        "id": "5EVYKC9HFejY",
        "outputId": "133d0dad-2109-47f9-b54b-4f314f16b93b"
      },
      "execution_count": null,
      "outputs": [
        {
          "output_type": "stream",
          "name": "stdout",
          "text": [
            "/content\n"
          ]
        }
      ]
    },
    {
      "cell_type": "code",
      "source": [
        "%%writefile math.h\n",
        "\n",
        "#ifndef CMAKE_TUTORIAL_MATH_H\n",
        "#define CMAKE_TUTORIAL_MATH_H\n",
        "\n",
        "namespace math {\n",
        "int add(int a, int b);\n",
        "int sub(int a, int b);\n",
        "int mul(int a, int b);\n",
        "}\n",
        "\n",
        "#endif"
      ],
      "metadata": {
        "colab": {
          "base_uri": "https://localhost:8080/"
        },
        "id": "bHxZ6_JEmZ6v",
        "outputId": "6cded1f5-7006-4304-ca8e-67cba5f68216"
      },
      "execution_count": null,
      "outputs": [
        {
          "output_type": "stream",
          "name": "stdout",
          "text": [
            "Writing math.h\n"
          ]
        }
      ]
    },
    {
      "cell_type": "code",
      "source": [
        "%%writefile math.cpp\n",
        "\n",
        "namespace math{\n",
        "int add(int a, int b) {\n",
        "    return a + b;\n",
        "}\n",
        "int sub(int a, int b) {\n",
        "    return a - b;\n",
        "}\n",
        "int mul(int a, int b) {\n",
        "    return a * b;\n",
        "}\n",
        "}\n"
      ],
      "metadata": {
        "id": "1dokxUQRmZwo",
        "colab": {
          "base_uri": "https://localhost:8080/"
        },
        "outputId": "c90e30a1-060f-4ffb-9ae5-3e922bb834ed"
      },
      "execution_count": null,
      "outputs": [
        {
          "output_type": "stream",
          "name": "stdout",
          "text": [
            "Writing math.cpp\n"
          ]
        }
      ]
    },
    {
      "cell_type": "code",
      "source": [
        "%%writefile main.cpp\n",
        "\n",
        "#include <iostream>\n",
        "#include \"math.h\"\n",
        "\n",
        "using namespace std;\n",
        "\n",
        "int main(int argc, char **argv) {\n",
        "    int result;\n",
        "\n",
        "    result = math::add(1, 2);\n",
        "    cout << \"add 1 + 2 : \" << result << endl;\n",
        "\n",
        "    result = math::add(4, 2);\n",
        "    cout << \"add 4 + 2 : \" << result << endl;\n",
        "\n",
        "    result = math::sub(1, 2);\n",
        "    cout << \"sub 1 - 2 : \" << result << endl;\n",
        "\n",
        "    result = math::sub(4, 2);\n",
        "    cout << \"sub 4 - 2 : \" << result << endl;\n",
        "\n",
        "    result = math::mul(1, 2);\n",
        "    cout << \"mul 1 * 2 : \" << result << endl;\n",
        "\n",
        "    result = math::mul(4, 2);\n",
        "    cout << \"mul 4 * 2 : \" << result << endl;\n",
        "}"
      ],
      "metadata": {
        "id": "zbgsinhSmZnA",
        "colab": {
          "base_uri": "https://localhost:8080/"
        },
        "outputId": "f7380a95-2146-4eea-8f0c-d0129250935b"
      },
      "execution_count": null,
      "outputs": [
        {
          "output_type": "stream",
          "name": "stdout",
          "text": [
            "Writing main.cpp\n"
          ]
        }
      ]
    },
    {
      "cell_type": "code",
      "source": [
        "%%writefile CMakeLists.txt\n",
        "\n",
        "cmake_minimum_required (VERSION 3.10)\n",
        "\n",
        "# Define the project\n",
        "project(cmake-tutorial)\n",
        "\n",
        "# Add definition for math library\n",
        "add_library(math math.cpp)\n",
        "\n",
        "# Add definition for the cmake-tutorial binary\n",
        "add_executable(cmake-tutorial main.cpp)\n",
        "target_link_libraries(cmake-tutorial math)"
      ],
      "metadata": {
        "colab": {
          "base_uri": "https://localhost:8080/"
        },
        "id": "04OofzTtm0pw",
        "outputId": "60337066-7b80-4597-c527-76e3489feddb"
      },
      "execution_count": null,
      "outputs": [
        {
          "output_type": "stream",
          "name": "stdout",
          "text": [
            "Writing CMakeLists.txt\n"
          ]
        }
      ]
    },
    {
      "cell_type": "code",
      "source": [
        "!mkdir build"
      ],
      "metadata": {
        "id": "lo9eyL98lwoA"
      },
      "execution_count": null,
      "outputs": []
    },
    {
      "cell_type": "code",
      "source": [
        "%cd build/"
      ],
      "metadata": {
        "colab": {
          "base_uri": "https://localhost:8080/"
        },
        "id": "neygwcPymlSh",
        "outputId": "f58b37a6-a043-4017-9db3-ebaf0d75a37e"
      },
      "execution_count": null,
      "outputs": [
        {
          "output_type": "stream",
          "name": "stdout",
          "text": [
            "/content/build\n"
          ]
        }
      ]
    },
    {
      "cell_type": "code",
      "source": [
        "!cmake .."
      ],
      "metadata": {
        "colab": {
          "base_uri": "https://localhost:8080/"
        },
        "id": "-caLfw-Rmng3",
        "outputId": "3d85a178-708b-40f3-838e-abadef42f227",
        "collapsed": true
      },
      "execution_count": null,
      "outputs": [
        {
          "output_type": "stream",
          "name": "stdout",
          "text": [
            "-- The C compiler identification is GNU 11.4.0\n",
            "-- The CXX compiler identification is GNU 11.4.0\n",
            "-- Detecting C compiler ABI info\n",
            "-- Detecting C compiler ABI info - done\n",
            "-- Check for working C compiler: /usr/bin/cc - skipped\n",
            "-- Detecting C compile features\n",
            "-- Detecting C compile features - done\n",
            "-- Detecting CXX compiler ABI info\n",
            "-- Detecting CXX compiler ABI info - done\n",
            "-- Check for working CXX compiler: /usr/bin/c++ - skipped\n",
            "-- Detecting CXX compile features\n",
            "-- Detecting CXX compile features - done\n",
            "-- Configuring done (1.1s)\n",
            "-- Generating done (0.0s)\n",
            "-- Build files have been written to: /content/build\n"
          ]
        }
      ]
    },
    {
      "cell_type": "code",
      "source": [
        "!make cmake-tutorial"
      ],
      "metadata": {
        "colab": {
          "base_uri": "https://localhost:8080/"
        },
        "id": "3wrNl-N5mv7C",
        "outputId": "fe0fb287-b433-42af-be31-d54234ba28ba"
      },
      "execution_count": null,
      "outputs": [
        {
          "output_type": "stream",
          "name": "stdout",
          "text": [
            "[ 25%] \u001b[32mBuilding CXX object CMakeFiles/math.dir/math.cpp.o\u001b[0m\n",
            "[ 50%] \u001b[32m\u001b[1mLinking CXX static library libmath.a\u001b[0m\n",
            "[ 50%] Built target math\n",
            "[ 75%] \u001b[32mBuilding CXX object CMakeFiles/cmake-tutorial.dir/main.cpp.o\u001b[0m\n",
            "[100%] \u001b[32m\u001b[1mLinking CXX executable cmake-tutorial\u001b[0m\n",
            "[100%] Built target cmake-tutorial\n"
          ]
        }
      ]
    },
    {
      "cell_type": "code",
      "source": [
        "!./cmake-tutorial"
      ],
      "metadata": {
        "colab": {
          "base_uri": "https://localhost:8080/"
        },
        "id": "KaqWxxXstgmp",
        "outputId": "a2e65683-f6b0-4b30-8304-b8e755132dd6"
      },
      "execution_count": null,
      "outputs": [
        {
          "output_type": "stream",
          "name": "stdout",
          "text": [
            "add 1 + 2 : 3\n",
            "add 4 + 2 : 6\n",
            "sub 1 - 2 : -1\n",
            "sub 4 - 2 : 2\n",
            "mul 1 * 2 : 2\n",
            "mul 4 * 2 : 8\n"
          ]
        }
      ]
    },
    {
      "cell_type": "markdown",
      "source": [
        "### 2"
      ],
      "metadata": {
        "id": "0Q7r3nUxmK9j"
      }
    },
    {
      "cell_type": "code",
      "source": [
        "%cd .."
      ],
      "metadata": {
        "colab": {
          "base_uri": "https://localhost:8080/"
        },
        "id": "S7hpq6UNiy9N",
        "outputId": "0173b22b-6626-480f-fc75-97f287bed264"
      },
      "execution_count": null,
      "outputs": [
        {
          "output_type": "stream",
          "name": "stdout",
          "text": [
            "/content\n"
          ]
        }
      ]
    },
    {
      "cell_type": "code",
      "source": [
        "%%writefile math.h\n",
        "\n",
        "#ifndef CMAKE_TUTORIAL_MATH_H\n",
        "#define CMAKE_TUTORIAL_MATH_H\n",
        "\n",
        "namespace math {\n",
        "\n",
        "int add(int a, int b);\n",
        "int sub(int a, int b);\n",
        "int mul(int a, int b);\n",
        "\n",
        "}\n",
        "\n",
        "#endif"
      ],
      "metadata": {
        "colab": {
          "base_uri": "https://localhost:8080/"
        },
        "id": "OUEts4-ojACt",
        "outputId": "154b42d2-95e1-44c0-e9a3-d4f85891ef17"
      },
      "execution_count": null,
      "outputs": [
        {
          "output_type": "stream",
          "name": "stdout",
          "text": [
            "Writing math.h\n"
          ]
        }
      ]
    },
    {
      "cell_type": "code",
      "source": [
        "%%writefile math.cpp\n",
        "\n",
        "namespace math{\n",
        "\n",
        "int add(int a, int b) {\n",
        "    return a + b;\n",
        "}\n",
        "int sub(int a, int b) {\n",
        "    return a - b;\n",
        "}\n",
        "int mul(int a, int b) {\n",
        "    return a * b;\n",
        "}\n",
        "}\n"
      ],
      "metadata": {
        "colab": {
          "base_uri": "https://localhost:8080/"
        },
        "id": "R6Z1jX0PjVou",
        "outputId": "40214b87-ed2e-43ed-bec8-72e1716b3dfd"
      },
      "execution_count": null,
      "outputs": [
        {
          "output_type": "stream",
          "name": "stdout",
          "text": [
            "Writing math.cpp\n"
          ]
        }
      ]
    },
    {
      "cell_type": "code",
      "source": [
        "%%writefile main.cpp\n",
        "\n",
        "#include <iostream>\n",
        "#include \"math.h\"\n",
        "\n",
        "using namespace std;\n",
        "\n",
        "int main(int argc, char **argv) {\n",
        "    int result;\n",
        "\n",
        "    result = math::add(1, 2);\n",
        "    cout << \"add 1 + 2 : \" << result << endl;\n",
        "\n",
        "    result = math::add(4, 2);\n",
        "    cout << \"add 4 + 2 : \" << result << endl;\n",
        "\n",
        "    result = math::sub(1, 2);\n",
        "    cout << \"sub 1 - 2 : \" << result << endl;\n",
        "\n",
        "    result = math::sub(4, 2);\n",
        "    cout << \"sub 4 - 2 : \" << result << endl;\n",
        "\n",
        "    result = math::mul(1, 2);\n",
        "    cout << \"mul 1 * 2 : \" << result << endl;\n",
        "\n",
        "    result = math::mul(4, 2);\n",
        "    cout << \"mul 4 * 2 : \" << result << endl;\n",
        "}"
      ],
      "metadata": {
        "colab": {
          "base_uri": "https://localhost:8080/"
        },
        "id": "gbAUht9ci8K3",
        "outputId": "b5d41b20-b69e-4f84-e3fd-a68512992418"
      },
      "execution_count": null,
      "outputs": [
        {
          "output_type": "stream",
          "name": "stdout",
          "text": [
            "Writing main.cpp\n"
          ]
        }
      ]
    },
    {
      "cell_type": "code",
      "source": [
        "%%writefile math_test.cpp\n",
        "\n",
        "#include <gtest/gtest.h>\n",
        "#include \"math.h\"\n",
        "\n",
        "TEST(MathAddTest, PositiveNum) {\n",
        "    EXPECT_EQ(2, math::add(1, 1));\n",
        "    EXPECT_EQ(10, math::add(2, 8));\n",
        "    EXPECT_EQ(100, math::add(50, 50));\n",
        "}\n",
        "\n",
        "TEST(MathAddTest, ZeroB) {\n",
        "    EXPECT_EQ(1, math::add(1, 0));\n",
        "    EXPECT_EQ(10, math::add(10, 0));\n",
        "    EXPECT_EQ(100, math::add(100, 0));\n",
        "}\n",
        "\n",
        "TEST(MathSubTest, PositiveNum) {\n",
        "    EXPECT_EQ(0, math::sub(1, 1));\n",
        "    EXPECT_EQ(-6, math::sub(2, 8));\n",
        "    EXPECT_EQ(100, math::sub(150, 50));\n",
        "}\n",
        "\n",
        "TEST(MathSubTest, ZeroB) {\n",
        "    EXPECT_EQ(1, math::sub(1, 0));\n",
        "    EXPECT_EQ(10, math::sub(10, 0));\n",
        "    EXPECT_EQ(100, math::sub(100, 0));\n",
        "}\n",
        "\n",
        "TEST(MathMulTest, PositiveNum) {\n",
        "    EXPECT_EQ(1, math::mul(1, 1));\n",
        "    EXPECT_EQ(16, math::mul(2, 8));\n",
        "    EXPECT_EQ(1500, math::mul(150, 10));\n",
        "}\n",
        "\n",
        "TEST(MathMulTest, ZeroB) {\n",
        "    EXPECT_EQ(0, math::mul(1, 0));\n",
        "    EXPECT_EQ(0, math::mul(10, 0));\n",
        "    EXPECT_EQ(0, math::mul(100, 0));\n",
        "}\n",
        "\n",
        "int main(int argc, char **argv) {\n",
        "    ::testing::InitGoogleTest(&argc, argv);\n",
        "    return RUN_ALL_TESTS();\n",
        "}"
      ],
      "metadata": {
        "colab": {
          "base_uri": "https://localhost:8080/"
        },
        "id": "xG6DNXsMGHXa",
        "outputId": "e4ebf75e-8b38-414a-bbb5-7b86c140943d"
      },
      "execution_count": null,
      "outputs": [
        {
          "output_type": "stream",
          "name": "stdout",
          "text": [
            "Writing math_test.cpp\n"
          ]
        }
      ]
    },
    {
      "cell_type": "code",
      "source": [
        "%%writefile CMakeLists.txt\n",
        "\n",
        "cmake_minimum_required (VERSION 3.10)\n",
        "\n",
        "# Define the project\n",
        "project(cmake-tutorial)\n",
        "\n",
        "# GoogleTest requires at least C++14\n",
        "set(CMAKE_CXX_STANDARD 14)\n",
        "\n",
        "# Add definition for math library\n",
        "add_library(math math.cpp)\n",
        "\n",
        "\n",
        "# Add definition for the cmake-tutorial binary\n",
        "add_executable(cmake-tutorial main.cpp)\n",
        "target_link_libraries(cmake-tutorial math)\n",
        "\n",
        "\n",
        "# Third-party library\n",
        "include(ExternalProject)\n",
        "ExternalProject_Add(googletest\n",
        "    PREFIX \"${CMAKE_BINARY_DIR}/lib\"\n",
        "    GIT_REPOSITORY \"https://github.com/google/googletest.git\"\n",
        "    GIT_TAG \"main\"\n",
        "    CMAKE_ARGS -DCMAKE_INSTALL_PREFIX=${CMAKE_BINARY_DIR}/lib/installed\n",
        ")\n",
        "\n",
        "# Prevent build on all targets build\n",
        "set_target_properties(googletest PROPERTIES EXCLUDE_FROM_ALL TRUE)\n",
        "\n",
        "\n",
        "# Define ${CMAKE_INSTALL_...} variables\n",
        "include(GNUInstallDirs)\n",
        "\n",
        "\n",
        "# Specify where third-party libraries are located\n",
        "link_directories(${CMAKE_BINARY_DIR}/lib/installed/${CMAKE_INSTALL_LIBDIR})\n",
        "include_directories(${CMAKE_BINARY_DIR}/lib/installed/${CMAKE_INSTALL_INCLUDEDIR})\n",
        "\n",
        "\n",
        "# This is required for googletest\n",
        "find_package(Threads REQUIRED)\n",
        "\n",
        "\n",
        "# Test\n",
        "add_executable(math_test math_test.cpp)\n",
        "target_link_libraries(math_test math gtest Threads::Threads)\n",
        "\n",
        "\n",
        "# Make sure third-party is built before executable\n",
        "add_dependencies(math_test googletest)\n",
        "set_target_properties(math_test PROPERTIES EXCLUDE_FROM_ALL TRUE)"
      ],
      "metadata": {
        "colab": {
          "base_uri": "https://localhost:8080/"
        },
        "id": "3qdK2LoYDJmT",
        "outputId": "fb73e5ce-1da8-4bb0-a896-845637fa603e"
      },
      "execution_count": null,
      "outputs": [
        {
          "output_type": "stream",
          "name": "stdout",
          "text": [
            "Overwriting CMakeLists.txt\n"
          ]
        }
      ]
    },
    {
      "cell_type": "code",
      "source": [
        "!mkdir build2"
      ],
      "metadata": {
        "id": "qb26qj2OFrzd"
      },
      "execution_count": null,
      "outputs": []
    },
    {
      "cell_type": "code",
      "source": [
        "%cd build2/"
      ],
      "metadata": {
        "colab": {
          "base_uri": "https://localhost:8080/"
        },
        "id": "Akwqsb1bFuaP",
        "outputId": "11ee6f06-f20f-417e-ecd9-84fd94b5ca4c"
      },
      "execution_count": null,
      "outputs": [
        {
          "output_type": "stream",
          "name": "stdout",
          "text": [
            "/content/build2\n"
          ]
        }
      ]
    },
    {
      "cell_type": "code",
      "source": [
        "!pwd"
      ],
      "metadata": {
        "colab": {
          "base_uri": "https://localhost:8080/"
        },
        "id": "Z2x7ENKUIT1Y",
        "outputId": "3d9af689-3461-4315-dbd2-cdcef2f98209"
      },
      "execution_count": null,
      "outputs": [
        {
          "output_type": "stream",
          "name": "stdout",
          "text": [
            "/content/build2\n"
          ]
        }
      ]
    },
    {
      "cell_type": "code",
      "source": [
        "!cmake .."
      ],
      "metadata": {
        "colab": {
          "base_uri": "https://localhost:8080/"
        },
        "id": "-DKFKCeGFw0N",
        "outputId": "b3721096-30ee-4722-92c6-6a2d7e7d6104"
      },
      "execution_count": null,
      "outputs": [
        {
          "output_type": "stream",
          "name": "stdout",
          "text": [
            "-- Configuring done (0.0s)\n",
            "-- Generating done (0.0s)\n",
            "-- Build files have been written to: /content/build2\n"
          ]
        }
      ]
    },
    {
      "cell_type": "code",
      "source": [
        "!make math_test"
      ],
      "metadata": {
        "colab": {
          "base_uri": "https://localhost:8080/"
        },
        "id": "QjbIOc6hG2N2",
        "outputId": "603fc51e-7237-4234-980e-7d91e539d476",
        "collapsed": true
      },
      "execution_count": null,
      "outputs": [
        {
          "output_type": "stream",
          "name": "stdout",
          "text": [
            "[  8%] \u001b[34m\u001b[1mCreating directories for 'googletest'\u001b[0m\n",
            "[ 16%] \u001b[34m\u001b[1mPerforming download step (git clone) for 'googletest'\u001b[0m\n",
            "Cloning into 'googletest'...\n",
            "Already on 'main'\n",
            "Your branch is up to date with 'origin/main'.\n",
            "[ 25%] \u001b[34m\u001b[1mPerforming update step for 'googletest'\u001b[0m\n",
            "-- Fetching latest from the remote origin\n",
            "[ 33%] \u001b[34m\u001b[1mNo patch step for 'googletest'\u001b[0m\n",
            "[ 41%] \u001b[34m\u001b[1mPerforming configure step for 'googletest'\u001b[0m\n",
            "-- The C compiler identification is GNU 11.4.0\n",
            "-- The CXX compiler identification is GNU 11.4.0\n",
            "-- Detecting C compiler ABI info\n",
            "-- Detecting C compiler ABI info - done\n",
            "-- Check for working C compiler: /usr/bin/cc - skipped\n",
            "-- Detecting C compile features\n",
            "-- Detecting C compile features - done\n",
            "-- Detecting CXX compiler ABI info\n",
            "-- Detecting CXX compiler ABI info - done\n",
            "-- Check for working CXX compiler: /usr/bin/c++ - skipped\n",
            "-- Detecting CXX compile features\n",
            "-- Detecting CXX compile features - done\n",
            "-- Performing Test CMAKE_HAVE_LIBC_PTHREAD\n",
            "-- Performing Test CMAKE_HAVE_LIBC_PTHREAD - Success\n",
            "-- Found Threads: TRUE\n",
            "-- Configuring done (0.8s)\n",
            "-- Generating done (0.0s)\n",
            "-- Build files have been written to: /content/build2/lib/src/googletest-build\n",
            "[ 50%] \u001b[34m\u001b[1mPerforming build step for 'googletest'\u001b[0m\n",
            "[ 12%] \u001b[32mBuilding CXX object googletest/CMakeFiles/gtest.dir/src/gtest-all.cc.o\u001b[0m\n",
            "[ 25%] \u001b[32m\u001b[1mLinking CXX static library ../lib/libgtest.a\u001b[0m\n",
            "[ 25%] Built target gtest\n",
            "[ 37%] \u001b[32mBuilding CXX object googlemock/CMakeFiles/gmock.dir/src/gmock-all.cc.o\u001b[0m\n",
            "[ 50%] \u001b[32m\u001b[1mLinking CXX static library ../lib/libgmock.a\u001b[0m\n",
            "[ 50%] Built target gmock\n",
            "[ 62%] \u001b[32mBuilding CXX object googlemock/CMakeFiles/gmock_main.dir/src/gmock_main.cc.o\u001b[0m\n",
            "[ 75%] \u001b[32m\u001b[1mLinking CXX static library ../lib/libgmock_main.a\u001b[0m\n",
            "[ 75%] Built target gmock_main\n",
            "[ 87%] \u001b[32mBuilding CXX object googletest/CMakeFiles/gtest_main.dir/src/gtest_main.cc.o\u001b[0m\n",
            "[100%] \u001b[32m\u001b[1mLinking CXX static library ../lib/libgtest_main.a\u001b[0m\n",
            "[100%] Built target gtest_main\n",
            "[ 58%] \u001b[34m\u001b[1mPerforming install step for 'googletest'\u001b[0m\n",
            "[ 25%] Built target gtest\n",
            "[ 50%] Built target gmock\n",
            "[ 75%] Built target gmock_main\n",
            "[100%] Built target gtest_main\n",
            "\u001b[36mInstall the project...\u001b[0m\n",
            "-- Install configuration: \"\"\n",
            "-- Installing: /content/build2/lib/installed/include\n",
            "-- Installing: /content/build2/lib/installed/include/gmock\n",
            "-- Installing: /content/build2/lib/installed/include/gmock/internal\n",
            "-- Installing: /content/build2/lib/installed/include/gmock/internal/gmock-internal-utils.h\n",
            "-- Installing: /content/build2/lib/installed/include/gmock/internal/gmock-pp.h\n",
            "-- Installing: /content/build2/lib/installed/include/gmock/internal/custom\n",
            "-- Installing: /content/build2/lib/installed/include/gmock/internal/custom/README.md\n",
            "-- Installing: /content/build2/lib/installed/include/gmock/internal/custom/gmock-generated-actions.h\n",
            "-- Installing: /content/build2/lib/installed/include/gmock/internal/custom/gmock-port.h\n",
            "-- Installing: /content/build2/lib/installed/include/gmock/internal/custom/gmock-matchers.h\n",
            "-- Installing: /content/build2/lib/installed/include/gmock/internal/gmock-port.h\n",
            "-- Installing: /content/build2/lib/installed/include/gmock/gmock-nice-strict.h\n",
            "-- Installing: /content/build2/lib/installed/include/gmock/gmock.h\n",
            "-- Installing: /content/build2/lib/installed/include/gmock/gmock-actions.h\n",
            "-- Installing: /content/build2/lib/installed/include/gmock/gmock-function-mocker.h\n",
            "-- Installing: /content/build2/lib/installed/include/gmock/gmock-matchers.h\n",
            "-- Installing: /content/build2/lib/installed/include/gmock/gmock-cardinalities.h\n",
            "-- Installing: /content/build2/lib/installed/include/gmock/gmock-more-actions.h\n",
            "-- Installing: /content/build2/lib/installed/include/gmock/gmock-more-matchers.h\n",
            "-- Installing: /content/build2/lib/installed/include/gmock/gmock-spec-builders.h\n",
            "-- Installing: /content/build2/lib/installed/lib/libgmock.a\n",
            "-- Installing: /content/build2/lib/installed/lib/libgmock_main.a\n",
            "-- Installing: /content/build2/lib/installed/lib/pkgconfig/gmock.pc\n",
            "-- Installing: /content/build2/lib/installed/lib/pkgconfig/gmock_main.pc\n",
            "-- Installing: /content/build2/lib/installed/lib/cmake/GTest/GTestTargets.cmake\n",
            "-- Installing: /content/build2/lib/installed/lib/cmake/GTest/GTestTargets-noconfig.cmake\n",
            "-- Installing: /content/build2/lib/installed/lib/cmake/GTest/GTestConfigVersion.cmake\n",
            "-- Installing: /content/build2/lib/installed/lib/cmake/GTest/GTestConfig.cmake\n",
            "-- Up-to-date: /content/build2/lib/installed/include\n",
            "-- Installing: /content/build2/lib/installed/include/gtest\n",
            "-- Installing: /content/build2/lib/installed/include/gtest/gtest-death-test.h\n",
            "-- Installing: /content/build2/lib/installed/include/gtest/internal\n",
            "-- Installing: /content/build2/lib/installed/include/gtest/internal/gtest-string.h\n",
            "-- Installing: /content/build2/lib/installed/include/gtest/internal/gtest-internal.h\n",
            "-- Installing: /content/build2/lib/installed/include/gtest/internal/gtest-type-util.h\n",
            "-- Installing: /content/build2/lib/installed/include/gtest/internal/gtest-port-arch.h\n",
            "-- Installing: /content/build2/lib/installed/include/gtest/internal/gtest-port.h\n",
            "-- Installing: /content/build2/lib/installed/include/gtest/internal/gtest-filepath.h\n",
            "-- Installing: /content/build2/lib/installed/include/gtest/internal/custom\n",
            "-- Installing: /content/build2/lib/installed/include/gtest/internal/custom/README.md\n",
            "-- Installing: /content/build2/lib/installed/include/gtest/internal/custom/gtest-printers.h\n",
            "-- Installing: /content/build2/lib/installed/include/gtest/internal/custom/gtest-port.h\n",
            "-- Installing: /content/build2/lib/installed/include/gtest/internal/custom/gtest.h\n",
            "-- Installing: /content/build2/lib/installed/include/gtest/internal/gtest-param-util.h\n",
            "-- Installing: /content/build2/lib/installed/include/gtest/internal/gtest-death-test-internal.h\n",
            "-- Installing: /content/build2/lib/installed/include/gtest/gtest-printers.h\n",
            "-- Installing: /content/build2/lib/installed/include/gtest/gtest-message.h\n",
            "-- Installing: /content/build2/lib/installed/include/gtest/gtest-spi.h\n",
            "-- Installing: /content/build2/lib/installed/include/gtest/gtest-param-test.h\n",
            "-- Installing: /content/build2/lib/installed/include/gtest/gtest-matchers.h\n",
            "-- Installing: /content/build2/lib/installed/include/gtest/gtest_prod.h\n",
            "-- Installing: /content/build2/lib/installed/include/gtest/gtest_pred_impl.h\n",
            "-- Installing: /content/build2/lib/installed/include/gtest/gtest-test-part.h\n",
            "-- Installing: /content/build2/lib/installed/include/gtest/gtest-typed-test.h\n",
            "-- Installing: /content/build2/lib/installed/include/gtest/gtest.h\n",
            "-- Installing: /content/build2/lib/installed/include/gtest/gtest-assertion-result.h\n",
            "-- Installing: /content/build2/lib/installed/lib/libgtest.a\n",
            "-- Installing: /content/build2/lib/installed/lib/libgtest_main.a\n",
            "-- Installing: /content/build2/lib/installed/lib/pkgconfig/gtest.pc\n",
            "-- Installing: /content/build2/lib/installed/lib/pkgconfig/gtest_main.pc\n",
            "[ 66%] \u001b[34m\u001b[1mCompleted 'googletest'\u001b[0m\n",
            "[ 66%] Built target googletest\n",
            "[ 75%] \u001b[32mBuilding CXX object CMakeFiles/math.dir/math.cpp.o\u001b[0m\n",
            "[ 83%] \u001b[32m\u001b[1mLinking CXX static library libmath.a\u001b[0m\n",
            "[ 83%] Built target math\n",
            "[ 91%] \u001b[32mBuilding CXX object CMakeFiles/math_test.dir/math_test.cpp.o\u001b[0m\n",
            "[100%] \u001b[32m\u001b[1mLinking CXX executable math_test\u001b[0m\n",
            "[100%] Built target math_test\n"
          ]
        }
      ]
    },
    {
      "cell_type": "code",
      "source": [
        "!./math_test"
      ],
      "metadata": {
        "colab": {
          "base_uri": "https://localhost:8080/"
        },
        "id": "N-lwzaBwG2vv",
        "outputId": "f726aec9-a1ae-4561-d939-0b3f30761889"
      },
      "execution_count": null,
      "outputs": [
        {
          "output_type": "stream",
          "name": "stdout",
          "text": [
            "\u001b[0;32m[==========] \u001b[mRunning 6 tests from 3 test suites.\n",
            "\u001b[0;32m[----------] \u001b[mGlobal test environment set-up.\n",
            "\u001b[0;32m[----------] \u001b[m2 tests from MathAddTest\n",
            "\u001b[0;32m[ RUN      ] \u001b[mMathAddTest.PositiveNum\n",
            "\u001b[0;32m[       OK ] \u001b[mMathAddTest.PositiveNum (0 ms)\n",
            "\u001b[0;32m[ RUN      ] \u001b[mMathAddTest.ZeroB\n",
            "\u001b[0;32m[       OK ] \u001b[mMathAddTest.ZeroB (0 ms)\n",
            "\u001b[0;32m[----------] \u001b[m2 tests from MathAddTest (0 ms total)\n",
            "\n",
            "\u001b[0;32m[----------] \u001b[m2 tests from MathSubTest\n",
            "\u001b[0;32m[ RUN      ] \u001b[mMathSubTest.PositiveNum\n",
            "\u001b[0;32m[       OK ] \u001b[mMathSubTest.PositiveNum (0 ms)\n",
            "\u001b[0;32m[ RUN      ] \u001b[mMathSubTest.ZeroB\n",
            "\u001b[0;32m[       OK ] \u001b[mMathSubTest.ZeroB (0 ms)\n",
            "\u001b[0;32m[----------] \u001b[m2 tests from MathSubTest (0 ms total)\n",
            "\n",
            "\u001b[0;32m[----------] \u001b[m2 tests from MathMulTest\n",
            "\u001b[0;32m[ RUN      ] \u001b[mMathMulTest.PositiveNum\n",
            "\u001b[0;32m[       OK ] \u001b[mMathMulTest.PositiveNum (0 ms)\n",
            "\u001b[0;32m[ RUN      ] \u001b[mMathMulTest.ZeroB\n",
            "\u001b[0;32m[       OK ] \u001b[mMathMulTest.ZeroB (0 ms)\n",
            "\u001b[0;32m[----------] \u001b[m2 tests from MathMulTest (0 ms total)\n",
            "\n",
            "\u001b[0;32m[----------] \u001b[mGlobal test environment tear-down\n",
            "\u001b[0;32m[==========] \u001b[m6 tests from 3 test suites ran. (0 ms total)\n",
            "\u001b[0;32m[  PASSED  ] \u001b[m6 tests.\n"
          ]
        }
      ]
    }
  ]
}