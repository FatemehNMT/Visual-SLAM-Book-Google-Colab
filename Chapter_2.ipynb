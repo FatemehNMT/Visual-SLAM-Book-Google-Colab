{
  "cells": [
    {
      "cell_type": "markdown",
      "metadata": {
        "id": "view-in-github",
        "colab_type": "text"
      },
      "source": [
        "<a href=\"https://colab.research.google.com/github/FatemehNMT/Visual-SLAM-Book-Google-Colab/blob/main/Chapter_2.ipynb\" target=\"_parent\"><img src=\"https://colab.research.google.com/assets/colab-badge.svg\" alt=\"Open In Colab\"/></a>"
      ]
    },
    {
      "cell_type": "markdown",
      "source": [
        "**Eigen** is a C++ open-source linear algebra library. It provides fast linear\n",
        "algebra operations on matrices, as well as functions such as solving linear equations.\n",
        "Many upper-level software libraries also use Eigen for matrix operations, including g2o, Sophus, and others. Let's learn about Eigen's programming."
      ],
      "metadata": {
        "id": "QYd6pTu4MjGe"
      }
    },
    {
      "cell_type": "markdown",
      "source": [
        "# **Chapter 2: 3D Rigid Body Motion**\n",
        "\n",
        "**Chapter Reference:** https://github.com/gaoxiang12/slambook2/tree/master/ch3"
      ],
      "metadata": {
        "id": "y83y0GpQadIc"
      }
    },
    {
      "cell_type": "markdown",
      "source": [
        "## **Mount**"
      ],
      "metadata": {
        "id": "MWEO4GjeaF8z"
      }
    },
    {
      "cell_type": "code",
      "source": [
        "from google.colab import drive\n",
        "drive.mount('/content/gdrive')"
      ],
      "metadata": {
        "colab": {
          "base_uri": "https://localhost:8080/"
        },
        "id": "3MK2PMyuaOGi",
        "outputId": "a25bb292-581e-4161-fda6-2c0542b0b231"
      },
      "execution_count": null,
      "outputs": [
        {
          "output_type": "stream",
          "name": "stdout",
          "text": [
            "Mounted at /content/gdrive\n"
          ]
        }
      ]
    },
    {
      "cell_type": "code",
      "source": [
        "!pwd"
      ],
      "metadata": {
        "colab": {
          "base_uri": "https://localhost:8080/"
        },
        "id": "1a_45WTZs8hM",
        "outputId": "b0add8af-1bdf-478e-ad39-6ed252ac50b8"
      },
      "execution_count": null,
      "outputs": [
        {
          "output_type": "stream",
          "name": "stdout",
          "text": [
            "/content\n"
          ]
        }
      ]
    },
    {
      "cell_type": "markdown",
      "source": [
        "## **Here, We Will Learn:**"
      ],
      "metadata": {
        "id": "C8W3wzwD24Md"
      }
    },
    {
      "cell_type": "markdown",
      "source": [
        "**SVD** applying Eigen\n",
        "\n",
        "Define n by n matrix: **dynamic/ static** dimensions (two approaches)\n",
        "\n",
        "Define n by n matrix (or vector)** with its variables set** (two approaches)\n",
        "\n",
        "Define n by n matrix with its random variables (-1 to 1) (two approaches: n defined first or at the end)\n",
        "\n",
        "Define n by n matrix with its **constant** variables (matrix of constants)\n",
        "\n",
        "Define n by n matrix with its **zero/ ones** variables\n",
        "\n",
        "Define n by n matrix of **identity**\n",
        "\n",
        "**Resize** a matrix\n",
        "\n",
        "Matrix **multiplication**\n",
        "\n",
        "Multiplication by a **scalar**\n",
        "\n",
        "Matrix **Transpose** (two approaches)\n",
        "\n",
        "Matrix **inverse**\n",
        "\n",
        "**Eigenvalues** calculation\n",
        "\n",
        "Work on **a block of a matrix**\n",
        "\n",
        "**Sum / Subscription**\n",
        "\n",
        "**sin**/ tan/ asin/ abs/ ...\n",
        "\n",
        "Accessing **columns and rows** of a matrix\n",
        "\n",
        "Create a **diagonal matrix** out of a vector\n",
        "\n",
        "Matrix **addition**\n",
        "\n",
        "Solving an **equation**\n",
        "\n",
        "Applying **QR decomposition**\n",
        "\n",
        "Applying **cholesky decomposition** to solve an equation\n",
        "\n"
      ],
      "metadata": {
        "id": "sM57AfSwDBbT"
      }
    },
    {
      "cell_type": "markdown",
      "source": [
        "## **Install Eigen**"
      ],
      "metadata": {
        "id": "w1auFzlv3Goh"
      }
    },
    {
      "cell_type": "markdown",
      "metadata": {
        "id": "RSS-6lEqHBHN"
      },
      "source": [
        "https://www.youtube.com/watch?v=g28I4FfnCBU\\\n",
        "https://www.youtube.com/watch?v=Q5RD1HDjpk0\n"
      ]
    },
    {
      "cell_type": "code",
      "execution_count": null,
      "metadata": {
        "id": "xf9r0CAbIH5J",
        "colab": {
          "base_uri": "https://localhost:8080/"
        },
        "outputId": "b4990cdd-a693-4e67-bf66-fba2557dfbb4"
      },
      "outputs": [
        {
          "output_type": "stream",
          "name": "stdout",
          "text": [
            "/usr/local/bin/cmake\n"
          ]
        }
      ],
      "source": [
        "!which cmake"
      ]
    },
    {
      "cell_type": "code",
      "execution_count": null,
      "metadata": {
        "colab": {
          "base_uri": "https://localhost:8080/"
        },
        "id": "T38ttUz7N5kA",
        "outputId": "9a242661-5644-46b0-80fd-db33934316c6"
      },
      "outputs": [
        {
          "output_type": "stream",
          "name": "stdout",
          "text": [
            "cmake version 3.30.3\n",
            "\n",
            "CMake suite maintained and supported by Kitware (kitware.com/cmake).\n"
          ]
        }
      ],
      "source": [
        "!cmake --version"
      ]
    },
    {
      "cell_type": "markdown",
      "source": [
        "If no cmake, install it: `!sudo apt install cmake`"
      ],
      "metadata": {
        "id": "q9CpMvxu3Nqa"
      }
    },
    {
      "cell_type": "code",
      "execution_count": null,
      "metadata": {
        "colab": {
          "base_uri": "https://localhost:8080/"
        },
        "id": "Ed8K0bpMO3R-",
        "outputId": "9cdaf623-f8ed-4baa-9c1b-b4c11bde3c07"
      },
      "outputs": [
        {
          "output_type": "stream",
          "name": "stdout",
          "text": [
            "Cloning into 'eigen'...\n",
            "remote: Enumerating objects: 125746, done.\u001b[K\n",
            "remote: Counting objects: 100% (450/450), done.\u001b[K\n",
            "remote: Compressing objects: 100% (164/164), done.\u001b[K\n",
            "remote: Total 125746 (delta 286), reused 448 (delta 286), pack-reused 125296 (from 1)\u001b[K\n",
            "Receiving objects: 100% (125746/125746), 105.57 MiB | 23.05 MiB/s, done.\n",
            "Resolving deltas: 100% (104162/104162), done.\n"
          ]
        }
      ],
      "source": [
        "!git clone https://gitlab.com/libeigen/eigen.git"
      ]
    },
    {
      "cell_type": "code",
      "execution_count": null,
      "metadata": {
        "colab": {
          "base_uri": "https://localhost:8080/"
        },
        "id": "QuxMvozZPN2h",
        "outputId": "d3d1680a-0bc1-442b-f536-173bde26d009"
      },
      "outputs": [
        {
          "output_type": "stream",
          "name": "stdout",
          "text": [
            "/content/eigen\n"
          ]
        }
      ],
      "source": [
        "%cd eigen"
      ]
    },
    {
      "cell_type": "code",
      "execution_count": null,
      "metadata": {
        "id": "ekzpnWdcPnzm"
      },
      "outputs": [],
      "source": [
        "!mkdir build"
      ]
    },
    {
      "cell_type": "code",
      "execution_count": null,
      "metadata": {
        "colab": {
          "base_uri": "https://localhost:8080/"
        },
        "id": "_cxmd1Q-QFNl",
        "outputId": "969dec0e-9b98-42e4-9f2a-dfac8d008342"
      },
      "outputs": [
        {
          "output_type": "stream",
          "name": "stdout",
          "text": [
            "/content/eigen/build\n"
          ]
        }
      ],
      "source": [
        "%cd build"
      ]
    },
    {
      "cell_type": "code",
      "execution_count": null,
      "metadata": {
        "colab": {
          "base_uri": "https://localhost:8080/"
        },
        "id": "WCjbxkEwP043",
        "outputId": "e90d0fa4-eda2-4e9c-8598-ba7cd936040e",
        "collapsed": true
      },
      "outputs": [
        {
          "output_type": "stream",
          "name": "stdout",
          "text": [
            "-- The C compiler identification is GNU 11.4.0\n",
            "-- The CXX compiler identification is GNU 11.4.0\n",
            "-- Detecting C compiler ABI info\n",
            "-- Detecting C compiler ABI info - done\n",
            "-- Check for working C compiler: /usr/bin/cc - skipped\n",
            "-- Detecting C compile features\n",
            "-- Detecting C compile features - done\n",
            "-- Detecting CXX compiler ABI info\n",
            "-- Detecting CXX compiler ABI info - done\n",
            "-- Check for working CXX compiler: /usr/bin/c++ - skipped\n",
            "-- Detecting CXX compile features\n",
            "-- Detecting CXX compile features - done\n",
            "-- The Fortran compiler identification is GNU 11.4.0\n",
            "-- Performing Test standard_math_library_linked_to_automatically\n",
            "-- Performing Test standard_math_library_linked_to_automatically - Success\n",
            "-- Standard libraries to link to explicitly: none\n",
            "-- Performing Test COMPILER_SUPPORT_WERROR\n",
            "-- Performing Test COMPILER_SUPPORT_WERROR - Success\n",
            "-- Performing Test COMPILER_SUPPORT_pedantic\n",
            "-- Performing Test COMPILER_SUPPORT_pedantic - Success\n",
            "-- Performing Test COMPILER_SUPPORT_Wall\n",
            "-- Performing Test COMPILER_SUPPORT_Wall - Success\n",
            "-- Performing Test COMPILER_SUPPORT_Wextra\n",
            "-- Performing Test COMPILER_SUPPORT_Wextra - Success\n",
            "-- Performing Test COMPILER_SUPPORT_Wundef\n",
            "-- Performing Test COMPILER_SUPPORT_Wundef - Success\n",
            "-- Performing Test COMPILER_SUPPORT_Wcastalign\n",
            "-- Performing Test COMPILER_SUPPORT_Wcastalign - Success\n",
            "-- Performing Test COMPILER_SUPPORT_Wcharsubscripts\n",
            "-- Performing Test COMPILER_SUPPORT_Wcharsubscripts - Success\n",
            "-- Performing Test COMPILER_SUPPORT_Wnonvirtualdtor\n",
            "-- Performing Test COMPILER_SUPPORT_Wnonvirtualdtor - Success\n",
            "-- Performing Test COMPILER_SUPPORT_Wunusedlocaltypedefs\n",
            "-- Performing Test COMPILER_SUPPORT_Wunusedlocaltypedefs - Success\n",
            "-- Performing Test COMPILER_SUPPORT_Wpointerarith\n",
            "-- Performing Test COMPILER_SUPPORT_Wpointerarith - Success\n",
            "-- Performing Test COMPILER_SUPPORT_Wwritestrings\n",
            "-- Performing Test COMPILER_SUPPORT_Wwritestrings - Success\n",
            "-- Performing Test COMPILER_SUPPORT_Wformatsecurity\n",
            "-- Performing Test COMPILER_SUPPORT_Wformatsecurity - Success\n",
            "-- Performing Test COMPILER_SUPPORT_Wshorten64to32\n",
            "-- Performing Test COMPILER_SUPPORT_Wshorten64to32 - Failed\n",
            "-- Performing Test COMPILER_SUPPORT_Wlogicalop\n",
            "-- Performing Test COMPILER_SUPPORT_Wlogicalop - Success\n",
            "-- Performing Test COMPILER_SUPPORT_Wenumconversion\n",
            "-- Performing Test COMPILER_SUPPORT_Wenumconversion - Success\n",
            "-- Performing Test COMPILER_SUPPORT_Wcpp11extensions\n",
            "-- Performing Test COMPILER_SUPPORT_Wcpp11extensions - Failed\n",
            "-- Performing Test COMPILER_SUPPORT_Wdoublepromotion\n",
            "-- Performing Test COMPILER_SUPPORT_Wdoublepromotion - Success\n",
            "-- Performing Test COMPILER_SUPPORT_Wshadow\n",
            "-- Performing Test COMPILER_SUPPORT_Wshadow - Success\n",
            "-- Performing Test COMPILER_SUPPORT_Wnopsabi\n",
            "-- Performing Test COMPILER_SUPPORT_Wnopsabi - Success\n",
            "-- Performing Test COMPILER_SUPPORT_Wnovariadicmacros\n",
            "-- Performing Test COMPILER_SUPPORT_Wnovariadicmacros - Success\n",
            "-- Performing Test COMPILER_SUPPORT_Wnolonglong\n",
            "-- Performing Test COMPILER_SUPPORT_Wnolonglong - Success\n",
            "-- Performing Test COMPILER_SUPPORT_fnochecknew\n",
            "-- Performing Test COMPILER_SUPPORT_fnochecknew - Success\n",
            "-- Performing Test COMPILER_SUPPORT_fnocommon\n",
            "-- Performing Test COMPILER_SUPPORT_fnocommon - Success\n",
            "-- Performing Test COMPILER_SUPPORT_fstrictaliasing\n",
            "-- Performing Test COMPILER_SUPPORT_fstrictaliasing - Success\n",
            "-- Performing Test COMPILER_SUPPORT_wd981\n",
            "-- Performing Test COMPILER_SUPPORT_wd981 - Failed\n",
            "-- Performing Test COMPILER_SUPPORT_wd2304\n",
            "-- Performing Test COMPILER_SUPPORT_wd2304 - Failed\n",
            "-- Performing Test COMPILER_SUPPORT_OPENMP\n",
            "-- Performing Test COMPILER_SUPPORT_OPENMP - Success\n",
            "-- Could NOT find CHOLMOD (missing: CHOLMOD_INCLUDES CHOLMOD_LIBRARIES) \n",
            "-- Could NOT find UMFPACK (missing: UMFPACK_INCLUDES UMFPACK_LIBRARIES) \n",
            "-- Could NOT find KLU (missing: KLU_INCLUDES KLU_LIBRARIES) \n",
            "-- Performing Test SUPERLU_HAS_GLOBAL_MEM_USAGE_T\n",
            "-- Performing Test SUPERLU_HAS_GLOBAL_MEM_USAGE_T - Success\n",
            "-- Performing Test SUPERLU_HAS_CLEAN_ENUMS\n",
            "-- Performing Test SUPERLU_HAS_CLEAN_ENUMS - Success\n",
            "-- Performing Test SUPERLU_HAS_GLOBALLU_T\n",
            "-- Performing Test SUPERLU_HAS_GLOBALLU_T - Success\n",
            "-- Found SuperLU: /usr/include/superlu (found suitable version \"5.0\", minimum required is \"4.0\")\n",
            "-- Checking for one of the modules 'hwloc'\n",
            "-- Performing Test HAVE_HWLOC_PARENT_MEMBER\n",
            "-- Performing Test HAVE_HWLOC_PARENT_MEMBER - Success\n",
            "-- Performing Test HAVE_HWLOC_CACHE_ATTR\n",
            "-- Performing Test HAVE_HWLOC_CACHE_ATTR - Success\n",
            "-- Performing Test HAVE_HWLOC_OBJ_PU\n",
            "-- Performing Test HAVE_HWLOC_OBJ_PU - Success\n",
            "-- Looking for hwloc_bitmap_free in hwloc\n",
            "-- Looking for hwloc_bitmap_free in hwloc - found\n",
            "-- Looking for Fortran sgemm\n",
            "-- Looking for Fortran sgemm - not found\n",
            "-- Found Threads: TRUE\n",
            "-- Looking for Fortran sgemm\n",
            "-- Looking for Fortran sgemm - found\n",
            "-- A version of Pastix has been found but pastix_nompi.h does not exist in the include directory. Because Eigen tests require a version without MPI, we disable the Pastix backend.\n",
            "-- Could NOT find SPQR (missing: SPQR_INCLUDES SPQR_LIBRARIES) \n",
            "-- Could NOT find Accelerate (missing: Accelerate_INCLUDES Accelerate_LIBRARIES) \n",
            "-- Found unsuitable Qt version \"\" from NOTFOUND\n",
            "-- Performing Test COMPILER_SUPPORT_FASTMATH\n",
            "-- Performing Test COMPILER_SUPPORT_FASTMATH - Success\n",
            "\u001b[33mCMake Warning (dev) at test/CMakeLists.txt:385 (find_package):\n",
            "  Policy CMP0167 is not set: The FindBoost module is removed.  Run \"cmake\n",
            "  --help-policy CMP0167\" for policy details.  Use the cmake_policy command to\n",
            "  set the policy and suppress this warning.\n",
            "\n",
            "This warning is for project developers.  Use -Wno-dev to suppress it.\n",
            "\u001b[0m\n",
            "-- Found Boost: /usr/lib/x86_64-linux-gnu/cmake/Boost-1.74.0/BoostConfig.cmake (found suitable version \"1.74.0\", minimum required is \"1.53.0\")\n",
            "-- Found CUDA: /usr/local/cuda (found suitable version \"12.2\", minimum required is \"9.0\")\n",
            "-- ************************************************************\n",
            "-- ***    Eigen's unit tests configuration summary          ***\n",
            "-- ************************************************************\n",
            "-- \n",
            "-- Build type:        Release\n",
            "-- Build site:        31cf2c74e1c9\n",
            "-- Build string:      linux-6.1.85+-_-11.4.0-sse2-64bit\n",
            "-- Enabled backends:  SuperLU,  Boost.Multiprecision, \n",
            "-- Disabled backends: CHOLMOD,  UMFPACK,  KLU,  PaStiX,  METIS,  SPQR,  Accelerate,  Qt4 support, \n",
            "-- Default order:     Column-major\n",
            "-- Maximal matrix/vector size: 320\n",
            "-- SSE2:              Using architecture defaults\n",
            "-- SSE3:              Using architecture defaults\n",
            "-- SSSE3:             Using architecture defaults\n",
            "-- SSE4.1:            Using architecture defaults\n",
            "-- SSE4.2:            Using architecture defaults\n",
            "-- AVX:               Using architecture defaults\n",
            "-- AVX2:              Using architecture defaults\n",
            "-- FMA:               Using architecture defaults\n",
            "-- AVX512:            Using architecture defaults\n",
            "-- AVX512DQ:          Using architecture defaults\n",
            "-- Altivec:           Using architecture defaults\n",
            "-- VSX:               Using architecture defaults\n",
            "-- MIPS MSA:          Using architecture defaults\n",
            "-- ARM NEON:          Using architecture defaults\n",
            "-- ARMv8 NEON:        Using architecture defaults\n",
            "-- S390X ZVECTOR:     Using architecture defaults\n",
            "-- SYCL:              OFF\n",
            "-- CUDA:              OFF\n",
            "-- HIP:               OFF\n",
            "-- \n",
            "CXX:               /usr/bin/c++\n",
            " CXX_VERSION:       c++ (Ubuntu 11.4.0-1ubuntu1~22.04) 11.4.0\n",
            " CXX_FLAGS:          -pedantic -Wall -Wextra -Wundef -Wcast-align -Wchar-subscripts -Wnon-virtual-dtor -Wunused-local-typedefs -Wpointer-arith -Wwrite-strings -Wformat-security -Wlogical-op -Wenum-conversion -Wdouble-promotion -Wshadow -Wno-psabi -Wno-variadic-macros -Wno-long-long -fno-check-new -fno-common -fstrict-aliasing\n",
            " Sparse lib flags:   ;/usr/lib/x86_64-linux-gnu/libsuperlu.so;eigen_blas\n",
            "\n",
            "-- ************************************************************\n",
            "-- Could NOT find GoogleHash (missing: GOOGLEHASH_INCLUDES GOOGLEHASH_COMPILE) \n",
            "-- Could NOT find Adolc (missing: ADOLC_INCLUDES ADOLC_LIBRARIES) \n",
            "-- Could NOT find MPFR (missing: MPFR_INCLUDES MPFR_LIBRARIES MPFR_VERSION_OK) (Required is at least version \"1.0.0\")\n",
            "-- Found PkgConfig: /usr/bin/pkg-config (found version \"1.8.0\")\n",
            "-- Could NOT find FFTW (missing: FFTW_INCLUDES FFTW_LIBRARIES) \n",
            "-- Found unsuitable Qt version \"\" from NOTFOUND\n",
            "-- Found unsuitable Qt version \"\" from NOTFOUND\n",
            "-- Qt4 not found, so disabling the mandelbrot and opengl demos\n",
            "-- Available targets (use: make TARGET):\n",
            "-- ---------+--------------------------------------------------------------\n",
            "-- Target   |   Description\n",
            "-- ---------+--------------------------------------------------------------\n",
            "-- install  | Install Eigen. Headers will be installed to:\n",
            "--          |     <CMAKE_INSTALL_PREFIX>/<INCLUDE_INSTALL_DIR>\n",
            "--          |   Using the following values:\n",
            "--          |     CMAKE_INSTALL_PREFIX: /usr/local\n",
            "--          |     INCLUDE_INSTALL_DIR:  include/eigen3\n",
            "--          |   Change the install location of Eigen headers using:\n",
            "--          |     cmake . -DCMAKE_INSTALL_PREFIX=yourprefix\n",
            "--          |   Or:\n",
            "--          |     cmake . -DINCLUDE_INSTALL_DIR=yourdir\n",
            "-- uninstall| Remove files installed by the install target\n",
            "-- doc      | Generate the API documentation, requires Doxygen & LaTeX\n",
            "-- check    | Build and run the unit-tests. Read this page:\n",
            "--          |   http://eigen.tuxfamily.org/index.php?title=Tests\n",
            "-- blas     | Build BLAS library (not the same thing as Eigen)\n",
            "-- lapack   | Build LAPACK subset library (not the same thing as Eigen)\n",
            "-- ---------+--------------------------------------------------------------\n",
            "-- \n",
            "-- \n",
            "-- Configured Eigen 3.4.90\n",
            "-- \n",
            "-- Configuring done (8.2s)\n",
            "-- Generating done (3.6s)\n",
            "-- Build files have been written to: /content/eigen/build\n"
          ]
        }
      ],
      "source": [
        "!cmake .."
      ]
    },
    {
      "cell_type": "code",
      "execution_count": null,
      "metadata": {
        "colab": {
          "base_uri": "https://localhost:8080/"
        },
        "id": "b7zBZVFuQiVr",
        "outputId": "2e4da607-f415-49cc-dc50-9e6d02ecc239",
        "collapsed": true
      },
      "outputs": [
        {
          "output_type": "stream",
          "name": "stdout",
          "text": [
            "[  0%] \u001b[32mBuilding CXX object blas/CMakeFiles/eigen_blas_static.dir/single.cpp.o\u001b[0m\n",
            "[  0%] \u001b[32mBuilding CXX object blas/CMakeFiles/eigen_blas_static.dir/double.cpp.o\u001b[0m\n",
            "[  0%] \u001b[32mBuilding CXX object blas/CMakeFiles/eigen_blas_static.dir/complex_single.cpp.o\u001b[0m\n",
            "[  0%] \u001b[32mBuilding CXX object blas/CMakeFiles/eigen_blas_static.dir/complex_double.cpp.o\u001b[0m\n",
            "[  0%] \u001b[32mBuilding CXX object blas/CMakeFiles/eigen_blas_static.dir/xerbla.cpp.o\u001b[0m\n",
            "[  0%] \u001b[32mBuilding C object blas/CMakeFiles/eigen_blas_static.dir/f2c/srotm.c.o\u001b[0m\n",
            "[  0%] \u001b[32mBuilding C object blas/CMakeFiles/eigen_blas_static.dir/f2c/srotmg.c.o\u001b[0m\n",
            "[  0%] \u001b[32mBuilding C object blas/CMakeFiles/eigen_blas_static.dir/f2c/drotm.c.o\u001b[0m\n",
            "[  0%] \u001b[32mBuilding C object blas/CMakeFiles/eigen_blas_static.dir/f2c/drotmg.c.o\u001b[0m\n",
            "[  0%] \u001b[32mBuilding C object blas/CMakeFiles/eigen_blas_static.dir/f2c/lsame.c.o\u001b[0m\n",
            "[  0%] \u001b[32mBuilding C object blas/CMakeFiles/eigen_blas_static.dir/f2c/dspmv.c.o\u001b[0m\n",
            "[  0%] \u001b[32mBuilding C object blas/CMakeFiles/eigen_blas_static.dir/f2c/ssbmv.c.o\u001b[0m\n",
            "[  0%] \u001b[32mBuilding C object blas/CMakeFiles/eigen_blas_static.dir/f2c/chbmv.c.o\u001b[0m\n",
            "[  0%] \u001b[32mBuilding C object blas/CMakeFiles/eigen_blas_static.dir/f2c/sspmv.c.o\u001b[0m\n",
            "[  0%] \u001b[32mBuilding C object blas/CMakeFiles/eigen_blas_static.dir/f2c/zhbmv.c.o\u001b[0m\n",
            "[  0%] \u001b[32mBuilding C object blas/CMakeFiles/eigen_blas_static.dir/f2c/chpmv.c.o\u001b[0m\n",
            "[  0%] \u001b[32mBuilding C object blas/CMakeFiles/eigen_blas_static.dir/f2c/dsbmv.c.o\u001b[0m\n",
            "[  0%] \u001b[32mBuilding C object blas/CMakeFiles/eigen_blas_static.dir/f2c/zhpmv.c.o\u001b[0m\n",
            "[  0%] \u001b[32mBuilding C object blas/CMakeFiles/eigen_blas_static.dir/f2c/dtbmv.c.o\u001b[0m\n",
            "[  0%] \u001b[32mBuilding C object blas/CMakeFiles/eigen_blas_static.dir/f2c/stbmv.c.o\u001b[0m\n",
            "[  0%] \u001b[32mBuilding C object blas/CMakeFiles/eigen_blas_static.dir/f2c/ctbmv.c.o\u001b[0m\n",
            "[ 25%] \u001b[32mBuilding C object blas/CMakeFiles/eigen_blas_static.dir/f2c/ztbmv.c.o\u001b[0m\n",
            "[ 25%] \u001b[32mBuilding Fortran object blas/CMakeFiles/eigen_blas_static.dir/fortran/complexdots.f.o\u001b[0m\n",
            "[ 25%] \u001b[32m\u001b[1mLinking CXX static library libeigen_blas_static.a\u001b[0m\n",
            "[ 25%] Built target eigen_blas_static\n",
            "[ 25%] \u001b[32mBuilding CXX object blas/CMakeFiles/eigen_blas.dir/single.cpp.o\u001b[0m\n",
            "[ 25%] \u001b[32mBuilding CXX object blas/CMakeFiles/eigen_blas.dir/double.cpp.o\u001b[0m\n",
            "[ 25%] \u001b[32mBuilding CXX object blas/CMakeFiles/eigen_blas.dir/complex_single.cpp.o\u001b[0m\n",
            "[ 25%] \u001b[32mBuilding CXX object blas/CMakeFiles/eigen_blas.dir/complex_double.cpp.o\u001b[0m\n",
            "[ 25%] \u001b[32mBuilding CXX object blas/CMakeFiles/eigen_blas.dir/xerbla.cpp.o\u001b[0m\n",
            "[ 25%] \u001b[32mBuilding C object blas/CMakeFiles/eigen_blas.dir/f2c/srotm.c.o\u001b[0m\n",
            "[ 25%] \u001b[32mBuilding C object blas/CMakeFiles/eigen_blas.dir/f2c/srotmg.c.o\u001b[0m\n",
            "[ 25%] \u001b[32mBuilding C object blas/CMakeFiles/eigen_blas.dir/f2c/drotm.c.o\u001b[0m\n",
            "[ 25%] \u001b[32mBuilding C object blas/CMakeFiles/eigen_blas.dir/f2c/drotmg.c.o\u001b[0m\n",
            "[ 25%] \u001b[32mBuilding C object blas/CMakeFiles/eigen_blas.dir/f2c/lsame.c.o\u001b[0m\n",
            "[ 25%] \u001b[32mBuilding C object blas/CMakeFiles/eigen_blas.dir/f2c/dspmv.c.o\u001b[0m\n",
            "[ 50%] \u001b[32mBuilding C object blas/CMakeFiles/eigen_blas.dir/f2c/ssbmv.c.o\u001b[0m\n",
            "[ 50%] \u001b[32mBuilding C object blas/CMakeFiles/eigen_blas.dir/f2c/chbmv.c.o\u001b[0m\n",
            "[ 50%] \u001b[32mBuilding C object blas/CMakeFiles/eigen_blas.dir/f2c/sspmv.c.o\u001b[0m\n",
            "[ 50%] \u001b[32mBuilding C object blas/CMakeFiles/eigen_blas.dir/f2c/zhbmv.c.o\u001b[0m\n",
            "[ 50%] \u001b[32mBuilding C object blas/CMakeFiles/eigen_blas.dir/f2c/chpmv.c.o\u001b[0m\n",
            "[ 50%] \u001b[32mBuilding C object blas/CMakeFiles/eigen_blas.dir/f2c/dsbmv.c.o\u001b[0m\n",
            "[ 50%] \u001b[32mBuilding C object blas/CMakeFiles/eigen_blas.dir/f2c/zhpmv.c.o\u001b[0m\n",
            "[ 50%] \u001b[32mBuilding C object blas/CMakeFiles/eigen_blas.dir/f2c/dtbmv.c.o\u001b[0m\n",
            "[ 50%] \u001b[32mBuilding C object blas/CMakeFiles/eigen_blas.dir/f2c/stbmv.c.o\u001b[0m\n",
            "[ 50%] \u001b[32mBuilding C object blas/CMakeFiles/eigen_blas.dir/f2c/ctbmv.c.o\u001b[0m\n",
            "[ 50%] \u001b[32mBuilding C object blas/CMakeFiles/eigen_blas.dir/f2c/ztbmv.c.o\u001b[0m\n",
            "[ 50%] \u001b[32mBuilding Fortran object blas/CMakeFiles/eigen_blas.dir/fortran/complexdots.f.o\u001b[0m\n",
            "[ 50%] \u001b[32m\u001b[1mLinking CXX shared library libeigen_blas.so\u001b[0m\n",
            "[ 50%] Built target eigen_blas\n",
            "[ 50%] \u001b[32mBuilding CXX object lapack/CMakeFiles/eigen_lapack_static.dir/dsecnd_INT_CPU_TIME.cpp.o\u001b[0m\n",
            "[ 50%] \u001b[32mBuilding CXX object lapack/CMakeFiles/eigen_lapack_static.dir/second_INT_CPU_TIME.cpp.o\u001b[0m\n",
            "[ 50%] \u001b[32mBuilding CXX object lapack/CMakeFiles/eigen_lapack_static.dir/single.cpp.o\u001b[0m\n",
            "In file included from \u001b[01m\u001b[K/content/eigen/lapack/single.cpp:18\u001b[m\u001b[K:\n",
            "\u001b[01m\u001b[K/content/eigen/lapack/svd.inc:\u001b[m\u001b[K In function ‘\u001b[01m\u001b[Kvoid sgesdd_(char*, int*, int*, Scalar*, int*, RealScalar*, Scalar*, int*, Scalar*, int*, Scalar*, int*, int*, int*)\u001b[m\u001b[K’:\n",
            "\u001b[01m\u001b[K/content/eigen/lapack/svd.inc:64:49:\u001b[m\u001b[K \u001b[01;35m\u001b[Kwarning: \u001b[m\u001b[K‘\u001b[01m\u001b[KEigen::BDCSVD<MatrixType, Options>::BDCSVD(const MatrixType&, unsigned int) [with MatrixType_ = Eigen::Matrix<float, -1, -1>; int Options_ = 0; Eigen::BDCSVD<MatrixType, Options>::MatrixType = Eigen::Matrix<float, -1, -1>]\u001b[m\u001b[K’ is deprecated [\u001b[01;35m\u001b[K\u001b]8;;https://gcc.gnu.org/onlinedocs/gcc/Warning-Options.html#index-Wdeprecated-declarations\u0007-Wdeprecated-declarations\u001b]8;;\u0007\u001b[m\u001b[K]\n",
            "   64 |   Eigen::BDCSVD<PlainMatrixType> svd(mat, option\u001b[01;35m\u001b[K)\u001b[m\u001b[K;\n",
            "      |                                                 \u001b[01;35m\u001b[K^\u001b[m\u001b[K\n",
            "In file included from \u001b[01m\u001b[K/content/eigen/Eigen/SVD:40\u001b[m\u001b[K,\n",
            "                 from \u001b[01m\u001b[K/content/eigen/Eigen/Geometry:13\u001b[m\u001b[K,\n",
            "                 from \u001b[01m\u001b[K/content/eigen/Eigen/Eigenvalues:17\u001b[m\u001b[K,\n",
            "                 from \u001b[01m\u001b[K/content/eigen/lapack/eigenvalues.inc:11\u001b[m\u001b[K,\n",
            "                 from \u001b[01m\u001b[K/content/eigen/lapack/single.cpp:17\u001b[m\u001b[K:\n",
            "\u001b[01m\u001b[K/content/eigen/Eigen/src/SVD/BDCSVD.h:182:20:\u001b[m\u001b[K \u001b[01;36m\u001b[Knote: \u001b[m\u001b[Kdeclared here\n",
            "  182 |   EIGEN_DEPRECATED \u001b[01;36m\u001b[KBDCSVD\u001b[m\u001b[K(const MatrixType& matrix, unsigned int computationOptions) : m_algoswap(16), m_numIters(0) {\n",
            "      |                    \u001b[01;36m\u001b[K^~~~~~\u001b[m\u001b[K\n",
            "In file included from \u001b[01m\u001b[K/content/eigen/lapack/../blas/../Eigen/Core:367\u001b[m\u001b[K,\n",
            "                 from \u001b[01m\u001b[K/content/eigen/lapack/../blas/common.h:21\u001b[m\u001b[K,\n",
            "                 from \u001b[01m\u001b[K/content/eigen/lapack/lapack_common.h:13\u001b[m\u001b[K,\n",
            "                 from \u001b[01m\u001b[K/content/eigen/lapack/cholesky.inc:10\u001b[m\u001b[K,\n",
            "                 from \u001b[01m\u001b[K/content/eigen/lapack/single.cpp:15\u001b[m\u001b[K:\n",
            "\u001b[01m\u001b[K/content/eigen/lapack/../blas/../Eigen/src/Core/products/SelfadjointMatrixVector.h:\u001b[m\u001b[K In function ‘\u001b[01m\u001b[Kstatic void Eigen::internal::selfadjoint_product_impl<Lhs, LhsMode, false, Rhs, 0, true>::run(Dest&, const Lhs&, const Rhs&, const Scalar&) [with Dest = Eigen::Block<Eigen::Matrix<float, -1, 1>, -1, 1, false>; Lhs = Eigen::Block<Eigen::Matrix<float, -1, -1>, -1, -1, false>; int LhsMode = 17; Rhs = Eigen::CwiseBinaryOp<Eigen::internal::scalar_product_op<float, float>, const Eigen::CwiseNullaryOp<Eigen::internal::scalar_constant_op<float>, const Eigen::Matrix<float, -1, 1> >, const Eigen::Block<Eigen::Block<Eigen::Matrix<float, -1, -1>, -1, 1, true>, -1, 1, false> >]\u001b[m\u001b[K’:\n",
            "\u001b[01m\u001b[K/content/eigen/lapack/../blas/../Eigen/src/Core/products/SelfadjointMatrixVector.h:219:51:\u001b[m\u001b[K \u001b[01;35m\u001b[Kwarning: \u001b[m\u001b[K‘\u001b[01m\u001b[K<unknown>\u001b[m\u001b[K’ may be used uninitialized [\u001b[01;35m\u001b[K\u001b]8;;https://gcc.gnu.org/onlinedocs/gcc/Warning-Options.html#index-Wmaybe-uninitialized\u0007-Wmaybe-uninitialized\u001b]8;;\u0007\u001b[m\u001b[K]\n",
            "  216 |     \u001b[01;35m\u001b[Kinternal::selfadjoint_matrix_vector_product<\u001b[m\u001b[K\n",
            "      |     \u001b[01;35m\u001b[K~~~~~~~~~~~~~~~~~~~~~~~~~~~~~~~~~~~~~~~~~~~~\u001b[m\u001b[K   \n",
            "  217 | \u001b[01;35m\u001b[K        Scalar, Index, (internal::traits<ActualLhsTypeCleaned>::Flags & RowMajorBit) ? RowMajor : ColMajor,\u001b[m\u001b[K\n",
            "      |         \u001b[01;35m\u001b[K~~~~~~~~~~~~~~~~~~~~~~~~~~~~~~~~~~~~~~~~~~~~~~~~~~~~~~~~~~~~~~~~~~~~~~~~~~~~~~~~~~~~~~~~~~~~~~~~~~~\u001b[m\u001b[K\n",
            "  218 | \u001b[01;35m\u001b[K        int(LhsUpLo), bool(LhsBlasTraits::NeedToConjugate),\u001b[m\u001b[K\n",
            "      |         \u001b[01;35m\u001b[K~~~~~~~~~~~~~~~~~~~~~~~~~~~~~~~~~~~~~~~~~~~~~~~~~~~\u001b[m\u001b[K\n",
            "  219 | \u001b[01;35m\u001b[K        bool(RhsBlasTraits::NeedToConjugate)>::run(lhs.rows(),                              // size\u001b[m\u001b[K\n",
            "      |         \u001b[01;35m\u001b[K~~~~~~~~~~~~~~~~~~~~~~~~~~~~~~~~~~~~~~~~~~^~~~~~~~~~~~~~~~~~~~~~~~~~~~~~~~~~~~~~~~~~~~~~~~~\u001b[m\u001b[K\n",
            "  220 | \u001b[01;35m\u001b[K                                                   &lhs.coeffRef(0, 0), lhs.outerStride(),  // lhs info\u001b[m\u001b[K\n",
            "      |                                                    \u001b[01;35m\u001b[K~~~~~~~~~~~~~~~~~~~~~~~~~~~~~~~~~~~~~~~~~~~~~~~~~~~~\u001b[m\u001b[K\n",
            "  221 | \u001b[01;35m\u001b[K                                                   actualRhsPtr,                            // rhs info\u001b[m\u001b[K\n",
            "      |                                                    \u001b[01;35m\u001b[K~~~~~~~~~~~~~~~~~~~~~~~~~~~~~~~~~~~~~~~~~~~~~~~~~~~~\u001b[m\u001b[K\n",
            "  222 | \u001b[01;35m\u001b[K                                                   actualDestPtr,                           // result info\u001b[m\u001b[K\n",
            "      |                                                    \u001b[01;35m\u001b[K~~~~~~~~~~~~~~~~~~~~~~~~~~~~~~~~~~~~~~~~~~~~~~~~~~~~~~~\u001b[m\u001b[K\n",
            "  223 | \u001b[01;35m\u001b[K                                                   actualAlpha                              // scale factor\u001b[m\u001b[K\n",
            "      |                                                    \u001b[01;35m\u001b[K~~~~~~~~~~~~~~~~~~~~~~~~~~~~~~~~~~~~~~~~~~~~~~~~~~~~~~~~\u001b[m\u001b[K\n",
            "  224 | \u001b[01;35m\u001b[K    )\u001b[m\u001b[K;\n",
            "      |     \u001b[01;35m\u001b[K~\u001b[m\u001b[K                                              \n",
            "\u001b[01m\u001b[K/content/eigen/lapack/../blas/../Eigen/src/Core/products/SelfadjointMatrixVector.h:42:1:\u001b[m\u001b[K \u001b[01;36m\u001b[Knote: \u001b[m\u001b[Kby argument 4 of type ‘\u001b[01m\u001b[Kconst float*\u001b[m\u001b[K’ to ‘\u001b[01m\u001b[Kstatic void Eigen::internal::selfadjoint_matrix_vector_product<Scalar, Index, StorageOrder, UpLo, ConjugateLhs, ConjugateRhs, Version>::run(Index, const Scalar*, Index, const Scalar*, Scalar*, Scalar) [with Scalar = float; Index = long int; int StorageOrder = 0; int UpLo = 1; bool ConjugateLhs = false; bool ConjugateRhs = false; int Version = 0]\u001b[m\u001b[K’ declared here\n",
            "   42 | \u001b[01;36m\u001b[Kselfadjoint_matrix_vector_product<Scalar, Index, StorageOrder, UpLo, ConjugateLhs, ConjugateRhs, Version>\u001b[m\u001b[K::run(\n",
            "      | \u001b[01;36m\u001b[K^~~~~~~~~~~~~~~~~~~~~~~~~~~~~~~~~~~~~~~~~~~~~~~~~~~~~~~~~~~~~~~~~~~~~~~~~~~~~~~~~~~~~~~~~~~~~~~~~~~~~~~~~\u001b[m\u001b[K\n",
            "\u001b[01m\u001b[K/content/eigen/lapack/../blas/../Eigen/src/Core/products/SelfadjointMatrixVector.h:219:51:\u001b[m\u001b[K \u001b[01;35m\u001b[Kwarning: \u001b[m\u001b[K‘\u001b[01m\u001b[Kresult\u001b[m\u001b[K’ may be used uninitialized [\u001b[01;35m\u001b[K\u001b]8;;https://gcc.gnu.org/onlinedocs/gcc/Warning-Options.html#index-Wmaybe-uninitialized\u0007-Wmaybe-uninitialized\u001b]8;;\u0007\u001b[m\u001b[K]\n",
            "  216 |     \u001b[01;35m\u001b[Kinternal::selfadjoint_matrix_vector_product<\u001b[m\u001b[K\n",
            "      |     \u001b[01;35m\u001b[K~~~~~~~~~~~~~~~~~~~~~~~~~~~~~~~~~~~~~~~~~~~~\u001b[m\u001b[K   \n",
            "  217 | \u001b[01;35m\u001b[K        Scalar, Index, (internal::traits<ActualLhsTypeCleaned>::Flags & RowMajorBit) ? RowMajor : ColMajor,\u001b[m\u001b[K\n",
            "      |         \u001b[01;35m\u001b[K~~~~~~~~~~~~~~~~~~~~~~~~~~~~~~~~~~~~~~~~~~~~~~~~~~~~~~~~~~~~~~~~~~~~~~~~~~~~~~~~~~~~~~~~~~~~~~~~~~~\u001b[m\u001b[K\n",
            "  218 | \u001b[01;35m\u001b[K        int(LhsUpLo), bool(LhsBlasTraits::NeedToConjugate),\u001b[m\u001b[K\n",
            "      |         \u001b[01;35m\u001b[K~~~~~~~~~~~~~~~~~~~~~~~~~~~~~~~~~~~~~~~~~~~~~~~~~~~\u001b[m\u001b[K\n",
            "  219 | \u001b[01;35m\u001b[K        bool(RhsBlasTraits::NeedToConjugate)>::run(lhs.rows(),                              // size\u001b[m\u001b[K\n",
            "      |         \u001b[01;35m\u001b[K~~~~~~~~~~~~~~~~~~~~~~~~~~~~~~~~~~~~~~~~~~^~~~~~~~~~~~~~~~~~~~~~~~~~~~~~~~~~~~~~~~~~~~~~~~~\u001b[m\u001b[K\n",
            "  220 | \u001b[01;35m\u001b[K                                                   &lhs.coeffRef(0, 0), lhs.outerStride(),  // lhs info\u001b[m\u001b[K\n",
            "      |                                                    \u001b[01;35m\u001b[K~~~~~~~~~~~~~~~~~~~~~~~~~~~~~~~~~~~~~~~~~~~~~~~~~~~~\u001b[m\u001b[K\n",
            "  221 | \u001b[01;35m\u001b[K                                                   actualRhsPtr,                            // rhs info\u001b[m\u001b[K\n",
            "      |                                                    \u001b[01;35m\u001b[K~~~~~~~~~~~~~~~~~~~~~~~~~~~~~~~~~~~~~~~~~~~~~~~~~~~~\u001b[m\u001b[K\n",
            "  222 | \u001b[01;35m\u001b[K                                                   actualDestPtr,                           // result info\u001b[m\u001b[K\n",
            "      |                                                    \u001b[01;35m\u001b[K~~~~~~~~~~~~~~~~~~~~~~~~~~~~~~~~~~~~~~~~~~~~~~~~~~~~~~~\u001b[m\u001b[K\n",
            "  223 | \u001b[01;35m\u001b[K                                                   actualAlpha                              // scale factor\u001b[m\u001b[K\n",
            "      |                                                    \u001b[01;35m\u001b[K~~~~~~~~~~~~~~~~~~~~~~~~~~~~~~~~~~~~~~~~~~~~~~~~~~~~~~~~\u001b[m\u001b[K\n",
            "  224 | \u001b[01;35m\u001b[K    )\u001b[m\u001b[K;\n",
            "      |     \u001b[01;35m\u001b[K~\u001b[m\u001b[K                                              \n",
            "\u001b[01m\u001b[K/content/eigen/lapack/../blas/../Eigen/src/Core/products/SelfadjointMatrixVector.h:42:1:\u001b[m\u001b[K \u001b[01;36m\u001b[Knote: \u001b[m\u001b[Kby argument 4 of type ‘\u001b[01m\u001b[Kconst float*\u001b[m\u001b[K’ to ‘\u001b[01m\u001b[Kstatic void Eigen::internal::selfadjoint_matrix_vector_product<Scalar, Index, StorageOrder, UpLo, ConjugateLhs, ConjugateRhs, Version>::run(Index, const Scalar*, Index, const Scalar*, Scalar*, Scalar) [with Scalar = float; Index = long int; int StorageOrder = 0; int UpLo = 1; bool ConjugateLhs = false; bool ConjugateRhs = false; int Version = 0]\u001b[m\u001b[K’ declared here\n",
            "   42 | \u001b[01;36m\u001b[Kselfadjoint_matrix_vector_product<Scalar, Index, StorageOrder, UpLo, ConjugateLhs, ConjugateRhs, Version>\u001b[m\u001b[K::run(\n",
            "      | \u001b[01;36m\u001b[K^~~~~~~~~~~~~~~~~~~~~~~~~~~~~~~~~~~~~~~~~~~~~~~~~~~~~~~~~~~~~~~~~~~~~~~~~~~~~~~~~~~~~~~~~~~~~~~~~~~~~~~~~\u001b[m\u001b[K\n",
            "[ 50%] \u001b[32mBuilding CXX object lapack/CMakeFiles/eigen_lapack_static.dir/double.cpp.o\u001b[0m\n",
            "In file included from \u001b[01m\u001b[K/content/eigen/lapack/double.cpp:18\u001b[m\u001b[K:\n",
            "\u001b[01m\u001b[K/content/eigen/lapack/svd.inc:\u001b[m\u001b[K In function ‘\u001b[01m\u001b[Kvoid dgesdd_(char*, int*, int*, Scalar*, int*, RealScalar*, Scalar*, int*, Scalar*, int*, Scalar*, int*, int*, int*)\u001b[m\u001b[K’:\n",
            "\u001b[01m\u001b[K/content/eigen/lapack/svd.inc:64:49:\u001b[m\u001b[K \u001b[01;35m\u001b[Kwarning: \u001b[m\u001b[K‘\u001b[01m\u001b[KEigen::BDCSVD<MatrixType, Options>::BDCSVD(const MatrixType&, unsigned int) [with MatrixType_ = Eigen::Matrix<double, -1, -1>; int Options_ = 0; Eigen::BDCSVD<MatrixType, Options>::MatrixType = Eigen::Matrix<double, -1, -1>]\u001b[m\u001b[K’ is deprecated [\u001b[01;35m\u001b[K\u001b]8;;https://gcc.gnu.org/onlinedocs/gcc/Warning-Options.html#index-Wdeprecated-declarations\u0007-Wdeprecated-declarations\u001b]8;;\u0007\u001b[m\u001b[K]\n",
            "   64 |   Eigen::BDCSVD<PlainMatrixType> svd(mat, option\u001b[01;35m\u001b[K)\u001b[m\u001b[K;\n",
            "      |                                                 \u001b[01;35m\u001b[K^\u001b[m\u001b[K\n",
            "In file included from \u001b[01m\u001b[K/content/eigen/Eigen/SVD:40\u001b[m\u001b[K,\n",
            "                 from \u001b[01m\u001b[K/content/eigen/Eigen/Geometry:13\u001b[m\u001b[K,\n",
            "                 from \u001b[01m\u001b[K/content/eigen/Eigen/Eigenvalues:17\u001b[m\u001b[K,\n",
            "                 from \u001b[01m\u001b[K/content/eigen/lapack/eigenvalues.inc:11\u001b[m\u001b[K,\n",
            "                 from \u001b[01m\u001b[K/content/eigen/lapack/double.cpp:17\u001b[m\u001b[K:\n",
            "\u001b[01m\u001b[K/content/eigen/Eigen/src/SVD/BDCSVD.h:182:20:\u001b[m\u001b[K \u001b[01;36m\u001b[Knote: \u001b[m\u001b[Kdeclared here\n",
            "  182 |   EIGEN_DEPRECATED \u001b[01;36m\u001b[KBDCSVD\u001b[m\u001b[K(const MatrixType& matrix, unsigned int computationOptions) : m_algoswap(16), m_numIters(0) {\n",
            "      |                    \u001b[01;36m\u001b[K^~~~~~\u001b[m\u001b[K\n",
            "In file included from \u001b[01m\u001b[K/content/eigen/lapack/../blas/../Eigen/Core:367\u001b[m\u001b[K,\n",
            "                 from \u001b[01m\u001b[K/content/eigen/lapack/../blas/common.h:21\u001b[m\u001b[K,\n",
            "                 from \u001b[01m\u001b[K/content/eigen/lapack/lapack_common.h:13\u001b[m\u001b[K,\n",
            "                 from \u001b[01m\u001b[K/content/eigen/lapack/cholesky.inc:10\u001b[m\u001b[K,\n",
            "                 from \u001b[01m\u001b[K/content/eigen/lapack/double.cpp:15\u001b[m\u001b[K:\n",
            "\u001b[01m\u001b[K/content/eigen/lapack/../blas/../Eigen/src/Core/products/SelfadjointMatrixVector.h:\u001b[m\u001b[K In function ‘\u001b[01m\u001b[Kstatic void Eigen::internal::selfadjoint_product_impl<Lhs, LhsMode, false, Rhs, 0, true>::run(Dest&, const Lhs&, const Rhs&, const Scalar&) [with Dest = Eigen::Block<Eigen::Matrix<double, -1, 1>, -1, 1, false>; Lhs = Eigen::Block<Eigen::Matrix<double, -1, -1>, -1, -1, false>; int LhsMode = 17; Rhs = Eigen::CwiseBinaryOp<Eigen::internal::scalar_product_op<double, double>, const Eigen::CwiseNullaryOp<Eigen::internal::scalar_constant_op<double>, const Eigen::Matrix<double, -1, 1> >, const Eigen::Block<Eigen::Block<Eigen::Matrix<double, -1, -1>, -1, 1, true>, -1, 1, false> >]\u001b[m\u001b[K’:\n",
            "\u001b[01m\u001b[K/content/eigen/lapack/../blas/../Eigen/src/Core/products/SelfadjointMatrixVector.h:219:51:\u001b[m\u001b[K \u001b[01;35m\u001b[Kwarning: \u001b[m\u001b[K‘\u001b[01m\u001b[K<unknown>\u001b[m\u001b[K’ may be used uninitialized [\u001b[01;35m\u001b[K\u001b]8;;https://gcc.gnu.org/onlinedocs/gcc/Warning-Options.html#index-Wmaybe-uninitialized\u0007-Wmaybe-uninitialized\u001b]8;;\u0007\u001b[m\u001b[K]\n",
            "  216 |     \u001b[01;35m\u001b[Kinternal::selfadjoint_matrix_vector_product<\u001b[m\u001b[K\n",
            "      |     \u001b[01;35m\u001b[K~~~~~~~~~~~~~~~~~~~~~~~~~~~~~~~~~~~~~~~~~~~~\u001b[m\u001b[K   \n",
            "  217 | \u001b[01;35m\u001b[K        Scalar, Index, (internal::traits<ActualLhsTypeCleaned>::Flags & RowMajorBit) ? RowMajor : ColMajor,\u001b[m\u001b[K\n",
            "      |         \u001b[01;35m\u001b[K~~~~~~~~~~~~~~~~~~~~~~~~~~~~~~~~~~~~~~~~~~~~~~~~~~~~~~~~~~~~~~~~~~~~~~~~~~~~~~~~~~~~~~~~~~~~~~~~~~~\u001b[m\u001b[K\n",
            "  218 | \u001b[01;35m\u001b[K        int(LhsUpLo), bool(LhsBlasTraits::NeedToConjugate),\u001b[m\u001b[K\n",
            "      |         \u001b[01;35m\u001b[K~~~~~~~~~~~~~~~~~~~~~~~~~~~~~~~~~~~~~~~~~~~~~~~~~~~\u001b[m\u001b[K\n",
            "  219 | \u001b[01;35m\u001b[K        bool(RhsBlasTraits::NeedToConjugate)>::run(lhs.rows(),                              // size\u001b[m\u001b[K\n",
            "      |         \u001b[01;35m\u001b[K~~~~~~~~~~~~~~~~~~~~~~~~~~~~~~~~~~~~~~~~~~^~~~~~~~~~~~~~~~~~~~~~~~~~~~~~~~~~~~~~~~~~~~~~~~~\u001b[m\u001b[K\n",
            "  220 | \u001b[01;35m\u001b[K                                                   &lhs.coeffRef(0, 0), lhs.outerStride(),  // lhs info\u001b[m\u001b[K\n",
            "      |                                                    \u001b[01;35m\u001b[K~~~~~~~~~~~~~~~~~~~~~~~~~~~~~~~~~~~~~~~~~~~~~~~~~~~~\u001b[m\u001b[K\n",
            "  221 | \u001b[01;35m\u001b[K                                                   actualRhsPtr,                            // rhs info\u001b[m\u001b[K\n",
            "      |                                                    \u001b[01;35m\u001b[K~~~~~~~~~~~~~~~~~~~~~~~~~~~~~~~~~~~~~~~~~~~~~~~~~~~~\u001b[m\u001b[K\n",
            "  222 | \u001b[01;35m\u001b[K                                                   actualDestPtr,                           // result info\u001b[m\u001b[K\n",
            "      |                                                    \u001b[01;35m\u001b[K~~~~~~~~~~~~~~~~~~~~~~~~~~~~~~~~~~~~~~~~~~~~~~~~~~~~~~~\u001b[m\u001b[K\n",
            "  223 | \u001b[01;35m\u001b[K                                                   actualAlpha                              // scale factor\u001b[m\u001b[K\n",
            "      |                                                    \u001b[01;35m\u001b[K~~~~~~~~~~~~~~~~~~~~~~~~~~~~~~~~~~~~~~~~~~~~~~~~~~~~~~~~\u001b[m\u001b[K\n",
            "  224 | \u001b[01;35m\u001b[K    )\u001b[m\u001b[K;\n",
            "      |     \u001b[01;35m\u001b[K~\u001b[m\u001b[K                                              \n",
            "\u001b[01m\u001b[K/content/eigen/lapack/../blas/../Eigen/src/Core/products/SelfadjointMatrixVector.h:42:1:\u001b[m\u001b[K \u001b[01;36m\u001b[Knote: \u001b[m\u001b[Kby argument 4 of type ‘\u001b[01m\u001b[Kconst double*\u001b[m\u001b[K’ to ‘\u001b[01m\u001b[Kstatic void Eigen::internal::selfadjoint_matrix_vector_product<Scalar, Index, StorageOrder, UpLo, ConjugateLhs, ConjugateRhs, Version>::run(Index, const Scalar*, Index, const Scalar*, Scalar*, Scalar) [with Scalar = double; Index = long int; int StorageOrder = 0; int UpLo = 1; bool ConjugateLhs = false; bool ConjugateRhs = false; int Version = 0]\u001b[m\u001b[K’ declared here\n",
            "   42 | \u001b[01;36m\u001b[Kselfadjoint_matrix_vector_product<Scalar, Index, StorageOrder, UpLo, ConjugateLhs, ConjugateRhs, Version>\u001b[m\u001b[K::run(\n",
            "      | \u001b[01;36m\u001b[K^~~~~~~~~~~~~~~~~~~~~~~~~~~~~~~~~~~~~~~~~~~~~~~~~~~~~~~~~~~~~~~~~~~~~~~~~~~~~~~~~~~~~~~~~~~~~~~~~~~~~~~~~\u001b[m\u001b[K\n",
            "\u001b[01m\u001b[K/content/eigen/lapack/../blas/../Eigen/src/Core/products/SelfadjointMatrixVector.h:219:51:\u001b[m\u001b[K \u001b[01;35m\u001b[Kwarning: \u001b[m\u001b[K‘\u001b[01m\u001b[Kresult\u001b[m\u001b[K’ may be used uninitialized [\u001b[01;35m\u001b[K\u001b]8;;https://gcc.gnu.org/onlinedocs/gcc/Warning-Options.html#index-Wmaybe-uninitialized\u0007-Wmaybe-uninitialized\u001b]8;;\u0007\u001b[m\u001b[K]\n",
            "  216 |     \u001b[01;35m\u001b[Kinternal::selfadjoint_matrix_vector_product<\u001b[m\u001b[K\n",
            "      |     \u001b[01;35m\u001b[K~~~~~~~~~~~~~~~~~~~~~~~~~~~~~~~~~~~~~~~~~~~~\u001b[m\u001b[K   \n",
            "  217 | \u001b[01;35m\u001b[K        Scalar, Index, (internal::traits<ActualLhsTypeCleaned>::Flags & RowMajorBit) ? RowMajor : ColMajor,\u001b[m\u001b[K\n",
            "      |         \u001b[01;35m\u001b[K~~~~~~~~~~~~~~~~~~~~~~~~~~~~~~~~~~~~~~~~~~~~~~~~~~~~~~~~~~~~~~~~~~~~~~~~~~~~~~~~~~~~~~~~~~~~~~~~~~~\u001b[m\u001b[K\n",
            "  218 | \u001b[01;35m\u001b[K        int(LhsUpLo), bool(LhsBlasTraits::NeedToConjugate),\u001b[m\u001b[K\n",
            "      |         \u001b[01;35m\u001b[K~~~~~~~~~~~~~~~~~~~~~~~~~~~~~~~~~~~~~~~~~~~~~~~~~~~\u001b[m\u001b[K\n",
            "  219 | \u001b[01;35m\u001b[K        bool(RhsBlasTraits::NeedToConjugate)>::run(lhs.rows(),                              // size\u001b[m\u001b[K\n",
            "      |         \u001b[01;35m\u001b[K~~~~~~~~~~~~~~~~~~~~~~~~~~~~~~~~~~~~~~~~~~^~~~~~~~~~~~~~~~~~~~~~~~~~~~~~~~~~~~~~~~~~~~~~~~~\u001b[m\u001b[K\n",
            "  220 | \u001b[01;35m\u001b[K                                                   &lhs.coeffRef(0, 0), lhs.outerStride(),  // lhs info\u001b[m\u001b[K\n",
            "      |                                                    \u001b[01;35m\u001b[K~~~~~~~~~~~~~~~~~~~~~~~~~~~~~~~~~~~~~~~~~~~~~~~~~~~~\u001b[m\u001b[K\n",
            "  221 | \u001b[01;35m\u001b[K                                                   actualRhsPtr,                            // rhs info\u001b[m\u001b[K\n",
            "      |                                                    \u001b[01;35m\u001b[K~~~~~~~~~~~~~~~~~~~~~~~~~~~~~~~~~~~~~~~~~~~~~~~~~~~~\u001b[m\u001b[K\n",
            "  222 | \u001b[01;35m\u001b[K                                                   actualDestPtr,                           // result info\u001b[m\u001b[K\n",
            "      |                                                    \u001b[01;35m\u001b[K~~~~~~~~~~~~~~~~~~~~~~~~~~~~~~~~~~~~~~~~~~~~~~~~~~~~~~~\u001b[m\u001b[K\n",
            "  223 | \u001b[01;35m\u001b[K                                                   actualAlpha                              // scale factor\u001b[m\u001b[K\n",
            "      |                                                    \u001b[01;35m\u001b[K~~~~~~~~~~~~~~~~~~~~~~~~~~~~~~~~~~~~~~~~~~~~~~~~~~~~~~~~\u001b[m\u001b[K\n",
            "  224 | \u001b[01;35m\u001b[K    )\u001b[m\u001b[K;\n",
            "      |     \u001b[01;35m\u001b[K~\u001b[m\u001b[K                                              \n",
            "\u001b[01m\u001b[K/content/eigen/lapack/../blas/../Eigen/src/Core/products/SelfadjointMatrixVector.h:42:1:\u001b[m\u001b[K \u001b[01;36m\u001b[Knote: \u001b[m\u001b[Kby argument 4 of type ‘\u001b[01m\u001b[Kconst double*\u001b[m\u001b[K’ to ‘\u001b[01m\u001b[Kstatic void Eigen::internal::selfadjoint_matrix_vector_product<Scalar, Index, StorageOrder, UpLo, ConjugateLhs, ConjugateRhs, Version>::run(Index, const Scalar*, Index, const Scalar*, Scalar*, Scalar) [with Scalar = double; Index = long int; int StorageOrder = 0; int UpLo = 1; bool ConjugateLhs = false; bool ConjugateRhs = false; int Version = 0]\u001b[m\u001b[K’ declared here\n",
            "   42 | \u001b[01;36m\u001b[Kselfadjoint_matrix_vector_product<Scalar, Index, StorageOrder, UpLo, ConjugateLhs, ConjugateRhs, Version>\u001b[m\u001b[K::run(\n",
            "      | \u001b[01;36m\u001b[K^~~~~~~~~~~~~~~~~~~~~~~~~~~~~~~~~~~~~~~~~~~~~~~~~~~~~~~~~~~~~~~~~~~~~~~~~~~~~~~~~~~~~~~~~~~~~~~~~~~~~~~~~\u001b[m\u001b[K\n",
            "[ 50%] \u001b[32mBuilding CXX object lapack/CMakeFiles/eigen_lapack_static.dir/complex_single.cpp.o\u001b[0m\n",
            "In file included from \u001b[01m\u001b[K/content/eigen/lapack/complex_single.cpp:18\u001b[m\u001b[K:\n",
            "\u001b[01m\u001b[K/content/eigen/lapack/svd.inc:\u001b[m\u001b[K In function ‘\u001b[01m\u001b[Kvoid cgesdd_(char*, int*, int*, Scalar*, int*, RealScalar*, Scalar*, int*, Scalar*, int*, Scalar*, int*, RealScalar*, int*, int*)\u001b[m\u001b[K’:\n",
            "\u001b[01m\u001b[K/content/eigen/lapack/svd.inc:64:49:\u001b[m\u001b[K \u001b[01;35m\u001b[Kwarning: \u001b[m\u001b[K‘\u001b[01m\u001b[KEigen::BDCSVD<MatrixType, Options>::BDCSVD(const MatrixType&, unsigned int) [with MatrixType_ = Eigen::Matrix<std::complex<float>, -1, -1>; int Options_ = 0; Eigen::BDCSVD<MatrixType, Options>::MatrixType = Eigen::Matrix<std::complex<float>, -1, -1>]\u001b[m\u001b[K’ is deprecated [\u001b[01;35m\u001b[K\u001b]8;;https://gcc.gnu.org/onlinedocs/gcc/Warning-Options.html#index-Wdeprecated-declarations\u0007-Wdeprecated-declarations\u001b]8;;\u0007\u001b[m\u001b[K]\n",
            "   64 |   Eigen::BDCSVD<PlainMatrixType> svd(mat, option\u001b[01;35m\u001b[K)\u001b[m\u001b[K;\n",
            "      |                                                 \u001b[01;35m\u001b[K^\u001b[m\u001b[K\n",
            "In file included from \u001b[01m\u001b[K/content/eigen/Eigen/SVD:40\u001b[m\u001b[K,\n",
            "                 from \u001b[01m\u001b[K/content/eigen/lapack/svd.inc:11\u001b[m\u001b[K,\n",
            "                 from \u001b[01m\u001b[K/content/eigen/lapack/complex_single.cpp:18\u001b[m\u001b[K:\n",
            "\u001b[01m\u001b[K/content/eigen/Eigen/src/SVD/BDCSVD.h:182:20:\u001b[m\u001b[K \u001b[01;36m\u001b[Knote: \u001b[m\u001b[Kdeclared here\n",
            "  182 |   EIGEN_DEPRECATED \u001b[01;36m\u001b[KBDCSVD\u001b[m\u001b[K(const MatrixType& matrix, unsigned int computationOptions) : m_algoswap(16), m_numIters(0) {\n",
            "      |                    \u001b[01;36m\u001b[K^~~~~~\u001b[m\u001b[K\n",
            "[ 50%] \u001b[32mBuilding CXX object lapack/CMakeFiles/eigen_lapack_static.dir/complex_double.cpp.o\u001b[0m\n",
            "In file included from \u001b[01m\u001b[K/content/eigen/lapack/complex_double.cpp:18\u001b[m\u001b[K:\n",
            "\u001b[01m\u001b[K/content/eigen/lapack/svd.inc:\u001b[m\u001b[K In function ‘\u001b[01m\u001b[Kvoid zgesdd_(char*, int*, int*, Scalar*, int*, RealScalar*, Scalar*, int*, Scalar*, int*, Scalar*, int*, RealScalar*, int*, int*)\u001b[m\u001b[K’:\n",
            "\u001b[01m\u001b[K/content/eigen/lapack/svd.inc:64:49:\u001b[m\u001b[K \u001b[01;35m\u001b[Kwarning: \u001b[m\u001b[K‘\u001b[01m\u001b[KEigen::BDCSVD<MatrixType, Options>::BDCSVD(const MatrixType&, unsigned int) [with MatrixType_ = Eigen::Matrix<std::complex<double>, -1, -1>; int Options_ = 0; Eigen::BDCSVD<MatrixType, Options>::MatrixType = Eigen::Matrix<std::complex<double>, -1, -1>]\u001b[m\u001b[K’ is deprecated [\u001b[01;35m\u001b[K\u001b]8;;https://gcc.gnu.org/onlinedocs/gcc/Warning-Options.html#index-Wdeprecated-declarations\u0007-Wdeprecated-declarations\u001b]8;;\u0007\u001b[m\u001b[K]\n",
            "   64 |   Eigen::BDCSVD<PlainMatrixType> svd(mat, option\u001b[01;35m\u001b[K)\u001b[m\u001b[K;\n",
            "      |                                                 \u001b[01;35m\u001b[K^\u001b[m\u001b[K\n",
            "In file included from \u001b[01m\u001b[K/content/eigen/Eigen/SVD:40\u001b[m\u001b[K,\n",
            "                 from \u001b[01m\u001b[K/content/eigen/lapack/svd.inc:11\u001b[m\u001b[K,\n",
            "                 from \u001b[01m\u001b[K/content/eigen/lapack/complex_double.cpp:18\u001b[m\u001b[K:\n",
            "\u001b[01m\u001b[K/content/eigen/Eigen/src/SVD/BDCSVD.h:182:20:\u001b[m\u001b[K \u001b[01;36m\u001b[Knote: \u001b[m\u001b[Kdeclared here\n",
            "  182 |   EIGEN_DEPRECATED \u001b[01;36m\u001b[KBDCSVD\u001b[m\u001b[K(const MatrixType& matrix, unsigned int computationOptions) : m_algoswap(16), m_numIters(0) {\n",
            "      |                    \u001b[01;36m\u001b[K^~~~~~\u001b[m\u001b[K\n",
            "[ 50%] \u001b[32mBuilding CXX object lapack/CMakeFiles/eigen_lapack_static.dir/__/blas/xerbla.cpp.o\u001b[0m\n",
            "[ 50%] \u001b[32mBuilding Fortran object lapack/CMakeFiles/eigen_lapack_static.dir/slarft.f.o\u001b[0m\n",
            "[ 50%] \u001b[32mBuilding Fortran object lapack/CMakeFiles/eigen_lapack_static.dir/dlarft.f.o\u001b[0m\n",
            "[ 50%] \u001b[32mBuilding Fortran object lapack/CMakeFiles/eigen_lapack_static.dir/clarft.f.o\u001b[0m\n",
            "[ 50%] \u001b[32mBuilding Fortran object lapack/CMakeFiles/eigen_lapack_static.dir/zlarft.f.o\u001b[0m\n",
            "[ 50%] \u001b[32mBuilding Fortran object lapack/CMakeFiles/eigen_lapack_static.dir/slarfb.f.o\u001b[0m\n",
            "[ 50%] \u001b[32mBuilding Fortran object lapack/CMakeFiles/eigen_lapack_static.dir/dlarfb.f.o\u001b[0m\n",
            "[ 50%] \u001b[32mBuilding Fortran object lapack/CMakeFiles/eigen_lapack_static.dir/clarfb.f.o\u001b[0m\n",
            "[ 50%] \u001b[32mBuilding Fortran object lapack/CMakeFiles/eigen_lapack_static.dir/zlarfb.f.o\u001b[0m\n",
            "[ 50%] \u001b[32mBuilding Fortran object lapack/CMakeFiles/eigen_lapack_static.dir/slarfg.f.o\u001b[0m\n",
            "[ 50%] \u001b[32mBuilding Fortran object lapack/CMakeFiles/eigen_lapack_static.dir/dlarfg.f.o\u001b[0m\n",
            "[ 50%] \u001b[32mBuilding Fortran object lapack/CMakeFiles/eigen_lapack_static.dir/clarfg.f.o\u001b[0m\n",
            "[ 50%] \u001b[32mBuilding Fortran object lapack/CMakeFiles/eigen_lapack_static.dir/zlarfg.f.o\u001b[0m\n",
            "[ 50%] \u001b[32mBuilding Fortran object lapack/CMakeFiles/eigen_lapack_static.dir/slarf.f.o\u001b[0m\n",
            "[ 50%] \u001b[32mBuilding Fortran object lapack/CMakeFiles/eigen_lapack_static.dir/dlarf.f.o\u001b[0m\n",
            "[ 75%] \u001b[32mBuilding Fortran object lapack/CMakeFiles/eigen_lapack_static.dir/clarf.f.o\u001b[0m\n",
            "[ 75%] \u001b[32mBuilding Fortran object lapack/CMakeFiles/eigen_lapack_static.dir/zlarf.f.o\u001b[0m\n",
            "[ 75%] \u001b[32mBuilding Fortran object lapack/CMakeFiles/eigen_lapack_static.dir/sladiv.f.o\u001b[0m\n",
            "[ 75%] \u001b[32mBuilding Fortran object lapack/CMakeFiles/eigen_lapack_static.dir/dladiv.f.o\u001b[0m\n",
            "[ 75%] \u001b[32mBuilding Fortran object lapack/CMakeFiles/eigen_lapack_static.dir/cladiv.f.o\u001b[0m\n",
            "[ 75%] \u001b[32mBuilding Fortran object lapack/CMakeFiles/eigen_lapack_static.dir/zladiv.f.o\u001b[0m\n",
            "[ 75%] \u001b[32mBuilding Fortran object lapack/CMakeFiles/eigen_lapack_static.dir/ilaslr.f.o\u001b[0m\n",
            "[ 75%] \u001b[32mBuilding Fortran object lapack/CMakeFiles/eigen_lapack_static.dir/iladlr.f.o\u001b[0m\n",
            "[ 75%] \u001b[32mBuilding Fortran object lapack/CMakeFiles/eigen_lapack_static.dir/ilaclr.f.o\u001b[0m\n",
            "[ 75%] \u001b[32mBuilding Fortran object lapack/CMakeFiles/eigen_lapack_static.dir/ilazlr.f.o\u001b[0m\n",
            "[ 75%] \u001b[32mBuilding Fortran object lapack/CMakeFiles/eigen_lapack_static.dir/ilaslc.f.o\u001b[0m\n",
            "[ 75%] \u001b[32mBuilding Fortran object lapack/CMakeFiles/eigen_lapack_static.dir/iladlc.f.o\u001b[0m\n",
            "[ 75%] \u001b[32mBuilding Fortran object lapack/CMakeFiles/eigen_lapack_static.dir/ilaclc.f.o\u001b[0m\n",
            "[ 75%] \u001b[32mBuilding Fortran object lapack/CMakeFiles/eigen_lapack_static.dir/ilazlc.f.o\u001b[0m\n",
            "[ 75%] \u001b[32mBuilding Fortran object lapack/CMakeFiles/eigen_lapack_static.dir/dlapy2.f.o\u001b[0m\n",
            "[ 75%] \u001b[32mBuilding Fortran object lapack/CMakeFiles/eigen_lapack_static.dir/dlapy3.f.o\u001b[0m\n",
            "[ 75%] \u001b[32mBuilding Fortran object lapack/CMakeFiles/eigen_lapack_static.dir/slapy2.f.o\u001b[0m\n",
            "[ 75%] \u001b[32mBuilding Fortran object lapack/CMakeFiles/eigen_lapack_static.dir/slapy3.f.o\u001b[0m\n",
            "[ 75%] \u001b[32mBuilding Fortran object lapack/CMakeFiles/eigen_lapack_static.dir/clacgv.f.o\u001b[0m\n",
            "[ 75%] \u001b[32mBuilding Fortran object lapack/CMakeFiles/eigen_lapack_static.dir/zlacgv.f.o\u001b[0m\n",
            "[ 75%] \u001b[32mBuilding Fortran object lapack/CMakeFiles/eigen_lapack_static.dir/slamch.f.o\u001b[0m\n",
            "[ 75%] \u001b[32mBuilding Fortran object lapack/CMakeFiles/eigen_lapack_static.dir/dlamch.f.o\u001b[0m\n",
            "[ 75%] \u001b[32m\u001b[1mLinking CXX static library libeigen_lapack_static.a\u001b[0m\n",
            "[ 75%] Built target eigen_lapack_static\n",
            "[ 75%] \u001b[32mBuilding CXX object lapack/CMakeFiles/eigen_lapack.dir/dsecnd_INT_CPU_TIME.cpp.o\u001b[0m\n",
            "[ 75%] \u001b[32mBuilding CXX object lapack/CMakeFiles/eigen_lapack.dir/second_INT_CPU_TIME.cpp.o\u001b[0m\n",
            "[ 75%] \u001b[32mBuilding CXX object lapack/CMakeFiles/eigen_lapack.dir/single.cpp.o\u001b[0m\n",
            "In file included from \u001b[01m\u001b[K/content/eigen/lapack/single.cpp:18\u001b[m\u001b[K:\n",
            "\u001b[01m\u001b[K/content/eigen/lapack/svd.inc:\u001b[m\u001b[K In function ‘\u001b[01m\u001b[Kvoid sgesdd_(char*, int*, int*, Scalar*, int*, RealScalar*, Scalar*, int*, Scalar*, int*, Scalar*, int*, int*, int*)\u001b[m\u001b[K’:\n",
            "\u001b[01m\u001b[K/content/eigen/lapack/svd.inc:64:49:\u001b[m\u001b[K \u001b[01;35m\u001b[Kwarning: \u001b[m\u001b[K‘\u001b[01m\u001b[KEigen::BDCSVD<MatrixType, Options>::BDCSVD(const MatrixType&, unsigned int) [with MatrixType_ = Eigen::Matrix<float, -1, -1>; int Options_ = 0; Eigen::BDCSVD<MatrixType, Options>::MatrixType = Eigen::Matrix<float, -1, -1>]\u001b[m\u001b[K’ is deprecated [\u001b[01;35m\u001b[K\u001b]8;;https://gcc.gnu.org/onlinedocs/gcc/Warning-Options.html#index-Wdeprecated-declarations\u0007-Wdeprecated-declarations\u001b]8;;\u0007\u001b[m\u001b[K]\n",
            "   64 |   Eigen::BDCSVD<PlainMatrixType> svd(mat, option\u001b[01;35m\u001b[K)\u001b[m\u001b[K;\n",
            "      |                                                 \u001b[01;35m\u001b[K^\u001b[m\u001b[K\n",
            "In file included from \u001b[01m\u001b[K/content/eigen/Eigen/SVD:40\u001b[m\u001b[K,\n",
            "                 from \u001b[01m\u001b[K/content/eigen/Eigen/Geometry:13\u001b[m\u001b[K,\n",
            "                 from \u001b[01m\u001b[K/content/eigen/Eigen/Eigenvalues:17\u001b[m\u001b[K,\n",
            "                 from \u001b[01m\u001b[K/content/eigen/lapack/eigenvalues.inc:11\u001b[m\u001b[K,\n",
            "                 from \u001b[01m\u001b[K/content/eigen/lapack/single.cpp:17\u001b[m\u001b[K:\n",
            "\u001b[01m\u001b[K/content/eigen/Eigen/src/SVD/BDCSVD.h:182:20:\u001b[m\u001b[K \u001b[01;36m\u001b[Knote: \u001b[m\u001b[Kdeclared here\n",
            "  182 |   EIGEN_DEPRECATED \u001b[01;36m\u001b[KBDCSVD\u001b[m\u001b[K(const MatrixType& matrix, unsigned int computationOptions) : m_algoswap(16), m_numIters(0) {\n",
            "      |                    \u001b[01;36m\u001b[K^~~~~~\u001b[m\u001b[K\n",
            "In file included from \u001b[01m\u001b[K/content/eigen/lapack/../blas/../Eigen/Core:367\u001b[m\u001b[K,\n",
            "                 from \u001b[01m\u001b[K/content/eigen/lapack/../blas/common.h:21\u001b[m\u001b[K,\n",
            "                 from \u001b[01m\u001b[K/content/eigen/lapack/lapack_common.h:13\u001b[m\u001b[K,\n",
            "                 from \u001b[01m\u001b[K/content/eigen/lapack/cholesky.inc:10\u001b[m\u001b[K,\n",
            "                 from \u001b[01m\u001b[K/content/eigen/lapack/single.cpp:15\u001b[m\u001b[K:\n",
            "\u001b[01m\u001b[K/content/eigen/lapack/../blas/../Eigen/src/Core/products/SelfadjointMatrixVector.h:\u001b[m\u001b[K In function ‘\u001b[01m\u001b[Kstatic void Eigen::internal::selfadjoint_product_impl<Lhs, LhsMode, false, Rhs, 0, true>::run(Dest&, const Lhs&, const Rhs&, const Scalar&) [with Dest = Eigen::Block<Eigen::Matrix<float, -1, 1>, -1, 1, false>; Lhs = Eigen::Block<Eigen::Matrix<float, -1, -1>, -1, -1, false>; int LhsMode = 17; Rhs = Eigen::CwiseBinaryOp<Eigen::internal::scalar_product_op<float, float>, const Eigen::CwiseNullaryOp<Eigen::internal::scalar_constant_op<float>, const Eigen::Matrix<float, -1, 1> >, const Eigen::Block<Eigen::Block<Eigen::Matrix<float, -1, -1>, -1, 1, true>, -1, 1, false> >]\u001b[m\u001b[K’:\n",
            "\u001b[01m\u001b[K/content/eigen/lapack/../blas/../Eigen/src/Core/products/SelfadjointMatrixVector.h:219:51:\u001b[m\u001b[K \u001b[01;35m\u001b[Kwarning: \u001b[m\u001b[K‘\u001b[01m\u001b[K<unknown>\u001b[m\u001b[K’ may be used uninitialized [\u001b[01;35m\u001b[K\u001b]8;;https://gcc.gnu.org/onlinedocs/gcc/Warning-Options.html#index-Wmaybe-uninitialized\u0007-Wmaybe-uninitialized\u001b]8;;\u0007\u001b[m\u001b[K]\n",
            "  216 |     \u001b[01;35m\u001b[Kinternal::selfadjoint_matrix_vector_product<\u001b[m\u001b[K\n",
            "      |     \u001b[01;35m\u001b[K~~~~~~~~~~~~~~~~~~~~~~~~~~~~~~~~~~~~~~~~~~~~\u001b[m\u001b[K   \n",
            "  217 | \u001b[01;35m\u001b[K        Scalar, Index, (internal::traits<ActualLhsTypeCleaned>::Flags & RowMajorBit) ? RowMajor : ColMajor,\u001b[m\u001b[K\n",
            "      |         \u001b[01;35m\u001b[K~~~~~~~~~~~~~~~~~~~~~~~~~~~~~~~~~~~~~~~~~~~~~~~~~~~~~~~~~~~~~~~~~~~~~~~~~~~~~~~~~~~~~~~~~~~~~~~~~~~\u001b[m\u001b[K\n",
            "  218 | \u001b[01;35m\u001b[K        int(LhsUpLo), bool(LhsBlasTraits::NeedToConjugate),\u001b[m\u001b[K\n",
            "      |         \u001b[01;35m\u001b[K~~~~~~~~~~~~~~~~~~~~~~~~~~~~~~~~~~~~~~~~~~~~~~~~~~~\u001b[m\u001b[K\n",
            "  219 | \u001b[01;35m\u001b[K        bool(RhsBlasTraits::NeedToConjugate)>::run(lhs.rows(),                              // size\u001b[m\u001b[K\n",
            "      |         \u001b[01;35m\u001b[K~~~~~~~~~~~~~~~~~~~~~~~~~~~~~~~~~~~~~~~~~~^~~~~~~~~~~~~~~~~~~~~~~~~~~~~~~~~~~~~~~~~~~~~~~~~\u001b[m\u001b[K\n",
            "  220 | \u001b[01;35m\u001b[K                                                   &lhs.coeffRef(0, 0), lhs.outerStride(),  // lhs info\u001b[m\u001b[K\n",
            "      |                                                    \u001b[01;35m\u001b[K~~~~~~~~~~~~~~~~~~~~~~~~~~~~~~~~~~~~~~~~~~~~~~~~~~~~\u001b[m\u001b[K\n",
            "  221 | \u001b[01;35m\u001b[K                                                   actualRhsPtr,                            // rhs info\u001b[m\u001b[K\n",
            "      |                                                    \u001b[01;35m\u001b[K~~~~~~~~~~~~~~~~~~~~~~~~~~~~~~~~~~~~~~~~~~~~~~~~~~~~\u001b[m\u001b[K\n",
            "  222 | \u001b[01;35m\u001b[K                                                   actualDestPtr,                           // result info\u001b[m\u001b[K\n",
            "      |                                                    \u001b[01;35m\u001b[K~~~~~~~~~~~~~~~~~~~~~~~~~~~~~~~~~~~~~~~~~~~~~~~~~~~~~~~\u001b[m\u001b[K\n",
            "  223 | \u001b[01;35m\u001b[K                                                   actualAlpha                              // scale factor\u001b[m\u001b[K\n",
            "      |                                                    \u001b[01;35m\u001b[K~~~~~~~~~~~~~~~~~~~~~~~~~~~~~~~~~~~~~~~~~~~~~~~~~~~~~~~~\u001b[m\u001b[K\n",
            "  224 | \u001b[01;35m\u001b[K    )\u001b[m\u001b[K;\n",
            "      |     \u001b[01;35m\u001b[K~\u001b[m\u001b[K                                              \n",
            "\u001b[01m\u001b[K/content/eigen/lapack/../blas/../Eigen/src/Core/products/SelfadjointMatrixVector.h:42:1:\u001b[m\u001b[K \u001b[01;36m\u001b[Knote: \u001b[m\u001b[Kby argument 4 of type ‘\u001b[01m\u001b[Kconst float*\u001b[m\u001b[K’ to ‘\u001b[01m\u001b[Kstatic void Eigen::internal::selfadjoint_matrix_vector_product<Scalar, Index, StorageOrder, UpLo, ConjugateLhs, ConjugateRhs, Version>::run(Index, const Scalar*, Index, const Scalar*, Scalar*, Scalar) [with Scalar = float; Index = long int; int StorageOrder = 0; int UpLo = 1; bool ConjugateLhs = false; bool ConjugateRhs = false; int Version = 0]\u001b[m\u001b[K’ declared here\n",
            "   42 | \u001b[01;36m\u001b[Kselfadjoint_matrix_vector_product<Scalar, Index, StorageOrder, UpLo, ConjugateLhs, ConjugateRhs, Version>\u001b[m\u001b[K::run(\n",
            "      | \u001b[01;36m\u001b[K^~~~~~~~~~~~~~~~~~~~~~~~~~~~~~~~~~~~~~~~~~~~~~~~~~~~~~~~~~~~~~~~~~~~~~~~~~~~~~~~~~~~~~~~~~~~~~~~~~~~~~~~~\u001b[m\u001b[K\n",
            "\u001b[01m\u001b[K/content/eigen/lapack/../blas/../Eigen/src/Core/products/SelfadjointMatrixVector.h:219:51:\u001b[m\u001b[K \u001b[01;35m\u001b[Kwarning: \u001b[m\u001b[K‘\u001b[01m\u001b[Kresult\u001b[m\u001b[K’ may be used uninitialized [\u001b[01;35m\u001b[K\u001b]8;;https://gcc.gnu.org/onlinedocs/gcc/Warning-Options.html#index-Wmaybe-uninitialized\u0007-Wmaybe-uninitialized\u001b]8;;\u0007\u001b[m\u001b[K]\n",
            "  216 |     \u001b[01;35m\u001b[Kinternal::selfadjoint_matrix_vector_product<\u001b[m\u001b[K\n",
            "      |     \u001b[01;35m\u001b[K~~~~~~~~~~~~~~~~~~~~~~~~~~~~~~~~~~~~~~~~~~~~\u001b[m\u001b[K   \n",
            "  217 | \u001b[01;35m\u001b[K        Scalar, Index, (internal::traits<ActualLhsTypeCleaned>::Flags & RowMajorBit) ? RowMajor : ColMajor,\u001b[m\u001b[K\n",
            "      |         \u001b[01;35m\u001b[K~~~~~~~~~~~~~~~~~~~~~~~~~~~~~~~~~~~~~~~~~~~~~~~~~~~~~~~~~~~~~~~~~~~~~~~~~~~~~~~~~~~~~~~~~~~~~~~~~~~\u001b[m\u001b[K\n",
            "  218 | \u001b[01;35m\u001b[K        int(LhsUpLo), bool(LhsBlasTraits::NeedToConjugate),\u001b[m\u001b[K\n",
            "      |         \u001b[01;35m\u001b[K~~~~~~~~~~~~~~~~~~~~~~~~~~~~~~~~~~~~~~~~~~~~~~~~~~~\u001b[m\u001b[K\n",
            "  219 | \u001b[01;35m\u001b[K        bool(RhsBlasTraits::NeedToConjugate)>::run(lhs.rows(),                              // size\u001b[m\u001b[K\n",
            "      |         \u001b[01;35m\u001b[K~~~~~~~~~~~~~~~~~~~~~~~~~~~~~~~~~~~~~~~~~~^~~~~~~~~~~~~~~~~~~~~~~~~~~~~~~~~~~~~~~~~~~~~~~~~\u001b[m\u001b[K\n",
            "  220 | \u001b[01;35m\u001b[K                                                   &lhs.coeffRef(0, 0), lhs.outerStride(),  // lhs info\u001b[m\u001b[K\n",
            "      |                                                    \u001b[01;35m\u001b[K~~~~~~~~~~~~~~~~~~~~~~~~~~~~~~~~~~~~~~~~~~~~~~~~~~~~\u001b[m\u001b[K\n",
            "  221 | \u001b[01;35m\u001b[K                                                   actualRhsPtr,                            // rhs info\u001b[m\u001b[K\n",
            "      |                                                    \u001b[01;35m\u001b[K~~~~~~~~~~~~~~~~~~~~~~~~~~~~~~~~~~~~~~~~~~~~~~~~~~~~\u001b[m\u001b[K\n",
            "  222 | \u001b[01;35m\u001b[K                                                   actualDestPtr,                           // result info\u001b[m\u001b[K\n",
            "      |                                                    \u001b[01;35m\u001b[K~~~~~~~~~~~~~~~~~~~~~~~~~~~~~~~~~~~~~~~~~~~~~~~~~~~~~~~\u001b[m\u001b[K\n",
            "  223 | \u001b[01;35m\u001b[K                                                   actualAlpha                              // scale factor\u001b[m\u001b[K\n",
            "      |                                                    \u001b[01;35m\u001b[K~~~~~~~~~~~~~~~~~~~~~~~~~~~~~~~~~~~~~~~~~~~~~~~~~~~~~~~~\u001b[m\u001b[K\n",
            "  224 | \u001b[01;35m\u001b[K    )\u001b[m\u001b[K;\n",
            "      |     \u001b[01;35m\u001b[K~\u001b[m\u001b[K                                              \n",
            "\u001b[01m\u001b[K/content/eigen/lapack/../blas/../Eigen/src/Core/products/SelfadjointMatrixVector.h:42:1:\u001b[m\u001b[K \u001b[01;36m\u001b[Knote: \u001b[m\u001b[Kby argument 4 of type ‘\u001b[01m\u001b[Kconst float*\u001b[m\u001b[K’ to ‘\u001b[01m\u001b[Kstatic void Eigen::internal::selfadjoint_matrix_vector_product<Scalar, Index, StorageOrder, UpLo, ConjugateLhs, ConjugateRhs, Version>::run(Index, const Scalar*, Index, const Scalar*, Scalar*, Scalar) [with Scalar = float; Index = long int; int StorageOrder = 0; int UpLo = 1; bool ConjugateLhs = false; bool ConjugateRhs = false; int Version = 0]\u001b[m\u001b[K’ declared here\n",
            "   42 | \u001b[01;36m\u001b[Kselfadjoint_matrix_vector_product<Scalar, Index, StorageOrder, UpLo, ConjugateLhs, ConjugateRhs, Version>\u001b[m\u001b[K::run(\n",
            "      | \u001b[01;36m\u001b[K^~~~~~~~~~~~~~~~~~~~~~~~~~~~~~~~~~~~~~~~~~~~~~~~~~~~~~~~~~~~~~~~~~~~~~~~~~~~~~~~~~~~~~~~~~~~~~~~~~~~~~~~~\u001b[m\u001b[K\n",
            "[ 75%] \u001b[32mBuilding CXX object lapack/CMakeFiles/eigen_lapack.dir/double.cpp.o\u001b[0m\n",
            "In file included from \u001b[01m\u001b[K/content/eigen/lapack/double.cpp:18\u001b[m\u001b[K:\n",
            "\u001b[01m\u001b[K/content/eigen/lapack/svd.inc:\u001b[m\u001b[K In function ‘\u001b[01m\u001b[Kvoid dgesdd_(char*, int*, int*, Scalar*, int*, RealScalar*, Scalar*, int*, Scalar*, int*, Scalar*, int*, int*, int*)\u001b[m\u001b[K’:\n",
            "\u001b[01m\u001b[K/content/eigen/lapack/svd.inc:64:49:\u001b[m\u001b[K \u001b[01;35m\u001b[Kwarning: \u001b[m\u001b[K‘\u001b[01m\u001b[KEigen::BDCSVD<MatrixType, Options>::BDCSVD(const MatrixType&, unsigned int) [with MatrixType_ = Eigen::Matrix<double, -1, -1>; int Options_ = 0; Eigen::BDCSVD<MatrixType, Options>::MatrixType = Eigen::Matrix<double, -1, -1>]\u001b[m\u001b[K’ is deprecated [\u001b[01;35m\u001b[K\u001b]8;;https://gcc.gnu.org/onlinedocs/gcc/Warning-Options.html#index-Wdeprecated-declarations\u0007-Wdeprecated-declarations\u001b]8;;\u0007\u001b[m\u001b[K]\n",
            "   64 |   Eigen::BDCSVD<PlainMatrixType> svd(mat, option\u001b[01;35m\u001b[K)\u001b[m\u001b[K;\n",
            "      |                                                 \u001b[01;35m\u001b[K^\u001b[m\u001b[K\n",
            "In file included from \u001b[01m\u001b[K/content/eigen/Eigen/SVD:40\u001b[m\u001b[K,\n",
            "                 from \u001b[01m\u001b[K/content/eigen/Eigen/Geometry:13\u001b[m\u001b[K,\n",
            "                 from \u001b[01m\u001b[K/content/eigen/Eigen/Eigenvalues:17\u001b[m\u001b[K,\n",
            "                 from \u001b[01m\u001b[K/content/eigen/lapack/eigenvalues.inc:11\u001b[m\u001b[K,\n",
            "                 from \u001b[01m\u001b[K/content/eigen/lapack/double.cpp:17\u001b[m\u001b[K:\n",
            "\u001b[01m\u001b[K/content/eigen/Eigen/src/SVD/BDCSVD.h:182:20:\u001b[m\u001b[K \u001b[01;36m\u001b[Knote: \u001b[m\u001b[Kdeclared here\n",
            "  182 |   EIGEN_DEPRECATED \u001b[01;36m\u001b[KBDCSVD\u001b[m\u001b[K(const MatrixType& matrix, unsigned int computationOptions) : m_algoswap(16), m_numIters(0) {\n",
            "      |                    \u001b[01;36m\u001b[K^~~~~~\u001b[m\u001b[K\n",
            "In file included from \u001b[01m\u001b[K/content/eigen/lapack/../blas/../Eigen/Core:367\u001b[m\u001b[K,\n",
            "                 from \u001b[01m\u001b[K/content/eigen/lapack/../blas/common.h:21\u001b[m\u001b[K,\n",
            "                 from \u001b[01m\u001b[K/content/eigen/lapack/lapack_common.h:13\u001b[m\u001b[K,\n",
            "                 from \u001b[01m\u001b[K/content/eigen/lapack/cholesky.inc:10\u001b[m\u001b[K,\n",
            "                 from \u001b[01m\u001b[K/content/eigen/lapack/double.cpp:15\u001b[m\u001b[K:\n",
            "\u001b[01m\u001b[K/content/eigen/lapack/../blas/../Eigen/src/Core/products/SelfadjointMatrixVector.h:\u001b[m\u001b[K In function ‘\u001b[01m\u001b[Kstatic void Eigen::internal::selfadjoint_product_impl<Lhs, LhsMode, false, Rhs, 0, true>::run(Dest&, const Lhs&, const Rhs&, const Scalar&) [with Dest = Eigen::Block<Eigen::Matrix<double, -1, 1>, -1, 1, false>; Lhs = Eigen::Block<Eigen::Matrix<double, -1, -1>, -1, -1, false>; int LhsMode = 17; Rhs = Eigen::CwiseBinaryOp<Eigen::internal::scalar_product_op<double, double>, const Eigen::CwiseNullaryOp<Eigen::internal::scalar_constant_op<double>, const Eigen::Matrix<double, -1, 1> >, const Eigen::Block<Eigen::Block<Eigen::Matrix<double, -1, -1>, -1, 1, true>, -1, 1, false> >]\u001b[m\u001b[K’:\n",
            "\u001b[01m\u001b[K/content/eigen/lapack/../blas/../Eigen/src/Core/products/SelfadjointMatrixVector.h:219:51:\u001b[m\u001b[K \u001b[01;35m\u001b[Kwarning: \u001b[m\u001b[K‘\u001b[01m\u001b[K<unknown>\u001b[m\u001b[K’ may be used uninitialized [\u001b[01;35m\u001b[K\u001b]8;;https://gcc.gnu.org/onlinedocs/gcc/Warning-Options.html#index-Wmaybe-uninitialized\u0007-Wmaybe-uninitialized\u001b]8;;\u0007\u001b[m\u001b[K]\n",
            "  216 |     \u001b[01;35m\u001b[Kinternal::selfadjoint_matrix_vector_product<\u001b[m\u001b[K\n",
            "      |     \u001b[01;35m\u001b[K~~~~~~~~~~~~~~~~~~~~~~~~~~~~~~~~~~~~~~~~~~~~\u001b[m\u001b[K   \n",
            "  217 | \u001b[01;35m\u001b[K        Scalar, Index, (internal::traits<ActualLhsTypeCleaned>::Flags & RowMajorBit) ? RowMajor : ColMajor,\u001b[m\u001b[K\n",
            "      |         \u001b[01;35m\u001b[K~~~~~~~~~~~~~~~~~~~~~~~~~~~~~~~~~~~~~~~~~~~~~~~~~~~~~~~~~~~~~~~~~~~~~~~~~~~~~~~~~~~~~~~~~~~~~~~~~~~\u001b[m\u001b[K\n",
            "  218 | \u001b[01;35m\u001b[K        int(LhsUpLo), bool(LhsBlasTraits::NeedToConjugate),\u001b[m\u001b[K\n",
            "      |         \u001b[01;35m\u001b[K~~~~~~~~~~~~~~~~~~~~~~~~~~~~~~~~~~~~~~~~~~~~~~~~~~~\u001b[m\u001b[K\n",
            "  219 | \u001b[01;35m\u001b[K        bool(RhsBlasTraits::NeedToConjugate)>::run(lhs.rows(),                              // size\u001b[m\u001b[K\n",
            "      |         \u001b[01;35m\u001b[K~~~~~~~~~~~~~~~~~~~~~~~~~~~~~~~~~~~~~~~~~~^~~~~~~~~~~~~~~~~~~~~~~~~~~~~~~~~~~~~~~~~~~~~~~~~\u001b[m\u001b[K\n",
            "  220 | \u001b[01;35m\u001b[K                                                   &lhs.coeffRef(0, 0), lhs.outerStride(),  // lhs info\u001b[m\u001b[K\n",
            "      |                                                    \u001b[01;35m\u001b[K~~~~~~~~~~~~~~~~~~~~~~~~~~~~~~~~~~~~~~~~~~~~~~~~~~~~\u001b[m\u001b[K\n",
            "  221 | \u001b[01;35m\u001b[K                                                   actualRhsPtr,                            // rhs info\u001b[m\u001b[K\n",
            "      |                                                    \u001b[01;35m\u001b[K~~~~~~~~~~~~~~~~~~~~~~~~~~~~~~~~~~~~~~~~~~~~~~~~~~~~\u001b[m\u001b[K\n",
            "  222 | \u001b[01;35m\u001b[K                                                   actualDestPtr,                           // result info\u001b[m\u001b[K\n",
            "      |                                                    \u001b[01;35m\u001b[K~~~~~~~~~~~~~~~~~~~~~~~~~~~~~~~~~~~~~~~~~~~~~~~~~~~~~~~\u001b[m\u001b[K\n",
            "  223 | \u001b[01;35m\u001b[K                                                   actualAlpha                              // scale factor\u001b[m\u001b[K\n",
            "      |                                                    \u001b[01;35m\u001b[K~~~~~~~~~~~~~~~~~~~~~~~~~~~~~~~~~~~~~~~~~~~~~~~~~~~~~~~~\u001b[m\u001b[K\n",
            "  224 | \u001b[01;35m\u001b[K    )\u001b[m\u001b[K;\n",
            "      |     \u001b[01;35m\u001b[K~\u001b[m\u001b[K                                              \n",
            "\u001b[01m\u001b[K/content/eigen/lapack/../blas/../Eigen/src/Core/products/SelfadjointMatrixVector.h:42:1:\u001b[m\u001b[K \u001b[01;36m\u001b[Knote: \u001b[m\u001b[Kby argument 4 of type ‘\u001b[01m\u001b[Kconst double*\u001b[m\u001b[K’ to ‘\u001b[01m\u001b[Kstatic void Eigen::internal::selfadjoint_matrix_vector_product<Scalar, Index, StorageOrder, UpLo, ConjugateLhs, ConjugateRhs, Version>::run(Index, const Scalar*, Index, const Scalar*, Scalar*, Scalar) [with Scalar = double; Index = long int; int StorageOrder = 0; int UpLo = 1; bool ConjugateLhs = false; bool ConjugateRhs = false; int Version = 0]\u001b[m\u001b[K’ declared here\n",
            "   42 | \u001b[01;36m\u001b[Kselfadjoint_matrix_vector_product<Scalar, Index, StorageOrder, UpLo, ConjugateLhs, ConjugateRhs, Version>\u001b[m\u001b[K::run(\n",
            "      | \u001b[01;36m\u001b[K^~~~~~~~~~~~~~~~~~~~~~~~~~~~~~~~~~~~~~~~~~~~~~~~~~~~~~~~~~~~~~~~~~~~~~~~~~~~~~~~~~~~~~~~~~~~~~~~~~~~~~~~~\u001b[m\u001b[K\n",
            "\u001b[01m\u001b[K/content/eigen/lapack/../blas/../Eigen/src/Core/products/SelfadjointMatrixVector.h:219:51:\u001b[m\u001b[K \u001b[01;35m\u001b[Kwarning: \u001b[m\u001b[K‘\u001b[01m\u001b[Kresult\u001b[m\u001b[K’ may be used uninitialized [\u001b[01;35m\u001b[K\u001b]8;;https://gcc.gnu.org/onlinedocs/gcc/Warning-Options.html#index-Wmaybe-uninitialized\u0007-Wmaybe-uninitialized\u001b]8;;\u0007\u001b[m\u001b[K]\n",
            "  216 |     \u001b[01;35m\u001b[Kinternal::selfadjoint_matrix_vector_product<\u001b[m\u001b[K\n",
            "      |     \u001b[01;35m\u001b[K~~~~~~~~~~~~~~~~~~~~~~~~~~~~~~~~~~~~~~~~~~~~\u001b[m\u001b[K   \n",
            "  217 | \u001b[01;35m\u001b[K        Scalar, Index, (internal::traits<ActualLhsTypeCleaned>::Flags & RowMajorBit) ? RowMajor : ColMajor,\u001b[m\u001b[K\n",
            "      |         \u001b[01;35m\u001b[K~~~~~~~~~~~~~~~~~~~~~~~~~~~~~~~~~~~~~~~~~~~~~~~~~~~~~~~~~~~~~~~~~~~~~~~~~~~~~~~~~~~~~~~~~~~~~~~~~~~\u001b[m\u001b[K\n",
            "  218 | \u001b[01;35m\u001b[K        int(LhsUpLo), bool(LhsBlasTraits::NeedToConjugate),\u001b[m\u001b[K\n",
            "      |         \u001b[01;35m\u001b[K~~~~~~~~~~~~~~~~~~~~~~~~~~~~~~~~~~~~~~~~~~~~~~~~~~~\u001b[m\u001b[K\n",
            "  219 | \u001b[01;35m\u001b[K        bool(RhsBlasTraits::NeedToConjugate)>::run(lhs.rows(),                              // size\u001b[m\u001b[K\n",
            "      |         \u001b[01;35m\u001b[K~~~~~~~~~~~~~~~~~~~~~~~~~~~~~~~~~~~~~~~~~~^~~~~~~~~~~~~~~~~~~~~~~~~~~~~~~~~~~~~~~~~~~~~~~~~\u001b[m\u001b[K\n",
            "  220 | \u001b[01;35m\u001b[K                                                   &lhs.coeffRef(0, 0), lhs.outerStride(),  // lhs info\u001b[m\u001b[K\n",
            "      |                                                    \u001b[01;35m\u001b[K~~~~~~~~~~~~~~~~~~~~~~~~~~~~~~~~~~~~~~~~~~~~~~~~~~~~\u001b[m\u001b[K\n",
            "  221 | \u001b[01;35m\u001b[K                                                   actualRhsPtr,                            // rhs info\u001b[m\u001b[K\n",
            "      |                                                    \u001b[01;35m\u001b[K~~~~~~~~~~~~~~~~~~~~~~~~~~~~~~~~~~~~~~~~~~~~~~~~~~~~\u001b[m\u001b[K\n",
            "  222 | \u001b[01;35m\u001b[K                                                   actualDestPtr,                           // result info\u001b[m\u001b[K\n",
            "      |                                                    \u001b[01;35m\u001b[K~~~~~~~~~~~~~~~~~~~~~~~~~~~~~~~~~~~~~~~~~~~~~~~~~~~~~~~\u001b[m\u001b[K\n",
            "  223 | \u001b[01;35m\u001b[K                                                   actualAlpha                              // scale factor\u001b[m\u001b[K\n",
            "      |                                                    \u001b[01;35m\u001b[K~~~~~~~~~~~~~~~~~~~~~~~~~~~~~~~~~~~~~~~~~~~~~~~~~~~~~~~~\u001b[m\u001b[K\n",
            "  224 | \u001b[01;35m\u001b[K    )\u001b[m\u001b[K;\n",
            "      |     \u001b[01;35m\u001b[K~\u001b[m\u001b[K                                              \n",
            "\u001b[01m\u001b[K/content/eigen/lapack/../blas/../Eigen/src/Core/products/SelfadjointMatrixVector.h:42:1:\u001b[m\u001b[K \u001b[01;36m\u001b[Knote: \u001b[m\u001b[Kby argument 4 of type ‘\u001b[01m\u001b[Kconst double*\u001b[m\u001b[K’ to ‘\u001b[01m\u001b[Kstatic void Eigen::internal::selfadjoint_matrix_vector_product<Scalar, Index, StorageOrder, UpLo, ConjugateLhs, ConjugateRhs, Version>::run(Index, const Scalar*, Index, const Scalar*, Scalar*, Scalar) [with Scalar = double; Index = long int; int StorageOrder = 0; int UpLo = 1; bool ConjugateLhs = false; bool ConjugateRhs = false; int Version = 0]\u001b[m\u001b[K’ declared here\n",
            "   42 | \u001b[01;36m\u001b[Kselfadjoint_matrix_vector_product<Scalar, Index, StorageOrder, UpLo, ConjugateLhs, ConjugateRhs, Version>\u001b[m\u001b[K::run(\n",
            "      | \u001b[01;36m\u001b[K^~~~~~~~~~~~~~~~~~~~~~~~~~~~~~~~~~~~~~~~~~~~~~~~~~~~~~~~~~~~~~~~~~~~~~~~~~~~~~~~~~~~~~~~~~~~~~~~~~~~~~~~~\u001b[m\u001b[K\n",
            "[ 75%] \u001b[32mBuilding CXX object lapack/CMakeFiles/eigen_lapack.dir/complex_single.cpp.o\u001b[0m\n",
            "In file included from \u001b[01m\u001b[K/content/eigen/lapack/complex_single.cpp:18\u001b[m\u001b[K:\n",
            "\u001b[01m\u001b[K/content/eigen/lapack/svd.inc:\u001b[m\u001b[K In function ‘\u001b[01m\u001b[Kvoid cgesdd_(char*, int*, int*, Scalar*, int*, RealScalar*, Scalar*, int*, Scalar*, int*, Scalar*, int*, RealScalar*, int*, int*)\u001b[m\u001b[K’:\n",
            "\u001b[01m\u001b[K/content/eigen/lapack/svd.inc:64:49:\u001b[m\u001b[K \u001b[01;35m\u001b[Kwarning: \u001b[m\u001b[K‘\u001b[01m\u001b[KEigen::BDCSVD<MatrixType, Options>::BDCSVD(const MatrixType&, unsigned int) [with MatrixType_ = Eigen::Matrix<std::complex<float>, -1, -1>; int Options_ = 0; Eigen::BDCSVD<MatrixType, Options>::MatrixType = Eigen::Matrix<std::complex<float>, -1, -1>]\u001b[m\u001b[K’ is deprecated [\u001b[01;35m\u001b[K\u001b]8;;https://gcc.gnu.org/onlinedocs/gcc/Warning-Options.html#index-Wdeprecated-declarations\u0007-Wdeprecated-declarations\u001b]8;;\u0007\u001b[m\u001b[K]\n",
            "   64 |   Eigen::BDCSVD<PlainMatrixType> svd(mat, option\u001b[01;35m\u001b[K)\u001b[m\u001b[K;\n",
            "      |                                                 \u001b[01;35m\u001b[K^\u001b[m\u001b[K\n",
            "In file included from \u001b[01m\u001b[K/content/eigen/Eigen/SVD:40\u001b[m\u001b[K,\n",
            "                 from \u001b[01m\u001b[K/content/eigen/lapack/svd.inc:11\u001b[m\u001b[K,\n",
            "                 from \u001b[01m\u001b[K/content/eigen/lapack/complex_single.cpp:18\u001b[m\u001b[K:\n",
            "\u001b[01m\u001b[K/content/eigen/Eigen/src/SVD/BDCSVD.h:182:20:\u001b[m\u001b[K \u001b[01;36m\u001b[Knote: \u001b[m\u001b[Kdeclared here\n",
            "  182 |   EIGEN_DEPRECATED \u001b[01;36m\u001b[KBDCSVD\u001b[m\u001b[K(const MatrixType& matrix, unsigned int computationOptions) : m_algoswap(16), m_numIters(0) {\n",
            "      |                    \u001b[01;36m\u001b[K^~~~~~\u001b[m\u001b[K\n",
            "[ 75%] \u001b[32mBuilding CXX object lapack/CMakeFiles/eigen_lapack.dir/complex_double.cpp.o\u001b[0m\n",
            "In file included from \u001b[01m\u001b[K/content/eigen/lapack/complex_double.cpp:18\u001b[m\u001b[K:\n",
            "\u001b[01m\u001b[K/content/eigen/lapack/svd.inc:\u001b[m\u001b[K In function ‘\u001b[01m\u001b[Kvoid zgesdd_(char*, int*, int*, Scalar*, int*, RealScalar*, Scalar*, int*, Scalar*, int*, Scalar*, int*, RealScalar*, int*, int*)\u001b[m\u001b[K’:\n",
            "\u001b[01m\u001b[K/content/eigen/lapack/svd.inc:64:49:\u001b[m\u001b[K \u001b[01;35m\u001b[Kwarning: \u001b[m\u001b[K‘\u001b[01m\u001b[KEigen::BDCSVD<MatrixType, Options>::BDCSVD(const MatrixType&, unsigned int) [with MatrixType_ = Eigen::Matrix<std::complex<double>, -1, -1>; int Options_ = 0; Eigen::BDCSVD<MatrixType, Options>::MatrixType = Eigen::Matrix<std::complex<double>, -1, -1>]\u001b[m\u001b[K’ is deprecated [\u001b[01;35m\u001b[K\u001b]8;;https://gcc.gnu.org/onlinedocs/gcc/Warning-Options.html#index-Wdeprecated-declarations\u0007-Wdeprecated-declarations\u001b]8;;\u0007\u001b[m\u001b[K]\n",
            "   64 |   Eigen::BDCSVD<PlainMatrixType> svd(mat, option\u001b[01;35m\u001b[K)\u001b[m\u001b[K;\n",
            "      |                                                 \u001b[01;35m\u001b[K^\u001b[m\u001b[K\n",
            "In file included from \u001b[01m\u001b[K/content/eigen/Eigen/SVD:40\u001b[m\u001b[K,\n",
            "                 from \u001b[01m\u001b[K/content/eigen/lapack/svd.inc:11\u001b[m\u001b[K,\n",
            "                 from \u001b[01m\u001b[K/content/eigen/lapack/complex_double.cpp:18\u001b[m\u001b[K:\n",
            "\u001b[01m\u001b[K/content/eigen/Eigen/src/SVD/BDCSVD.h:182:20:\u001b[m\u001b[K \u001b[01;36m\u001b[Knote: \u001b[m\u001b[Kdeclared here\n",
            "  182 |   EIGEN_DEPRECATED \u001b[01;36m\u001b[KBDCSVD\u001b[m\u001b[K(const MatrixType& matrix, unsigned int computationOptions) : m_algoswap(16), m_numIters(0) {\n",
            "      |                    \u001b[01;36m\u001b[K^~~~~~\u001b[m\u001b[K\n",
            "[ 75%] \u001b[32mBuilding CXX object lapack/CMakeFiles/eigen_lapack.dir/__/blas/xerbla.cpp.o\u001b[0m\n",
            "[ 75%] \u001b[32mBuilding Fortran object lapack/CMakeFiles/eigen_lapack.dir/slarft.f.o\u001b[0m\n",
            "[ 75%] \u001b[32mBuilding Fortran object lapack/CMakeFiles/eigen_lapack.dir/dlarft.f.o\u001b[0m\n",
            "[ 75%] \u001b[32mBuilding Fortran object lapack/CMakeFiles/eigen_lapack.dir/clarft.f.o\u001b[0m\n",
            "[ 75%] \u001b[32mBuilding Fortran object lapack/CMakeFiles/eigen_lapack.dir/zlarft.f.o\u001b[0m\n",
            "[ 75%] \u001b[32mBuilding Fortran object lapack/CMakeFiles/eigen_lapack.dir/slarfb.f.o\u001b[0m\n",
            "[ 75%] \u001b[32mBuilding Fortran object lapack/CMakeFiles/eigen_lapack.dir/dlarfb.f.o\u001b[0m\n",
            "[ 75%] \u001b[32mBuilding Fortran object lapack/CMakeFiles/eigen_lapack.dir/clarfb.f.o\u001b[0m\n",
            "[ 75%] \u001b[32mBuilding Fortran object lapack/CMakeFiles/eigen_lapack.dir/zlarfb.f.o\u001b[0m\n",
            "[ 75%] \u001b[32mBuilding Fortran object lapack/CMakeFiles/eigen_lapack.dir/slarfg.f.o\u001b[0m\n",
            "[ 75%] \u001b[32mBuilding Fortran object lapack/CMakeFiles/eigen_lapack.dir/dlarfg.f.o\u001b[0m\n",
            "[ 75%] \u001b[32mBuilding Fortran object lapack/CMakeFiles/eigen_lapack.dir/clarfg.f.o\u001b[0m\n",
            "[ 75%] \u001b[32mBuilding Fortran object lapack/CMakeFiles/eigen_lapack.dir/zlarfg.f.o\u001b[0m\n",
            "[ 75%] \u001b[32mBuilding Fortran object lapack/CMakeFiles/eigen_lapack.dir/slarf.f.o\u001b[0m\n",
            "[ 75%] \u001b[32mBuilding Fortran object lapack/CMakeFiles/eigen_lapack.dir/dlarf.f.o\u001b[0m\n",
            "[ 75%] \u001b[32mBuilding Fortran object lapack/CMakeFiles/eigen_lapack.dir/clarf.f.o\u001b[0m\n",
            "[ 75%] \u001b[32mBuilding Fortran object lapack/CMakeFiles/eigen_lapack.dir/zlarf.f.o\u001b[0m\n",
            "[ 75%] \u001b[32mBuilding Fortran object lapack/CMakeFiles/eigen_lapack.dir/sladiv.f.o\u001b[0m\n",
            "[ 75%] \u001b[32mBuilding Fortran object lapack/CMakeFiles/eigen_lapack.dir/dladiv.f.o\u001b[0m\n",
            "[ 75%] \u001b[32mBuilding Fortran object lapack/CMakeFiles/eigen_lapack.dir/cladiv.f.o\u001b[0m\n",
            "[ 75%] \u001b[32mBuilding Fortran object lapack/CMakeFiles/eigen_lapack.dir/zladiv.f.o\u001b[0m\n",
            "[ 75%] \u001b[32mBuilding Fortran object lapack/CMakeFiles/eigen_lapack.dir/ilaslr.f.o\u001b[0m\n",
            "[ 75%] \u001b[32mBuilding Fortran object lapack/CMakeFiles/eigen_lapack.dir/iladlr.f.o\u001b[0m\n",
            "[ 75%] \u001b[32mBuilding Fortran object lapack/CMakeFiles/eigen_lapack.dir/ilaclr.f.o\u001b[0m\n",
            "[ 75%] \u001b[32mBuilding Fortran object lapack/CMakeFiles/eigen_lapack.dir/ilazlr.f.o\u001b[0m\n",
            "[100%] \u001b[32mBuilding Fortran object lapack/CMakeFiles/eigen_lapack.dir/ilaslc.f.o\u001b[0m\n",
            "[100%] \u001b[32mBuilding Fortran object lapack/CMakeFiles/eigen_lapack.dir/iladlc.f.o\u001b[0m\n",
            "[100%] \u001b[32mBuilding Fortran object lapack/CMakeFiles/eigen_lapack.dir/ilaclc.f.o\u001b[0m\n",
            "[100%] \u001b[32mBuilding Fortran object lapack/CMakeFiles/eigen_lapack.dir/ilazlc.f.o\u001b[0m\n",
            "[100%] \u001b[32mBuilding Fortran object lapack/CMakeFiles/eigen_lapack.dir/dlapy2.f.o\u001b[0m\n",
            "[100%] \u001b[32mBuilding Fortran object lapack/CMakeFiles/eigen_lapack.dir/dlapy3.f.o\u001b[0m\n",
            "[100%] \u001b[32mBuilding Fortran object lapack/CMakeFiles/eigen_lapack.dir/slapy2.f.o\u001b[0m\n",
            "[100%] \u001b[32mBuilding Fortran object lapack/CMakeFiles/eigen_lapack.dir/slapy3.f.o\u001b[0m\n",
            "[100%] \u001b[32mBuilding Fortran object lapack/CMakeFiles/eigen_lapack.dir/clacgv.f.o\u001b[0m\n",
            "[100%] \u001b[32mBuilding Fortran object lapack/CMakeFiles/eigen_lapack.dir/zlacgv.f.o\u001b[0m\n",
            "[100%] \u001b[32mBuilding Fortran object lapack/CMakeFiles/eigen_lapack.dir/slamch.f.o\u001b[0m\n",
            "[100%] \u001b[32mBuilding Fortran object lapack/CMakeFiles/eigen_lapack.dir/dlamch.f.o\u001b[0m\n",
            "[100%] \u001b[32m\u001b[1mLinking CXX shared library libeigen_lapack.so\u001b[0m\n",
            "[100%] Built target eigen_lapack\n",
            "\u001b[36mInstall the project...\u001b[0m\n",
            "-- Install configuration: \"Release\"\n",
            "-- Installing: /usr/local/include/eigen3/signature_of_eigen3_matrix_library\n",
            "-- Installing: /usr/local/share/pkgconfig/eigen3.pc\n",
            "-- Installing: /usr/local/include/eigen3/Eigen\n",
            "-- Installing: /usr/local/include/eigen3/Eigen/CholmodSupport\n",
            "-- Installing: /usr/local/include/eigen3/Eigen/StdDeque\n",
            "-- Installing: /usr/local/include/eigen3/Eigen/UmfPackSupport\n",
            "-- Installing: /usr/local/include/eigen3/Eigen/SVD\n",
            "-- Installing: /usr/local/include/eigen3/Eigen/SuperLUSupport\n",
            "-- Installing: /usr/local/include/eigen3/Eigen/StdList\n",
            "-- Installing: /usr/local/include/eigen3/Eigen/Sparse\n",
            "-- Installing: /usr/local/include/eigen3/Eigen/Eigen\n",
            "-- Installing: /usr/local/include/eigen3/Eigen/SparseQR\n",
            "-- Installing: /usr/local/include/eigen3/Eigen/ThreadPool\n",
            "-- Installing: /usr/local/include/eigen3/Eigen/MetisSupport\n",
            "-- Installing: /usr/local/include/eigen3/Eigen/src\n",
            "-- Installing: /usr/local/include/eigen3/Eigen/src/CholmodSupport\n",
            "-- Installing: /usr/local/include/eigen3/Eigen/src/CholmodSupport/InternalHeaderCheck.h\n",
            "-- Installing: /usr/local/include/eigen3/Eigen/src/CholmodSupport/CholmodSupport.h\n",
            "-- Installing: /usr/local/include/eigen3/Eigen/src/UmfPackSupport\n",
            "-- Installing: /usr/local/include/eigen3/Eigen/src/UmfPackSupport/InternalHeaderCheck.h\n",
            "-- Installing: /usr/local/include/eigen3/Eigen/src/UmfPackSupport/UmfPackSupport.h\n",
            "-- Installing: /usr/local/include/eigen3/Eigen/src/SVD\n",
            "-- Installing: /usr/local/include/eigen3/Eigen/src/SVD/UpperBidiagonalization.h\n",
            "-- Installing: /usr/local/include/eigen3/Eigen/src/SVD/InternalHeaderCheck.h\n",
            "-- Installing: /usr/local/include/eigen3/Eigen/src/SVD/BDCSVD_LAPACKE.h\n",
            "-- Installing: /usr/local/include/eigen3/Eigen/src/SVD/BDCSVD.h\n",
            "-- Installing: /usr/local/include/eigen3/Eigen/src/SVD/JacobiSVD.h\n",
            "-- Installing: /usr/local/include/eigen3/Eigen/src/SVD/SVDBase.h\n",
            "-- Installing: /usr/local/include/eigen3/Eigen/src/SVD/JacobiSVD_LAPACKE.h\n",
            "-- Installing: /usr/local/include/eigen3/Eigen/src/SuperLUSupport\n",
            "-- Installing: /usr/local/include/eigen3/Eigen/src/SuperLUSupport/InternalHeaderCheck.h\n",
            "-- Installing: /usr/local/include/eigen3/Eigen/src/SuperLUSupport/SuperLUSupport.h\n",
            "-- Installing: /usr/local/include/eigen3/Eigen/src/misc\n",
            "-- Installing: /usr/local/include/eigen3/Eigen/src/misc/RealSvd2x2.h\n",
            "-- Installing: /usr/local/include/eigen3/Eigen/src/misc/blas.h\n",
            "-- Installing: /usr/local/include/eigen3/Eigen/src/misc/lapacke_mangling.h\n",
            "-- Installing: /usr/local/include/eigen3/Eigen/src/misc/lapacke.h\n",
            "-- Installing: /usr/local/include/eigen3/Eigen/src/misc/InternalHeaderCheck.h\n",
            "-- Installing: /usr/local/include/eigen3/Eigen/src/misc/lapacke_helpers.h\n",
            "-- Installing: /usr/local/include/eigen3/Eigen/src/misc/Kernel.h\n",
            "-- Installing: /usr/local/include/eigen3/Eigen/src/misc/Image.h\n",
            "-- Installing: /usr/local/include/eigen3/Eigen/src/SparseQR\n",
            "-- Installing: /usr/local/include/eigen3/Eigen/src/SparseQR/SparseQR.h\n",
            "-- Installing: /usr/local/include/eigen3/Eigen/src/SparseQR/InternalHeaderCheck.h\n",
            "-- Installing: /usr/local/include/eigen3/Eigen/src/ThreadPool\n",
            "-- Installing: /usr/local/include/eigen3/Eigen/src/ThreadPool/EventCount.h\n",
            "-- Installing: /usr/local/include/eigen3/Eigen/src/ThreadPool/ThreadLocal.h\n",
            "-- Installing: /usr/local/include/eigen3/Eigen/src/ThreadPool/ThreadYield.h\n",
            "-- Installing: /usr/local/include/eigen3/Eigen/src/ThreadPool/ThreadEnvironment.h\n",
            "-- Installing: /usr/local/include/eigen3/Eigen/src/ThreadPool/InternalHeaderCheck.h\n",
            "-- Installing: /usr/local/include/eigen3/Eigen/src/ThreadPool/ThreadCancel.h\n",
            "-- Installing: /usr/local/include/eigen3/Eigen/src/ThreadPool/CoreThreadPoolDevice.h\n",
            "-- Installing: /usr/local/include/eigen3/Eigen/src/ThreadPool/ThreadPoolInterface.h\n",
            "-- Installing: /usr/local/include/eigen3/Eigen/src/ThreadPool/NonBlockingThreadPool.h\n",
            "-- Installing: /usr/local/include/eigen3/Eigen/src/ThreadPool/Barrier.h\n",
            "-- Installing: /usr/local/include/eigen3/Eigen/src/ThreadPool/RunQueue.h\n",
            "-- Installing: /usr/local/include/eigen3/Eigen/src/MetisSupport\n",
            "-- Installing: /usr/local/include/eigen3/Eigen/src/MetisSupport/InternalHeaderCheck.h\n",
            "-- Installing: /usr/local/include/eigen3/Eigen/src/MetisSupport/MetisSupport.h\n",
            "-- Installing: /usr/local/include/eigen3/Eigen/src/SPQRSupport\n",
            "-- Installing: /usr/local/include/eigen3/Eigen/src/SPQRSupport/InternalHeaderCheck.h\n",
            "-- Installing: /usr/local/include/eigen3/Eigen/src/SPQRSupport/SuiteSparseQRSupport.h\n",
            "-- Installing: /usr/local/include/eigen3/Eigen/src/Eigenvalues\n",
            "-- Installing: /usr/local/include/eigen3/Eigen/src/Eigenvalues/ComplexSchur.h\n",
            "-- Installing: /usr/local/include/eigen3/Eigen/src/Eigenvalues/SelfAdjointEigenSolver.h\n",
            "-- Installing: /usr/local/include/eigen3/Eigen/src/Eigenvalues/HessenbergDecomposition.h\n",
            "-- Installing: /usr/local/include/eigen3/Eigen/src/Eigenvalues/Tridiagonalization.h\n",
            "-- Installing: /usr/local/include/eigen3/Eigen/src/Eigenvalues/InternalHeaderCheck.h\n",
            "-- Installing: /usr/local/include/eigen3/Eigen/src/Eigenvalues/SelfAdjointEigenSolver_LAPACKE.h\n",
            "-- Installing: /usr/local/include/eigen3/Eigen/src/Eigenvalues/RealSchur.h\n",
            "-- Installing: /usr/local/include/eigen3/Eigen/src/Eigenvalues/ComplexEigenSolver.h\n",
            "-- Installing: /usr/local/include/eigen3/Eigen/src/Eigenvalues/RealQZ.h\n",
            "-- Installing: /usr/local/include/eigen3/Eigen/src/Eigenvalues/MatrixBaseEigenvalues.h\n",
            "-- Installing: /usr/local/include/eigen3/Eigen/src/Eigenvalues/GeneralizedSelfAdjointEigenSolver.h\n",
            "-- Installing: /usr/local/include/eigen3/Eigen/src/Eigenvalues/ComplexSchur_LAPACKE.h\n",
            "-- Installing: /usr/local/include/eigen3/Eigen/src/Eigenvalues/EigenSolver.h\n",
            "-- Installing: /usr/local/include/eigen3/Eigen/src/Eigenvalues/GeneralizedEigenSolver.h\n",
            "-- Installing: /usr/local/include/eigen3/Eigen/src/Eigenvalues/RealSchur_LAPACKE.h\n",
            "-- Installing: /usr/local/include/eigen3/Eigen/src/IterativeLinearSolvers\n",
            "-- Installing: /usr/local/include/eigen3/Eigen/src/IterativeLinearSolvers/BasicPreconditioners.h\n",
            "-- Installing: /usr/local/include/eigen3/Eigen/src/IterativeLinearSolvers/ConjugateGradient.h\n",
            "-- Installing: /usr/local/include/eigen3/Eigen/src/IterativeLinearSolvers/IterativeSolverBase.h\n",
            "-- Installing: /usr/local/include/eigen3/Eigen/src/IterativeLinearSolvers/SolveWithGuess.h\n",
            "-- Installing: /usr/local/include/eigen3/Eigen/src/IterativeLinearSolvers/LeastSquareConjugateGradient.h\n",
            "-- Installing: /usr/local/include/eigen3/Eigen/src/IterativeLinearSolvers/InternalHeaderCheck.h\n",
            "-- Installing: /usr/local/include/eigen3/Eigen/src/IterativeLinearSolvers/IncompleteLUT.h\n",
            "-- Installing: /usr/local/include/eigen3/Eigen/src/IterativeLinearSolvers/IncompleteCholesky.h\n",
            "-- Installing: /usr/local/include/eigen3/Eigen/src/IterativeLinearSolvers/BiCGSTAB.h\n",
            "-- Installing: /usr/local/include/eigen3/Eigen/src/SparseLU\n",
            "-- Installing: /usr/local/include/eigen3/Eigen/src/SparseLU/SparseLU_column_bmod.h\n",
            "-- Installing: /usr/local/include/eigen3/Eigen/src/SparseLU/SparseLUImpl.h\n",
            "-- Installing: /usr/local/include/eigen3/Eigen/src/SparseLU/InternalHeaderCheck.h\n",
            "-- Installing: /usr/local/include/eigen3/Eigen/src/SparseLU/SparseLU_heap_relax_snode.h\n",
            "-- Installing: /usr/local/include/eigen3/Eigen/src/SparseLU/SparseLU_pivotL.h\n",
            "-- Installing: /usr/local/include/eigen3/Eigen/src/SparseLU/SparseLU_SupernodalMatrix.h\n",
            "-- Installing: /usr/local/include/eigen3/Eigen/src/SparseLU/SparseLU_copy_to_ucol.h\n",
            "-- Installing: /usr/local/include/eigen3/Eigen/src/SparseLU/SparseLU_kernel_bmod.h\n",
            "-- Installing: /usr/local/include/eigen3/Eigen/src/SparseLU/SparseLU_Memory.h\n",
            "-- Installing: /usr/local/include/eigen3/Eigen/src/SparseLU/SparseLU_Structs.h\n",
            "-- Installing: /usr/local/include/eigen3/Eigen/src/SparseLU/SparseLU.h\n",
            "-- Installing: /usr/local/include/eigen3/Eigen/src/SparseLU/SparseLU_Utils.h\n",
            "-- Installing: /usr/local/include/eigen3/Eigen/src/SparseLU/SparseLU_panel_bmod.h\n",
            "-- Installing: /usr/local/include/eigen3/Eigen/src/SparseLU/SparseLU_column_dfs.h\n",
            "-- Installing: /usr/local/include/eigen3/Eigen/src/SparseLU/SparseLU_relax_snode.h\n",
            "-- Installing: /usr/local/include/eigen3/Eigen/src/SparseLU/SparseLU_panel_dfs.h\n",
            "-- Installing: /usr/local/include/eigen3/Eigen/src/SparseLU/SparseLU_pruneL.h\n",
            "-- Installing: /usr/local/include/eigen3/Eigen/src/LU\n",
            "-- Installing: /usr/local/include/eigen3/Eigen/src/LU/Determinant.h\n",
            "-- Installing: /usr/local/include/eigen3/Eigen/src/LU/PartialPivLU.h\n",
            "-- Installing: /usr/local/include/eigen3/Eigen/src/LU/FullPivLU.h\n",
            "-- Installing: /usr/local/include/eigen3/Eigen/src/LU/arch\n",
            "-- Installing: /usr/local/include/eigen3/Eigen/src/LU/arch/InverseSize4.h\n",
            "-- Installing: /usr/local/include/eigen3/Eigen/src/LU/InternalHeaderCheck.h\n",
            "-- Installing: /usr/local/include/eigen3/Eigen/src/LU/PartialPivLU_LAPACKE.h\n",
            "-- Installing: /usr/local/include/eigen3/Eigen/src/LU/InverseImpl.h\n",
            "-- Installing: /usr/local/include/eigen3/Eigen/src/QR\n",
            "-- Installing: /usr/local/include/eigen3/Eigen/src/QR/HouseholderQR.h\n",
            "-- Installing: /usr/local/include/eigen3/Eigen/src/QR/InternalHeaderCheck.h\n",
            "-- Installing: /usr/local/include/eigen3/Eigen/src/QR/HouseholderQR_LAPACKE.h\n",
            "-- Installing: /usr/local/include/eigen3/Eigen/src/QR/FullPivHouseholderQR.h\n",
            "-- Installing: /usr/local/include/eigen3/Eigen/src/QR/ColPivHouseholderQR.h\n",
            "-- Installing: /usr/local/include/eigen3/Eigen/src/QR/CompleteOrthogonalDecomposition.h\n",
            "-- Installing: /usr/local/include/eigen3/Eigen/src/QR/ColPivHouseholderQR_LAPACKE.h\n",
            "-- Installing: /usr/local/include/eigen3/Eigen/src/SparseCore\n",
            "-- Installing: /usr/local/include/eigen3/Eigen/src/SparseCore/SparseTranspose.h\n",
            "-- Installing: /usr/local/include/eigen3/Eigen/src/SparseCore/SparseCwiseUnaryOp.h\n",
            "-- Installing: /usr/local/include/eigen3/Eigen/src/SparseCore/SparseDot.h\n",
            "-- Installing: /usr/local/include/eigen3/Eigen/src/SparseCore/SparseSelfAdjointView.h\n",
            "-- Installing: /usr/local/include/eigen3/Eigen/src/SparseCore/SparseDenseProduct.h\n",
            "-- Installing: /usr/local/include/eigen3/Eigen/src/SparseCore/SparsePermutation.h\n",
            "-- Installing: /usr/local/include/eigen3/Eigen/src/SparseCore/SparseCwiseBinaryOp.h\n",
            "-- Installing: /usr/local/include/eigen3/Eigen/src/SparseCore/SparseAssign.h\n",
            "-- Installing: /usr/local/include/eigen3/Eigen/src/SparseCore/SparseCompressedBase.h\n",
            "-- Installing: /usr/local/include/eigen3/Eigen/src/SparseCore/InternalHeaderCheck.h\n",
            "-- Installing: /usr/local/include/eigen3/Eigen/src/SparseCore/SparseView.h\n",
            "-- Installing: /usr/local/include/eigen3/Eigen/src/SparseCore/SparseMatrix.h\n",
            "-- Installing: /usr/local/include/eigen3/Eigen/src/SparseCore/SparseMap.h\n",
            "-- Installing: /usr/local/include/eigen3/Eigen/src/SparseCore/SparseProduct.h\n",
            "-- Installing: /usr/local/include/eigen3/Eigen/src/SparseCore/SparseFuzzy.h\n",
            "-- Installing: /usr/local/include/eigen3/Eigen/src/SparseCore/ConservativeSparseSparseProduct.h\n",
            "-- Installing: /usr/local/include/eigen3/Eigen/src/SparseCore/SparseRef.h\n",
            "-- Installing: /usr/local/include/eigen3/Eigen/src/SparseCore/SparseTriangularView.h\n",
            "-- Installing: /usr/local/include/eigen3/Eigen/src/SparseCore/SparseColEtree.h\n",
            "-- Installing: /usr/local/include/eigen3/Eigen/src/SparseCore/SparseBlock.h\n",
            "-- Installing: /usr/local/include/eigen3/Eigen/src/SparseCore/SparseSolverBase.h\n",
            "-- Installing: /usr/local/include/eigen3/Eigen/src/SparseCore/SparseVector.h\n",
            "-- Installing: /usr/local/include/eigen3/Eigen/src/SparseCore/CompressedStorage.h\n",
            "-- Installing: /usr/local/include/eigen3/Eigen/src/SparseCore/AmbiVector.h\n",
            "-- Installing: /usr/local/include/eigen3/Eigen/src/SparseCore/TriangularSolver.h\n",
            "-- Installing: /usr/local/include/eigen3/Eigen/src/SparseCore/SparseUtil.h\n",
            "-- Installing: /usr/local/include/eigen3/Eigen/src/SparseCore/SparseDiagonalProduct.h\n",
            "-- Installing: /usr/local/include/eigen3/Eigen/src/SparseCore/SparseRedux.h\n",
            "-- Installing: /usr/local/include/eigen3/Eigen/src/SparseCore/SparseMatrixBase.h\n",
            "-- Installing: /usr/local/include/eigen3/Eigen/src/SparseCore/SparseSparseProductWithPruning.h\n",
            "-- Installing: /usr/local/include/eigen3/Eigen/src/Cholesky\n",
            "-- Installing: /usr/local/include/eigen3/Eigen/src/Cholesky/InternalHeaderCheck.h\n",
            "-- Installing: /usr/local/include/eigen3/Eigen/src/Cholesky/LLT_LAPACKE.h\n",
            "-- Installing: /usr/local/include/eigen3/Eigen/src/Cholesky/LLT.h\n",
            "-- Installing: /usr/local/include/eigen3/Eigen/src/Cholesky/LDLT.h\n",
            "-- Installing: /usr/local/include/eigen3/Eigen/src/KLUSupport\n",
            "-- Installing: /usr/local/include/eigen3/Eigen/src/KLUSupport/InternalHeaderCheck.h\n",
            "-- Installing: /usr/local/include/eigen3/Eigen/src/KLUSupport/KLUSupport.h\n",
            "-- Installing: /usr/local/include/eigen3/Eigen/src/Geometry\n",
            "-- Installing: /usr/local/include/eigen3/Eigen/src/Geometry/Translation.h\n",
            "-- Installing: /usr/local/include/eigen3/Eigen/src/Geometry/Quaternion.h\n",
            "-- Installing: /usr/local/include/eigen3/Eigen/src/Geometry/Transform.h\n",
            "-- Installing: /usr/local/include/eigen3/Eigen/src/Geometry/AlignedBox.h\n",
            "-- Installing: /usr/local/include/eigen3/Eigen/src/Geometry/Scaling.h\n",
            "-- Installing: /usr/local/include/eigen3/Eigen/src/Geometry/arch\n",
            "-- Installing: /usr/local/include/eigen3/Eigen/src/Geometry/arch/Geometry_SIMD.h\n",
            "-- Installing: /usr/local/include/eigen3/Eigen/src/Geometry/RotationBase.h\n",
            "-- Installing: /usr/local/include/eigen3/Eigen/src/Geometry/Homogeneous.h\n",
            "-- Installing: /usr/local/include/eigen3/Eigen/src/Geometry/InternalHeaderCheck.h\n",
            "-- Installing: /usr/local/include/eigen3/Eigen/src/Geometry/EulerAngles.h\n",
            "-- Installing: /usr/local/include/eigen3/Eigen/src/Geometry/AngleAxis.h\n",
            "-- Installing: /usr/local/include/eigen3/Eigen/src/Geometry/Hyperplane.h\n",
            "-- Installing: /usr/local/include/eigen3/Eigen/src/Geometry/OrthoMethods.h\n",
            "-- Installing: /usr/local/include/eigen3/Eigen/src/Geometry/ParametrizedLine.h\n",
            "-- Installing: /usr/local/include/eigen3/Eigen/src/Geometry/Rotation2D.h\n",
            "-- Installing: /usr/local/include/eigen3/Eigen/src/Geometry/Umeyama.h\n",
            "-- Installing: /usr/local/include/eigen3/Eigen/src/PardisoSupport\n",
            "-- Installing: /usr/local/include/eigen3/Eigen/src/PardisoSupport/InternalHeaderCheck.h\n",
            "-- Installing: /usr/local/include/eigen3/Eigen/src/PardisoSupport/PardisoSupport.h\n",
            "-- Installing: /usr/local/include/eigen3/Eigen/src/Householder\n",
            "-- Installing: /usr/local/include/eigen3/Eigen/src/Householder/BlockHouseholder.h\n",
            "-- Installing: /usr/local/include/eigen3/Eigen/src/Householder/Householder.h\n",
            "-- Installing: /usr/local/include/eigen3/Eigen/src/Householder/InternalHeaderCheck.h\n",
            "-- Installing: /usr/local/include/eigen3/Eigen/src/Householder/HouseholderSequence.h\n",
            "-- Installing: /usr/local/include/eigen3/Eigen/src/OrderingMethods\n",
            "-- Installing: /usr/local/include/eigen3/Eigen/src/OrderingMethods/Eigen_Colamd.h\n",
            "-- Installing: /usr/local/include/eigen3/Eigen/src/OrderingMethods/Amd.h\n",
            "-- Installing: /usr/local/include/eigen3/Eigen/src/OrderingMethods/Ordering.h\n",
            "-- Installing: /usr/local/include/eigen3/Eigen/src/OrderingMethods/InternalHeaderCheck.h\n",
            "-- Installing: /usr/local/include/eigen3/Eigen/src/SparseCholesky\n",
            "-- Installing: /usr/local/include/eigen3/Eigen/src/SparseCholesky/SimplicialCholesky_impl.h\n",
            "-- Installing: /usr/local/include/eigen3/Eigen/src/SparseCholesky/InternalHeaderCheck.h\n",
            "-- Installing: /usr/local/include/eigen3/Eigen/src/SparseCholesky/SimplicialCholesky.h\n",
            "-- Installing: /usr/local/include/eigen3/Eigen/src/AccelerateSupport\n",
            "-- Installing: /usr/local/include/eigen3/Eigen/src/AccelerateSupport/AccelerateSupport.h\n",
            "-- Installing: /usr/local/include/eigen3/Eigen/src/AccelerateSupport/InternalHeaderCheck.h\n",
            "-- Installing: /usr/local/include/eigen3/Eigen/src/plugins\n",
            "-- Installing: /usr/local/include/eigen3/Eigen/src/plugins/ReshapedMethods.inc\n",
            "-- Installing: /usr/local/include/eigen3/Eigen/src/plugins/IndexedViewMethods.inc\n",
            "-- Installing: /usr/local/include/eigen3/Eigen/src/plugins/InternalHeaderCheck.inc\n",
            "-- Installing: /usr/local/include/eigen3/Eigen/src/plugins/ArrayCwiseUnaryOps.inc\n",
            "-- Installing: /usr/local/include/eigen3/Eigen/src/plugins/BlockMethods.inc\n",
            "-- Installing: /usr/local/include/eigen3/Eigen/src/plugins/ArrayCwiseBinaryOps.inc\n",
            "-- Installing: /usr/local/include/eigen3/Eigen/src/plugins/CommonCwiseBinaryOps.inc\n",
            "-- Installing: /usr/local/include/eigen3/Eigen/src/plugins/MatrixCwiseBinaryOps.inc\n",
            "-- Installing: /usr/local/include/eigen3/Eigen/src/plugins/CommonCwiseUnaryOps.inc\n",
            "-- Installing: /usr/local/include/eigen3/Eigen/src/plugins/MatrixCwiseUnaryOps.inc\n",
            "-- Installing: /usr/local/include/eigen3/Eigen/src/StlSupport\n",
            "-- Installing: /usr/local/include/eigen3/Eigen/src/StlSupport/StdVector.h\n",
            "-- Installing: /usr/local/include/eigen3/Eigen/src/StlSupport/StdDeque.h\n",
            "-- Installing: /usr/local/include/eigen3/Eigen/src/StlSupport/details.h\n",
            "-- Installing: /usr/local/include/eigen3/Eigen/src/StlSupport/StdList.h\n",
            "-- Installing: /usr/local/include/eigen3/Eigen/src/PaStiXSupport\n",
            "-- Installing: /usr/local/include/eigen3/Eigen/src/PaStiXSupport/PaStiXSupport.h\n",
            "-- Installing: /usr/local/include/eigen3/Eigen/src/PaStiXSupport/InternalHeaderCheck.h\n",
            "-- Installing: /usr/local/include/eigen3/Eigen/src/Jacobi\n",
            "-- Installing: /usr/local/include/eigen3/Eigen/src/Jacobi/InternalHeaderCheck.h\n",
            "-- Installing: /usr/local/include/eigen3/Eigen/src/Jacobi/Jacobi.h\n",
            "-- Installing: /usr/local/include/eigen3/Eigen/src/Core\n",
            "-- Installing: /usr/local/include/eigen3/Eigen/src/Core/CommaInitializer.h\n",
            "-- Installing: /usr/local/include/eigen3/Eigen/src/Core/Transpositions.h\n",
            "-- Installing: /usr/local/include/eigen3/Eigen/src/Core/AssignEvaluator.h\n",
            "-- Installing: /usr/local/include/eigen3/Eigen/src/Core/Select.h\n",
            "-- Installing: /usr/local/include/eigen3/Eigen/src/Core/NumTraits.h\n",
            "-- Installing: /usr/local/include/eigen3/Eigen/src/Core/DenseBase.h\n",
            "-- Installing: /usr/local/include/eigen3/Eigen/src/Core/PermutationMatrix.h\n",
            "-- Installing: /usr/local/include/eigen3/Eigen/src/Core/DiagonalMatrix.h\n",
            "-- Installing: /usr/local/include/eigen3/Eigen/src/Core/Ref.h\n",
            "-- Installing: /usr/local/include/eigen3/Eigen/src/Core/GlobalFunctions.h\n",
            "-- Installing: /usr/local/include/eigen3/Eigen/src/Core/CwiseNullaryOp.h\n",
            "-- Installing: /usr/local/include/eigen3/Eigen/src/Core/MapBase.h\n",
            "-- Installing: /usr/local/include/eigen3/Eigen/src/Core/Diagonal.h\n",
            "-- Installing: /usr/local/include/eigen3/Eigen/src/Core/Inverse.h\n",
            "-- Installing: /usr/local/include/eigen3/Eigen/src/Core/Array.h\n",
            "-- Installing: /usr/local/include/eigen3/Eigen/src/Core/Map.h\n",
            "-- Installing: /usr/local/include/eigen3/Eigen/src/Core/arch\n",
            "-- Installing: /usr/local/include/eigen3/Eigen/src/Core/arch/AVX512\n",
            "-- Installing: /usr/local/include/eigen3/Eigen/src/Core/arch/AVX512/PacketMathFP16.h\n",
            "-- Installing: /usr/local/include/eigen3/Eigen/src/Core/arch/AVX512/TrsmUnrolls.inc\n",
            "-- Installing: /usr/local/include/eigen3/Eigen/src/Core/arch/AVX512/TrsmKernel.h\n",
            "-- Installing: /usr/local/include/eigen3/Eigen/src/Core/arch/AVX512/TypeCasting.h\n",
            "-- Installing: /usr/local/include/eigen3/Eigen/src/Core/arch/AVX512/MathFunctions.h\n",
            "-- Installing: /usr/local/include/eigen3/Eigen/src/Core/arch/AVX512/GemmKernel.h\n",
            "-- Installing: /usr/local/include/eigen3/Eigen/src/Core/arch/AVX512/Complex.h\n",
            "-- Installing: /usr/local/include/eigen3/Eigen/src/Core/arch/AVX512/PacketMath.h\n",
            "-- Installing: /usr/local/include/eigen3/Eigen/src/Core/arch/HIP\n",
            "-- Installing: /usr/local/include/eigen3/Eigen/src/Core/arch/HIP/hcc\n",
            "-- Installing: /usr/local/include/eigen3/Eigen/src/Core/arch/HIP/hcc/math_constants.h\n",
            "-- Installing: /usr/local/include/eigen3/Eigen/src/Core/arch/SVE\n",
            "-- Installing: /usr/local/include/eigen3/Eigen/src/Core/arch/SVE/TypeCasting.h\n",
            "-- Installing: /usr/local/include/eigen3/Eigen/src/Core/arch/SVE/MathFunctions.h\n",
            "-- Installing: /usr/local/include/eigen3/Eigen/src/Core/arch/SVE/PacketMath.h\n",
            "-- Installing: /usr/local/include/eigen3/Eigen/src/Core/arch/Default\n",
            "-- Installing: /usr/local/include/eigen3/Eigen/src/Core/arch/Default/ConjHelper.h\n",
            "-- Installing: /usr/local/include/eigen3/Eigen/src/Core/arch/Default/Half.h\n",
            "-- Installing: /usr/local/include/eigen3/Eigen/src/Core/arch/Default/BFloat16.h\n",
            "-- Installing: /usr/local/include/eigen3/Eigen/src/Core/arch/Default/GenericPacketMathFunctionsFwd.h\n",
            "-- Installing: /usr/local/include/eigen3/Eigen/src/Core/arch/Default/GenericPacketMathFunctions.h\n",
            "-- Installing: /usr/local/include/eigen3/Eigen/src/Core/arch/Default/Settings.h\n",
            "-- Installing: /usr/local/include/eigen3/Eigen/src/Core/arch/SYCL\n",
            "-- Installing: /usr/local/include/eigen3/Eigen/src/Core/arch/SYCL/InteropHeaders.h\n",
            "-- Installing: /usr/local/include/eigen3/Eigen/src/Core/arch/SYCL/TypeCasting.h\n",
            "-- Installing: /usr/local/include/eigen3/Eigen/src/Core/arch/SYCL/MathFunctions.h\n",
            "-- Installing: /usr/local/include/eigen3/Eigen/src/Core/arch/SYCL/PacketMath.h\n",
            "-- Installing: /usr/local/include/eigen3/Eigen/src/Core/arch/SSE\n",
            "-- Installing: /usr/local/include/eigen3/Eigen/src/Core/arch/SSE/TypeCasting.h\n",
            "-- Installing: /usr/local/include/eigen3/Eigen/src/Core/arch/SSE/MathFunctions.h\n",
            "-- Installing: /usr/local/include/eigen3/Eigen/src/Core/arch/SSE/Complex.h\n",
            "-- Installing: /usr/local/include/eigen3/Eigen/src/Core/arch/SSE/PacketMath.h\n",
            "-- Installing: /usr/local/include/eigen3/Eigen/src/Core/arch/GPU\n",
            "-- Installing: /usr/local/include/eigen3/Eigen/src/Core/arch/GPU/Tuple.h\n",
            "-- Installing: /usr/local/include/eigen3/Eigen/src/Core/arch/GPU/TypeCasting.h\n",
            "-- Installing: /usr/local/include/eigen3/Eigen/src/Core/arch/GPU/MathFunctions.h\n",
            "-- Installing: /usr/local/include/eigen3/Eigen/src/Core/arch/GPU/Complex.h\n",
            "-- Installing: /usr/local/include/eigen3/Eigen/src/Core/arch/GPU/PacketMath.h\n",
            "-- Installing: /usr/local/include/eigen3/Eigen/src/Core/arch/AVX\n",
            "-- Installing: /usr/local/include/eigen3/Eigen/src/Core/arch/AVX/TypeCasting.h\n",
            "-- Installing: /usr/local/include/eigen3/Eigen/src/Core/arch/AVX/MathFunctions.h\n",
            "-- Installing: /usr/local/include/eigen3/Eigen/src/Core/arch/AVX/Complex.h\n",
            "-- Installing: /usr/local/include/eigen3/Eigen/src/Core/arch/AVX/PacketMath.h\n",
            "-- Installing: /usr/local/include/eigen3/Eigen/src/Core/arch/MSA\n",
            "-- Installing: /usr/local/include/eigen3/Eigen/src/Core/arch/MSA/MathFunctions.h\n",
            "-- Installing: /usr/local/include/eigen3/Eigen/src/Core/arch/MSA/Complex.h\n",
            "-- Installing: /usr/local/include/eigen3/Eigen/src/Core/arch/MSA/PacketMath.h\n",
            "-- Installing: /usr/local/include/eigen3/Eigen/src/Core/arch/ZVector\n",
            "-- Installing: /usr/local/include/eigen3/Eigen/src/Core/arch/ZVector/MathFunctions.h\n",
            "-- Installing: /usr/local/include/eigen3/Eigen/src/Core/arch/ZVector/Complex.h\n",
            "-- Installing: /usr/local/include/eigen3/Eigen/src/Core/arch/ZVector/PacketMath.h\n",
            "-- Installing: /usr/local/include/eigen3/Eigen/src/Core/arch/AltiVec\n",
            "-- Installing: /usr/local/include/eigen3/Eigen/src/Core/arch/AltiVec/MatrixProductCommon.h\n",
            "-- Installing: /usr/local/include/eigen3/Eigen/src/Core/arch/AltiVec/MatrixProduct.h\n",
            "-- Installing: /usr/local/include/eigen3/Eigen/src/Core/arch/AltiVec/TypeCasting.h\n",
            "-- Installing: /usr/local/include/eigen3/Eigen/src/Core/arch/AltiVec/MatrixProductMMAbfloat16.h\n",
            "-- Installing: /usr/local/include/eigen3/Eigen/src/Core/arch/AltiVec/MatrixProductMMA.h\n",
            "-- Installing: /usr/local/include/eigen3/Eigen/src/Core/arch/AltiVec/MathFunctions.h\n",
            "-- Installing: /usr/local/include/eigen3/Eigen/src/Core/arch/AltiVec/Complex.h\n",
            "-- Installing: /usr/local/include/eigen3/Eigen/src/Core/arch/AltiVec/PacketMath.h\n",
            "-- Installing: /usr/local/include/eigen3/Eigen/src/Core/arch/AltiVec/MatrixVectorProduct.h\n",
            "-- Installing: /usr/local/include/eigen3/Eigen/src/Core/arch/HVX\n",
            "-- Installing: /usr/local/include/eigen3/Eigen/src/Core/arch/HVX/PacketMath.h\n",
            "-- Installing: /usr/local/include/eigen3/Eigen/src/Core/arch/NEON\n",
            "-- Installing: /usr/local/include/eigen3/Eigen/src/Core/arch/NEON/TypeCasting.h\n",
            "-- Installing: /usr/local/include/eigen3/Eigen/src/Core/arch/NEON/GeneralBlockPanelKernel.h\n",
            "-- Installing: /usr/local/include/eigen3/Eigen/src/Core/arch/NEON/UnaryFunctors.h\n",
            "-- Installing: /usr/local/include/eigen3/Eigen/src/Core/arch/NEON/MathFunctions.h\n",
            "-- Installing: /usr/local/include/eigen3/Eigen/src/Core/arch/NEON/Complex.h\n",
            "-- Installing: /usr/local/include/eigen3/Eigen/src/Core/arch/NEON/PacketMath.h\n",
            "-- Installing: /usr/local/include/eigen3/Eigen/src/Core/SelfCwiseBinaryOp.h\n",
            "-- Installing: /usr/local/include/eigen3/Eigen/src/Core/BandMatrix.h\n",
            "-- Installing: /usr/local/include/eigen3/Eigen/src/Core/Reverse.h\n",
            "-- Installing: /usr/local/include/eigen3/Eigen/src/Core/ArithmeticSequence.h\n",
            "-- Installing: /usr/local/include/eigen3/Eigen/src/Core/ArrayWrapper.h\n",
            "-- Installing: /usr/local/include/eigen3/Eigen/src/Core/RandomImpl.h\n",
            "-- Installing: /usr/local/include/eigen3/Eigen/src/Core/MathFunctionsImpl.h\n",
            "-- Installing: /usr/local/include/eigen3/Eigen/src/Core/Stride.h\n",
            "-- Installing: /usr/local/include/eigen3/Eigen/src/Core/ArrayBase.h\n",
            "-- Installing: /usr/local/include/eigen3/Eigen/src/Core/Dot.h\n",
            "-- Installing: /usr/local/include/eigen3/Eigen/src/Core/StlIterators.h\n",
            "-- Installing: /usr/local/include/eigen3/Eigen/src/Core/Solve.h\n",
            "-- Installing: /usr/local/include/eigen3/Eigen/src/Core/Assign_MKL.h\n",
            "-- Installing: /usr/local/include/eigen3/Eigen/src/Core/NoAlias.h\n",
            "-- Installing: /usr/local/include/eigen3/Eigen/src/Core/InternalHeaderCheck.h\n",
            "-- Installing: /usr/local/include/eigen3/Eigen/src/Core/VectorBlock.h\n",
            "-- Installing: /usr/local/include/eigen3/Eigen/src/Core/SelfAdjointView.h\n",
            "-- Installing: /usr/local/include/eigen3/Eigen/src/Core/CwiseBinaryOp.h\n",
            "-- Installing: /usr/local/include/eigen3/Eigen/src/Core/StableNorm.h\n",
            "-- Installing: /usr/local/include/eigen3/Eigen/src/Core/Matrix.h\n",
            "-- Installing: /usr/local/include/eigen3/Eigen/src/Core/SkewSymmetricMatrix3.h\n",
            "-- Installing: /usr/local/include/eigen3/Eigen/src/Core/Reshaped.h\n",
            "-- Installing: /usr/local/include/eigen3/Eigen/src/Core/Swap.h\n",
            "-- Installing: /usr/local/include/eigen3/Eigen/src/Core/PartialReduxEvaluator.h\n",
            "-- Installing: /usr/local/include/eigen3/Eigen/src/Core/NestByValue.h\n",
            "-- Installing: /usr/local/include/eigen3/Eigen/src/Core/ReturnByValue.h\n",
            "-- Installing: /usr/local/include/eigen3/Eigen/src/Core/SolveTriangular.h\n",
            "-- Installing: /usr/local/include/eigen3/Eigen/src/Core/GeneralProduct.h\n",
            "-- Installing: /usr/local/include/eigen3/Eigen/src/Core/Transpose.h\n",
            "-- Installing: /usr/local/include/eigen3/Eigen/src/Core/DenseStorage.h\n",
            "-- Installing: /usr/local/include/eigen3/Eigen/src/Core/ConditionEstimator.h\n",
            "-- Installing: /usr/local/include/eigen3/Eigen/src/Core/ProductEvaluators.h\n",
            "-- Installing: /usr/local/include/eigen3/Eigen/src/Core/InnerProduct.h\n",
            "-- Installing: /usr/local/include/eigen3/Eigen/src/Core/Product.h\n",
            "-- Installing: /usr/local/include/eigen3/Eigen/src/Core/DenseCoeffsBase.h\n",
            "-- Installing: /usr/local/include/eigen3/Eigen/src/Core/MatrixBase.h\n",
            "-- Installing: /usr/local/include/eigen3/Eigen/src/Core/IndexedView.h\n",
            "-- Installing: /usr/local/include/eigen3/Eigen/src/Core/CwiseTernaryOp.h\n",
            "-- Installing: /usr/local/include/eigen3/Eigen/src/Core/Visitor.h\n",
            "-- Installing: /usr/local/include/eigen3/Eigen/src/Core/GenericPacketMath.h\n",
            "-- Installing: /usr/local/include/eigen3/Eigen/src/Core/Block.h\n",
            "-- Installing: /usr/local/include/eigen3/Eigen/src/Core/IO.h\n",
            "-- Installing: /usr/local/include/eigen3/Eigen/src/Core/MathFunctions.h\n",
            "-- Installing: /usr/local/include/eigen3/Eigen/src/Core/util\n",
            "-- Installing: /usr/local/include/eigen3/Eigen/src/Core/util/XprHelper.h\n",
            "-- Installing: /usr/local/include/eigen3/Eigen/src/Core/util/Macros.h\n",
            "-- Installing: /usr/local/include/eigen3/Eigen/src/Core/util/IntegralConstant.h\n",
            "-- Installing: /usr/local/include/eigen3/Eigen/src/Core/util/Assert.h\n",
            "-- Installing: /usr/local/include/eigen3/Eigen/src/Core/util/Constants.h\n",
            "-- Installing: /usr/local/include/eigen3/Eigen/src/Core/util/ReenableStupidWarnings.h\n",
            "-- Installing: /usr/local/include/eigen3/Eigen/src/Core/util/MoreMeta.h\n",
            "-- Installing: /usr/local/include/eigen3/Eigen/src/Core/util/MaxSizeVector.h\n",
            "-- Installing: /usr/local/include/eigen3/Eigen/src/Core/util/MKL_support.h\n",
            "-- Installing: /usr/local/include/eigen3/Eigen/src/Core/util/SymbolicIndex.h\n",
            "-- Installing: /usr/local/include/eigen3/Eigen/src/Core/util/IndexedViewHelper.h\n",
            "-- Installing: /usr/local/include/eigen3/Eigen/src/Core/util/ReshapedHelper.h\n",
            "-- Installing: /usr/local/include/eigen3/Eigen/src/Core/util/Serializer.h\n",
            "-- Installing: /usr/local/include/eigen3/Eigen/src/Core/util/ForwardDeclarations.h\n",
            "-- Installing: /usr/local/include/eigen3/Eigen/src/Core/util/DisableStupidWarnings.h\n",
            "-- Installing: /usr/local/include/eigen3/Eigen/src/Core/util/Memory.h\n",
            "-- Installing: /usr/local/include/eigen3/Eigen/src/Core/util/StaticAssert.h\n",
            "-- Installing: /usr/local/include/eigen3/Eigen/src/Core/util/EmulateArray.h\n",
            "-- Installing: /usr/local/include/eigen3/Eigen/src/Core/util/ConfigureVectorization.h\n",
            "-- Installing: /usr/local/include/eigen3/Eigen/src/Core/util/Meta.h\n",
            "-- Installing: /usr/local/include/eigen3/Eigen/src/Core/util/BlasUtil.h\n",
            "-- Installing: /usr/local/include/eigen3/Eigen/src/Core/SolverBase.h\n",
            "-- Installing: /usr/local/include/eigen3/Eigen/src/Core/CoreIterators.h\n",
            "-- Installing: /usr/local/include/eigen3/Eigen/src/Core/DiagonalProduct.h\n",
            "-- Installing: /usr/local/include/eigen3/Eigen/src/Core/TriangularMatrix.h\n",
            "-- Installing: /usr/local/include/eigen3/Eigen/src/Core/Random.h\n",
            "-- Installing: /usr/local/include/eigen3/Eigen/src/Core/ForceAlignedAccess.h\n",
            "-- Installing: /usr/local/include/eigen3/Eigen/src/Core/CwiseUnaryOp.h\n",
            "-- Installing: /usr/local/include/eigen3/Eigen/src/Core/Redux.h\n",
            "-- Installing: /usr/local/include/eigen3/Eigen/src/Core/PlainObjectBase.h\n",
            "-- Installing: /usr/local/include/eigen3/Eigen/src/Core/functors\n",
            "-- Installing: /usr/local/include/eigen3/Eigen/src/Core/functors/TernaryFunctors.h\n",
            "-- Installing: /usr/local/include/eigen3/Eigen/src/Core/functors/AssignmentFunctors.h\n",
            "-- Installing: /usr/local/include/eigen3/Eigen/src/Core/functors/NullaryFunctors.h\n",
            "-- Installing: /usr/local/include/eigen3/Eigen/src/Core/functors/UnaryFunctors.h\n",
            "-- Installing: /usr/local/include/eigen3/Eigen/src/Core/functors/StlFunctors.h\n",
            "-- Installing: /usr/local/include/eigen3/Eigen/src/Core/functors/BinaryFunctors.h\n",
            "-- Installing: /usr/local/include/eigen3/Eigen/src/Core/CoreEvaluators.h\n",
            "-- Installing: /usr/local/include/eigen3/Eigen/src/Core/DeviceWrapper.h\n",
            "-- Installing: /usr/local/include/eigen3/Eigen/src/Core/VectorwiseOp.h\n",
            "-- Installing: /usr/local/include/eigen3/Eigen/src/Core/products\n",
            "-- Installing: /usr/local/include/eigen3/Eigen/src/Core/products/TriangularSolverVector.h\n",
            "-- Installing: /usr/local/include/eigen3/Eigen/src/Core/products/TriangularMatrixVector.h\n",
            "-- Installing: /usr/local/include/eigen3/Eigen/src/Core/products/TriangularSolverMatrix.h\n",
            "-- Installing: /usr/local/include/eigen3/Eigen/src/Core/products/TriangularMatrixVector_BLAS.h\n",
            "-- Installing: /usr/local/include/eigen3/Eigen/src/Core/products/GeneralMatrixMatrix_BLAS.h\n",
            "-- Installing: /usr/local/include/eigen3/Eigen/src/Core/products/GeneralMatrixMatrixTriangular_BLAS.h\n",
            "-- Installing: /usr/local/include/eigen3/Eigen/src/Core/products/SelfadjointMatrixVector.h\n",
            "-- Installing: /usr/local/include/eigen3/Eigen/src/Core/products/TriangularMatrixMatrix.h\n",
            "-- Installing: /usr/local/include/eigen3/Eigen/src/Core/products/SelfadjointMatrixVector_BLAS.h\n",
            "-- Installing: /usr/local/include/eigen3/Eigen/src/Core/products/SelfadjointRank2Update.h\n",
            "-- Installing: /usr/local/include/eigen3/Eigen/src/Core/products/GeneralMatrixMatrix.h\n",
            "-- Installing: /usr/local/include/eigen3/Eigen/src/Core/products/GeneralMatrixVector_BLAS.h\n",
            "-- Installing: /usr/local/include/eigen3/Eigen/src/Core/products/SelfadjointMatrixMatrix_BLAS.h\n",
            "-- Installing: /usr/local/include/eigen3/Eigen/src/Core/products/GeneralMatrixVector.h\n",
            "-- Installing: /usr/local/include/eigen3/Eigen/src/Core/products/SelfadjointMatrixMatrix.h\n",
            "-- Installing: /usr/local/include/eigen3/Eigen/src/Core/products/SelfadjointProduct.h\n",
            "-- Installing: /usr/local/include/eigen3/Eigen/src/Core/products/Parallelizer.h\n",
            "-- Installing: /usr/local/include/eigen3/Eigen/src/Core/products/GeneralBlockPanelKernel.h\n",
            "-- Installing: /usr/local/include/eigen3/Eigen/src/Core/products/TriangularSolverMatrix_BLAS.h\n",
            "-- Installing: /usr/local/include/eigen3/Eigen/src/Core/products/TriangularMatrixMatrix_BLAS.h\n",
            "-- Installing: /usr/local/include/eigen3/Eigen/src/Core/products/GeneralMatrixMatrixTriangular.h\n",
            "-- Installing: /usr/local/include/eigen3/Eigen/src/Core/Fuzzy.h\n",
            "-- Installing: /usr/local/include/eigen3/Eigen/src/Core/EigenBase.h\n",
            "-- Installing: /usr/local/include/eigen3/Eigen/src/Core/Replicate.h\n",
            "-- Installing: /usr/local/include/eigen3/Eigen/src/Core/CwiseUnaryView.h\n",
            "-- Installing: /usr/local/include/eigen3/Eigen/src/Core/Assign.h\n",
            "-- Installing: /usr/local/include/eigen3/Eigen/StdVector\n",
            "-- Installing: /usr/local/include/eigen3/Eigen/SPQRSupport\n",
            "-- Installing: /usr/local/include/eigen3/Eigen/Eigenvalues\n",
            "-- Installing: /usr/local/include/eigen3/Eigen/QtAlignedMalloc\n",
            "-- Installing: /usr/local/include/eigen3/Eigen/IterativeLinearSolvers\n",
            "-- Installing: /usr/local/include/eigen3/Eigen/SparseLU\n",
            "-- Installing: /usr/local/include/eigen3/Eigen/LU\n",
            "-- Installing: /usr/local/include/eigen3/Eigen/QR\n",
            "-- Installing: /usr/local/include/eigen3/Eigen/SparseCore\n",
            "-- Installing: /usr/local/include/eigen3/Eigen/Cholesky\n",
            "-- Installing: /usr/local/include/eigen3/Eigen/KLUSupport\n",
            "-- Installing: /usr/local/include/eigen3/Eigen/Geometry\n",
            "-- Installing: /usr/local/include/eigen3/Eigen/PardisoSupport\n",
            "-- Installing: /usr/local/include/eigen3/Eigen/Householder\n",
            "-- Installing: /usr/local/include/eigen3/Eigen/OrderingMethods\n",
            "-- Installing: /usr/local/include/eigen3/Eigen/SparseCholesky\n",
            "-- Installing: /usr/local/include/eigen3/Eigen/AccelerateSupport\n",
            "-- Installing: /usr/local/include/eigen3/Eigen/PaStiXSupport\n",
            "-- Installing: /usr/local/include/eigen3/Eigen/Jacobi\n",
            "-- Installing: /usr/local/include/eigen3/Eigen/Core\n",
            "-- Installing: /usr/local/include/eigen3/Eigen/Dense\n",
            "-- Installing: /usr/local/share/eigen3/cmake/Eigen3Targets.cmake\n",
            "-- Installing: /usr/local/share/eigen3/cmake/Eigen3Config.cmake\n",
            "-- Installing: /usr/local/share/eigen3/cmake/Eigen3ConfigVersion.cmake\n",
            "-- Installing: /usr/local/include/eigen3/unsupported/Eigen/AdolcForward\n",
            "-- Installing: /usr/local/include/eigen3/unsupported/Eigen/AlignedVector3\n",
            "-- Installing: /usr/local/include/eigen3/unsupported/Eigen/ArpackSupport\n",
            "-- Installing: /usr/local/include/eigen3/unsupported/Eigen/AutoDiff\n",
            "-- Installing: /usr/local/include/eigen3/unsupported/Eigen/BVH\n",
            "-- Installing: /usr/local/include/eigen3/unsupported/Eigen/EulerAngles\n",
            "-- Installing: /usr/local/include/eigen3/unsupported/Eigen/FFT\n",
            "-- Installing: /usr/local/include/eigen3/unsupported/Eigen/IterativeSolvers\n",
            "-- Installing: /usr/local/include/eigen3/unsupported/Eigen/KroneckerProduct\n",
            "-- Installing: /usr/local/include/eigen3/unsupported/Eigen/LevenbergMarquardt\n",
            "-- Installing: /usr/local/include/eigen3/unsupported/Eigen/MatrixFunctions\n",
            "-- Installing: /usr/local/include/eigen3/unsupported/Eigen/MPRealSupport\n",
            "-- Installing: /usr/local/include/eigen3/unsupported/Eigen/NNLS\n",
            "-- Installing: /usr/local/include/eigen3/unsupported/Eigen/NonLinearOptimization\n",
            "-- Installing: /usr/local/include/eigen3/unsupported/Eigen/NumericalDiff\n",
            "-- Installing: /usr/local/include/eigen3/unsupported/Eigen/OpenGLSupport\n",
            "-- Installing: /usr/local/include/eigen3/unsupported/Eigen/Polynomials\n",
            "-- Installing: /usr/local/include/eigen3/unsupported/Eigen/SparseExtra\n",
            "-- Installing: /usr/local/include/eigen3/unsupported/Eigen/SpecialFunctions\n",
            "-- Installing: /usr/local/include/eigen3/unsupported/Eigen/Splines\n",
            "-- Installing: /usr/local/include/eigen3/unsupported/Eigen/src\n",
            "-- Installing: /usr/local/include/eigen3/unsupported/Eigen/src/MatrixFunctions\n",
            "-- Installing: /usr/local/include/eigen3/unsupported/Eigen/src/MatrixFunctions/MatrixPower.h\n",
            "-- Installing: /usr/local/include/eigen3/unsupported/Eigen/src/MatrixFunctions/InternalHeaderCheck.h\n",
            "-- Installing: /usr/local/include/eigen3/unsupported/Eigen/src/MatrixFunctions/StemFunction.h\n",
            "-- Installing: /usr/local/include/eigen3/unsupported/Eigen/src/MatrixFunctions/MatrixSquareRoot.h\n",
            "-- Installing: /usr/local/include/eigen3/unsupported/Eigen/src/MatrixFunctions/MatrixFunction.h\n",
            "-- Installing: /usr/local/include/eigen3/unsupported/Eigen/src/MatrixFunctions/MatrixLogarithm.h\n",
            "-- Installing: /usr/local/include/eigen3/unsupported/Eigen/src/MatrixFunctions/MatrixExponential.h\n",
            "-- Installing: /usr/local/include/eigen3/unsupported/Eigen/src/EulerAngles\n",
            "-- Installing: /usr/local/include/eigen3/unsupported/Eigen/src/EulerAngles/InternalHeaderCheck.h\n",
            "-- Installing: /usr/local/include/eigen3/unsupported/Eigen/src/EulerAngles/EulerAngles.h\n",
            "-- Installing: /usr/local/include/eigen3/unsupported/Eigen/src/EulerAngles/EulerSystem.h\n",
            "-- Installing: /usr/local/include/eigen3/unsupported/Eigen/src/SparseExtra\n",
            "-- Installing: /usr/local/include/eigen3/unsupported/Eigen/src/SparseExtra/RandomSetter.h\n",
            "-- Installing: /usr/local/include/eigen3/unsupported/Eigen/src/SparseExtra/InternalHeaderCheck.h\n",
            "-- Installing: /usr/local/include/eigen3/unsupported/Eigen/src/SparseExtra/MarketIO.h\n",
            "-- Installing: /usr/local/include/eigen3/unsupported/Eigen/src/SparseExtra/SparseInverse.h\n",
            "-- Installing: /usr/local/include/eigen3/unsupported/Eigen/src/SparseExtra/MatrixMarketIterator.h\n",
            "-- Installing: /usr/local/include/eigen3/unsupported/Eigen/src/SparseExtra/BlockSparseMatrix.h\n",
            "-- Installing: /usr/local/include/eigen3/unsupported/Eigen/src/NumericalDiff\n",
            "-- Installing: /usr/local/include/eigen3/unsupported/Eigen/src/NumericalDiff/InternalHeaderCheck.h\n",
            "-- Installing: /usr/local/include/eigen3/unsupported/Eigen/src/NumericalDiff/NumericalDiff.h\n",
            "-- Installing: /usr/local/include/eigen3/unsupported/Eigen/src/AutoDiff\n",
            "-- Installing: /usr/local/include/eigen3/unsupported/Eigen/src/AutoDiff/CoherentPadOp.h\n",
            "-- Installing: /usr/local/include/eigen3/unsupported/Eigen/src/AutoDiff/AutoDiffVector.h\n",
            "-- Installing: /usr/local/include/eigen3/unsupported/Eigen/src/AutoDiff/InternalHeaderCheck.h\n",
            "-- Installing: /usr/local/include/eigen3/unsupported/Eigen/src/AutoDiff/AutoDiffScalar.h\n",
            "-- Installing: /usr/local/include/eigen3/unsupported/Eigen/src/AutoDiff/AutoDiffJacobian.h\n",
            "-- Installing: /usr/local/include/eigen3/unsupported/Eigen/src/Splines\n",
            "-- Installing: /usr/local/include/eigen3/unsupported/Eigen/src/Splines/InternalHeaderCheck.h\n",
            "-- Installing: /usr/local/include/eigen3/unsupported/Eigen/src/Splines/SplineFitting.h\n",
            "-- Installing: /usr/local/include/eigen3/unsupported/Eigen/src/Splines/SplineFwd.h\n",
            "-- Installing: /usr/local/include/eigen3/unsupported/Eigen/src/Splines/Spline.h\n",
            "-- Installing: /usr/local/include/eigen3/unsupported/Eigen/src/NonLinearOptimization\n",
            "-- Installing: /usr/local/include/eigen3/unsupported/Eigen/src/NonLinearOptimization/r1mpyq.h\n",
            "-- Installing: /usr/local/include/eigen3/unsupported/Eigen/src/NonLinearOptimization/fdjac1.h\n",
            "-- Installing: /usr/local/include/eigen3/unsupported/Eigen/src/NonLinearOptimization/InternalHeaderCheck.h\n",
            "-- Installing: /usr/local/include/eigen3/unsupported/Eigen/src/NonLinearOptimization/LevenbergMarquardt.h\n",
            "-- Installing: /usr/local/include/eigen3/unsupported/Eigen/src/NonLinearOptimization/lmpar.h\n",
            "-- Installing: /usr/local/include/eigen3/unsupported/Eigen/src/NonLinearOptimization/HybridNonLinearSolver.h\n",
            "-- Installing: /usr/local/include/eigen3/unsupported/Eigen/src/NonLinearOptimization/chkder.h\n",
            "-- Installing: /usr/local/include/eigen3/unsupported/Eigen/src/NonLinearOptimization/dogleg.h\n",
            "-- Installing: /usr/local/include/eigen3/unsupported/Eigen/src/NonLinearOptimization/rwupdt.h\n",
            "-- Installing: /usr/local/include/eigen3/unsupported/Eigen/src/NonLinearOptimization/qrsolv.h\n",
            "-- Installing: /usr/local/include/eigen3/unsupported/Eigen/src/NonLinearOptimization/r1updt.h\n",
            "-- Installing: /usr/local/include/eigen3/unsupported/Eigen/src/NonLinearOptimization/covar.h\n",
            "-- Installing: /usr/local/include/eigen3/unsupported/Eigen/src/SpecialFunctions\n",
            "-- Installing: /usr/local/include/eigen3/unsupported/Eigen/src/SpecialFunctions/BesselFunctionsHalf.h\n",
            "-- Installing: /usr/local/include/eigen3/unsupported/Eigen/src/SpecialFunctions/SpecialFunctionsBFloat16.h\n",
            "-- Installing: /usr/local/include/eigen3/unsupported/Eigen/src/SpecialFunctions/arch\n",
            "-- Installing: /usr/local/include/eigen3/unsupported/Eigen/src/SpecialFunctions/arch/AVX512\n",
            "-- Installing: /usr/local/include/eigen3/unsupported/Eigen/src/SpecialFunctions/arch/AVX512/SpecialFunctions.h\n",
            "-- Installing: /usr/local/include/eigen3/unsupported/Eigen/src/SpecialFunctions/arch/AVX512/BesselFunctions.h\n",
            "-- Installing: /usr/local/include/eigen3/unsupported/Eigen/src/SpecialFunctions/arch/GPU\n",
            "-- Installing: /usr/local/include/eigen3/unsupported/Eigen/src/SpecialFunctions/arch/GPU/SpecialFunctions.h\n",
            "-- Installing: /usr/local/include/eigen3/unsupported/Eigen/src/SpecialFunctions/arch/AVX\n",
            "-- Installing: /usr/local/include/eigen3/unsupported/Eigen/src/SpecialFunctions/arch/AVX/SpecialFunctions.h\n",
            "-- Installing: /usr/local/include/eigen3/unsupported/Eigen/src/SpecialFunctions/arch/AVX/BesselFunctions.h\n",
            "-- Installing: /usr/local/include/eigen3/unsupported/Eigen/src/SpecialFunctions/arch/NEON\n",
            "-- Installing: /usr/local/include/eigen3/unsupported/Eigen/src/SpecialFunctions/arch/NEON/SpecialFunctions.h\n",
            "-- Installing: /usr/local/include/eigen3/unsupported/Eigen/src/SpecialFunctions/arch/NEON/BesselFunctions.h\n",
            "-- Installing: /usr/local/include/eigen3/unsupported/Eigen/src/SpecialFunctions/BesselFunctionsPacketMath.h\n",
            "-- Installing: /usr/local/include/eigen3/unsupported/Eigen/src/SpecialFunctions/SpecialFunctionsImpl.h\n",
            "-- Installing: /usr/local/include/eigen3/unsupported/Eigen/src/SpecialFunctions/HipVectorCompatibility.h\n",
            "-- Installing: /usr/local/include/eigen3/unsupported/Eigen/src/SpecialFunctions/InternalHeaderCheck.h\n",
            "-- Installing: /usr/local/include/eigen3/unsupported/Eigen/src/SpecialFunctions/BesselFunctionsFunctors.h\n",
            "-- Installing: /usr/local/include/eigen3/unsupported/Eigen/src/SpecialFunctions/SpecialFunctionsHalf.h\n",
            "-- Installing: /usr/local/include/eigen3/unsupported/Eigen/src/SpecialFunctions/SpecialFunctionsFunctors.h\n",
            "-- Installing: /usr/local/include/eigen3/unsupported/Eigen/src/SpecialFunctions/SpecialFunctionsArrayAPI.h\n",
            "-- Installing: /usr/local/include/eigen3/unsupported/Eigen/src/SpecialFunctions/SpecialFunctionsPacketMath.h\n",
            "-- Installing: /usr/local/include/eigen3/unsupported/Eigen/src/SpecialFunctions/BesselFunctionsImpl.h\n",
            "-- Installing: /usr/local/include/eigen3/unsupported/Eigen/src/SpecialFunctions/BesselFunctionsBFloat16.h\n",
            "-- Installing: /usr/local/include/eigen3/unsupported/Eigen/src/SpecialFunctions/BesselFunctionsArrayAPI.h\n",
            "-- Installing: /usr/local/include/eigen3/unsupported/Eigen/src/Eigenvalues\n",
            "-- Installing: /usr/local/include/eigen3/unsupported/Eigen/src/Eigenvalues/InternalHeaderCheck.h\n",
            "-- Installing: /usr/local/include/eigen3/unsupported/Eigen/src/Eigenvalues/ArpackSelfAdjointEigenSolver.h\n",
            "-- Installing: /usr/local/include/eigen3/unsupported/Eigen/src/LevenbergMarquardt\n",
            "-- Installing: /usr/local/include/eigen3/unsupported/Eigen/src/LevenbergMarquardt/LMonestep.h\n",
            "-- Installing: /usr/local/include/eigen3/unsupported/Eigen/src/LevenbergMarquardt/LMcovar.h\n",
            "-- Installing: /usr/local/include/eigen3/unsupported/Eigen/src/LevenbergMarquardt/LMpar.h\n",
            "-- Installing: /usr/local/include/eigen3/unsupported/Eigen/src/LevenbergMarquardt/InternalHeaderCheck.h\n",
            "-- Installing: /usr/local/include/eigen3/unsupported/Eigen/src/LevenbergMarquardt/LevenbergMarquardt.h\n",
            "-- Installing: /usr/local/include/eigen3/unsupported/Eigen/src/LevenbergMarquardt/LMqrsolv.h\n",
            "-- Installing: /usr/local/include/eigen3/unsupported/Eigen/src/KroneckerProduct\n",
            "-- Installing: /usr/local/include/eigen3/unsupported/Eigen/src/KroneckerProduct/KroneckerTensorProduct.h\n",
            "-- Installing: /usr/local/include/eigen3/unsupported/Eigen/src/KroneckerProduct/InternalHeaderCheck.h\n",
            "-- Installing: /usr/local/include/eigen3/unsupported/Eigen/src/Polynomials\n",
            "-- Installing: /usr/local/include/eigen3/unsupported/Eigen/src/Polynomials/PolynomialSolver.h\n",
            "-- Installing: /usr/local/include/eigen3/unsupported/Eigen/src/Polynomials/Companion.h\n",
            "-- Installing: /usr/local/include/eigen3/unsupported/Eigen/src/Polynomials/InternalHeaderCheck.h\n",
            "-- Installing: /usr/local/include/eigen3/unsupported/Eigen/src/Polynomials/PolynomialUtils.h\n",
            "-- Installing: /usr/local/include/eigen3/unsupported/Eigen/src/FFT\n",
            "-- Installing: /usr/local/include/eigen3/unsupported/Eigen/src/FFT/ei_kissfft_impl.h\n",
            "-- Installing: /usr/local/include/eigen3/unsupported/Eigen/src/FFT/ei_pocketfft_impl.h\n",
            "-- Installing: /usr/local/include/eigen3/unsupported/Eigen/src/FFT/InternalHeaderCheck.h\n",
            "-- Installing: /usr/local/include/eigen3/unsupported/Eigen/src/FFT/ei_imklfft_impl.h\n",
            "-- Installing: /usr/local/include/eigen3/unsupported/Eigen/src/FFT/ei_fftw_impl.h\n",
            "-- Installing: /usr/local/include/eigen3/unsupported/Eigen/src/BVH\n",
            "-- Installing: /usr/local/include/eigen3/unsupported/Eigen/src/BVH/KdBVH.h\n",
            "-- Installing: /usr/local/include/eigen3/unsupported/Eigen/src/BVH/InternalHeaderCheck.h\n",
            "-- Installing: /usr/local/include/eigen3/unsupported/Eigen/src/BVH/BVAlgorithms.h\n",
            "-- Installing: /usr/local/include/eigen3/unsupported/Eigen/src/IterativeSolvers\n",
            "-- Installing: /usr/local/include/eigen3/unsupported/Eigen/src/IterativeSolvers/DGMRES.h\n",
            "-- Installing: /usr/local/include/eigen3/unsupported/Eigen/src/IterativeSolvers/Scaling.h\n",
            "-- Installing: /usr/local/include/eigen3/unsupported/Eigen/src/IterativeSolvers/IncompleteLU.h\n",
            "-- Installing: /usr/local/include/eigen3/unsupported/Eigen/src/IterativeSolvers/GMRES.h\n",
            "-- Installing: /usr/local/include/eigen3/unsupported/Eigen/src/IterativeSolvers/IDRS.h\n",
            "-- Installing: /usr/local/include/eigen3/unsupported/Eigen/src/IterativeSolvers/BiCGSTABL.h\n",
            "-- Installing: /usr/local/include/eigen3/unsupported/Eigen/src/IterativeSolvers/InternalHeaderCheck.h\n",
            "-- Installing: /usr/local/include/eigen3/unsupported/Eigen/src/IterativeSolvers/MINRES.h\n",
            "-- Installing: /usr/local/include/eigen3/unsupported/Eigen/src/IterativeSolvers/IDRSTABL.h\n",
            "-- Installing: /usr/local/include/eigen3/unsupported/Eigen/CXX11/Tensor\n",
            "-- Installing: /usr/local/include/eigen3/unsupported/Eigen/CXX11/TensorSymmetry\n",
            "-- Installing: /usr/local/include/eigen3/unsupported/Eigen/CXX11/ThreadPool\n",
            "-- Installing: /usr/local/include/eigen3/unsupported/Eigen/CXX11/src\n",
            "-- Installing: /usr/local/include/eigen3/unsupported/Eigen/CXX11/src/TensorSymmetry\n",
            "-- Installing: /usr/local/include/eigen3/unsupported/Eigen/CXX11/src/TensorSymmetry/InternalHeaderCheck.h\n",
            "-- Installing: /usr/local/include/eigen3/unsupported/Eigen/CXX11/src/TensorSymmetry/Symmetry.h\n",
            "-- Installing: /usr/local/include/eigen3/unsupported/Eigen/CXX11/src/TensorSymmetry/StaticSymmetry.h\n",
            "-- Installing: /usr/local/include/eigen3/unsupported/Eigen/CXX11/src/TensorSymmetry/DynamicSymmetry.h\n",
            "-- Installing: /usr/local/include/eigen3/unsupported/Eigen/CXX11/src/TensorSymmetry/util\n",
            "-- Installing: /usr/local/include/eigen3/unsupported/Eigen/CXX11/src/TensorSymmetry/util/TemplateGroupTheory.h\n",
            "-- Installing: /usr/local/include/eigen3/unsupported/Eigen/CXX11/src/Tensor\n",
            "-- Installing: /usr/local/include/eigen3/unsupported/Eigen/CXX11/src/Tensor/TensorContractionGpu.h\n",
            "-- Installing: /usr/local/include/eigen3/unsupported/Eigen/CXX11/src/Tensor/TensorDeviceCuda.h\n",
            "-- Installing: /usr/local/include/eigen3/unsupported/Eigen/CXX11/src/Tensor/TensorIntDiv.h\n",
            "-- Installing: /usr/local/include/eigen3/unsupported/Eigen/CXX11/src/Tensor/TensorGpuHipCudaUndefines.h\n",
            "-- Installing: /usr/local/include/eigen3/unsupported/Eigen/CXX11/src/Tensor/TensorIndexList.h\n",
            "-- Installing: /usr/local/include/eigen3/unsupported/Eigen/CXX11/src/Tensor/TensorMap.h\n",
            "-- Installing: /usr/local/include/eigen3/unsupported/Eigen/CXX11/src/Tensor/TensorConcatenation.h\n",
            "-- Installing: /usr/local/include/eigen3/unsupported/Eigen/CXX11/src/Tensor/TensorBase.h\n",
            "-- Installing: /usr/local/include/eigen3/unsupported/Eigen/CXX11/src/Tensor/TensorLayoutSwap.h\n",
            "-- Installing: /usr/local/include/eigen3/unsupported/Eigen/CXX11/src/Tensor/TensorGpuHipCudaDefines.h\n",
            "-- Installing: /usr/local/include/eigen3/unsupported/Eigen/CXX11/src/Tensor/TensorReduction.h\n",
            "-- Installing: /usr/local/include/eigen3/unsupported/Eigen/CXX11/src/Tensor/TensorDimensions.h\n",
            "-- Installing: /usr/local/include/eigen3/unsupported/Eigen/CXX11/src/Tensor/TensorExecutor.h\n",
            "-- Installing: /usr/local/include/eigen3/unsupported/Eigen/CXX11/src/Tensor/TensorImagePatch.h\n",
            "-- Installing: /usr/local/include/eigen3/unsupported/Eigen/CXX11/src/Tensor/TensorMorphing.h\n",
            "-- Installing: /usr/local/include/eigen3/unsupported/Eigen/CXX11/src/Tensor/TensorBlock.h\n",
            "-- Installing: /usr/local/include/eigen3/unsupported/Eigen/CXX11/src/Tensor/TensorEvalTo.h\n",
            "-- Installing: /usr/local/include/eigen3/unsupported/Eigen/CXX11/src/Tensor/TensorInflation.h\n",
            "-- Installing: /usr/local/include/eigen3/unsupported/Eigen/CXX11/src/Tensor/TensorCustomOp.h\n",
            "-- Installing: /usr/local/include/eigen3/unsupported/Eigen/CXX11/src/Tensor/TensorReductionSycl.h\n",
            "-- Installing: /usr/local/include/eigen3/unsupported/Eigen/CXX11/src/Tensor/TensorStorage.h\n",
            "-- Installing: /usr/local/include/eigen3/unsupported/Eigen/CXX11/src/Tensor/InternalHeaderCheck.h\n",
            "-- Installing: /usr/local/include/eigen3/unsupported/Eigen/CXX11/src/Tensor/Tensor.h\n",
            "-- Installing: /usr/local/include/eigen3/unsupported/Eigen/CXX11/src/Tensor/TensorConvolutionSycl.h\n",
            "-- Installing: /usr/local/include/eigen3/unsupported/Eigen/CXX11/src/Tensor/TensorCostModel.h\n",
            "-- Installing: /usr/local/include/eigen3/unsupported/Eigen/CXX11/src/Tensor/TensorGenerator.h\n",
            "-- Installing: /usr/local/include/eigen3/unsupported/Eigen/CXX11/src/Tensor/TensorGlobalFunctions.h\n",
            "-- Installing: /usr/local/include/eigen3/unsupported/Eigen/CXX11/src/Tensor/TensorConversion.h\n",
            "-- Installing: /usr/local/include/eigen3/unsupported/Eigen/CXX11/src/Tensor/TensorContractionCuda.h\n",
            "-- Installing: /usr/local/include/eigen3/unsupported/Eigen/CXX11/src/Tensor/TensorEvaluator.h\n",
            "-- Installing: /usr/local/include/eigen3/unsupported/Eigen/CXX11/src/Tensor/TensorVolumePatch.h\n",
            "-- Installing: /usr/local/include/eigen3/unsupported/Eigen/CXX11/src/Tensor/TensorConvolution.h\n",
            "-- Installing: /usr/local/include/eigen3/unsupported/Eigen/CXX11/src/Tensor/TensorTraits.h\n",
            "-- Installing: /usr/local/include/eigen3/unsupported/Eigen/CXX11/src/Tensor/TensorDeviceGpu.h\n",
            "-- Installing: /usr/local/include/eigen3/unsupported/Eigen/CXX11/src/Tensor/TensorReverse.h\n",
            "-- Installing: /usr/local/include/eigen3/unsupported/Eigen/CXX11/src/Tensor/TensorInitializer.h\n",
            "-- Installing: /usr/local/include/eigen3/unsupported/Eigen/CXX11/src/Tensor/TensorUInt128.h\n",
            "-- Installing: /usr/local/include/eigen3/unsupported/Eigen/CXX11/src/Tensor/TensorReductionGpu.h\n",
            "-- Installing: /usr/local/include/eigen3/unsupported/Eigen/CXX11/src/Tensor/TensorIO.h\n",
            "-- Installing: /usr/local/include/eigen3/unsupported/Eigen/CXX11/src/Tensor/TensorRef.h\n",
            "-- Installing: /usr/local/include/eigen3/unsupported/Eigen/CXX11/src/Tensor/TensorScanSycl.h\n",
            "-- Installing: /usr/local/include/eigen3/unsupported/Eigen/CXX11/src/Tensor/TensorFixedSize.h\n",
            "-- Installing: /usr/local/include/eigen3/unsupported/Eigen/CXX11/src/Tensor/TensorArgMax.h\n",
            "-- Installing: /usr/local/include/eigen3/unsupported/Eigen/CXX11/src/Tensor/TensorForwardDeclarations.h\n",
            "-- Installing: /usr/local/include/eigen3/unsupported/Eigen/CXX11/src/Tensor/TensorChipping.h\n",
            "-- Installing: /usr/local/include/eigen3/unsupported/Eigen/CXX11/src/Tensor/TensorExpr.h\n",
            "-- Installing: /usr/local/include/eigen3/unsupported/Eigen/CXX11/src/Tensor/TensorMeta.h\n",
            "-- Installing: /usr/local/include/eigen3/unsupported/Eigen/CXX11/src/Tensor/TensorDeviceSycl.h\n",
            "-- Installing: /usr/local/include/eigen3/unsupported/Eigen/CXX11/src/Tensor/TensorPadding.h\n",
            "-- Installing: /usr/local/include/eigen3/unsupported/Eigen/CXX11/src/Tensor/TensorFFT.h\n",
            "-- Installing: /usr/local/include/eigen3/unsupported/Eigen/CXX11/src/Tensor/TensorContractionSycl.h\n",
            "-- Installing: /usr/local/include/eigen3/unsupported/Eigen/CXX11/src/Tensor/TensorDimensionList.h\n",
            "-- Installing: /usr/local/include/eigen3/unsupported/Eigen/CXX11/src/Tensor/TensorShuffling.h\n",
            "-- Installing: /usr/local/include/eigen3/unsupported/Eigen/CXX11/src/Tensor/TensorDeviceDefault.h\n",
            "-- Installing: /usr/local/include/eigen3/unsupported/Eigen/CXX11/src/Tensor/TensorContraction.h\n",
            "-- Installing: /usr/local/include/eigen3/unsupported/Eigen/CXX11/src/Tensor/TensorAssign.h\n",
            "-- Installing: /usr/local/include/eigen3/unsupported/Eigen/CXX11/src/Tensor/TensorRandom.h\n",
            "-- Installing: /usr/local/include/eigen3/unsupported/Eigen/CXX11/src/Tensor/TensorMacros.h\n",
            "-- Installing: /usr/local/include/eigen3/unsupported/Eigen/CXX11/src/Tensor/TensorPatch.h\n",
            "-- Installing: /usr/local/include/eigen3/unsupported/Eigen/CXX11/src/Tensor/TensorContractionThreadPool.h\n",
            "-- Installing: /usr/local/include/eigen3/unsupported/Eigen/CXX11/src/Tensor/TensorContractionBlocking.h\n",
            "-- Installing: /usr/local/include/eigen3/unsupported/Eigen/CXX11/src/Tensor/TensorForcedEval.h\n",
            "-- Installing: /usr/local/include/eigen3/unsupported/Eigen/CXX11/src/Tensor/TensorContractionMapper.h\n",
            "-- Installing: /usr/local/include/eigen3/unsupported/Eigen/CXX11/src/Tensor/TensorFunctors.h\n",
            "-- Installing: /usr/local/include/eigen3/unsupported/Eigen/CXX11/src/Tensor/TensorScan.h\n",
            "-- Installing: /usr/local/include/eigen3/unsupported/Eigen/CXX11/src/Tensor/TensorBroadcasting.h\n",
            "-- Installing: /usr/local/include/eigen3/unsupported/Eigen/CXX11/src/Tensor/TensorStriding.h\n",
            "-- Installing: /usr/local/include/eigen3/unsupported/Eigen/CXX11/src/Tensor/TensorDeviceThreadPool.h\n",
            "-- Installing: /usr/local/include/eigen3/unsupported/Eigen/CXX11/src/Tensor/TensorDevice.h\n",
            "-- Installing: /usr/local/include/eigen3/unsupported/Eigen/CXX11/src/Tensor/TensorTrace.h\n",
            "-- Installing: /usr/local/include/eigen3/unsupported/Eigen/CXX11/src/util\n",
            "-- Installing: /usr/local/include/eigen3/unsupported/Eigen/CXX11/src/util/CXX11Meta.h\n",
            "-- Installing: /usr/local/include/eigen3/unsupported/Eigen/CXX11/src/util/CXX11Workarounds.h\n",
            "-- Installing: /usr/local/lib/libeigen_blas_static.a\n",
            "-- Installing: /usr/local/lib/libeigen_blas.so\n",
            "-- Installing: /usr/local/lib/libeigen_lapack_static.a\n",
            "-- Installing: /usr/local/lib/libeigen_lapack.so\n",
            "-- Set non-toolchain portion of runtime path of \"/usr/local/lib/libeigen_lapack.so\" to \"\"\n"
          ]
        }
      ],
      "source": [
        "!sudo make install"
      ]
    },
    {
      "cell_type": "markdown",
      "source": [
        "## **How to use eigen from distance of its main folder**"
      ],
      "metadata": {
        "id": "tyL3xWNwLPfm"
      }
    },
    {
      "cell_type": "markdown",
      "source": [
        "**For instance:**\\\n",
        "`%cd /usr/include/opencv4/`\\\n",
        "`g++ main.cpp -o out -I/usr/include/opencv4`\\\n",
        "\\\n",
        "We have the include term `Eigen/dense`;\\\n",
        "Mentioning the distance (from user) up until the installed Eigen folder:\\\n",
        "`g++ main.cpp -o out /content/eigen/`"
      ],
      "metadata": {
        "id": "NQa6zTyDMMj0"
      }
    },
    {
      "cell_type": "code",
      "source": [
        "!pwd"
      ],
      "metadata": {
        "colab": {
          "base_uri": "https://localhost:8080/"
        },
        "id": "We4tqTxyNnDK",
        "outputId": "b0821265-c313-4a18-a6d1-f540e00b11a9"
      },
      "execution_count": null,
      "outputs": [
        {
          "output_type": "stream",
          "name": "stdout",
          "text": [
            "/content/eigen/build\n"
          ]
        }
      ]
    },
    {
      "cell_type": "code",
      "source": [
        "%cd /content/"
      ],
      "metadata": {
        "colab": {
          "base_uri": "https://localhost:8080/"
        },
        "id": "RfztFDYFNqYZ",
        "outputId": "ff2378dc-dd58-468b-fb91-431743bab41c"
      },
      "execution_count": null,
      "outputs": [
        {
          "output_type": "stream",
          "name": "stdout",
          "text": [
            "/content\n"
          ]
        }
      ]
    },
    {
      "cell_type": "code",
      "source": [
        "%%writefile main.cpp\n",
        "\n",
        "#include <iostream>\n",
        "#include \"Eigen/Dense\"\n",
        "\n",
        "using namespace std;\n",
        "\n",
        "int main()\n",
        "{\n",
        "  Eigen::Matrix3f nums;\n",
        "  nums << 1,2,3,4,5,6,7,8,9;\n",
        "  cout << nums << '\\n';\n",
        "  cout << \"****\" << '\\n';\n",
        "\n",
        " return 0;\n",
        "};"
      ],
      "metadata": {
        "colab": {
          "base_uri": "https://localhost:8080/"
        },
        "id": "FCl2OWMILflo",
        "outputId": "4ceef42f-71b9-4b26-ad14-74a8417e8a9a",
        "collapsed": true
      },
      "execution_count": null,
      "outputs": [
        {
          "output_type": "stream",
          "name": "stdout",
          "text": [
            "Overwriting main.cpp\n"
          ]
        }
      ]
    },
    {
      "cell_type": "markdown",
      "source": [
        "https://stackoverflow.com/questions/8621507/including-header-files-from-different-directories"
      ],
      "metadata": {
        "id": "GMmrxg9yAe5b"
      }
    },
    {
      "cell_type": "code",
      "source": [
        "%%script bash\n",
        "# /usr/include/opencv4/\n",
        "# g++ main.cpp -o out -I/usr/include/opencv4\n",
        "# g++ main.cpp -o main -I /content/eigen -std=c++14 -o out\n",
        "g++ main.cpp -std=c++14 -o outt  -I /content/eigen"
      ],
      "metadata": {
        "id": "XOlo1y8pLm8B"
      },
      "execution_count": null,
      "outputs": []
    },
    {
      "cell_type": "code",
      "source": [
        "# !./out"
      ],
      "metadata": {
        "id": "1UVKj_a3LtcI",
        "colab": {
          "base_uri": "https://localhost:8080/"
        },
        "outputId": "efca60d4-8ddf-439c-c374-18cce6f19a35"
      },
      "execution_count": null,
      "outputs": [
        {
          "output_type": "stream",
          "name": "stdout",
          "text": [
            "1 2 3\n",
            "4 5 6\n",
            "7 8 9\n",
            "****\n"
          ]
        }
      ]
    },
    {
      "cell_type": "code",
      "source": [
        "!./outt"
      ],
      "metadata": {
        "colab": {
          "base_uri": "https://localhost:8080/"
        },
        "id": "RkcPgp2GBgq3",
        "outputId": "c2fc552b-ef75-4a3a-8309-5cfe78f88d38"
      },
      "execution_count": null,
      "outputs": [
        {
          "output_type": "stream",
          "name": "stdout",
          "text": [
            "1 2 3\n",
            "4 5 6\n",
            "7 8 9\n",
            "****\n"
          ]
        }
      ]
    },
    {
      "cell_type": "markdown",
      "source": [
        "## **SVD applying Eigen**"
      ],
      "metadata": {
        "id": "Fn409myQKRmE"
      }
    },
    {
      "cell_type": "code",
      "source": [
        "!pwd"
      ],
      "metadata": {
        "colab": {
          "base_uri": "https://localhost:8080/"
        },
        "id": "orJ2D5o0NCvL",
        "outputId": "3d67b944-d506-4924-fe58-40c33822a658"
      },
      "execution_count": null,
      "outputs": [
        {
          "output_type": "stream",
          "name": "stdout",
          "text": [
            "/content/eigen/build\n"
          ]
        }
      ]
    },
    {
      "cell_type": "code",
      "source": [
        "%cd \"/content/eigen\""
      ],
      "metadata": {
        "id": "2KGROUTfNF6d",
        "outputId": "5fd4e09f-df6d-411e-e31f-e30fd0be89a3",
        "colab": {
          "base_uri": "https://localhost:8080/"
        }
      },
      "execution_count": null,
      "outputs": [
        {
          "output_type": "stream",
          "name": "stdout",
          "text": [
            "/content/eigen\n"
          ]
        }
      ]
    },
    {
      "cell_type": "code",
      "source": [
        "%%writefile main.cpp\n",
        "\n",
        "#include \"Eigen/SVD\"\n",
        "#include \"Eigen/Dense\"\n",
        "\n",
        "#include <iostream>\n",
        "\n",
        "using namespace Eigen;\n",
        "using namespace std;\n",
        "\n",
        "int main()\n",
        "{\n",
        "  Eigen::Matrix3f nums;\n",
        "  nums << 1,2,3,4,5,6,7,8,9;\n",
        "  cout << nums << '\\n';\n",
        "  cout << \"****\" << '\\n';\n",
        "\n",
        "\n",
        "  Eigen::Matrix2d W;\n",
        "  W << 4,0,3,-5;\n",
        "  cout << W << '\\n';\n",
        "  cout << \"****\" << '\\n';\n",
        "\n",
        "  // SVD on W\n",
        "  Eigen::JacobiSVD<Eigen::Matrix2d> svd(W, Eigen::ComputeFullU | Eigen::ComputeFullV);\n",
        "  Eigen::Matrix2d U = svd.matrixU();\n",
        "  Eigen::Matrix2d V = svd.matrixV();\n",
        "\n",
        "  cout << \"U=\" << U << endl;\n",
        "  cout << \"V=\" << V << endl;\n",
        "\n",
        " return 0;\n",
        "};\n"
      ],
      "metadata": {
        "colab": {
          "base_uri": "https://localhost:8080/"
        },
        "id": "uQLm79PXKaGk",
        "outputId": "86829935-f9e9-4986-c785-8078c65bf9b1"
      },
      "execution_count": null,
      "outputs": [
        {
          "output_type": "stream",
          "name": "stdout",
          "text": [
            "Overwriting main.cpp\n"
          ]
        }
      ]
    },
    {
      "cell_type": "code",
      "source": [
        "%%script bash\n",
        "\n",
        "g++ main.cpp -std=c++14 -o out"
      ],
      "metadata": {
        "id": "8GiQoSnYLqWt"
      },
      "execution_count": null,
      "outputs": []
    },
    {
      "cell_type": "code",
      "source": [
        "!./out"
      ],
      "metadata": {
        "colab": {
          "base_uri": "https://localhost:8080/"
        },
        "id": "5-IdxQIYLtwM",
        "outputId": "db1b301e-f471-424d-ffc2-a6f22bb2843b"
      },
      "execution_count": null,
      "outputs": [
        {
          "output_type": "stream",
          "name": "stdout",
          "text": [
            "1 2 3\n",
            "4 5 6\n",
            "7 8 9\n",
            "****\n",
            " 4  0\n",
            " 3 -5\n",
            "****\n",
            "U= 0.447214  0.894427\n",
            " 0.894427 -0.447214\n",
            "V= 0.707107  0.707107\n",
            "-0.707107  0.707107\n"
          ]
        }
      ]
    },
    {
      "cell_type": "markdown",
      "source": [
        "## **More Examples**"
      ],
      "metadata": {
        "id": "XIWjbTChTVHE"
      }
    },
    {
      "cell_type": "markdown",
      "metadata": {
        "id": "ecAgBQh5L3GI"
      },
      "source": [
        "https://github.com/zhongjingjogy/use-eigen-with-cmake/blob/master/main.cpp\\  "
      ]
    },
    {
      "cell_type": "code",
      "execution_count": null,
      "metadata": {
        "colab": {
          "base_uri": "https://localhost:8080/"
        },
        "id": "usaKmowaVDGF",
        "outputId": "e4e15b9e-77d3-465e-aa64-cf86d946a14b"
      },
      "outputs": [
        {
          "output_type": "stream",
          "name": "stdout",
          "text": [
            "/content/eigen\n"
          ]
        }
      ],
      "source": [
        "%cd .."
      ]
    },
    {
      "cell_type": "code",
      "execution_count": null,
      "metadata": {
        "colab": {
          "base_uri": "https://localhost:8080/"
        },
        "id": "KYlNeJi0VF93",
        "outputId": "866c2b98-1a36-4fb5-fd3a-7b73d86deea1"
      },
      "outputs": [
        {
          "output_type": "stream",
          "name": "stdout",
          "text": [
            "bench\t\tCOPYING.BSD\t      demos\t    README.md\n",
            "blas\t\tCOPYING.MINPACK       doc\t    scripts\n",
            "build\t\tCOPYING.MPL2\t      Eigen\t    signature_of_eigen3_matrix_library\n",
            "ci\t\tCOPYING.README\t      eigen3.pc.in  test\n",
            "cmake\t\tCTestConfig.cmake     failtest\t    unsupported\n",
            "CMakeLists.txt\tCTestCustom.cmake.in  INSTALL\n",
            "COPYING.APACHE\tdebug\t\t      lapack\n"
          ]
        }
      ],
      "source": [
        "!ls"
      ]
    },
    {
      "cell_type": "markdown",
      "metadata": {
        "id": "H3RKO01RIVFy"
      },
      "source": [
        "### **First Example**"
      ]
    },
    {
      "cell_type": "code",
      "execution_count": null,
      "metadata": {
        "colab": {
          "base_uri": "https://localhost:8080/"
        },
        "id": "3NumxhYP5ggX",
        "outputId": "41552a1f-1318-47fd-fb13-b326f85ea00b"
      },
      "outputs": [
        {
          "output_type": "stream",
          "name": "stdout",
          "text": [
            "Writing main.cpp\n"
          ]
        }
      ],
      "source": [
        "%%writefile main.cpp\n",
        "\n",
        "#include <iostream>\n",
        "#include \"Eigen/Dense\"\n",
        "\n",
        "using namespace std;\n",
        "\n",
        "\n",
        "int main()\n",
        "{\n",
        "  Eigen::Matrix3f nums;\n",
        "  nums << 1,2,3,4,5,6,7,8,9;\n",
        "  cout << nums << '\\n';\n",
        "  cout << \"****\" << '\\n';\n",
        "\n",
        " return 0;\n",
        "};"
      ]
    },
    {
      "cell_type": "code",
      "execution_count": null,
      "metadata": {
        "id": "mn9qC8L85uTy"
      },
      "outputs": [],
      "source": [
        "%%script bash\n",
        "\n",
        "g++ main.cpp -std=c++14 -o out"
      ]
    },
    {
      "cell_type": "code",
      "execution_count": null,
      "metadata": {
        "colab": {
          "base_uri": "https://localhost:8080/"
        },
        "id": "iiL8YnSx605w",
        "outputId": "ac502983-a2cd-4aa6-f800-d3047e2e833d"
      },
      "outputs": [
        {
          "output_type": "stream",
          "name": "stdout",
          "text": [
            "1 2 3\n",
            "4 5 6\n",
            "7 8 9\n",
            "****\n"
          ]
        }
      ],
      "source": [
        "!./out"
      ]
    },
    {
      "cell_type": "markdown",
      "metadata": {
        "id": "laAY4U61IbXs"
      },
      "source": [
        "### **First Video**\n",
        "\n",
        "Eigen Library Installation And Crash Course C++\\\n",
        "24 min"
      ]
    },
    {
      "cell_type": "markdown",
      "metadata": {
        "id": "_r32iUG9Th5G"
      },
      "source": [
        "**1**"
      ]
    },
    {
      "cell_type": "code",
      "execution_count": null,
      "metadata": {
        "colab": {
          "base_uri": "https://localhost:8080/"
        },
        "id": "t_OWx4IaLkym",
        "outputId": "5067720d-eb51-4bd6-fbbe-b89b1c6c6d5d"
      },
      "outputs": [
        {
          "output_type": "stream",
          "name": "stdout",
          "text": [
            "Overwriting main.cpp\n"
          ]
        }
      ],
      "source": [
        "%%writefile main.cpp\n",
        "\n",
        "#include <iostream>\n",
        "#include \"Eigen/Dense\"\n",
        "\n",
        "using namespace Eigen;\n",
        "using namespace std;\n",
        "\n",
        "int main()\n",
        "{\n",
        "  Eigen::MatrixXd d;\n",
        "  Eigen::Matrix3d f;\n",
        "  f = Matrix3d::Random();\n",
        "  cout << f << '\\n';\n",
        "\n",
        " return 0;\n",
        "};"
      ]
    },
    {
      "cell_type": "code",
      "execution_count": null,
      "metadata": {
        "id": "_7yEfSZ3K3AG"
      },
      "outputs": [],
      "source": [
        "%%script bash\n",
        "\n",
        "g++ main.cpp -std=c++14 -o out"
      ]
    },
    {
      "cell_type": "code",
      "execution_count": null,
      "metadata": {
        "colab": {
          "base_uri": "https://localhost:8080/"
        },
        "id": "Pim8rfLYK262",
        "outputId": "a416b613-575a-444f-f932-1faba7900d3c"
      },
      "outputs": [
        {
          "output_type": "stream",
          "name": "stdout",
          "text": [
            " 0.696235   0.33421  0.445064\n",
            " 0.205189 -0.469531 -0.632501\n",
            "-0.414795  0.927654 0.0241114\n"
          ]
        }
      ],
      "source": [
        "!./out"
      ]
    },
    {
      "cell_type": "markdown",
      "metadata": {
        "id": "a3SNfJsqTnBs"
      },
      "source": [
        "**2**"
      ]
    },
    {
      "cell_type": "code",
      "execution_count": null,
      "metadata": {
        "colab": {
          "base_uri": "https://localhost:8080/"
        },
        "id": "MiT44c2RTsZK",
        "outputId": "c4d424ad-0a0b-4091-8e54-ef2c4de8624b"
      },
      "outputs": [
        {
          "output_type": "stream",
          "name": "stdout",
          "text": [
            "Overwriting main.cpp\n"
          ]
        }
      ],
      "source": [
        "%%writefile main.cpp\n",
        "\n",
        "#include <iostream>\n",
        "#include \"Eigen/Dense\"\n",
        "\n",
        "using namespace Eigen;\n",
        "using namespace std;\n",
        "\n",
        "int main()\n",
        "{\n",
        "  Eigen::MatrixXd d;\n",
        "  Eigen::Matrix3d f;\n",
        "  d = MatrixXd::Random(7,7);\n",
        "  cout << d << '\\n';\n",
        "\n",
        " return 0;\n",
        "};"
      ]
    },
    {
      "cell_type": "code",
      "execution_count": null,
      "metadata": {
        "id": "l4JDJBGqT4Ub"
      },
      "outputs": [],
      "source": [
        "%%script bash\n",
        "\n",
        "g++ main.cpp -std=c++14 -o out"
      ]
    },
    {
      "cell_type": "code",
      "execution_count": null,
      "metadata": {
        "colab": {
          "base_uri": "https://localhost:8080/"
        },
        "id": "8ZE5nhpYT6mg",
        "outputId": "11af87c7-661e-44ce-b9e7-fc24b3e1f6d2"
      },
      "outputs": [
        {
          "output_type": "stream",
          "name": "stdout",
          "text": [
            "   0.696235   -0.632501 -0.00985718    0.852317  0.00720412   -0.553856   -0.469558\n",
            "   0.205189   0.0241114   -0.498144    0.834695    0.220277   -0.601805    0.626704\n",
            "  -0.414795   0.0722581   -0.727247   -0.833781    0.858701   -0.489601   -0.700028\n",
            "    0.33421    0.432106    0.740165    -0.77815   -0.316277   -0.481724    0.534993\n",
            "  -0.469531   -0.046008   -0.756752   -0.757623    0.429178   0.0916964   -0.430885\n",
            "   0.927654    0.134119    0.740565   -0.711254  -0.0105883    0.915093   -0.709873\n",
            "   0.445064   -0.159573   -0.216464   -0.467268    0.498262   -0.605917   -0.357397\n"
          ]
        }
      ],
      "source": [
        "!./out"
      ]
    },
    {
      "cell_type": "markdown",
      "metadata": {
        "id": "9oUVK-BZTpyh"
      },
      "source": [
        "**3**"
      ]
    },
    {
      "cell_type": "code",
      "execution_count": null,
      "metadata": {
        "id": "DEkQn6nYUe1O",
        "colab": {
          "base_uri": "https://localhost:8080/"
        },
        "outputId": "01ad9e77-93ce-43d5-cb26-be4c584665d5"
      },
      "outputs": [
        {
          "output_type": "stream",
          "name": "stdout",
          "text": [
            "Overwriting main.cpp\n"
          ]
        }
      ],
      "source": [
        "%%writefile main.cpp\n",
        "\n",
        "#include <iostream>\n",
        "#include \"Eigen/Dense\"\n",
        "\n",
        "using namespace Eigen;\n",
        "using namespace std;\n",
        "\n",
        "// 3 by 3 matrix. 7 for each value.\n",
        "int main()\n",
        "{\n",
        "  Eigen::MatrixXd d;\n",
        "  Eigen::Matrix3d f;\n",
        "  f = Matrix3d::Constant(7);\n",
        "  cout << f << '\\n';\n",
        "\n",
        " return 0;\n",
        "};"
      ]
    },
    {
      "cell_type": "code",
      "execution_count": null,
      "metadata": {
        "id": "velxZwSqUipL"
      },
      "outputs": [],
      "source": [
        "%%script bash\n",
        "\n",
        "g++ main.cpp -std=c++14 -o out"
      ]
    },
    {
      "cell_type": "code",
      "execution_count": null,
      "metadata": {
        "id": "Kav1UxL8Uew5",
        "colab": {
          "base_uri": "https://localhost:8080/"
        },
        "outputId": "274aec66-03ef-4e13-8e6d-5192e9633e0d"
      },
      "outputs": [
        {
          "output_type": "stream",
          "name": "stdout",
          "text": [
            "7 7 7\n",
            "7 7 7\n",
            "7 7 7\n"
          ]
        }
      ],
      "source": [
        "!./out"
      ]
    },
    {
      "cell_type": "markdown",
      "metadata": {
        "id": "PDVX_u_vUcFW"
      },
      "source": [
        "**4**"
      ]
    },
    {
      "cell_type": "code",
      "execution_count": null,
      "metadata": {
        "id": "OUBdV-C1Ujty",
        "colab": {
          "base_uri": "https://localhost:8080/"
        },
        "outputId": "ca0f2af0-e535-4472-8e20-2e58d604a01b"
      },
      "outputs": [
        {
          "output_type": "stream",
          "name": "stdout",
          "text": [
            "Overwriting main.cpp\n"
          ]
        }
      ],
      "source": [
        "%%writefile main.cpp\n",
        "\n",
        "#include <iostream>\n",
        "#include \"Eigen/Dense\"\n",
        "\n",
        "using namespace Eigen;\n",
        "using namespace std;\n",
        "\n",
        "// X by X matrix. 1 for each value.\n",
        "int main()\n",
        "{\n",
        "  Eigen::MatrixXd d;\n",
        "  Eigen::Matrix3d f;\n",
        "  // MatrixXd == Matrix<double,Dynamic,Dynamic>\n",
        "  // or: typedef Matrix<double,Dynamic,Dynamic> MatrixXd;\n",
        "  // Matrix3d == Matrix<double,3,3>\n",
        "  d = MatrixXd::Constant(5,5,1.0);\n",
        "  cout << d << '\\n';\n",
        "\n",
        " return 0;\n",
        "};"
      ]
    },
    {
      "cell_type": "code",
      "execution_count": null,
      "metadata": {
        "id": "YCyLXMjuUjiD"
      },
      "outputs": [],
      "source": [
        "%%script bash\n",
        "\n",
        "g++ main.cpp -std=c++14 -o out"
      ]
    },
    {
      "cell_type": "code",
      "execution_count": null,
      "metadata": {
        "id": "kuYCcVWDUjSl",
        "colab": {
          "base_uri": "https://localhost:8080/"
        },
        "outputId": "3fc423fd-b58e-4b21-958e-50acea6f7dc4"
      },
      "outputs": [
        {
          "output_type": "stream",
          "name": "stdout",
          "text": [
            "1 1 1 1 1\n",
            "1 1 1 1 1\n",
            "1 1 1 1 1\n",
            "1 1 1 1 1\n",
            "1 1 1 1 1\n"
          ]
        }
      ],
      "source": [
        "!./out"
      ]
    },
    {
      "cell_type": "markdown",
      "source": [
        "**5**"
      ],
      "metadata": {
        "id": "sQcm5HPAqf2i"
      }
    },
    {
      "cell_type": "markdown",
      "source": [
        "How to multiply two mtrices"
      ],
      "metadata": {
        "id": "DSRPwrPvqjoQ"
      }
    },
    {
      "cell_type": "code",
      "source": [
        "%%writefile main.cpp\n",
        "\n",
        "#include <iostream>\n",
        "#include \"Eigen/Dense\"\n",
        "\n",
        "using namespace Eigen;\n",
        "\n",
        "int main()\n",
        "{\n",
        "  Matrix<float,1,2>m1;\n",
        "  // == VectorXf m1(2);\n",
        "  m1 << 1,2;\n",
        "  Matrix<float,2,2>m2;\n",
        "  m2 << 1, 2,\n",
        "        3,4;\n",
        "\n",
        "  // Multiplication\n",
        "  MatrixXf m3 = m1 * m2;\n",
        "  std::cout << m3 << std::endl;\n",
        "\n",
        "  // Matrix Transpose\n",
        "  MatrixXf m4 = m2.transpose();\n",
        "  std::cout << m4 << std::endl;\n",
        "\n",
        "  // Sum / Subscription\n",
        "  MatrixXf m5 = m4.array() + 1;\n",
        "  std::cout << m5 << std::endl;\n",
        "\n",
        "  // sin/  tan/ asin/ abs/ ...\n",
        "  MatrixXf m6 = exp(m4.array());\n",
        "  std::cout << m6 << std::endl;\n",
        "\n",
        " return 0;\n",
        "};"
      ],
      "metadata": {
        "colab": {
          "base_uri": "https://localhost:8080/"
        },
        "id": "7oT--pGEqqCq",
        "outputId": "0061ca99-7102-4b76-c415-5af2866f68d4"
      },
      "execution_count": null,
      "outputs": [
        {
          "output_type": "stream",
          "name": "stdout",
          "text": [
            "Overwriting main.cpp\n"
          ]
        }
      ]
    },
    {
      "cell_type": "code",
      "source": [
        "%%script bash\n",
        "\n",
        "g++ main.cpp -std=c++14 -o out"
      ],
      "metadata": {
        "id": "S14A_RhRqp5g"
      },
      "execution_count": null,
      "outputs": []
    },
    {
      "cell_type": "code",
      "source": [
        "!./out"
      ],
      "metadata": {
        "colab": {
          "base_uri": "https://localhost:8080/"
        },
        "id": "djo2k9pyqptx",
        "outputId": "a56d61dd-d80c-4355-e049-1b128926ae6e"
      },
      "execution_count": null,
      "outputs": [
        {
          "output_type": "stream",
          "name": "stdout",
          "text": [
            " 7 10\n",
            "1 3\n",
            "2 4\n",
            "2 4\n",
            "3 5\n",
            "2.71828 20.0855\n",
            "7.38906 54.5981\n"
          ]
        }
      ]
    },
    {
      "cell_type": "markdown",
      "metadata": {
        "id": "ktl8HsMjeh_5"
      },
      "source": [
        "### **Second Video**\n",
        "\n",
        "Intro to Eigen C++ Matrix  Library- Easy Library for Matrix and Linear Algebra Computations\n",
        "\n",
        "24 min"
      ]
    },
    {
      "cell_type": "markdown",
      "source": [
        "https://aleksandarhaber.com/starting-with-eigen-c-matrix-library/\n",
        "\n",
        "https://github.com/AleksandarHaber/Introduction-to-Eigen-Cpp-Matrix-Computation-Library"
      ],
      "metadata": {
        "id": "Hvn3Fa5nT_p7"
      }
    },
    {
      "cell_type": "markdown",
      "source": [
        "**1**"
      ],
      "metadata": {
        "id": "oJpBG8hLxobx"
      }
    },
    {
      "cell_type": "code",
      "source": [
        "%%writefile main.cpp\n",
        "\n",
        "#include <iostream>\n",
        "#include \"Eigen/Dense\"\n",
        "\n",
        "using namespace std;\n",
        "using namespace Eigen;\n",
        "\n",
        "int main()\n",
        "{\n",
        "  // define 3x3 matrix of floats and set its entries to zero -explicit declaration\n",
        "  Matrix <float, 3, 3> matrixA;\n",
        "  matrixA.setZero();\n",
        "  cout << matrixA <<endl;\n",
        "  cout << \"****\" << '\\n';\n",
        "\n",
        "// ====== Matrix <float, 3, 3> matrixA; == Matrix3f matrixA1;\n",
        "//        Matrix3d == Matrix<double,3,3>matrixA.setZero();\n",
        "//        MatrixXd == Matrix<double,Dynamic,Dynamic>\n",
        "//        or: typedef Matrix<double,Dynamic,Dynamic> MatrixXd;\n",
        "\n",
        "\n",
        "//define 3x3 matrix of floats and set its entries to zero -typedef declaration\n",
        "  Matrix3f matrixA1;\n",
        "  matrixA1.setZero();\n",
        "  cout <<\"\\n\"<<matrixA1<<endl;\n",
        "  cout << \"****\" << '\\n';\n",
        "\n",
        "  return 0;\n",
        "};\n"
      ],
      "metadata": {
        "id": "R-5GT2zTxrOX",
        "colab": {
          "base_uri": "https://localhost:8080/"
        },
        "outputId": "498fa8db-3bb0-4834-b972-34ab4e8fbd41"
      },
      "execution_count": null,
      "outputs": [
        {
          "output_type": "stream",
          "name": "stdout",
          "text": [
            "Overwriting main.cpp\n"
          ]
        }
      ]
    },
    {
      "cell_type": "code",
      "source": [
        "%%script bash\n",
        "\n",
        "g++ main.cpp -std=c++14 -o out"
      ],
      "metadata": {
        "id": "c2uCd8hn-qGl"
      },
      "execution_count": null,
      "outputs": []
    },
    {
      "cell_type": "code",
      "source": [
        "!./out"
      ],
      "metadata": {
        "colab": {
          "base_uri": "https://localhost:8080/"
        },
        "id": "Qp1M5jUc-rul",
        "outputId": "acc207b1-5261-4b01-c700-8d68beec3e15"
      },
      "execution_count": null,
      "outputs": [
        {
          "output_type": "stream",
          "name": "stdout",
          "text": [
            "0 0 0\n",
            "0 0 0\n",
            "0 0 0\n",
            "****\n",
            "\n",
            "0 0 0\n",
            "0 0 0\n",
            "0 0 0\n",
            "****\n"
          ]
        }
      ]
    },
    {
      "cell_type": "markdown",
      "source": [
        "**2**"
      ],
      "metadata": {
        "id": "oQggxkJ1CQce"
      }
    },
    {
      "cell_type": "code",
      "source": [
        "%%writefile main.cpp\n",
        "\n",
        "#include <iostream>\n",
        "#include \"Eigen/Dense\"\n",
        "\n",
        "using namespace std;\n",
        "using namespace Eigen;\n",
        "\n",
        "int main()\n",
        "{\n",
        "  // define a dynamic matrix, explicit declaration\n",
        "  Matrix <float, Dynamic, Dynamic> matrixB;\n",
        "\n",
        "  //define a dynamic matrix, typedef declaration\n",
        "  MatrixXf matrixB1;\n",
        "\n",
        "  // constructor\n",
        "  MatrixXd matrixC(10, 10);\n",
        "\n",
        "  // Assigning marix entries\n",
        "  MatrixXd matrixC1(2, 2);\n",
        "  matrixC1(0, 0) = 1;\n",
        "  matrixC1(0, 1) = 2;\n",
        "  matrixC1(1, 0) = 3;\n",
        "  matrixC1(1, 1) = 4;\n",
        "\n",
        "  cout << endl<<  matrixC1 << endl;\n",
        "\n",
        "\n",
        "  Matrix4f matrixD;\n",
        "  matrixD << 1,   2,  3,  4,\n",
        "        5,   6,  7,  8,\n",
        "        9,  10, 11, 12,\n",
        "        13, 14, 15, 16;\n",
        "  cout << endl<<  matrixD << endl;\n",
        "\n",
        "  // define a dynamic matrix, resize it to a 3x3 matrix,\n",
        "  // and set its entries to zero, and print the matrix\n",
        "  Matrix3f matrixD1;\n",
        "  matrixD1.resize(3, 3);\n",
        "  matrixD1.setZero(3, 3);\n",
        "  cout <<endl<< matrixD1;\n",
        "\n",
        "  return 0;\n",
        "};"
      ],
      "metadata": {
        "colab": {
          "base_uri": "https://localhost:8080/"
        },
        "id": "xzBVhknL9kDr",
        "outputId": "dcab4c52-8940-4957-e832-42f8569e379c"
      },
      "execution_count": null,
      "outputs": [
        {
          "output_type": "stream",
          "name": "stdout",
          "text": [
            "Overwriting main.cpp\n"
          ]
        }
      ]
    },
    {
      "cell_type": "code",
      "source": [
        "%%script bash\n",
        "\n",
        "g++ main.cpp -std=c++14 -o out"
      ],
      "metadata": {
        "id": "k8MiNFJdCUbn"
      },
      "execution_count": null,
      "outputs": []
    },
    {
      "cell_type": "code",
      "source": [
        "!./out"
      ],
      "metadata": {
        "colab": {
          "base_uri": "https://localhost:8080/"
        },
        "id": "o9h2g3OCCV9n",
        "outputId": "6ab292b6-03a4-4768-8ee4-cc86dedf1f12"
      },
      "execution_count": null,
      "outputs": [
        {
          "output_type": "stream",
          "name": "stdout",
          "text": [
            "\n",
            "1 2\n",
            "3 4\n",
            "\n",
            " 1  2  3  4\n",
            " 5  6  7  8\n",
            " 9 10 11 12\n",
            "13 14 15 16\n",
            "\n",
            "0 0 0\n",
            "0 0 0\n",
            "0 0 0"
          ]
        }
      ]
    },
    {
      "cell_type": "markdown",
      "source": [
        "**3**"
      ],
      "metadata": {
        "id": "cDXrCcLvCbDH"
      }
    },
    {
      "cell_type": "code",
      "source": [
        "%%writefile main.cpp\n",
        "\n",
        "#include <iostream>\n",
        "#include \"Eigen/Dense\"\n",
        "\n",
        "using namespace std;\n",
        "using namespace Eigen;\n",
        "\n",
        "int main()\n",
        "{\n",
        "\n",
        "// setting matrix entries - two approaches\n",
        "   int rowsNumber = 5;\n",
        "   int columnNumber= 5;\n",
        "\n",
        "   // matrix of zeros\n",
        "   MatrixXf matrix1zeros;\n",
        "   matrix1zeros = MatrixXf::Zero(rowsNumber, columnNumber);\n",
        "   cout << \"\\n \\n\"<< matrix1zeros<<endl;\n",
        "   // another option:\n",
        "   MatrixXf matrix1zeros1;\n",
        "   matrix1zeros1.setZero(rowsNumber, columnNumber);\n",
        "   cout << \"\\n \\n\" << matrix1zeros1 << endl;\n",
        "\n",
        "   //matrix of ones\n",
        "   MatrixXf matrix1ones;\n",
        "   matrix1ones = MatrixXf::Ones(rowsNumber, columnNumber);\n",
        "   cout << \"\\n \\n\" << matrix1ones << endl;\n",
        "\n",
        "   //another option\n",
        "   MatrixXf matrix1ones1;\n",
        "   matrix1ones1.setOnes(rowsNumber, columnNumber);\n",
        "   cout << \"\\n \\n\" << matrix1ones1 << endl;\n",
        "\n",
        "   //matrix of constants\n",
        "   float value = 1.1;\n",
        "   MatrixXf matrix1const;\n",
        "   matrix1const = MatrixXf::Constant(rowsNumber, columnNumber,value);\n",
        "   cout << \"\\n \\n\" << matrix1const << endl;\n",
        "\n",
        "   //another option\n",
        "   MatrixXf matrix1const1;\n",
        "   matrix1const1.setConstant(rowsNumber, columnNumber, value);\n",
        "   cout << \"\\n \\n\" << matrix1const1 << endl;\n",
        "\n",
        "   //identity matrix, two approaches\n",
        "    int rowNumber1 = 10;\n",
        "    int columnNumber1 = 10;\n",
        "\n",
        "    MatrixXd matrixIdentity;\n",
        "    matrixIdentity = MatrixXd::Identity(rowNumber1,columnNumber1);\n",
        "    cout << \"\\n \\n\" << matrixIdentity << endl;\n",
        "\n",
        "    MatrixXd matrixIdentity1;\n",
        "    matrixIdentity1.setIdentity(rowNumber1, columnNumber1);\n",
        "    cout << \"\\n \\n\" << matrixIdentity1 << endl;\n",
        "\n",
        "  return 0;\n",
        "};"
      ],
      "metadata": {
        "id": "yJjs8sEZQfpO",
        "colab": {
          "base_uri": "https://localhost:8080/"
        },
        "outputId": "1c0de138-2f16-4714-fd63-6f6119b70c88"
      },
      "execution_count": null,
      "outputs": [
        {
          "output_type": "stream",
          "name": "stdout",
          "text": [
            "Overwriting main.cpp\n"
          ]
        }
      ]
    },
    {
      "cell_type": "code",
      "source": [
        "%%script bash\n",
        "\n",
        "g++ main.cpp -std=c++14 -o out"
      ],
      "metadata": {
        "id": "ZFH9MFgylgJf"
      },
      "execution_count": null,
      "outputs": []
    },
    {
      "cell_type": "code",
      "source": [
        "!./out"
      ],
      "metadata": {
        "colab": {
          "base_uri": "https://localhost:8080/"
        },
        "id": "xVJcyqwBlhBz",
        "outputId": "c339d442-725e-4177-938f-9e116fdcb406",
        "collapsed": true
      },
      "execution_count": null,
      "outputs": [
        {
          "output_type": "stream",
          "name": "stdout",
          "text": [
            "\n",
            " \n",
            "0 0 0 0 0\n",
            "0 0 0 0 0\n",
            "0 0 0 0 0\n",
            "0 0 0 0 0\n",
            "0 0 0 0 0\n",
            "\n",
            " \n",
            "0 0 0 0 0\n",
            "0 0 0 0 0\n",
            "0 0 0 0 0\n",
            "0 0 0 0 0\n",
            "0 0 0 0 0\n",
            "\n",
            " \n",
            "1 1 1 1 1\n",
            "1 1 1 1 1\n",
            "1 1 1 1 1\n",
            "1 1 1 1 1\n",
            "1 1 1 1 1\n",
            "\n",
            " \n",
            "1 1 1 1 1\n",
            "1 1 1 1 1\n",
            "1 1 1 1 1\n",
            "1 1 1 1 1\n",
            "1 1 1 1 1\n",
            "\n",
            " \n",
            "1.1 1.1 1.1 1.1 1.1\n",
            "1.1 1.1 1.1 1.1 1.1\n",
            "1.1 1.1 1.1 1.1 1.1\n",
            "1.1 1.1 1.1 1.1 1.1\n",
            "1.1 1.1 1.1 1.1 1.1\n",
            "\n",
            " \n",
            "1.1 1.1 1.1 1.1 1.1\n",
            "1.1 1.1 1.1 1.1 1.1\n",
            "1.1 1.1 1.1 1.1 1.1\n",
            "1.1 1.1 1.1 1.1 1.1\n",
            "1.1 1.1 1.1 1.1 1.1\n",
            "\n",
            " \n",
            "1 0 0 0 0 0 0 0 0 0\n",
            "0 1 0 0 0 0 0 0 0 0\n",
            "0 0 1 0 0 0 0 0 0 0\n",
            "0 0 0 1 0 0 0 0 0 0\n",
            "0 0 0 0 1 0 0 0 0 0\n",
            "0 0 0 0 0 1 0 0 0 0\n",
            "0 0 0 0 0 0 1 0 0 0\n",
            "0 0 0 0 0 0 0 1 0 0\n",
            "0 0 0 0 0 0 0 0 1 0\n",
            "0 0 0 0 0 0 0 0 0 1\n",
            "\n",
            " \n",
            "1 0 0 0 0 0 0 0 0 0\n",
            "0 1 0 0 0 0 0 0 0 0\n",
            "0 0 1 0 0 0 0 0 0 0\n",
            "0 0 0 1 0 0 0 0 0 0\n",
            "0 0 0 0 1 0 0 0 0 0\n",
            "0 0 0 0 0 1 0 0 0 0\n",
            "0 0 0 0 0 0 1 0 0 0\n",
            "0 0 0 0 0 0 0 1 0 0\n",
            "0 0 0 0 0 0 0 0 1 0\n",
            "0 0 0 0 0 0 0 0 0 1\n"
          ]
        }
      ]
    },
    {
      "cell_type": "markdown",
      "source": [
        "**4**"
      ],
      "metadata": {
        "id": "oyHprv5Xs9km"
      }
    },
    {
      "cell_type": "code",
      "source": [
        "%%writefile main.cpp\n",
        "\n",
        "#include <iostream>\n",
        "#include \"Eigen/Dense\"\n",
        "\n",
        "using namespace std;\n",
        "using namespace Eigen;\n",
        "\n",
        "int main()\n",
        "{\n",
        "\n",
        "//identity matrix, two approaches\n",
        "\n",
        "    int rowNumber = 10;\n",
        "    int columnNumber = 10;\n",
        "\n",
        "    MatrixXd matrixIdentity;\n",
        "    matrixIdentity = MatrixXd::Identity(rowNumber,columnNumber);\n",
        "    cout << \"\\n \\n\" << matrixIdentity << endl;\n",
        "\n",
        "    MatrixXd matrixIdentity1;\n",
        "    matrixIdentity1.setIdentity(rowNumber, columnNumber);\n",
        "    cout << \"\\n \\n\" << matrixIdentity1 << endl;\n",
        "\n",
        "\n",
        "    //accessing columns and rows of a matrix\n",
        "    cout<<\"\\n\\n\"<<\"Row 1 of matrixV is \\n \"<<matrixV.row(0);\n",
        "    cout << \"\\n\\n\" << \"Column 1 of matrixV is \\n\" << matrixV.col(0);\n",
        "\n",
        "    //create a diagonal matrix out of a vector\n",
        "    Matrix <double, 3, 1> vector1;\n",
        "    vector1 << 1, 2, 3;\n",
        "    MatrixXd diagonalMatrix;\n",
        "    diagonalMatrix = vector1.asDiagonal();\n",
        "    cout << \" Diagonal matrix is \\n\\n\" << diagonalMatrix;\n",
        "\n",
        "    // basic matrix operations\n",
        "    //matrix addition\n",
        "    MatrixXd A1(2, 2);\n",
        "    MatrixXd B1(2, 2);\n",
        "\n",
        "    A1 << 1, 2,\n",
        "        3, 4;\n",
        "    B1 << 3, 4,\n",
        "        5, 6;\n",
        "    MatrixXd C1 = A1 + B1;\n",
        "    cout << \" \\n\\n The sum of A1 and B1 is\\n\\n\" << C1 << endl;\n",
        "    // similarly you can subtract A1 and B1\n",
        "\n",
        "  return 0;\n",
        "};"
      ],
      "metadata": {
        "id": "XH2DQuYMQqA_",
        "colab": {
          "base_uri": "https://localhost:8080/"
        },
        "outputId": "8ea27e58-cfd8-4136-d41c-64cfe7c06abb"
      },
      "execution_count": null,
      "outputs": [
        {
          "output_type": "stream",
          "name": "stdout",
          "text": [
            "Writing main.cpp\n"
          ]
        }
      ]
    },
    {
      "cell_type": "code",
      "source": [
        "%%script bash\n",
        "\n",
        "g++ main.cpp -std=c++14 -o out"
      ],
      "metadata": {
        "id": "ta7xCakmrJCg"
      },
      "execution_count": null,
      "outputs": []
    },
    {
      "cell_type": "code",
      "source": [
        "!./out"
      ],
      "metadata": {
        "colab": {
          "base_uri": "https://localhost:8080/"
        },
        "id": "Pd48n2eXrOhF",
        "outputId": "37fe7004-79c4-4bee-9812-77d29dbe1a17"
      },
      "execution_count": null,
      "outputs": [
        {
          "output_type": "stream",
          "name": "stdout",
          "text": [
            "\n",
            " \n",
            "1 0 0 0 0 0 0 0 0 0\n",
            "0 1 0 0 0 0 0 0 0 0\n",
            "0 0 1 0 0 0 0 0 0 0\n",
            "0 0 0 1 0 0 0 0 0 0\n",
            "0 0 0 0 1 0 0 0 0 0\n",
            "0 0 0 0 0 1 0 0 0 0\n",
            "0 0 0 0 0 0 1 0 0 0\n",
            "0 0 0 0 0 0 0 1 0 0\n",
            "0 0 0 0 0 0 0 0 1 0\n",
            "0 0 0 0 0 0 0 0 0 1\n",
            "\n",
            " \n",
            "1 0 0 0 0 0 0 0 0 0\n",
            "0 1 0 0 0 0 0 0 0 0\n",
            "0 0 1 0 0 0 0 0 0 0\n",
            "0 0 0 1 0 0 0 0 0 0\n",
            "0 0 0 0 1 0 0 0 0 0\n",
            "0 0 0 0 0 1 0 0 0 0\n",
            "0 0 0 0 0 0 1 0 0 0\n",
            "0 0 0 0 0 0 0 1 0 0\n",
            "0 0 0 0 0 0 0 0 1 0\n",
            "0 0 0 0 0 0 0 0 0 1\n"
          ]
        }
      ]
    },
    {
      "cell_type": "markdown",
      "source": [
        "**5**"
      ],
      "metadata": {
        "id": "OILaF6J5tbXs"
      }
    },
    {
      "cell_type": "code",
      "source": [
        "%%writefile main.cpp\n",
        "\n",
        "#include <iostream>\n",
        "#include \"Eigen/Dense\"\n",
        "\n",
        "using namespace std;\n",
        "using namespace Eigen;\n",
        "\n",
        "int main()\n",
        "{\n",
        "\n",
        "  // basic matrix operations\n",
        "    //matrix addition\n",
        "    MatrixXd A1(2, 2);\n",
        "    MatrixXd B1(2, 2);\n",
        "\n",
        "    A1 << 1, 2,\n",
        "        3, 4;\n",
        "    B1 << 3, 4,\n",
        "        5, 6;\n",
        "\n",
        "  //matrix multiplication\n",
        "    MatrixXd D1 = A1*B1;\n",
        "    cout << \" \\n\\n The matrix product of A1 and B1 is\\n\\n\" << D1 << endl;\n",
        "\n",
        "    //multiplication by a scalar\n",
        "    int s1 = 2;\n",
        "    MatrixXd F1;\n",
        "    F1 = s1 * A1;\n",
        "    cout << \" \\n\\n The matrix product of the scalar 2 and the matrix A1 is\\n\\n\" << F1 << endl;\n",
        "\n",
        "    //matrix transpose\n",
        "    MatrixXd At;\n",
        "    MatrixXd R1;\n",
        "    // we can obtain a transpose of A1 as follows\n",
        "    At = A1.transpose();\n",
        "    cout << \"\\n\\n Original matrix A1\\n\\n\" << A1;\n",
        "    cout << \"\\n\\n Its transpose\\n\\n \" << At;\n",
        "\n",
        "    // we can use a transpose operator in expressions\n",
        "    R1 = A1.transpose() + B1;\n",
        "    cout << \"\\n\\n Matrix R1=A1^{T}+B1 is\\n\\n\" << R1;\n",
        "\n",
        "    // here we should be careful, the operation .transpose() might lead to unexpected results in this scenarios\n",
        "    //  A1 = A1.transpose();\n",
        "    // cout << \" \\n\\n This should be a transpose of the matrix A1\\n\\n\" << A1 << endl;\n",
        "\n",
        "    // the correct and safe way to do the matrix transpose is the following\n",
        "     A1.transposeInPlace();\n",
        "    cout << \" \\n\\n This should be a transpose of the matrix A1\\n\\n\" << A1 << endl;\n",
        "    //restore A1 matrix to its original state\n",
        "    A1.transposeInPlace();\n",
        "\n",
        "\n",
        "    // Matrix inverse\n",
        "    MatrixXd G1;\n",
        "    G1 = A1.inverse();\n",
        "    cout << \"\\n\\n The inverse of the matrix A1 is\\n\\n\" << G1;\n",
        "    cout << \"\\n\\n Double check A1^{-1}*A1=\\n\\n\" << G1*A1;\n",
        "\n",
        "\n",
        "return 0;\n",
        "};"
      ],
      "metadata": {
        "id": "Dk-Yb5htRL0C",
        "colab": {
          "base_uri": "https://localhost:8080/"
        },
        "outputId": "c2862e67-8226-417c-a91d-57f4969a9cf0"
      },
      "execution_count": null,
      "outputs": [
        {
          "output_type": "stream",
          "name": "stdout",
          "text": [
            "Overwriting main.cpp\n"
          ]
        }
      ]
    },
    {
      "cell_type": "code",
      "source": [
        "%%script bash\n",
        "\n",
        "g++ main.cpp -std=c++14 -o out"
      ],
      "metadata": {
        "id": "cxJmStnGtgri"
      },
      "execution_count": null,
      "outputs": []
    },
    {
      "cell_type": "code",
      "source": [
        "!./out"
      ],
      "metadata": {
        "colab": {
          "base_uri": "https://localhost:8080/"
        },
        "id": "wrNdWKBUtj8i",
        "outputId": "b180a731-056c-4b6d-985c-4473143eb033"
      },
      "execution_count": null,
      "outputs": [
        {
          "output_type": "stream",
          "name": "stdout",
          "text": [
            " \n",
            "\n",
            " The matrix product of A1 and B1 is\n",
            "\n",
            "13 16\n",
            "29 36\n",
            " \n",
            "\n",
            " The matrix product of the scalar 2 and the matrix A1 is\n",
            "\n",
            "2 4\n",
            "6 8\n",
            "\n",
            "\n",
            " Original matrix A1\n",
            "\n",
            "1 2\n",
            "3 4\n",
            "\n",
            " Its transpose\n",
            "\n",
            " 1 3\n",
            "2 4\n",
            "\n",
            " Matrix R1=A1^{T}+B1 is\n",
            "\n",
            " 4  7\n",
            " 7 10 \n",
            "\n",
            " This should be a transpose of the matrix A1\n",
            "\n",
            "1 3\n",
            "2 4\n",
            "\n",
            "\n",
            " The inverse of the matrix A1 is\n",
            "\n",
            "  -2    1\n",
            " 1.5 -0.5\n",
            "\n",
            " Double check A1^{-1}*A1=\n",
            "\n",
            "          1           0\n",
            "2.22045e-16           1"
          ]
        }
      ]
    },
    {
      "cell_type": "markdown",
      "metadata": {
        "id": "GPFRDvMhep1l"
      },
      "source": [
        "### **Third Video**\n",
        "\n",
        "Introduction to C++ Eigen library\n",
        "\n",
        " 48 min"
      ]
    },
    {
      "cell_type": "markdown",
      "source": [
        "https://github.com/myzebracode/cpp/tree/master/MathWork/Eigen"
      ],
      "metadata": {
        "id": "9QFOMIrDTx_F"
      }
    },
    {
      "cell_type": "markdown",
      "metadata": {
        "id": "ls6nAayWesyJ"
      },
      "source": [
        "### **Fourth Video**\n",
        "\n",
        "Linear Algebra in C++ Using Eigen Library\n",
        "\n",
        " 13 min"
      ]
    },
    {
      "cell_type": "markdown",
      "source": [
        "https://eigen.tuxfamily.org/dox/group__QuickRefPage.html"
      ],
      "metadata": {
        "id": "HNtYVXYTvUx6"
      }
    },
    {
      "cell_type": "code",
      "source": [
        "%%writefile main.cpp\n",
        "\n",
        "#include <iostream>\n",
        "#include \"Eigen/Dense\"\n",
        "\n",
        "using namespace std;\n",
        "using namespace Eigen;\n",
        "\n",
        "int main()\n",
        "{\n",
        "  return 0;\n",
        "};"
      ],
      "metadata": {
        "colab": {
          "base_uri": "https://localhost:8080/"
        },
        "id": "FEsKYM3pviI9",
        "outputId": "c2854e4a-dbda-49b3-a827-315e1ba87b87"
      },
      "execution_count": null,
      "outputs": [
        {
          "output_type": "stream",
          "name": "stdout",
          "text": [
            "Overwriting main.cpp\n"
          ]
        }
      ]
    },
    {
      "cell_type": "code",
      "source": [
        "%%writefile main.cpp\n",
        "\n",
        "#include <iostream>\n",
        "#include \"Eigen/Dense\"\n",
        "\n",
        "using namespace std;\n",
        "using namespace Eigen;\n",
        "\n",
        "// or:\n",
        "// using Eigen::MatrixXd\n",
        "\n",
        "int main()\n",
        "{\n",
        "  // vectors and some properties\n",
        "  VectorXd v1(3,1);\n",
        "  v1 << 4,6,-2;\n",
        "  cout <<\"\\n v1 = \\n \"<< v1 << endl;\n",
        "  cout <<\"\\n v1 times 2 is \\n \"<< v1*2 << endl;\n",
        "  cout <<\"\\n sum of entries in v1 is \\n \"<< v1.sum() << endl;\n",
        "  cout <<\"\\n average of entries in v1 is \\n \"<< v1.mean() << endl;\n",
        "  cout <<\"\\n smallest entries in v1 is \\n \"<< v1.minCoeff() << endl;\n",
        "  cout <<\"\\n norm of v1 is \\n \"<< v1.norm() << endl;\n",
        "  cout <<\"\\n length of v1 is \\n \"<< v1.size() << endl;\n",
        "\n",
        "  VectorXd v2(3,1);\n",
        "  v2 << 3,1,-1;\n",
        "  cout <<\"\\n v2 = \\n \"<< v1 << endl;\n",
        "  cout <<\"\\n dot product of v1 and v2 is \\n \"<< v1.dot(v2) << endl;\n",
        "\n",
        "  // Construct and add matrices\n",
        "  MatrixXd A1(2,2);\n",
        "  MatrixXd B1(2,2);\n",
        "  A1 << 1, 2, 3, 4;\n",
        "  B1(0, 0) = 3;\n",
        "  B1(0, 1) = 4;\n",
        "  B1(1, 0) = 5;\n",
        "  B1(1, 1) = 6;\n",
        "  cout <<\"\\n\\n Matrix A1 is \\n\\n \"<< A1 << endl;\n",
        "  cout <<\"\\n\\n Matrix B1 is \\n\\n \"<< B1 << endl;\n",
        "\n",
        "  MatrixXd C1 = A1 + B1;\n",
        "  cout <<\"\\n\\n the sum of A1 and B1 is \\n\\n \"<< C1 << endl;\n",
        "\n",
        "  // Matrix invrse\n",
        "  MatrixXd G1;\n",
        "  G1 = A1.inverse();\n",
        "  cout <<\"\\n\\n The inverse of Matrix A1 is \\n\\n \"<< G1 << endl;\n",
        "\n",
        "  // Matrix determinant\n",
        "  double A1det;\n",
        "  A1det = A1.determinant();\n",
        "  cout <<\"\\n\\n the determinant A1 is \\n\\n \"<< A1det << endl;\n",
        "\n",
        "  // eigenValues\n",
        "  VectorXcd eivals = A1.eigenvalues();\n",
        "  cout <<\"the eigenvalues of A1 are:\"<< endl << eivals << endl;\n",
        "\n",
        "  // matrix multiplication\n",
        "  MatrixXd D1 = A1 * B1;\n",
        "  cout <<\"\\n\\n the matrix product of A1 and B1 is \\n\\n \"<< D1 << endl;\n",
        "\n",
        "  // zero matrix\n",
        "  MatrixXd matrixzeros;\n",
        "  matrixzeros.setZero(5, 4);\n",
        "  cout <<\"\\n\\n matrix of zeros 5 by 4 is \\n\\n \"<< matrixzeros << endl;\n",
        "\n",
        "  // ones matrix\n",
        "  MatrixXd matrixones;\n",
        "  matrixones.setOnes(4, 3);\n",
        "  cout <<\"\\n\\n matrix of ones 4 by 3 is \\n\\n \"<< matrixones << endl;\n",
        "\n",
        "\n",
        "  // identity matrix\n",
        "  MatrixXd matrixIdentity;\n",
        "  matrixIdentity = MatrixXd::Identity(4, 4);\n",
        "  cout <<\"\\n\\n an identity matrix 4 by 4 is \\n\\n \"<< matrixIdentity << endl;\n",
        "\n",
        "  // a block of matrix\n",
        "  MatrixXd matrixVpartition = matrixIdentity.block(0,0,2,3);\n",
        "  cout <<\"\\n\\n the block of the identity above 0 to 2 and 0 to 3 is \\n\\n \"<< matrixVpartition << endl;\n",
        "\n",
        "  // matrix transpose\n",
        "  MatrixXd At;\n",
        "  At = matrixVpartition.transpose();\n",
        "  cout <<\"\\n\\n transpose of matrix is \\n\\n \"<< At << endl;\n",
        "\n",
        "  return 0;\n",
        "};"
      ],
      "metadata": {
        "colab": {
          "base_uri": "https://localhost:8080/"
        },
        "id": "S9W_G4gMxhYe",
        "outputId": "cda3ae1e-c4af-4f65-db8b-d941c9ba31b3"
      },
      "execution_count": null,
      "outputs": [
        {
          "output_type": "stream",
          "name": "stdout",
          "text": [
            "Overwriting main.cpp\n"
          ]
        }
      ]
    },
    {
      "cell_type": "code",
      "source": [
        "%%script bash\n",
        "\n",
        "g++ main.cpp -std=c++14 -o out"
      ],
      "metadata": {
        "id": "vB2DyeQgBJV0"
      },
      "execution_count": null,
      "outputs": []
    },
    {
      "cell_type": "code",
      "source": [
        "!./out"
      ],
      "metadata": {
        "colab": {
          "base_uri": "https://localhost:8080/"
        },
        "id": "RH2ttZcNBL34",
        "outputId": "bf2f34c7-caa6-4c25-dfe9-1ee75ea5594b",
        "collapsed": true
      },
      "execution_count": null,
      "outputs": [
        {
          "output_type": "stream",
          "name": "stdout",
          "text": [
            "\n",
            " v1 = \n",
            "  4\n",
            " 6\n",
            "-2\n",
            "\n",
            " v1 times 2 is \n",
            "  8\n",
            "12\n",
            "-4\n",
            "\n",
            " sum of entries in v1 is \n",
            " 8\n",
            "\n",
            " average of entries in v1 is \n",
            " 2.66667\n",
            "\n",
            " smallest entries in v1 is \n",
            " -2\n",
            "\n",
            " norm of v1 is \n",
            " 7.48331\n",
            "\n",
            " length of v1 is \n",
            " 3\n",
            "\n",
            " v2 = \n",
            "  4\n",
            " 6\n",
            "-2\n",
            "\n",
            " dot product of v1 and v2 is \n",
            " 20\n",
            "\n",
            "\n",
            " Matrix A1 is \n",
            "\n",
            " 1 2\n",
            "3 4\n",
            "\n",
            "\n",
            " Matrix B1 is \n",
            "\n",
            " 3 4\n",
            "5 6\n",
            "\n",
            "\n",
            " the sum of A1 and B1 is \n",
            "\n",
            "  4  6\n",
            " 8 10\n",
            "\n",
            "\n",
            " The inverse of Matrix A1 is \n",
            "\n",
            "   -2    1\n",
            " 1.5 -0.5\n",
            "\n",
            "\n",
            " the determinant A1 is \n",
            "\n",
            " -2\n",
            "the eigenvalues of A1 are:\n",
            "(-0.372281,0)\n",
            "  (5.37228,0)\n",
            "\n",
            "\n",
            " the matrix product of A1 and B1 is \n",
            "\n",
            " 13 16\n",
            "29 36\n",
            "\n",
            "\n",
            " matrix of zeros 5 by 4 is \n",
            "\n",
            " 0 0 0 0\n",
            "0 0 0 0\n",
            "0 0 0 0\n",
            "0 0 0 0\n",
            "0 0 0 0\n",
            "\n",
            "\n",
            " matrix of ones 4 by 3 is \n",
            "\n",
            " 1 1 1\n",
            "1 1 1\n",
            "1 1 1\n",
            "1 1 1\n",
            "\n",
            "\n",
            " an identity matrix 4 by 4 is \n",
            "\n",
            " 1 0 0 0\n",
            "0 1 0 0\n",
            "0 0 1 0\n",
            "0 0 0 1\n",
            "\n",
            "\n",
            " the block of the identity above 0 to 2 and 0 to 3 is \n",
            "\n",
            " 1 0 0\n",
            "0 1 0\n",
            "\n",
            "\n",
            " transpose of matrix is \n",
            "\n",
            " 1 0\n",
            "0 1\n",
            "0 0\n"
          ]
        }
      ]
    },
    {
      "cell_type": "markdown",
      "source": [
        "## **SLAM Book 2**"
      ],
      "metadata": {
        "id": "J_ygbd271JBt"
      }
    },
    {
      "cell_type": "markdown",
      "source": [
        "### **SLAM Book 2: Use Eigen**"
      ],
      "metadata": {
        "id": "JbSEEQ2-I6lq"
      }
    },
    {
      "cell_type": "markdown",
      "source": [
        "**Page 38**\\\n",
        "https://github.com/gaoxiang12/slambook2/blob/master/ch3/useEigen/eigenMatrix.cpp"
      ],
      "metadata": {
        "id": "ESlQKddQ16oE"
      }
    },
    {
      "cell_type": "code",
      "source": [
        "%%writefile eigenMatrix.cpp\n",
        "\n",
        "#include <iostream>\n",
        "\n",
        "using namespace std;\n",
        "\n",
        "#include <ctime>\n",
        "// Eigen core part\n",
        "#include \"Eigen/Core\"\n",
        "// Algebraic operations on dense matrices (inverse, eigenvalues, etc.)\n",
        "#include \"Eigen/Dense\"\n",
        "\n",
        "using namespace Eigen;\n",
        "\n",
        "#define MATRIX_SIZE 50\n",
        "\n",
        "\n",
        "// This program demonstrates the use of Eigen basic types\n",
        "int main(int argc, char **argv) {\n",
        "  // All vectors and matrices in Eigen are Eigen::Matrix，which is a template class.\n",
        "  // Its first three parameters are：data type, row, column\n",
        "  // Declare a 2*3 float matrix\n",
        "  Matrix<float, 2, 3> matrix_23;\n",
        "\n",
        "  // at the same time，Eigen provided  Many built-in types via typedef,\n",
        "  // but the bottom layer is still Eigen::Matrix\n",
        "  // For example Vector3d is essentially Eigen::Matrix<double, 3, 1>,\n",
        "  // that is, the three-dimensional vector\n",
        "  Vector3d v_3d;\n",
        "  // it's the same\n",
        "  Matrix<float, 3, 1> vd_3d;\n",
        "\n",
        "  // Matrix3d is essentially Eigen::Matrix<double, 3, 3>\n",
        "  Matrix3d matrix_33 = Matrix3d::Zero(); //initialized to zero\n",
        "  // If you are not sure about the matrix size,\n",
        "  // you can use a dynamically sized matrix\n",
        "  Matrix<double, Dynamic, Dynamic> matrix_dynamic;\n",
        "  // simpler\n",
        "  MatrixXd matrix_x;\n",
        "  // There are many more types of this type, we will not list them all.\n",
        "\n",
        "  // The following is the operation of Eigen array\n",
        "  // Input data (initialization)\n",
        "  matrix_23 << 1, 2, 3, 4, 5, 6;\n",
        "  // output\n",
        "  cout << \"matrix 2x3 from 1 to 6: \\n\" << matrix_23 << endl;\n",
        "\n",
        "  // Use () to access elements in a matrix\n",
        "  cout << \"print matrix 2x3: \" << endl;\n",
        "  for (int i = 0; i < 2; i++) {\n",
        "    for (int j = 0; j < 3; j++) cout << matrix_23(i, j) << \"\\t\";\n",
        "    cout << endl;\n",
        "  }\n",
        "\n",
        "  // Multiplying matrices and vectors (actually still matrices and matrices)\n",
        "  v_3d << 3, 2, 1;\n",
        "  vd_3d << 4, 5, 6;\n",
        "\n",
        "  // But in Eigen you can't mix two different types of matrices, something like this is wrong\n",
        "  // Matrix<double, 2, 1> result_wrong_type = matrix_23 * v_3d;\n",
        "  // should be converted explicitly\n",
        "  Matrix<double, 2, 1> result = matrix_23.cast<double>() * v_3d;\n",
        "  cout << \"[1,2,3;4,5,6]*[3,2,1]=\" << result.transpose() << endl;\n",
        "\n",
        "  Matrix<float, 2, 1> result2 = matrix_23 * vd_3d;\n",
        "  cout << \"[1,2,3;4,5,6]*[4,5,6]: \" << result2.transpose() << endl;\n",
        "\n",
        "  // Also you can't get the dimensions of the matrix wrong\n",
        "  // Try to uncomment the following and see what error Eigen will report.\n",
        "  // Eigen::Matrix<double, 2, 3> result_wrong_dimension = matrix_23.cast<double>() * v_3d;\n",
        "\n",
        " // some matrix operations\n",
        "  // The four arithmetic operations will not be demonstrated, just use +-*/.\n",
        "  matrix_33 = Matrix3d::Random();      // random number matrix\n",
        "  cout << \"random matrix: \\n\" << matrix_33 << endl;\n",
        "  cout << \"transpose: \\n\" << matrix_33.transpose() << endl;      // Transpose\n",
        "  cout << \"sum: \" << matrix_33.sum() << endl;            // Sum of each element\n",
        "  cout << \"trace: \" << matrix_33.trace() << endl;          // trace\n",
        "  cout << \"times 10: \\n\" << 10 * matrix_33 << endl;               // Multiply numbers\n",
        "  cout << \"inverse: \\n\" << matrix_33.inverse() << endl;        // reverse\n",
        "  cout << \"det: \" << matrix_33.determinant() << endl;    // Determinant\n",
        "\n",
        "  // Eigenvalue\n",
        "  // Real symmetric matrices can ensure successful diagonalization\n",
        "  SelfAdjointEigenSolver<Matrix3d> eigen_solver(matrix_33.transpose() * matrix_33);\n",
        "  cout << \"Eigen values = \\n\" << eigen_solver.eigenvalues() << endl;\n",
        "  cout << \"Eigen vectors = \\n\" << eigen_solver.eigenvectors() << endl;\n",
        "\n",
        "  // Solve the equation\n",
        "  // We solve the equation matrix_NN * x = v_Nd\n",
        "  //The size of N is defined in the previous macro and is generated by random numbers\n",
        "  // Direct inversion is naturally the most direct, but the inversion requires a lot of operations\n",
        "\n",
        "  Matrix<double, MATRIX_SIZE, MATRIX_SIZE> matrix_NN\n",
        "      = MatrixXd::Random(MATRIX_SIZE, MATRIX_SIZE);\n",
        "  matrix_NN = matrix_NN * matrix_NN.transpose();  // Guaranteed positive semi-definite\n",
        "  Matrix<double, MATRIX_SIZE, 1> v_Nd = MatrixXd::Random(MATRIX_SIZE, 1);\n",
        "\n",
        "  clock_t time_stt = clock(); // Timing\n",
        "  // Direct inversion\n",
        "  Matrix<double, MATRIX_SIZE, 1> x = matrix_NN.inverse() * v_Nd;\n",
        "  cout << \"time of normal inverse is \"\n",
        "       << 1000 * (clock() - time_stt) / (double) CLOCKS_PER_SEC << \"ms\" << endl;\n",
        "  cout << \"x = \" << x.transpose() << endl;\n",
        "\n",
        "// Usually matrix decomposition is used to find it, such as QR decomposition, which is much faster.\n",
        "  time_stt = clock();\n",
        "  x = matrix_NN.colPivHouseholderQr().solve(v_Nd);\n",
        "  cout << \"time of Qr decomposition is \"\n",
        "       << 1000 * (clock() - time_stt) / (double) CLOCKS_PER_SEC << \"ms\" << endl;\n",
        "  cout << \"x = \" << x.transpose() << endl;\n",
        "\n",
        "  // For positive definite matrices, you can also use cholesky decomposition to solve the equation\n",
        "  time_stt = clock();\n",
        "  x = matrix_NN.ldlt().solve(v_Nd);\n",
        "  cout << \"time of ldlt decomposition is \"\n",
        "       << 1000 * (clock() - time_stt) / (double) CLOCKS_PER_SEC << \"ms\" << endl;\n",
        "  cout << \"x = \" << x.transpose() << endl;\n",
        "\n",
        "  return 0;\n",
        "}"
      ],
      "metadata": {
        "colab": {
          "base_uri": "https://localhost:8080/"
        },
        "id": "awJEV1VfS2KS",
        "outputId": "5342dc31-78be-40b3-ff5c-440bc2a15943"
      },
      "execution_count": null,
      "outputs": [
        {
          "output_type": "stream",
          "name": "stdout",
          "text": [
            "Writing eigenMatrix.cpp\n"
          ]
        }
      ]
    },
    {
      "cell_type": "markdown",
      "source": [
        "#### **without CMake**"
      ],
      "metadata": {
        "id": "dhajYjSwMN0a"
      }
    },
    {
      "cell_type": "code",
      "source": [
        "%%script bash\n",
        "\n",
        "g++ eigenMatrix.cpp -std=c++14 -o out"
      ],
      "metadata": {
        "id": "i97okeExnzeE"
      },
      "execution_count": null,
      "outputs": []
    },
    {
      "cell_type": "code",
      "source": [
        "!./out\n",
        "# without CMake"
      ],
      "metadata": {
        "colab": {
          "base_uri": "https://localhost:8080/"
        },
        "id": "re1jJ4kxn3Qy",
        "outputId": "f9d932bb-dc6c-4836-f9d6-fbadf0f30bcb",
        "collapsed": true
      },
      "execution_count": null,
      "outputs": [
        {
          "output_type": "stream",
          "name": "stdout",
          "text": [
            "matrix 2x3 from 1 to 6: \n",
            "1 2 3\n",
            "4 5 6\n",
            "print matrix 2x3: \n",
            "1\t2\t3\t\n",
            "4\t5\t6\t\n",
            "[1,2,3;4,5,6]*[3,2,1]=10 28\n",
            "[1,2,3;4,5,6]*[4,5,6]: 32 77\n",
            "random matrix: \n",
            " 0.696235   0.33421  0.445064\n",
            " 0.205189 -0.469531 -0.632501\n",
            "-0.414795  0.927654 0.0241114\n",
            "transpose: \n",
            " 0.696235  0.205189 -0.414795\n",
            "  0.33421 -0.469531  0.927654\n",
            " 0.445064 -0.632501 0.0241114\n",
            "sum: 1.11564\n",
            "trace: 0.250815\n",
            "times 10: \n",
            " 6.96235   3.3421  4.45064\n",
            " 2.05189 -4.69531 -6.32501\n",
            "-4.14795  9.27654 0.241114\n",
            "inverse: \n",
            "    1.18719    0.835184 -0.00498602\n",
            "   0.531081    0.415517     1.09697\n",
            "-0.00910909    -1.61854    -0.81594\n",
            "det: 0.484692\n",
            "Eigen values = \n",
            "0.194022\n",
            "0.820395\n",
            "  1.4759\n",
            "Eigen vectors = \n",
            "  0.480074   0.857114  -0.186771\n",
            "  0.467377 -0.0697389   0.881303\n",
            " -0.742352   0.510383   0.434076\n",
            "time of normal inverse is 4.391ms\n",
            "x = -16.8265 -14.5831  29.6636 -30.1816 -27.4292  -28.372 -31.1628 -13.2139  16.5154 -7.74579  9.28486  11.8685   2.6383  5.07586  37.7889  -26.267  14.9718 -12.0632    18.13  50.2289  1.81091 -43.8355 -11.3995  4.56593  44.1516  39.5851  9.84775  32.1294  1.34583  29.6492  43.8314  34.1117 -25.5989  26.8632 -9.11761 -7.04639 -27.7952 -52.5674  24.9606  42.6293   45.741  18.4287  13.5431  18.2915 -14.3733 -26.9903  13.0188 -9.11532   36.055 -4.40955\n",
            "time of Qr decomposition is 3.81ms\n",
            "x = -16.8265 -14.5831  29.6636 -30.1816 -27.4292  -28.372 -31.1628 -13.2139  16.5154 -7.74579  9.28486  11.8685   2.6383  5.07586  37.7889  -26.267  14.9718 -12.0632    18.13  50.2289  1.81091 -43.8355 -11.3995  4.56593  44.1516  39.5851  9.84775  32.1294  1.34583  29.6492  43.8314  34.1117 -25.5989  26.8632 -9.11761 -7.04639 -27.7952 -52.5674  24.9606  42.6293   45.741  18.4287  13.5431  18.2915 -14.3733 -26.9903  13.0188 -9.11532   36.055 -4.40955\n",
            "time of ldlt decomposition is 1.161ms\n",
            "x = -16.8265 -14.5831  29.6636 -30.1816 -27.4292  -28.372 -31.1628 -13.2139  16.5154 -7.74579  9.28486  11.8685   2.6383  5.07586  37.7889  -26.267  14.9718 -12.0632    18.13  50.2289  1.81091 -43.8355 -11.3995  4.56593  44.1516  39.5851  9.84775  32.1294  1.34583  29.6492  43.8314  34.1117 -25.5989  26.8632 -9.11761 -7.04639 -27.7952 -52.5674  24.9606  42.6293   45.741  18.4287  13.5431  18.2915 -14.3733 -26.9903  13.0188 -9.11532   36.055 -4.40955\n"
          ]
        }
      ]
    },
    {
      "cell_type": "markdown",
      "source": [
        "#### **Using CMake**"
      ],
      "metadata": {
        "id": "Bb_OPryjsGB1"
      }
    },
    {
      "cell_type": "code",
      "source": [
        "%cd .."
      ],
      "metadata": {
        "id": "WYQmjClA05X8"
      },
      "execution_count": null,
      "outputs": []
    },
    {
      "cell_type": "code",
      "source": [
        "%%writefile CMakeLists.txt\n",
        "\n",
        "cmake_minimum_required(VERSION 2.8)\n",
        "project(useEigen)\n",
        "\n",
        "set(CMAKE_BUILD_TYPE \"Release\")\n",
        "set(CMAKE_CXX_FLAGS \"-O3\")\n",
        "\n",
        "# 添加Eigen头文件\n",
        "include_directories(\"/usr/include/eigen3\")\n",
        "add_executable(eigenMatrix eigenMatrix.cpp)"
      ],
      "metadata": {
        "colab": {
          "base_uri": "https://localhost:8080/"
        },
        "id": "YHkfh9FoqhOW",
        "outputId": "1196603b-bf0e-4026-8de6-3577400cbcc3"
      },
      "execution_count": null,
      "outputs": [
        {
          "output_type": "stream",
          "name": "stdout",
          "text": [
            "Overwriting CMakeLists.txt\n"
          ]
        }
      ]
    },
    {
      "cell_type": "code",
      "source": [
        "!mkdir my_build\n",
        "%cd my_build/"
      ],
      "metadata": {
        "colab": {
          "base_uri": "https://localhost:8080/"
        },
        "id": "F2vUfodFrw2a",
        "outputId": "7d6e07cb-8737-42f3-830e-be87e3b649f4"
      },
      "execution_count": null,
      "outputs": [
        {
          "output_type": "stream",
          "name": "stdout",
          "text": [
            "/content/eigen/my_build2\n"
          ]
        }
      ]
    },
    {
      "cell_type": "code",
      "source": [
        "!cmake .."
      ],
      "metadata": {
        "colab": {
          "base_uri": "https://localhost:8080/"
        },
        "id": "wBYEZcKQr09P",
        "outputId": "55989771-578b-4a4a-cdb9-39c4d94ebcf6",
        "collapsed": true
      },
      "execution_count": null,
      "outputs": [
        {
          "output_type": "stream",
          "name": "stdout",
          "text": [
            "\u001b[0mCMake Deprecation Warning at CMakeLists.txt:2 (cmake_minimum_required):\n",
            "  Compatibility with CMake < 3.5 will be removed from a future version of\n",
            "  CMake.\n",
            "\n",
            "  Update the VERSION argument <min> value or use a ...<max> suffix to tell\n",
            "  CMake that the project does not need compatibility with older versions.\n",
            "\n",
            "\u001b[0m\n",
            "-- The C compiler identification is GNU 11.4.0\n",
            "-- The CXX compiler identification is GNU 11.4.0\n",
            "-- Detecting C compiler ABI info\n",
            "-- Detecting C compiler ABI info - done\n",
            "-- Check for working C compiler: /usr/bin/cc - skipped\n",
            "-- Detecting C compile features\n",
            "-- Detecting C compile features - done\n",
            "-- Detecting CXX compiler ABI info\n",
            "-- Detecting CXX compiler ABI info - done\n",
            "-- Check for working CXX compiler: /usr/bin/c++ - skipped\n",
            "-- Detecting CXX compile features\n",
            "-- Detecting CXX compile features - done\n",
            "-- Configuring done (0.4s)\n",
            "-- Generating done (0.0s)\n",
            "-- Build files have been written to: /content/eigen/my_build2\n"
          ]
        }
      ]
    },
    {
      "cell_type": "code",
      "source": [
        "!make eigenMatrix"
      ],
      "metadata": {
        "colab": {
          "base_uri": "https://localhost:8080/"
        },
        "id": "GDh4n08Yr3T5",
        "outputId": "f7e6aec6-c51c-4204-b6b5-b0d44f23b931"
      },
      "execution_count": null,
      "outputs": [
        {
          "output_type": "stream",
          "name": "stdout",
          "text": [
            "[ 50%] \u001b[32mBuilding CXX object CMakeFiles/eigenMatrix.dir/eigenMatrix.cpp.o\u001b[0m\n",
            "[100%] \u001b[32m\u001b[1mLinking CXX executable eigenMatrix\u001b[0m\n",
            "[100%] Built target eigenMatrix\n"
          ]
        }
      ]
    },
    {
      "cell_type": "code",
      "source": [
        "!./eigenMatrix"
      ],
      "metadata": {
        "colab": {
          "base_uri": "https://localhost:8080/"
        },
        "id": "f58ZwEnrsAUR",
        "outputId": "e9ccc98e-4c42-4c36-f7d1-71404bee3517",
        "collapsed": true
      },
      "execution_count": null,
      "outputs": [
        {
          "output_type": "stream",
          "name": "stdout",
          "text": [
            "matrix 2x3 from 1 to 6: \n",
            "1 2 3\n",
            "4 5 6\n",
            "print matrix 2x3: \n",
            "1\t2\t3\t\n",
            "4\t5\t6\t\n",
            "[1,2,3;4,5,6]*[3,2,1]=10 28\n",
            "[1,2,3;4,5,6]*[4,5,6]: 32 77\n",
            "random matrix: \n",
            " 0.696235   0.33421  0.445064\n",
            " 0.205189 -0.469531 -0.632501\n",
            "-0.414795  0.927654 0.0241114\n",
            "transpose: \n",
            " 0.696235  0.205189 -0.414795\n",
            "  0.33421 -0.469531  0.927654\n",
            " 0.445064 -0.632501 0.0241114\n",
            "sum: 1.11564\n",
            "trace: 0.250815\n",
            "times 10: \n",
            " 6.96235   3.3421  4.45064\n",
            " 2.05189 -4.69531 -6.32501\n",
            "-4.14795  9.27654 0.241114\n",
            "inverse: \n",
            "    1.18719    0.835184 -0.00498602\n",
            "   0.531081    0.415517     1.09697\n",
            "-0.00910909    -1.61854    -0.81594\n",
            "det: 0.484692\n",
            "Eigen values = \n",
            "0.194022\n",
            "0.820395\n",
            "  1.4759\n",
            "Eigen vectors = \n",
            "  0.480074   0.857114  -0.186771\n",
            "  0.467377 -0.0697389   0.881303\n",
            " -0.742352   0.510383   0.434076\n",
            "time of normal inverse is 0.317ms\n",
            "x = -16.8265 -14.5831  29.6636 -30.1816 -27.4292  -28.372 -31.1628 -13.2139  16.5154 -7.74579  9.28486  11.8685   2.6383  5.07586  37.7889  -26.267  14.9718 -12.0632    18.13  50.2289  1.81091 -43.8355 -11.3995  4.56593  44.1516  39.5851  9.84775  32.1294  1.34583  29.6492  43.8314  34.1117 -25.5989  26.8632 -9.11761 -7.04639 -27.7952 -52.5674  24.9606  42.6293   45.741  18.4287  13.5431  18.2915 -14.3733 -26.9903  13.0188 -9.11532   36.055 -4.40955\n",
            "time of Qr decomposition is 0.125ms\n",
            "x = -16.8265 -14.5831  29.6636 -30.1816 -27.4292  -28.372 -31.1628 -13.2139  16.5154 -7.74579  9.28486  11.8685   2.6383  5.07586  37.7889  -26.267  14.9718 -12.0632    18.13  50.2289  1.81091 -43.8355 -11.3995  4.56593  44.1516  39.5851  9.84775  32.1294  1.34583  29.6492  43.8314  34.1117 -25.5989  26.8632 -9.11761 -7.04639 -27.7952 -52.5674  24.9606  42.6293   45.741  18.4287  13.5431  18.2915 -14.3733 -26.9903  13.0188 -9.11532   36.055 -4.40955\n",
            "time of ldlt decomposition is 0.057ms\n",
            "x = -16.8265 -14.5831  29.6636 -30.1816 -27.4292  -28.372 -31.1628 -13.2139  16.5154 -7.74579  9.28486  11.8685   2.6383  5.07586  37.7889  -26.267  14.9718 -12.0632    18.13  50.2289  1.81091 -43.8355 -11.3995  4.56593  44.1516  39.5851  9.84775  32.1294  1.34583  29.6492  43.8314  34.1117 -25.5989  26.8632 -9.11761 -7.04639 -27.7952 -52.5674  24.9606  42.6293   45.741  18.4287  13.5431  18.2915 -14.3733 -26.9903  13.0188 -9.11532   36.055 -4.40955\n"
          ]
        }
      ]
    },
    {
      "cell_type": "markdown",
      "source": [
        "### **SLAM Book 2: Eigen Geometry Module**"
      ],
      "metadata": {
        "id": "ze8mh25H2CqV"
      }
    },
    {
      "cell_type": "markdown",
      "source": [
        "**Page 50**\\\n",
        "https://github.com/gaoxiang12/slambook2/blob/master/ch3/useGeometry/useGeometry.cpp"
      ],
      "metadata": {
        "id": "VftiFrkNyzot"
      }
    },
    {
      "cell_type": "markdown",
      "source": [
        "Now, let's practice the various rotation expressions mentioned earlier. We will use quaternions, Euler angles, and rotation matrices in Eigen to demonstrate how they are transformed. We will also provide a visualization program to help the reader understand the relationship between these transformations."
      ],
      "metadata": {
        "id": "O_1rO_klLTgP"
      }
    },
    {
      "cell_type": "markdown",
      "source": [
        "The various forms of expression in Eigen are summarized below. Note that each type has both single and double precision types and, as before, cannot be\n",
        "automatically converted by the compiler. Taking the double-precision as an example, you can simply change the last “d” to “f” to use a single-precision data structure."
      ],
      "metadata": {
        "id": "KHReBYW-LzLO"
      }
    },
    {
      "cell_type": "markdown",
      "source": [
        "* Rotation matrix (3 X 3): Eigen::Matrix3d.\n",
        "* Rotation vector (3 X 1): Eigen::AngleAxisd.\n",
        "* Euler angle (3 X 1): Eigen::Vector3d.\n",
        "* Quaternion (4 X 1): Eigen::Quaterniond.\n",
        "* Euclidean transformation matrix (4 X 4): Eigen::Isometry3d.\n",
        "* Affine transform (4 X 4): Eigen::Affine3d.\n",
        "* Perspective transformation (4 X 4): Eigen::Projective3d."
      ],
      "metadata": {
        "id": "ZdC2ZSSeMAGY"
      }
    },
    {
      "cell_type": "code",
      "source": [
        "!pwd"
      ],
      "metadata": {
        "colab": {
          "base_uri": "https://localhost:8080/"
        },
        "id": "usWlbz_00xJw",
        "outputId": "ceffe634-6ac3-4895-b934-13edf202055b"
      },
      "execution_count": null,
      "outputs": [
        {
          "output_type": "stream",
          "name": "stdout",
          "text": [
            "/content/eigen/my_build2\n"
          ]
        }
      ]
    },
    {
      "cell_type": "code",
      "source": [
        "%cd .."
      ],
      "metadata": {
        "colab": {
          "base_uri": "https://localhost:8080/"
        },
        "id": "kvAogsEw0ymI",
        "outputId": "84726295-71fc-47b8-a0ef-c90b4d11b4dc"
      },
      "execution_count": null,
      "outputs": [
        {
          "output_type": "stream",
          "name": "stdout",
          "text": [
            "/content/eigen\n"
          ]
        }
      ]
    },
    {
      "cell_type": "code",
      "source": [
        "%%writefile eigenGeometry.cpp\n",
        "\n",
        "#include <iostream>\n",
        "#include <cmath>\n",
        "\n",
        "using namespace std;\n",
        "\n",
        "#include \"Eigen/Core\"\n",
        "#include \"Eigen/Geometry\"\n",
        "\n",
        "using namespace Eigen;\n",
        "\n",
        "// This program demonstrates the use of Eigen geometry module\n",
        "int main(int argc, char **argv) {\n",
        "  // The Eigen/Geometry module provides various representations of rotations and translations\n",
        "  // 3D rotation matrix is ​​used directly using Matrix3d or Matrix3f\n",
        "  Matrix3d rotation_matrix = Matrix3d::Identity();\n",
        "\n",
        "  // The rotation vector uses AngleAxis, the underlying layer is not directly Matrix,\n",
        "  // but the operation can be treated as a matrix (because the operator is overloaded)\n",
        "  AngleAxisd rotation_vector(M_PI / 4, Vector3d(0, 0, 1));     //Rotate 45 degrees along the Z axis\n",
        "  cout.precision(3);\n",
        "  cout << \"rotation matrix =\\n\" << rotation_vector.matrix() << endl;   //use matrix()Convert to matrix\n",
        "  // You can also assign values ​​directly\n",
        "  rotation_matrix = rotation_vector.toRotationMatrix();\n",
        "  // using AngleAxis Coordinate transformation is possible\n",
        "  Vector3d v(1, 0, 0);\n",
        "  Vector3d v_rotated = rotation_vector * v;\n",
        "  cout << \"(1,0,0) after rotation (by angle axis) = \" << v_rotated.transpose() << endl;\n",
        "  // Or use rotation matrix\n",
        "  v_rotated = rotation_matrix * v;\n",
        "  cout << \"(1,0,0) after rotation (by matrix) = \" << v_rotated.transpose() << endl;\n",
        "\n",
        "// Euler angles: The rotation matrix can be directly converted into Euler angles\n",
        "  Vector3d euler_angles = rotation_matrix.eulerAngles(2, 1, 0); // ZYX order, that is, yaw-pitch-roll order\n",
        "  cout << \"yaw pitch roll = \" << euler_angles.transpose() << endl;\n",
        "\n",
        "  // Euclidean transformation matrix usage Eigen::Isometry\n",
        "  Isometry3d T = Isometry3d::Identity();                // Although it is called 3D, it is actually a 4*4 matrix.\n",
        "  T.rotate(rotation_vector);                                     // Rotate according to rotation_vector\n",
        "  T.pretranslate(Vector3d(1, 3, 4));                     // Set the translation vector to (1,3,4)\n",
        "  cout << \"Transform matrix = \\n\" << T.matrix() << endl;\n",
        "\n",
        "  // Coordinate transformation using transformation matrix\n",
        "  Vector3d v_transformed = T * v;                              // Equivalent to R*v+t\n",
        "  cout << \"v tranformed = \" << v_transformed.transpose() << endl;\n",
        "\n",
        "  // For affine and projective transformations, use Eigen::Affine3d and Eigen::Projective3d That’s it, omit\n",
        "\n",
        "  // Quaternions\n",
        "  // You can directly assign AngleAxis to quaternion and vice versa\n",
        "  Quaterniond q = Quaterniond(rotation_vector);\n",
        "  cout << \"quaternion from rotation vector = \" << q.coeffs().transpose()\n",
        "       << endl;   // Please note that the order of coeffs is(x,y,z,w),\n",
        "      //  w is the real part, the first three are the imaginary part\n",
        "  // You can also assign the rotation matrix to it\n",
        "  q = Quaterniond(rotation_matrix);\n",
        "  cout << \"quaternion from rotation matrix = \" << q.coeffs().transpose() << endl;\n",
        "\n",
        "  // Rotate a vector using quaternions, using overloaded multiplication\n",
        "  v_rotated = q * v; // Note that mathematically it is qvq^{-1}\n",
        "  cout << \"(1,0,0) after rotation = \" << v_rotated.transpose() << endl;\n",
        "\n",
        "  // Expressed by regular vector multiplication, it should be calculated as follows\n",
        "  cout << \"should be equal to \" << (q * Quaterniond(0, 1, 0, 0) * q.inverse()).coeffs().transpose() << endl;\n",
        "\n",
        "  return 0;\n",
        "}"
      ],
      "metadata": {
        "colab": {
          "base_uri": "https://localhost:8080/"
        },
        "id": "YWfW9CB_zzKh",
        "outputId": "539b633d-1043-4452-a961-f4bc769314ec"
      },
      "execution_count": null,
      "outputs": [
        {
          "output_type": "stream",
          "name": "stdout",
          "text": [
            "Writing eigenGeometry.cpp\n"
          ]
        }
      ]
    },
    {
      "cell_type": "code",
      "source": [
        "%%writefile CMakeLists.txt\n",
        "\n",
        "cmake_minimum_required( VERSION 2.8 )\n",
        "project( geometry )\n",
        "\n",
        "# Add Eigen header file\n",
        "include_directories( \"/usr/include/eigen3\" )\n",
        "\n",
        "add_executable(eigenGeometry eigenGeometry.cpp)"
      ],
      "metadata": {
        "colab": {
          "base_uri": "https://localhost:8080/"
        },
        "id": "LhKF_8Elz-zw",
        "outputId": "443103fa-402e-4f01-c054-e4ad40ceb095"
      },
      "execution_count": null,
      "outputs": [
        {
          "output_type": "stream",
          "name": "stdout",
          "text": [
            "Overwriting CMakeLists.txt\n"
          ]
        }
      ]
    },
    {
      "cell_type": "code",
      "source": [
        "!mkdir eigenGeometry_build\n",
        "%cd eigenGeometry_build/"
      ],
      "metadata": {
        "colab": {
          "base_uri": "https://localhost:8080/"
        },
        "id": "GkX-be7q0agQ",
        "outputId": "ac5bd7de-c688-4e83-ac58-03575d297a5c"
      },
      "execution_count": null,
      "outputs": [
        {
          "output_type": "stream",
          "name": "stdout",
          "text": [
            "/content/eigen/eigenGeometry_build\n"
          ]
        }
      ]
    },
    {
      "cell_type": "code",
      "source": [
        "!cmake .."
      ],
      "metadata": {
        "colab": {
          "base_uri": "https://localhost:8080/"
        },
        "id": "rOGv8pdK0jCI",
        "outputId": "38518829-c79b-409e-b816-f156c7df4df9"
      },
      "execution_count": null,
      "outputs": [
        {
          "output_type": "stream",
          "name": "stdout",
          "text": [
            "\u001b[0mCMake Deprecation Warning at CMakeLists.txt:2 (cmake_minimum_required):\n",
            "  Compatibility with CMake < 3.5 will be removed from a future version of\n",
            "  CMake.\n",
            "\n",
            "  Update the VERSION argument <min> value or use a ...<max> suffix to tell\n",
            "  CMake that the project does not need compatibility with older versions.\n",
            "\n",
            "\u001b[0m\n",
            "-- The C compiler identification is GNU 11.4.0\n",
            "-- The CXX compiler identification is GNU 11.4.0\n",
            "-- Detecting C compiler ABI info\n",
            "-- Detecting C compiler ABI info - done\n",
            "-- Check for working C compiler: /usr/bin/cc - skipped\n",
            "-- Detecting C compile features\n",
            "-- Detecting C compile features - done\n",
            "-- Detecting CXX compiler ABI info\n",
            "-- Detecting CXX compiler ABI info - done\n",
            "-- Check for working CXX compiler: /usr/bin/c++ - skipped\n",
            "-- Detecting CXX compile features\n",
            "-- Detecting CXX compile features - done\n",
            "-- Configuring done (0.6s)\n",
            "-- Generating done (0.0s)\n",
            "-- Build files have been written to: /content/eigen/eigenGeometry_build\n"
          ]
        }
      ]
    },
    {
      "cell_type": "code",
      "source": [
        "!make eigenGeometry"
      ],
      "metadata": {
        "colab": {
          "base_uri": "https://localhost:8080/"
        },
        "id": "hKULoni00nNf",
        "outputId": "31e83455-e67c-4e8e-f7ba-ab9be4303ee5"
      },
      "execution_count": null,
      "outputs": [
        {
          "output_type": "stream",
          "name": "stdout",
          "text": [
            "[ 50%] \u001b[32mBuilding CXX object CMakeFiles/eigenGeometry.dir/eigenGeometry.cpp.o\u001b[0m\n",
            "\u001b[01m\u001b[K/content/eigen/eigenGeometry.cpp:\u001b[m\u001b[K In function ‘\u001b[01m\u001b[Kint main(int, char**)\u001b[m\u001b[K’:\n",
            "\u001b[01m\u001b[K/content/eigen/eigenGeometry.cpp:34:54:\u001b[m\u001b[K \u001b[01;35m\u001b[Kwarning: \u001b[m\u001b[K‘\u001b[01m\u001b[KEigen::Matrix<typename Eigen::internal::traits<T>::Scalar, 3, 1> Eigen::MatrixBase<Derived>::eulerAngles(Eigen::Index, Eigen::Index, Eigen::Index) const [with Derived = Eigen::Matrix<double, 3, 3>; typename Eigen::internal::traits<T>::Scalar = double; Eigen::Index = long int]\u001b[m\u001b[K’ is deprecated [\u001b[01;35m\u001b[K\u001b]8;;https://gcc.gnu.org/onlinedocs/gcc/Warning-Options.html#index-Wdeprecated-declarations\u0007-Wdeprecated-declarations\u001b]8;;\u0007\u001b[m\u001b[K]\n",
            "   34 |   Vector3d euler_angles = \u001b[01;35m\u001b[Krotation_matrix.eulerAngles(2, 1, 0)\u001b[m\u001b[K; // ZYX顺序，即yaw-pitch-roll顺序\n",
            "      |                           \u001b[01;35m\u001b[K~~~~~~~~~~~~~~~~~~~~~~~~~~~^~~~~~~~~\u001b[m\u001b[K\n",
            "In file included from \u001b[01m\u001b[K/content/eigen/Eigen/Geometry:39\u001b[m\u001b[K,\n",
            "                 from \u001b[01m\u001b[K/content/eigen/eigenGeometry.cpp:8\u001b[m\u001b[K:\n",
            "\u001b[01m\u001b[K/content/eigen/Eigen/src/Geometry/EulerAngles.h:137:1:\u001b[m\u001b[K \u001b[01;36m\u001b[Knote: \u001b[m\u001b[Kdeclared here\n",
            "  137 | \u001b[01;36m\u001b[KMatrixBase<Derived>\u001b[m\u001b[K::eulerAngles(Index a0, Index a1, Index a2) const {\n",
            "      | \u001b[01;36m\u001b[K^~~~~~~~~~~~~~~~~~~\u001b[m\u001b[K\n",
            "[100%] \u001b[32m\u001b[1mLinking CXX executable eigenGeometry\u001b[0m\n",
            "[100%] Built target eigenGeometry\n"
          ]
        }
      ]
    },
    {
      "cell_type": "code",
      "source": [
        "! ./eigenGeometry"
      ],
      "metadata": {
        "colab": {
          "base_uri": "https://localhost:8080/"
        },
        "id": "95jwLLve0po6",
        "outputId": "de433210-a5fb-49ef-e982-9617d8de9265"
      },
      "execution_count": null,
      "outputs": [
        {
          "output_type": "stream",
          "name": "stdout",
          "text": [
            "rotation matrix =\n",
            " 0.707 -0.707      0\n",
            " 0.707  0.707      0\n",
            "     0      0      1\n",
            "(1,0,0) after rotation (by angle axis) = 0.707 0.707     0\n",
            "(1,0,0) after rotation (by matrix) = 0.707 0.707     0\n",
            "yaw pitch roll = 0.785    -0     0\n",
            "Transform matrix = \n",
            " 0.707 -0.707      0      1\n",
            " 0.707  0.707      0      3\n",
            "     0      0      1      4\n",
            "     0      0      0      1\n",
            "v tranformed = 1.71 3.71    4\n",
            "quaternion from rotation vector =     0     0 0.383 0.924\n",
            "quaternion from rotation matrix =     0     0 0.383 0.924\n",
            "(1,0,0) after rotation = 0.707 0.707     0\n",
            "should be equal to 0.707 0.707     0     0\n"
          ]
        }
      ]
    },
    {
      "cell_type": "markdown",
      "source": [
        "### **SLAM Book 2: Coordinate Transformation Example**"
      ],
      "metadata": {
        "id": "-8iRmqZ04lef"
      }
    },
    {
      "cell_type": "markdown",
      "source": [
        "**Page 52**\\\n",
        "https://github.com/gaoxiang12/slambook2/blob/master/ch3/examples/coordinateTransform.cpp"
      ],
      "metadata": {
        "id": "yRT4JC962ZHg"
      }
    },
    {
      "cell_type": "code",
      "source": [
        "!pwd"
      ],
      "metadata": {
        "colab": {
          "base_uri": "https://localhost:8080/"
        },
        "id": "39E9MY9N435A",
        "outputId": "fb61884c-4c89-47ed-ef63-be4e54149a12"
      },
      "execution_count": null,
      "outputs": [
        {
          "output_type": "stream",
          "name": "stdout",
          "text": [
            "/content/eigen/eigenGeometry_build\n"
          ]
        }
      ]
    },
    {
      "cell_type": "code",
      "source": [
        "%cd .."
      ],
      "metadata": {
        "colab": {
          "base_uri": "https://localhost:8080/"
        },
        "id": "znF16kRm4301",
        "outputId": "3692d3bb-0012-4fc9-f2a4-91e1670fdff6"
      },
      "execution_count": null,
      "outputs": [
        {
          "output_type": "stream",
          "name": "stdout",
          "text": [
            "/content/eigen\n"
          ]
        }
      ]
    },
    {
      "cell_type": "code",
      "source": [
        "%%writefile coordinateTransform.cpp\n",
        "\n",
        "#include <iostream>\n",
        "#include <vector>\n",
        "#include <algorithm>\n",
        "#include \"Eigen/Core\"\n",
        "#include \"Eigen/Geometry\"\n",
        "\n",
        "using namespace std;\n",
        "using namespace Eigen;\n",
        "\n",
        "int main(int argc, char** argv) {\n",
        "\n",
        "  // Quaternions\n",
        "  Quaterniond q1(0.35, 0.2, 0.3, 0.1), q2(-0.5, 0.4, -0.1, 0.2);\n",
        "  q1.normalize();\n",
        "  q2.normalize();\n",
        "\n",
        "  // rotation_vector\n",
        "  Vector3d t1(0.3, 0.1, 0.1), t2(-0.1, 0.5, 0.3);\n",
        "  Vector3d p1(0.5, 0, 0.2);\n",
        "\n",
        "  // Euclidean transformation matrix usage Eigen::Isometry (SE(3))\n",
        "  Isometry3d T1w(q1), T2w(q2);\n",
        "  T1w.pretranslate(t1);\n",
        "  T2w.pretranslate(t2);\n",
        "\n",
        "  Vector3d p2 = T2w * T1w.inverse() * p1;\n",
        "  cout << endl << p2.transpose() << endl;\n",
        "  return 0;\n",
        "\n",
        "}"
      ],
      "metadata": {
        "colab": {
          "base_uri": "https://localhost:8080/"
        },
        "id": "PIwuUBPT48XK",
        "outputId": "ecd5ba11-7f8f-46da-d1cc-1edf390d1821"
      },
      "execution_count": null,
      "outputs": [
        {
          "output_type": "stream",
          "name": "stdout",
          "text": [
            "Writing coordinateTransform.cpp\n"
          ]
        }
      ]
    },
    {
      "cell_type": "code",
      "source": [
        "%%writefile plotTrajectory.cpp\n",
        "#include <pangolin/pangolin.h>\n",
        "#include \"Eigen/Core\"\n",
        "#include <unistd.h>\n",
        "\n",
        "// This example demonstrates how to draw a pre-stored trajectory.\n",
        "// timestamp x y z q_x q_y q_z q_w\n",
        "\n",
        "using namespace std;\n",
        "using namespace Eigen;\n",
        "\n",
        "// path to trajectory file\n",
        "string trajectory_file = \"./examples/trajectory.txt\";\n",
        "\n",
        "void DrawTrajectory(vector<Isometry3d, Eigen::aligned_allocator<Isometry3d>>);\n",
        "\n",
        "int main(int argc, char **argv) {\n",
        "\n",
        "  vector<Isometry3d, Eigen::aligned_allocator<Isometry3d>> poses;\n",
        "  ifstream fin(trajectory_file);\n",
        "  if (!fin) {\n",
        "    cout << \"cannot find trajectory file at \" << trajectory_file << endl;\n",
        "    return 1;\n",
        "  }\n",
        "\n",
        "  while (!fin.eof()) {\n",
        "    double time, tx, ty, tz, qx, qy, qz, qw;\n",
        "    fin >> time >> tx >> ty >> tz >> qx >> qy >> qz >> qw;\n",
        "    Isometry3d Twr(Quaterniond(qw, qx, qy, qz));\n",
        "    Twr.pretranslate(Vector3d(tx, ty, tz));\n",
        "    poses.push_back(Twr);\n",
        "  }\n",
        "  cout << \"read total \" << poses.size() << \" pose entries\" << endl;\n",
        "\n",
        "  // draw trajectory in pangolin\n",
        "  DrawTrajectory(poses);\n",
        "  return 0;\n",
        "}\n",
        "\n",
        "/*******************************************************************************************/\n",
        "void DrawTrajectory(vector<Isometry3d, Eigen::aligned_allocator<Isometry3d>> poses) {\n",
        "  // create pangolin window and plot the trajectory\n",
        "  pangolin::CreateWindowAndBind(\"Trajectory Viewer\", 1024, 768);\n",
        "  glEnable(GL_DEPTH_TEST);\n",
        "  glEnable(GL_BLEND);\n",
        "  glBlendFunc(GL_SRC_ALPHA, GL_ONE_MINUS_SRC_ALPHA);\n",
        "\n",
        "  pangolin::OpenGlRenderState s_cam(\n",
        "    pangolin::ProjectionMatrix(1024, 768, 500, 500, 512, 389, 0.1, 1000),\n",
        "    pangolin::ModelViewLookAt(0, -0.1, -1.8, 0, 0, 0, 0.0, -1.0, 0.0)\n",
        "  );\n",
        "\n",
        "  pangolin::View &d_cam = pangolin::CreateDisplay()\n",
        "    .SetBounds(0.0, 1.0, 0.0, 1.0, -1024.0f / 768.0f)\n",
        "    .SetHandler(new pangolin::Handler3D(s_cam));\n",
        "\n",
        "  while (pangolin::ShouldQuit() == false) {\n",
        "    glClear(GL_COLOR_BUFFER_BIT | GL_DEPTH_BUFFER_BIT);\n",
        "    d_cam.Activate(s_cam);\n",
        "    glClearColor(1.0f, 1.0f, 1.0f, 1.0f);\n",
        "    glLineWidth(2);\n",
        "    for (size_t i = 0; i < poses.size(); i++) {\n",
        "      // Draw the three coordinate axes for each pose\n",
        "      Vector3d Ow = poses[i].translation();\n",
        "      Vector3d Xw = poses[i] * (0.1 * Vector3d(1, 0, 0));\n",
        "      Vector3d Yw = poses[i] * (0.1 * Vector3d(0, 1, 0));\n",
        "      Vector3d Zw = poses[i] * (0.1 * Vector3d(0, 0, 1));\n",
        "      glBegin(GL_LINES);\n",
        "      glColor3f(1.0, 0.0, 0.0);\n",
        "      glVertex3d(Ow[0], Ow[1], Ow[2]);\n",
        "      glVertex3d(Xw[0], Xw[1], Xw[2]);\n",
        "      glColor3f(0.0, 1.0, 0.0);\n",
        "      glVertex3d(Ow[0], Ow[1], Ow[2]);\n",
        "      glVertex3d(Yw[0], Yw[1], Yw[2]);\n",
        "      glColor3f(0.0, 0.0, 1.0);\n",
        "      glVertex3d(Ow[0], Ow[1], Ow[2]);\n",
        "      glVertex3d(Zw[0], Zw[1], Zw[2]);\n",
        "      glEnd();\n",
        "    }\n",
        "    // Draw a connection\n",
        "    for (size_t i = 0; i < poses.size(); i++) {\n",
        "      glColor3f(0.0, 0.0, 0.0);\n",
        "      glBegin(GL_LINES);\n",
        "      auto p1 = poses[i], p2 = poses[i + 1];\n",
        "      glVertex3d(p1.translation()[0], p1.translation()[1], p1.translation()[2]);\n",
        "      glVertex3d(p2.translation()[0], p2.translation()[1], p2.translation()[2]);\n",
        "      glEnd();\n",
        "    }\n",
        "    pangolin::FinishFrame();\n",
        "    usleep(5000);   // sleep 5 ms\n",
        "  }\n",
        "}"
      ],
      "metadata": {
        "id": "iZzGqjJn5ioC"
      },
      "execution_count": null,
      "outputs": []
    },
    {
      "cell_type": "code",
      "source": [
        "%%writefile trajectory.txt\n",
        "\n",
        "// timestamp x y z q_x q_y q_z q_w\n",
        "\n",
        "1305031526.671473 0.000000000 0.000000000 0.000000000 0.000000000 0.000000000 0.000000000 1.000000000\n",
        "1305031526.707547 0.002883195 -0.004662100 -0.002254304 0.011409802 0.010697415 0.002189494 0.999875307\n",
        "1305031526.771481 0.013978966 -0.013082317 -0.010869596 0.043280017 0.032526672 0.003260542 0.998528004\n",
        "1305031526.807455 -0.001601209 -0.011404546 -0.026841529 0.073491804 0.052071322 0.000915701 0.995935082\n",
        "1305031526.871446 -0.004428456 -0.001333938 -0.042973492 0.115341254 0.070847765 -0.006601509 0.990774155\n",
        "1305031526.907484 -0.006487503 -0.003464771 -0.058195263 0.135408968 0.081248961 -0.010381512 0.987398207\n",
        "1305031526.939618 -0.014331216 -0.013660092 -0.078787915 0.147756621 0.091927201 -0.015138508 0.984625876\n",
        "1305031526.971510 -0.018625503 -0.015494643 -0.089080200 0.165385425 0.100416750 -0.017430481 0.980948687\n",
        "1305031527.007595 -0.020048823 -0.005540572 -0.097900160 0.181910872 0.106515355 -0.017926607 0.977364600\n",
        "1305031527.039512 -0.023435375 -0.009148147 -0.106970325 0.195644155 0.113224901 -0.019022474 0.973931015\n",
        "1305031527.071487 -0.026807848 0.004425369 -0.112307228 0.213958293 0.120352432 -0.020585811 0.969181776\n",
        "1305031527.107498 -0.031070728 0.004864503 -0.118102826 0.221194029 0.125381440 -0.019031256 0.966949105\n",
        "1305031527.139473 -0.030610107 0.008234076 -0.122761726 0.232777029 0.129590198 -0.020409001 0.963641405\n",
        "1305031527.171540 -0.032993812 0.018031888 -0.131125793 0.240357533 0.133578792 -0.019260569 0.961256444\n",
        "1305031527.207588 -0.036744710 0.020500474 -0.137645885 0.239894286 0.135950848 -0.017296137 0.961076975\n",
        "1305031527.271501 -0.043445326 0.041889958 -0.136677355 0.232142463 0.137271211 -0.013112986 0.962857485\n",
        "1305031527.307472 -0.046960510 0.043947175 -0.127684563 0.222602263 0.136040613 -0.011219901 0.965305805\n",
        "1305031527.339636 -0.045433633 0.050494798 -0.122109100 0.214023039 0.131844014 -0.006879775 0.967865646\n",
        "1305031527.371505 -0.044226125 0.053426970 -0.117887422 0.204703599 0.130104840 -0.003915860 0.970130801\n",
        "1305031527.407412 -0.040434089 0.058478922 -0.110622235 0.195923969 0.129179820 -0.000323755 0.972073197\n",
        "1305031527.439476 -0.040064313 0.059549667 -0.107858606 0.184903756 0.129534349 0.003571141 0.974175930\n",
        "1305031527.471497 -0.040355999 0.060254186 -0.104310095 0.174872562 0.129172936 0.005462089 0.976065636\n",
        "1305031527.507487 -0.039378427 0.065345109 -0.099110007 0.165955782 0.128173202 0.006275139 0.977747917\n",
        "1305031527.539741 -0.040670216 0.068688609 -0.094280347 0.155639857 0.128989607 0.007390451 0.979327977\n",
        "1305031527.571506 -0.042678047 0.073601574 -0.091266952 0.142875060 0.129394680 0.008747170 0.981207013\n",
        "1305031527.607559 -0.043199223 0.075706884 -0.086145602 0.128317028 0.129251137 0.009227687 0.983231306\n",
        "1305031527.671547 -0.059779059 0.086170383 -0.080027580 0.096256085 0.124875024 0.008046621 0.987459481\n",
        "1305031527.707520 -0.062977917 0.080318302 -0.075421400 0.081575632 0.118124433 0.010604718 0.989585578\n",
        "1305031527.771461 -0.063968100 0.079457901 -0.070676021 0.062909685 0.104486309 0.013305012 0.992445469\n",
        "1305031527.807581 -0.067149058 0.071368024 -0.072235338 0.050288275 0.096843056 0.014775201 0.993918598\n",
        "1305031527.839601 -0.084145665 0.083385780 -0.065109350 0.049927417 0.091642611 0.016088929 0.994409442\n",
        "1305031527.871464 -0.094857678 0.090055093 -0.066003457 0.044405133 0.080871582 0.012684624 0.995654106\n",
        "1305031527.907477 -0.099260926 0.085766435 -0.058261685 0.034565847 0.067202255 0.009141340 0.997098565\n",
        "1305031527.939566 -0.114897557 0.077028573 -0.058029801 0.028592139 0.054828048 0.000756203 0.998086035\n",
        "1305031527.971502 -0.125279635 0.082915515 -0.061315395 0.033042073 0.038314771 -0.013166402 0.998632491\n",
        "1305031528.039560 -0.149975643 0.084671959 -0.052950244 0.036809143 0.004435565 -0.046019781 0.998252273\n",
        "1305031528.071546 -0.160694852 0.087861642 -0.055381063 0.043458812 -0.012107812 -0.061667852 0.997076631\n",
        "1305031528.107513 -0.176289976 0.090757042 -0.055422220 0.049189046 -0.027869513 -0.077940412 0.995353699\n",
        "1305031528.139513 -0.182451800 0.096339859 -0.055684097 0.055754602 -0.047568955 -0.096469797 0.992633939\n",
        "1305031528.171523 -0.189394832 0.097757049 -0.056705259 0.059309058 -0.062220436 -0.113738760 0.989785075\n",
        "1305031528.207527 -0.202431262 0.095546886 -0.061502121 0.064778626 -0.071393289 -0.133537352 0.986344039\n",
        "1305031528.239493 -0.211042851 0.098279119 -0.066208452 0.074096076 -0.080469146 -0.148469865 0.982848525\n",
        "1305031528.275450 -0.223710716 0.104189500 -0.073275700 0.081444807 -0.093165532 -0.159726724 0.979374468\n",
        "1305031528.307665 -0.244773716 0.107162125 -0.078257680 0.089617550 -0.112386964 -0.174391136 0.974128127\n",
        "1305031528.339593 -0.267502815 0.119377658 -0.079869874 0.100359902 -0.131352678 -0.185550600 0.968630672\n",
        "1305031528.375435 -0.277227014 0.122483246 -0.086401798 0.105153799 -0.156168520 -0.190717027 0.963421524\n",
        "1305031528.407459 -0.286472470 0.125400484 -0.096434973 0.109714307 -0.185297355 -0.197440162 0.956370771\n",
        "1305031528.439469 -0.294514090 0.129935056 -0.100482926 0.113646500 -0.217375934 -0.202731520 0.948014855\n",
        "1305031528.475342 -0.309931368 0.129882887 -0.129739463 0.111446232 -0.240962654 -0.210141197 0.940934300\n",
        "1305031528.539626 -0.329695433 0.143418118 -0.155989200 0.111015044 -0.298002064 -0.219036371 0.922438860\n",
        "1305031528.575449 -0.329237044 0.149565578 -0.154559985 0.106090672 -0.328091890 -0.223088816 0.911773980\n",
        "1305031528.607841 -0.340293765 0.151535481 -0.160942093 0.099514537 -0.350554526 -0.228903219 0.902669191\n",
        "1305031528.639487 -0.340425193 0.165493459 -0.169357076 0.096142113 -0.372110546 -0.231576025 0.893679440\n",
        "1305031528.707447 -0.339044899 0.179300487 -0.177713454 0.078025557 -0.396103621 -0.245452717 0.881343842\n",
        "1305031528.739609 -0.342159748 0.189583004 -0.177449271 0.070908576 -0.403506339 -0.253377467 0.876330137\n",
        "1305031528.775443 -0.341898620 0.206203520 -0.174872875 0.064870313 -0.407845527 -0.261114776 0.872509539\n",
        "1305031528.807559 -0.348404497 0.222904056 -0.195781291 0.056483749 -0.403348863 -0.271214008 0.872102201\n",
        "1305031528.839572 -0.353144258 0.236203671 -0.200213343 0.045424741 -0.405389339 -0.278263241 0.869577825\n",
        "1305031528.875433 -0.357103825 0.256649941 -0.206021339 0.036655750 -0.406093627 -0.286254942 0.867065430\n",
        "1305031528.907519 -0.363840312 0.273261279 -0.213352874 0.023924233 -0.403293431 -0.293037355 0.866551280\n",
        "1305031528.939602 -0.373810410 0.280675173 -0.220558763 0.005930781 -0.399948001 -0.299453437 0.866218269\n",
        "1305031528.975465 -0.383288622 0.293885916 -0.225069121 -0.007588292 -0.398547530 -0.297109455 0.867656767\n",
        "1305031529.007487 -0.387591243 0.312122375 -0.228814498 -0.022781339 -0.395879656 -0.293224841 0.869930744\n",
        "1305031529.039494 -0.396930993 0.326887786 -0.233368337 -0.039953087 -0.387588739 -0.290734917 0.873871803\n",
        "1305031529.075422 -0.409061730 0.334867179 -0.235107094 -0.057665374 -0.375858516 -0.282847494 0.880569339\n",
        "1305031529.107523 -0.420381188 0.348994136 -0.244129315 -0.070332937 -0.359931797 -0.270585924 0.890104294\n",
        "1305031529.139597 -0.432475984 0.367254645 -0.253846556 -0.084366389 -0.344622523 -0.252671927 0.900152504\n",
        "1305031529.175411 -0.442705750 0.384032130 -0.264635384 -0.099091217 -0.330286026 -0.234458074 0.908912241\n",
        "1305031529.207466 -0.461968184 0.417857319 -0.283306688 -0.107409544 -0.308710963 -0.220306739 0.919035196\n",
        "1305031529.239515 -0.474564463 0.434241831 -0.290974945 -0.122858316 -0.295257181 -0.214269757 0.922939599\n",
        "1305031529.275389 -0.488497406 0.454518944 -0.299479723 -0.134992152 -0.277170092 -0.211710542 0.927433312\n",
        "1305031529.307413 -0.505657196 0.462695599 -0.306875080 -0.152041495 -0.259664267 -0.206709743 0.930982769\n",
        "1305031529.339486 -0.530183196 0.486928225 -0.326155573 -0.160189480 -0.237766638 -0.205552071 0.935710788\n",
        "1305031529.375399 -0.554967403 0.482978404 -0.331514835 -0.181723729 -0.229372948 -0.205984905 0.933774471\n",
        "1305031529.407513 -0.573170364 0.494490802 -0.336653709 -0.182107240 -0.230446473 -0.207627431 0.933071375\n",
        "1305031529.439502 -0.592521727 0.509317398 -0.348569959 -0.176561520 -0.225443274 -0.212392747 0.934286177\n",
        "1305031529.475403 -0.613592625 0.520123661 -0.360875040 -0.172136515 -0.218513519 -0.214253858 0.936331213\n",
        "1305031529.507485 -0.633599639 0.528568029 -0.369254827 -0.166303858 -0.213266820 -0.219033107 0.937488556\n",
        "1305031529.539489 -0.651074648 0.528935075 -0.378143847 -0.160415858 -0.206384078 -0.221350908 0.939508438\n",
        "1305031529.607479 -0.686017632 0.545031309 -0.394158632 -0.154660717 -0.191093341 -0.215704605 0.945005238\n",
        "1305031529.639746 -0.701905608 0.552717209 -0.398970723 -0.154912621 -0.184921563 -0.209788874 0.947520316\n",
        "1305031529.675618 -0.719306707 0.559796870 -0.401483953 -0.157197714 -0.176389754 -0.200863779 0.950699389\n",
        "1305031529.707557 -0.735418081 0.563297987 -0.403395295 -0.162735164 -0.169739127 -0.191895753 0.952828407\n",
        "1305031529.739568 -0.746963501 0.566777885 -0.403324068 -0.165786088 -0.164117917 -0.185986936 0.954457521\n",
        "1305031529.775501 -0.761871457 0.562885761 -0.403146863 -0.173444703 -0.152099952 -0.180582851 0.956123650\n",
        "1305031529.807516 -0.782125950 0.550134659 -0.398882180 -0.178626403 -0.136654928 -0.177510321 0.958075225\n",
        "1305031529.839505 -0.801752090 0.562361419 -0.403514504 -0.164821103 -0.120010868 -0.171232879 0.963903904\n",
        "1305031529.875495 -0.825005233 0.565140069 -0.403103828 -0.163723126 -0.107326634 -0.161056474 0.967334747\n",
        "1305031529.939498 -0.862981617 0.568239570 -0.402119935 -0.153819934 -0.099035807 -0.135157794 0.973788321\n",
        "1305031529.975501 -0.880968273 0.572280824 -0.404322088 -0.150892213 -0.094667107 -0.124493204 0.976099968\n",
        "1305031530.007409 -0.905366302 0.569447100 -0.406524211 -0.154951453 -0.086226285 -0.112701796 0.977677524\n",
        "1305031530.039454 -0.928224921 0.566439390 -0.410196871 -0.157523975 -0.081151128 -0.098109439 0.979272783\n",
        "1305031530.075443 -0.950253010 0.559827328 -0.416947931 -0.162434965 -0.077827856 -0.086941622 0.979795277\n",
        "1305031530.107445 -0.969959199 0.551806927 -0.419147462 -0.166437954 -0.076426215 -0.074270479 0.980276167\n",
        "1305031530.139497 -0.990334094 0.546676219 -0.427851111 -0.161496118 -0.075611651 -0.063429944 0.981925905\n",
        "1305031530.175410 -1.011743307 0.532514870 -0.437951684 -0.163490430 -0.073183246 -0.057896268 0.982121706\n",
        "1305031530.207486 -1.026106596 0.520563304 -0.442257732 -0.161179200 -0.074755140 -0.053572387 0.982630610\n",
        "1305031530.239446 -1.046416879 0.508008480 -0.452970088 -0.153883174 -0.071162157 -0.053860974 0.984050274\n",
        "1305031530.275407 -1.064027667 0.502663970 -0.465098500 -0.145707563 -0.066783614 -0.056310035 0.985463560\n",
        "1305031530.307544 -1.084838510 0.495963782 -0.480404109 -0.138100356 -0.059795361 -0.058558144 0.986875772\n",
        "1305031530.339724 -1.100072503 0.492883712 -0.494072199 -0.130769208 -0.053706903 -0.059014130 0.988196492\n",
        "1305031530.375386 -1.120413184 0.486829787 -0.506913781 -0.130313993 -0.043995000 -0.061205465 0.988603354\n",
        "1305031530.407465 -1.137735009 0.470962703 -0.514536798 -0.131977677 -0.037198730 -0.060183074 0.988724470\n",
        "1305031530.439553 -1.155470848 0.461909473 -0.526750922 -0.126318991 -0.030234955 -0.060742665 0.989666462\n",
        "1305031530.475439 -1.170725107 0.454504520 -0.538456917 -0.121499091 -0.024126580 -0.059113618 0.990535975\n",
        "1305031530.507461 -1.180110931 0.439052403 -0.553038239 -0.118578292 -0.020405162 -0.056899898 0.991103053\n",
        "1305031530.539532 -1.191027403 0.419814497 -0.562419176 -0.113885224 -0.011026874 -0.057769980 0.991751552\n",
        "1305031530.575433 -1.200631261 0.397278607 -0.576177061 -0.101490840 0.001630238 -0.058040317 0.993140638\n",
        "1305031530.607559 -1.212776303 0.389287174 -0.602888942 -0.081612900 0.019034607 -0.057921402 0.994797528\n",
        "1305031530.639507 -1.220603108 0.378338605 -0.620145977 -0.066848807 0.038806383 -0.056910057 0.995382607\n",
        "1305031530.675401 -1.233175039 0.370456308 -0.634583414 -0.049930591 0.064168848 -0.054673307 0.995188534\n",
        "1305031530.739522 -1.261493683 0.360025346 -0.682886183 -0.012161122 0.119721055 -0.044118252 0.991752267\n",
        "1305031530.775437 -1.286842823 0.352220833 -0.699633360 -0.001169587 0.149443701 -0.036229160 0.988105595\n",
        "1305031530.807467 -1.315137267 0.367161959 -0.714146852 0.014115841 0.176487401 -0.025651047 0.983867347\n",
        "1305031530.839463 -1.334642172 0.385298789 -0.735829711 0.022136053 0.194981277 -0.011893014 0.980485022\n",
        "1305031530.875401 -1.369665146 0.392395049 -0.718994856 0.019827759 0.211101934 -0.004093302 0.977254331\n",
        "1305031530.939462 -1.440359116 0.392066211 -0.715514898 0.027499944 0.218641758 0.006692985 0.975394666\n",
        "1305031530.975286 -1.467925072 0.411824465 -0.707297087 0.030095484 0.210740373 0.005826227 0.977061331\n",
        "1305031531.039689 -1.532592058 0.420356303 -0.690787911 0.015797708 0.180459052 0.009155454 0.983412981\n",
        "1305031531.075325 -1.562474847 0.429022819 -0.690205455 0.005178453 0.163495257 0.011896124 0.986458778\n",
        "1305031531.139581 -1.601380587 0.422103971 -0.659301877 -0.019878304 0.124184996 0.021121128 0.991835117\n",
        "1305031531.175355 -1.639283180 0.431639075 -0.641484380 -0.024015591 0.109652370 0.022073412 0.993434608\n",
        "1305031531.239619 -1.697065711 0.448480546 -0.603893578 -0.037680656 0.077034988 0.029067826 0.995891988\n",
        "1305031531.275515 -1.703558922 0.446289897 -0.581166387 -0.042331036 0.054736137 0.030868566 0.997125447\n",
        "1305031531.339595 -1.733692527 0.463021219 -0.532173812 -0.038276989 0.032155998 0.032915492 0.998207092\n",
        "1305031531.375434 -1.745871305 0.456259906 -0.526792645 -0.041909553 0.028999120 0.034955364 0.998088539\n",
        "1305031531.439644 -1.779512048 0.465197712 -0.493550062 -0.036073327 0.041923068 0.037195776 0.997776330\n",
        "1305031531.475324 -1.798225164 0.454130113 -0.473303884 -0.036804512 0.051448308 0.042760260 0.997080803\n",
        "1305031531.507602 -1.822675109 0.462594450 -0.457025111 -0.029646453 0.061003584 0.044361576 0.996710420\n",
        "1305031531.539487 -1.842242837 0.456204623 -0.437320828 -0.031237461 0.066190429 0.049604204 0.996083558\n",
        "1305031531.575392 -1.859240055 0.452193916 -0.418387532 -0.029357912 0.069689915 0.056401949 0.995540142\n",
        "1305031531.607419 -1.883657813 0.457863688 -0.402540445 -0.025465036 0.077164032 0.058375940 0.994982183\n",
        "1305031531.639521 -1.899605870 0.452908516 -0.387782335 -0.027194945 0.083178692 0.061760947 0.994247079\n",
        "1305031531.675444 -1.919689298 0.445739567 -0.371033162 -0.025581570 0.090562560 0.067330092 0.993282795\n",
        "1305031531.707498 -1.942379117 0.446997017 -0.358369708 -0.022856202 0.095322154 0.067656010 0.992881656\n",
        "1305031531.739657 -1.959185481 0.443148822 -0.342861593 -0.023469506 0.098902434 0.065572299 0.992656887\n",
        "1305031531.775442 -1.979072928 0.441148520 -0.330076396 -0.019746941 0.104963057 0.062876657 0.992289960\n",
        "1305031531.839545 -2.031389952 0.447761118 -0.309799880 -0.013570230 0.114844196 0.061703201 0.991372466\n",
        "1305031531.875426 -2.051207066 0.454951376 -0.297199756 -0.021668158 0.116940536 0.061709389 0.990983009\n",
        "1305031531.907427 -2.065320730 0.452592254 -0.285301477 -0.031805091 0.119541608 0.064228982 0.990238786\n",
        "1305031531.939564 -2.087300062 0.462161213 -0.274148226 -0.037705932 0.127705678 0.065471835 0.988930225\n",
        "1305031531.975488 -2.093064547 0.461891323 -0.259108394 -0.048334002 0.131502032 0.071743190 0.987534285\n",
        "1305031532.039675 -2.138504982 0.468977809 -0.237405121 -0.068548255 0.151021704 0.087101094 0.982296765\n",
        "1305031532.075525 -2.154035091 0.475413442 -0.224113107 -0.081441589 0.158602655 0.097342521 0.979151130\n",
        "1305031532.107398 -2.170846462 0.476327538 -0.211347252 -0.096188217 0.167010888 0.114576295 0.974539578\n",
        "1305031532.139520 -2.183909655 0.482602686 -0.195677429 -0.106095791 0.173370019 0.133438647 0.969990015\n",
        "1305031532.175563 -2.204168081 0.487305760 -0.182892680 -0.115662292 0.180792108 0.152461916 0.964723706\n",
        "1305031532.207465 -2.218504429 0.490628541 -0.167850137 -0.125417709 0.186160758 0.172982588 0.959005535\n",
        "1305031532.239966 -2.232538939 0.485460877 -0.154788435 -0.135157928 0.190700769 0.194355324 0.952675998\n",
        "1305031532.275514 -2.249806881 0.494778156 -0.138956249 -0.140495762 0.196945250 0.208807215 0.947561681\n",
        "1305031532.307481 -2.270475149 0.491068125 -0.125185370 -0.150628984 0.205311298 0.226947188 0.940028250\n",
        "1305031532.339777 -2.298396587 0.483481675 -0.119883269 -0.160714403 0.210132763 0.245520025 0.932595849\n",
        "1305031532.375496 -2.308708191 0.483014703 -0.102232724 -0.170642778 0.204762936 0.261436999 0.927687407\n",
        "1305031532.407448 -2.321734905 0.485834032 -0.082304329 -0.173469499 0.199078232 0.272692949 0.925156593\n",
        "1305031532.439533 -2.312674999 0.493773341 -0.052393615 -0.164424136 0.192252085 0.276291192 0.927182317\n",
        "1305031532.475428 -2.326466560 0.491763413 -0.038195968 -0.146774530 0.193966687 0.269313127 0.931828618\n",
        "1305031532.507415 -2.337444067 0.476558536 -0.021644324 -0.135551944 0.197096482 0.271520108 0.932231426\n",
        "1305031532.539458 -2.354415417 0.468815923 -0.009330034 -0.119453430 0.199560761 0.270655215 0.934158504\n",
        "1305031532.575435 -2.356000185 0.463053286 0.010164797 -0.104051962 0.198285818 0.270546138 0.936301589\n",
        "1305031532.607434 -2.375977993 0.448595047 0.024759412 -0.101074167 0.207025707 0.272525936 0.934159517\n",
        "1305031532.639592 -2.378012896 0.452039748 0.046087086 -0.096321635 0.216378912 0.272717237 0.932484686\n",
        "1305031532.707308 -2.405913591 0.421957314 0.065707028 -0.102902457 0.248862371 0.286105812 0.919577122\n",
        "1305031532.740052 -2.404225826 0.415780902 0.081942737 -0.112762004 0.256119311 0.296936125 0.912971258\n",
        "1305031532.775761 -2.405336142 0.406422228 0.098615646 -0.117217809 0.264744252 0.308573484 0.906064510\n",
        "1305031532.807429 -2.401256800 0.405207753 0.114581287 -0.113917835 0.271649241 0.311569601 0.903412342\n",
        "1305031532.839717 -2.404197931 0.401611626 0.128565013 -0.111438639 0.285279453 0.313981265 0.898672819\n",
        "1305031532.875476 -2.404158115 0.396329761 0.139863133 -0.109073058 0.300081581 0.320100188 0.891958475\n",
        "1305031532.907577 -2.404700279 0.384561151 0.149034858 -0.109283403 0.312692255 0.331081420 0.883552969\n",
        "1305031532.939523 -2.396136284 0.377146363 0.163070798 -0.105089337 0.320458293 0.347403884 0.874970436\n",
        "1305031532.975424 -2.389782906 0.373017102 0.174210250 -0.096274994 0.327154636 0.359121144 0.868753672\n",
        "1305031533.007402 -2.385313511 0.369636059 0.183168054 -0.087607786 0.334404796 0.370132059 0.862264812\n",
        "1305031533.039505 -2.384852648 0.363770932 0.193482935 -0.078389786 0.344901085 0.378401875 0.855400681\n",
        "1305031533.075500 -2.390422821 0.358458579 0.201107919 -0.075769223 0.356961578 0.385053575 0.847685814\n",
        "1305031533.107480 -2.385401726 0.354564846 0.210260272 -0.075533710 0.367279410 0.397776663 0.837361455\n",
        "1305031533.139514 -2.372012615 0.350669831 0.212894857 -0.068521887 0.374805063 0.406299293 0.830509961\n",
        "1305031533.175459 -2.377696514 0.333864450 0.215952337 -0.065009937 0.388197184 0.408438295 0.823562264\n",
        "1305031533.207507 -2.385103226 0.325788766 0.217759430 -0.066561528 0.398282826 0.409474522 0.818089783\n",
        "1305031533.239511 -2.376122475 0.316433787 0.215501904 -0.067036957 0.404730767 0.414873511 0.812144697\n",
        "1305031533.275405 -2.378651381 0.301562667 0.210795879 -0.062826820 0.414004087 0.415971458 0.807230532\n",
        "1305031533.307502 -2.378507137 0.290278614 0.203924775 -0.059505433 0.418073028 0.418126583 0.804266214\n",
        "1305031533.339522 -2.383118629 0.276216388 0.197004974 -0.052702114 0.427105308 0.417102575 0.800517917\n",
        "1305031533.375654 -2.389847040 0.259841800 0.191461027 -0.043600217 0.436674982 0.417547673 0.795655668\n",
        "1305031533.407483 -2.399025917 0.243333876 0.190472424 -0.034539811 0.443461597 0.417135537 0.792557120\n",
        "1305031533.439774 -2.405803442 0.218966901 0.184065044 -0.030534860 0.443719029 0.421467364 0.790282428\n",
        "1305031533.475654 -2.414663076 0.213283241 0.182140827 -0.017157676 0.446590602 0.421785623 0.788897574\n",
        "1305031533.507463 -2.427252293 0.201290309 0.180907130 -0.010102161 0.450482249 0.423938572 0.785646081\n",
        "1305031533.539640 -2.430620909 0.187578976 0.176244736 -0.001676425 0.453472286 0.429042488 0.781205893\n",
        "1305031533.575643 -2.440914631 0.187283993 0.175111234 0.010996390 0.459485590 0.427886397 0.778245032\n",
        "1305031533.607639 -2.445695400 0.186571300 0.166759789 0.017729463 0.465337425 0.430729181 0.773058355\n",
        "1305031533.639561 -2.457445145 0.168652773 0.174272835 0.018688479 0.478676170 0.434703529 0.762596071\n",
        "1305031533.675446 -2.467365265 0.175865710 0.174820364 0.023927663 0.483153671 0.436838537 0.758394361\n",
        "1305031533.707501 -2.468612432 0.172062576 0.169309556 0.020866981 0.488988280 0.442800790 0.751253903\n",
        "1305031533.739555 -2.470218182 0.165642560 0.164204478 0.017631054 0.499439180 0.446189016 0.742404878\n",
        "1305031533.775530 -2.485262871 0.153400719 0.184181690 0.015735591 0.517516196 0.445763946 0.730221808\n",
        "1305031533.807707 -2.487299919 0.127788723 0.197456419 0.007843481 0.527166367 0.453643650 0.718499482\n",
        "1305031533.839329 -2.481762886 0.090185523 0.233735442 0.006157675 0.536392212 0.455373734 0.710549235\n",
        "1305031533.875471 -2.494186640 0.082776368 0.266642749 0.021276966 0.529272377 0.450978696 0.718356609\n",
        "1305031533.907441 -2.491076469 0.041283607 0.271202564 0.024903500 0.507038534 0.458702445 0.729303658\n",
        "1305031533.939530 -2.516552925 0.047504127 0.238348961 0.047065847 0.468792588 0.452090979 0.757385015\n",
        "1305031533.975439 -2.518206120 0.035504162 0.245734572 0.058757532 0.442226231 0.449354142 0.773992479\n",
        "1305031534.007323 -2.522070408 0.030651838 0.269739866 0.074379072 0.424867719 0.434714079 0.790556014\n",
        "1305031534.039458 -2.525323868 0.031153053 0.294346213 0.093646266 0.411472708 0.416421056 0.805303693\n",
        "1305031534.075484 -2.527844429 0.005879700 0.290710688 0.102568306 0.395681024 0.410351425 0.815185845\n",
        "1305031534.107442 -2.509663582 -0.000164211 0.297157168 0.118322596 0.380633146 0.401970237 0.824340999\n",
        "1305031534.139529 -2.515332699 -0.004984342 0.305678964 0.136906967 0.381094605 0.380838871 0.831255198\n",
        "1305031534.175381 -2.519822121 -0.016826987 0.313684344 0.145301342 0.387428135 0.369678199 0.831940532\n",
        "1305031534.207436 -2.514250755 -0.026365928 0.318906784 0.157322481 0.387293041 0.360694915 0.833758295\n",
        "1305031534.239529 -2.539515495 -0.046969280 0.332203507 0.164375901 0.394717157 0.346872985 0.834780276\n",
        "1305031534.275475 -2.539156914 -0.059264474 0.338053226 0.165088028 0.390646636 0.344265968 0.837628841\n",
        "1305031534.307945 -2.530802250 -0.060429852 0.341664553 0.169979781 0.384970367 0.340386689 0.840857625\n",
        "1305031534.339859 -2.521246910 -0.069512054 0.339248180 0.172835022 0.384264350 0.336919159 0.841994345\n",
        "1305031534.375478 -2.510234356 -0.074497841 0.341840625 0.178481773 0.385017306 0.330248743 0.843114257\n",
        "1305031534.407595 -2.502387524 -0.073711179 0.350775838 0.185380980 0.390234888 0.322641522 0.842171669\n",
        "1305031534.439543 -2.497386456 -0.093112804 0.348100901 0.188917145 0.394708693 0.317403704 0.841290832\n",
        "1305031534.475605 -2.508030891 -0.096727684 0.349948883 0.202409476 0.397034079 0.307588607 0.840704203\n",
        "1305031534.507525 -2.513030767 -0.098866895 0.358188152 0.208240017 0.396031886 0.303713262 0.841161728\n",
        "1305031534.539582 -2.507566452 -0.104811817 0.352421045 0.211017177 0.389043182 0.303856760 0.843675435\n",
        "1305031534.575414 -2.503450871 -0.112628430 0.353872776 0.218233496 0.382777303 0.299629837 0.846213698\n",
        "1305031534.607494 -2.506536484 -0.110696495 0.363127470 0.225588515 0.377713889 0.294075668 0.848505497\n",
        "1305031534.639696 -2.503484249 -0.108837724 0.372636080 0.227866113 0.369029462 0.290562332 0.852917254\n",
        "1305031534.675511 -2.492532253 -0.103188008 0.370034814 0.228385061 0.357260853 0.289308667 0.858198941\n",
        "1305031534.707481 -2.485138655 -0.102599353 0.372555852 0.230306551 0.351113051 0.289501607 0.860155404\n",
        "1305031534.739665 -2.484596968 -0.100126177 0.377577662 0.233117744 0.348080009 0.284176469 0.862403750\n",
        "1305031534.775491 -2.476128578 -0.096007377 0.378718615 0.231849805 0.344296396 0.279460281 0.865798831\n",
        "1305031534.807516 -2.479419231 -0.098456800 0.382138669 0.232955262 0.342128605 0.276722431 0.867239594\n",
        "1305031534.839569 -2.474008083 -0.098384172 0.383742988 0.235601291 0.336164504 0.274177164 0.869662166\n",
        "1305031534.875499 -2.473700047 -0.100941092 0.379047692 0.239664942 0.330350608 0.268484533 0.872551024\n",
        "1305031534.907458 -2.462567806 -0.077032477 0.388846576 0.247359633 0.325489283 0.253998041 0.876558602\n",
        "1305031534.939556 -2.444954872 -0.074731708 0.383425176 0.244691864 0.329881698 0.248058364 0.877365947\n",
        "1305031534.975464 -2.447574615 -0.087634981 0.377884507 0.245689943 0.341680646 0.243470728 0.873849452\n",
        "1305031535.007643 -2.474707127 -0.098219663 0.378050506 0.249143511 0.350633234 0.234108135 0.871881425\n",
        "1305031535.039655 -2.484711170 -0.094033569 0.383744895 0.254823238 0.347021520 0.226451635 0.873705268\n",
        "1305031535.075490 -2.490309954 -0.077922344 0.386527240 0.256838411 0.339778155 0.221851140 0.877135634\n",
        "1305031535.107796 -2.485105991 -0.084084183 0.381587386 0.256481826 0.335341483 0.227349862 0.877539277\n",
        "1305031535.139465 -2.497114182 -0.080506861 0.386673331 0.259268075 0.331557512 0.228868634 0.877763569\n",
        "1305031535.175406 -2.501357555 -0.084850401 0.380560577 0.256629437 0.320304066 0.230998740 0.882148623\n",
        "1305031535.207514 -2.507165194 -0.076083064 0.395516157 0.257784516 0.308903843 0.229287982 0.886314034\n",
        "1305031535.239511 -2.508190155 -0.083123326 0.381128371 0.252210677 0.294475734 0.230380237 0.892523825\n",
        "1305031535.275537 -2.516230106 -0.091590047 0.374587357 0.249598593 0.283212036 0.231147692 0.896695197\n",
        "1305031535.307409 -2.513985872 -0.082861155 0.379425824 0.250247926 0.273793936 0.227888137 0.900266588\n",
        "1305031535.339468 -2.524769545 -0.096819907 0.364471257 0.245024681 0.266267389 0.227461323 0.904060841\n",
        "1305031535.375492 -2.508066654 -0.082167417 0.359986424 0.246013567 0.249888271 0.221310064 0.909975290\n",
        "1305031535.407712 -2.517795324 -0.087612152 0.358654797 0.243952572 0.244042814 0.217630327 0.912999094\n",
        "1305031535.439618 -2.517380238 -0.096719265 0.355501175 0.243272588 0.236081496 0.210878551 0.916850150\n",
        "1305031535.475595 -2.525013685 -0.121901900 0.358514369 0.240847513 0.232937336 0.200196058 0.920681357\n",
        "1305031535.507701 -2.527513027 -0.124854833 0.357313931 0.244569555 0.226931259 0.189113230 0.923538923\n",
        "1305031535.539515 -2.520640612 -0.117849320 0.355810046 0.250930548 0.220957011 0.177413553 0.925600469\n",
        "1305031535.575567 -2.521627426 -0.089750081 0.359997869 0.259528279 0.218902469 0.166549876 0.925736427\n",
        "1305031535.607524 -2.521935701 -0.084334582 0.361283183 0.256003499 0.219986618 0.161618426 0.927333593\n",
        "1305031535.639591 -2.525519133 -0.099532008 0.353511870 0.251005739 0.222428545 0.160986692 0.928226769\n",
        "1305031535.675500 -2.542366505 -0.070390671 0.364920378 0.254445463 0.224898025 0.156065360 0.927535415\n",
        "1305031535.707524 -2.533196688 -0.048950613 0.371234953 0.250741303 0.222163916 0.156319827 0.929158807\n",
        "1305031535.739708 -2.530488491 -0.059681207 0.362928569 0.240583122 0.221819267 0.162231907 0.930911779\n",
        "1305031535.775437 -2.528300285 -0.037037700 0.369252861 0.237273470 0.222667381 0.160663545 0.931830287\n",
        "1305031535.807496 -2.517880917 -0.035337478 0.366395891 0.228114337 0.223776191 0.167054370 0.932727635\n",
        "1305031535.840053 -2.521924973 -0.046104938 0.363354206 0.221608341 0.226980209 0.175988719 0.931878567\n",
        "1305031535.875502 -2.515576601 -0.027287364 0.361423910 0.218410507 0.225674495 0.181430027 0.931907177\n",
        "1305031535.907487 -2.495431900 -0.019688636 0.353645921 0.213503569 0.224690199 0.186321914 0.932316840\n",
        "1305031535.939747 -2.487156868 -0.000033617 0.354630709 0.211016029 0.230299488 0.191574737 0.930447996\n",
        "1305031535.975512 -2.493300438 0.007675409 0.364467442 0.203401506 0.241621360 0.198539510 0.927808702\n",
        "1305031536.007462 -2.474011421 0.037692726 0.345635176 0.194809034 0.240943596 0.208358616 0.927675724\n",
        "1305031536.039667 -2.467852116 0.045596078 0.345744848 0.183056936 0.248081028 0.217668235 0.926048875\n",
        "1305031536.075538 -2.463827133 0.058868378 0.344537437 0.172938868 0.255004585 0.228067219 0.923607171\n",
        "1305031536.107579 -2.464352846 0.065723002 0.339826465 0.157930434 0.263877481 0.238714099 0.921109200\n",
        "1305031536.139540 -2.447302103 0.079109594 0.338419259 0.147143051 0.270921320 0.251267642 0.917504847\n",
        "1305031536.175699 -2.445563793 0.085700475 0.330733180 0.135411739 0.281893373 0.265629113 0.911943495\n",
        "1305031536.207474 -2.441941738 0.095868863 0.320971668 0.124354601 0.293078780 0.279410154 0.905853629\n",
        "1305031536.239482 -2.437371016 0.108465016 0.324892282 0.113946706 0.307447881 0.293251157 0.898051083\n",
        "1305031536.275618 -2.426590443 0.117966525 0.320558310 0.104468167 0.318782955 0.312442362 0.888731480\n",
        "1305031536.307472 -2.440175056 0.117216967 0.312307239 0.094648480 0.336902171 0.328140229 0.877418101\n",
        "1305031536.339530 -2.436631680 0.130167663 0.306512594 0.089301601 0.348710299 0.343676478 0.867359698\n",
        "1305031536.375786 -2.439515114 0.132933110 0.301771998 0.081246413 0.363291353 0.360202610 0.855378568\n",
        "1305031536.407665 -2.432479382 0.142758548 0.297667384 0.078064978 0.374809980 0.374079108 0.844682276\n",
        "1305031536.439546 -2.433453083 0.153478473 0.294296980 0.074165478 0.387280375 0.387593687 0.833237350\n",
        "1305031536.475492 -2.433927059 0.153007686 0.283771873 0.066070586 0.395613164 0.401842564 0.823193431\n",
        "1305031536.507648 -2.437728405 0.154942185 0.283716559 0.061836548 0.402845263 0.410541147 0.815688610\n",
        "1305031536.539583 -2.445848703 0.154372066 0.278347254 0.058838084 0.406619072 0.419724584 0.809339404\n",
        "1305031536.575660 -2.445181608 0.162155122 0.273602426 0.056845337 0.403639317 0.428008586 0.806630373\n",
        "1305031536.607624 -2.447263956 0.166637331 0.269580424 0.056197397 0.403895319 0.436777979 0.801832557\n",
        "1305031536.639838 -2.446949959 0.174991399 0.265062809 0.055862956 0.402609974 0.444791108 0.798088610\n",
        "1305031536.675456 -2.458647728 0.185282081 0.269658625 0.055378947 0.401705623 0.449217498 0.796096385\n",
        "1305031536.707472 -2.458661079 0.194786012 0.265215337 0.053375706 0.397145092 0.451481640 0.797239721\n",
        "1305031536.739722 -2.457170963 0.209136844 0.263571143 0.051791303 0.397560120 0.451596081 0.797072470\n",
        "1305031536.775321 -2.459605694 0.213813275 0.253003061 0.047947846 0.399795353 0.450778633 0.796657622\n",
        "1305031536.807301 -2.470071316 0.219247073 0.252434611 0.046612799 0.402127534 0.444240719 0.799231470\n",
        "1305031536.839527 -2.473621845 0.230190158 0.249726832 0.043481130 0.400365233 0.439933419 0.802667856\n",
        "1305031536.875419 -2.474405527 0.239295781 0.241363108 0.040360861 0.397696674 0.437090307 0.805704951\n",
        "1305031536.907491 -2.477398872 0.251485139 0.233837783 0.038744722 0.398485363 0.427118480 0.810726881\n",
        "1305031536.939530 -2.475243807 0.267049640 0.222921193 0.037661746 0.401001930 0.418288261 0.814133883\n",
        "1305031536.975375 -2.475587368 0.272273898 0.208136916 0.036617041 0.403692365 0.415439963 0.814310312\n",
        "1305031537.007412 -2.480687141 0.286470264 0.198777080 0.038141515 0.406286210 0.405736417 0.817835391\n",
        "1305031537.039427 -2.481499672 0.298502326 0.183583617 0.036993023 0.407842666 0.400283813 0.819797993\n",
        "1305031537.075341 -2.480474949 0.307426870 0.167606831 0.035551440 0.406900048 0.397346139 0.821756959\n",
        "1305031537.107337 -2.478616238 0.323101044 0.154676080 0.034348350 0.406814277 0.389715523 0.825496316\n",
        "1305031537.140656 -2.475228071 0.333536685 0.135697484 0.032072879 0.408557355 0.383278221 0.827737868\n",
        "1305031537.175377 -2.474686146 0.339814693 0.113894701 0.029795012 0.408785611 0.376390457 0.830865085\n",
        "1305031537.207445 -2.471208096 0.346150368 0.094327927 0.027244747 0.406723291 0.369998306 0.834826410\n",
        "1305031537.239415 -2.470462799 0.352641463 0.073226452 0.025869919 0.404234976 0.361420095 0.839821637\n",
        "1305031537.275504 -2.463910341 0.366439939 0.055402637 0.025631970 0.399650276 0.353120208 0.845534623\n",
        "1305031537.307646 -2.456044436 0.377606422 0.037124276 0.024207262 0.395617157 0.344901860 0.850848854\n",
        "1305031537.339718 -2.454226971 0.380983979 0.015969038 0.021951782 0.391328186 0.336386442 0.856285274\n",
        "1305031537.375388 -2.448002338 0.390101254 -0.004233837 0.022183478 0.384686410 0.325400829 0.863503635\n",
        "1305031537.407396 -2.449275970 0.396866947 -0.020678401 0.021632679 0.379469097 0.314249426 0.869932532\n",
        "1305031537.439649 -2.446128368 0.404278010 -0.036110878 0.020907676 0.370659351 0.305410951 0.876868665\n",
        "1305031537.475520 -2.439011097 0.406688839 -0.061228514 0.017715627 0.357762247 0.295340031 0.885701180\n",
        "1305031537.507492 -2.433415413 0.419464588 -0.077783227 0.017850386 0.348879457 0.281871945 0.893595397\n",
        "1305031537.539497 -2.424970865 0.427145600 -0.096527219 0.013288771 0.341013014 0.273742557 0.899221063\n",
        "1305031537.575529 -2.416433811 0.424252868 -0.114988923 0.008788164 0.335850269 0.268167585 0.902891755\n",
        "1305031537.607507 -2.409738064 0.426428556 -0.129850388 0.011853638 0.331110299 0.263940156 0.905848265\n",
        "1305031537.643442 -2.403064728 0.425197005 -0.144210219 0.013446080 0.321924359 0.257794529 0.910892904\n",
        "1305031537.675306 -2.383370161 0.429673761 -0.165537953 0.016942848 0.307270676 0.250909269 0.917792022\n",
        "1305031537.707483 -2.367820978 0.434611320 -0.183047533 0.023042943 0.300594747 0.241590112 0.922358990\n",
        "1305031537.743426 -2.357103348 0.436346322 -0.200175166 0.026739547 0.296924055 0.230938584 0.926168740\n",
        "1305031537.775469 -2.345154762 0.436228454 -0.215623140 0.031504516 0.292673916 0.220556691 0.929894745\n",
        "1305031537.807576 -2.332725763 0.437442362 -0.232718349 0.036058549 0.287114888 0.213646129 0.933070302\n",
        "1305031537.843458 -2.321528196 0.439466208 -0.242594838 0.039189421 0.281446338 0.204882905 0.936629653\n",
        "1305031537.875571 -2.303071260 0.446234703 -0.255805552 0.043328285 0.274388492 0.194091976 0.940830469\n",
        "1305031537.907514 -2.286628485 0.455530316 -0.269227803 0.046794742 0.269874752 0.186064452 0.943587780\n",
        "1305031537.943469 -2.272041321 0.462078482 -0.283584833 0.047033090 0.264940441 0.179348215 0.946270943\n",
        "1305031537.975426 -2.251107693 0.461491793 -0.296254754 0.044358656 0.259097368 0.173583895 0.949088752\n",
        "1305031538.007529 -2.229588747 0.470835775 -0.309528232 0.047630455 0.253619969 0.166543961 0.951667666\n",
        "1305031538.043452 -2.211060286 0.474047422 -0.323441267 0.045349691 0.247003049 0.165013984 0.953783631\n",
        "1305031538.075565 -2.186341524 0.467476308 -0.335640311 0.042752337 0.237968117 0.163011357 0.956541002\n",
        "1305031538.107629 -2.172956228 0.465572953 -0.346409380 0.047791850 0.228774801 0.163162008 0.958517671\n",
        "1305031538.143487 -2.150013208 0.468543619 -0.359851301 0.051771726 0.213106111 0.166781723 0.961295664\n",
        "1305031538.175565 -2.115583420 0.456076264 -0.374473453 0.050717145 0.196758941 0.163353741 0.965416610\n",
        "1305031538.207697 -2.086136580 0.452993035 -0.387118995 0.059380531 0.188062429 0.154780805 0.968064785\n",
        "1305031538.243517 -2.075634003 0.454578370 -0.396912575 0.070111699 0.186482102 0.146578565 0.968929052\n",
        "1305031538.275489 -2.066353798 0.449201852 -0.413849115 0.076822840 0.182904467 0.133959338 0.970926940\n",
        "1305031538.307386 -2.050451756 0.439011306 -0.432016730 0.085877068 0.177491903 0.124584749 0.972419858\n",
        "1305031538.343413 -2.041750193 0.442959189 -0.442232251 0.098665021 0.171809301 0.110846415 0.973889053\n",
        "1305031538.375553 -2.020997763 0.444020361 -0.456723094 0.108034529 0.161098853 0.102323376 0.975656509\n",
        "1305031538.407511 -1.999992847 0.449072838 -0.465597630 0.119483322 0.152188063 0.095375851 0.976455808\n",
        "1305031538.443598 -1.988971233 0.445716232 -0.476679206 0.126699254 0.143602028 0.090528235 0.977307737\n",
        "1305031538.475570 -1.966818571 0.457942694 -0.490309834 0.137053713 0.129073486 0.082087606 0.978681743\n",
        "1305031538.507548 -1.959497213 0.477629960 -0.499859691 0.144832328 0.119308852 0.073370859 0.979492605\n",
        "1305031538.543450 -1.937832594 0.486074835 -0.517244756 0.144301921 0.106128760 0.068350643 0.981448829\n",
        "1305031538.575524 -1.929704785 0.505659997 -0.529037654 0.143234283 0.099686898 0.058025595 0.982944310\n",
        "1305031538.607517 -1.917625189 0.522034287 -0.548934579 0.134958372 0.095414005 0.052685272 0.984838426\n",
        "1305031538.643479 -1.872731209 0.517078698 -0.552773654 0.125329182 0.087853469 0.051589802 0.986870229\n",
        "1305031538.675433 -1.867845297 0.538020253 -0.572704017 0.123551764 0.085596375 0.045506358 0.987591684\n",
        "1305031538.707490 -1.864077687 0.588099182 -0.575082064 0.118586965 0.079131253 0.037873846 0.989060640\n",
        "1305031538.743572 -1.842768908 0.602613747 -0.583029389 0.100135505 0.065253392 0.038791075 0.992073655\n",
        "1305031538.775491 -1.808506608 0.612143576 -0.587957203 0.083568975 0.050672978 0.040162511 0.994402051\n",
        "1305031538.808089 -1.776121497 0.627694011 -0.614248276 0.064850152 0.038909949 0.043278445 0.996196508\n",
        "1305031538.843518 -1.745872855 0.634320140 -0.621743321 0.043176636 0.033306401 0.040051538 0.997708559\n",
        "1305031538.875656 -1.719307780 0.640127897 -0.629967332 0.028009932 0.031812642 0.030972498 0.998621106\n",
        "1305031538.907498 -1.698012948 0.656083047 -0.637265265 0.017319027 0.031858522 0.028690850 0.998930395\n",
        "1305031538.943414 -1.670735598 0.663528383 -0.647517562 0.003978760 0.029164914 0.031634476 0.999065995\n",
        "1305031538.975507 -1.641356826 0.668834805 -0.656999290 -0.007588186 0.026002984 0.031613108 0.999133110\n",
        "1305031539.007520 -1.614311814 0.676686764 -0.663344562 -0.016297549 0.025241166 0.031325128 0.999057591\n",
        "1305031539.043445 -1.588739157 0.681602955 -0.672061861 -0.025435511 0.024757234 0.030335179 0.998909354\n",
        "1305031539.075515 -1.559401631 0.690165758 -0.677179098 -0.031163834 0.022377810 0.026248308 0.998918951\n",
        "1305031539.107503 -1.531127334 0.701139092 -0.685189128 -0.038777649 0.019281631 0.022528598 0.998807788\n",
        "1305031539.143607 -1.504884005 0.704943478 -0.685461402 -0.048340186 0.016956285 0.018361038 0.998518169\n",
        "1305031539.175587 -1.475024581 0.712328196 -0.687175632 -0.057385031 0.010461451 0.012882610 0.998214185\n",
        "1305031539.207601 -1.448814034 0.720294237 -0.690965533 -0.070889175 0.002622218 0.008054467 0.997448266\n",
        "1305031539.243449 -1.423272729 0.722043812 -0.692014039 -0.087852731 -0.010045309 0.001600557 0.996081531\n",
        "1305031539.275652 -1.385869741 0.733055174 -0.687900424 -0.097857974 -0.025742125 -0.007350900 0.994840264\n",
        "1305031539.307521 -1.363128185 0.738756001 -0.692190886 -0.112825640 -0.031548198 -0.022772927 0.992852688\n",
        "1305031539.343842 -1.323267698 0.727967501 -0.687267542 -0.137726113 -0.042174865 -0.039176177 0.988796234\n",
        "1305031539.375556 -1.292063594 0.731553078 -0.688167214 -0.152118564 -0.044961520 -0.060505841 0.985483348\n",
        "1305031539.407846 -1.256202459 0.736403048 -0.690131187 -0.166987866 -0.048303399 -0.079108998 0.981592357\n",
        "1305031539.443431 -1.239374042 0.732561350 -0.688703060 -0.187255442 -0.044807911 -0.095311783 0.976649046\n",
        "1305031539.475605 -1.207395792 0.727674007 -0.686424911 -0.198093310 -0.055724174 -0.107997023 0.972620428\n",
        "1305031539.507506 -1.182625055 0.724227071 -0.686838031 -0.206699759 -0.067789100 -0.114068963 0.969364822\n",
        "1305031539.543459 -1.156865954 0.727579236 -0.692468286 -0.210137725 -0.077920467 -0.120466612 0.967087567\n",
        "1305031539.575448 -1.125167608 0.731797397 -0.695762694 -0.207746223 -0.089327753 -0.127441183 0.965722919\n",
        "1305031539.607559 -1.096604705 0.724759758 -0.689471424 -0.207956731 -0.100324258 -0.138952374 0.963006377\n",
        "1305031539.643437 -1.072627783 0.721304774 -0.693208039 -0.205536246 -0.106156208 -0.152068138 0.960916698\n",
        "1305031539.675458 -1.047883391 0.715768039 -0.690714836 -0.198742777 -0.112813070 -0.165158719 0.959425390\n",
        "1305031539.707426 -1.025400043 0.701733589 -0.689756632 -0.194463715 -0.120441034 -0.176434845 0.957365453\n",
        "1305031539.743465 -1.004902124 0.689956009 -0.690350771 -0.192506403 -0.129271001 -0.186747491 0.954649508\n",
        "1305031539.775488 -0.980612576 0.684934020 -0.686210513 -0.191102922 -0.138522878 -0.197194010 0.951528072\n",
        "1305031539.807653 -0.959138870 0.672266126 -0.677491128 -0.191985384 -0.149717450 -0.204102859 0.948192120\n",
        "1305031539.843466 -0.935089946 0.662431538 -0.672763884 -0.191587552 -0.165939346 -0.215486914 0.943039596\n",
        "1305031539.875593 -0.912115693 0.657501757 -0.665441930 -0.193194956 -0.178932264 -0.225975111 0.937866807\n",
        "1305031539.907642 -0.888481855 0.657829106 -0.658304036 -0.192615226 -0.190825433 -0.239064530 0.932380378\n",
        "1305031539.943541 -0.861202180 0.658063293 -0.649517477 -0.192435294 -0.200398549 -0.255857974 0.925929725\n",
        "1305031539.975883 -0.835239351 0.655931950 -0.637984216 -0.186527535 -0.206472948 -0.266454458 0.922810078\n",
        "1305031540.007422 -0.808597982 0.649707317 -0.631384254 -0.180847928 -0.211717591 -0.276316911 0.919847071\n",
        "1305031540.043468 -0.785340905 0.648223341 -0.619920373 -0.171939909 -0.213694066 -0.284881830 0.918484509\n",
        "1305031540.075632 -0.764056802 0.640574992 -0.604998469 -0.157320663 -0.218499139 -0.286103398 0.919594049\n",
        "1305031540.107421 -0.743929267 0.630394340 -0.593521833 -0.145323813 -0.222985834 -0.289074093 0.919562101\n",
        "1305031540.143443 -0.724296808 0.624339342 -0.590411842 -0.131762356 -0.219520926 -0.285627127 0.923507631\n",
        "1305031540.175595 -0.718353570 0.584484100 -0.589187026 -0.133055523 -0.210224062 -0.285183579 0.925620019\n",
        "1305031540.207411 -0.705765665 0.566360116 -0.582523525 -0.122678138 -0.204626724 -0.279072344 0.930159450\n",
        "1305031540.243496 -0.689934194 0.549493968 -0.574076653 -0.107216306 -0.211302072 -0.274970651 0.931797862\n",
        "1305031540.275604 -0.669214725 0.543804228 -0.575567901 -0.090439230 -0.218695179 -0.265583992 0.934589922\n",
        "1305031540.307411 -0.663634419 0.518813431 -0.570268869 -0.089791723 -0.220319390 -0.256633133 0.936769068\n",
        "1305031540.343456 -0.630638421 0.524296224 -0.568962038 -0.065242536 -0.227539778 -0.245172605 0.940137982\n",
        "1305031540.375438 -0.607571483 0.504775465 -0.557604194 -0.058358882 -0.228627846 -0.232305616 0.943587661\n",
        "1305031540.407504 -0.603281319 0.504000962 -0.563036203 -0.038072895 -0.219202042 -0.220019296 0.949785471\n",
        "1305031540.443453 -0.583580017 0.497548491 -0.565587878 -0.025518924 -0.220925614 -0.205757141 0.952997684\n",
        "1305031540.475476 -0.563415229 0.467252880 -0.554991245 -0.022460068 -0.225218147 -0.190151006 0.955308795\n",
        "1305031540.507525 -0.556039095 0.481065303 -0.565308809 0.002121243 -0.216947764 -0.175951973 0.960192740\n",
        "1305031540.543427 -0.531263828 0.471247196 -0.559479952 0.012727410 -0.217492461 -0.166357964 0.961696446\n",
        "1305031540.575635 -0.512232184 0.454040170 -0.555102587 0.025693521 -0.210669398 -0.159205973 0.964163721\n",
        "1305031540.607508 -0.496591151 0.458260536 -0.564910889 0.043473519 -0.197728246 -0.148222789 0.968010128\n",
        "1305031540.643443 -0.476872325 0.454683214 -0.563784540 0.051469114 -0.188012525 -0.139889464 0.970789969\n",
        "1305031540.675895 -0.459648341 0.440096706 -0.558765411 0.058293398 -0.175376907 -0.130663320 0.974049270\n",
        "1305031540.707442 -0.441697866 0.443029851 -0.564759016 0.068398118 -0.160899147 -0.117279202 0.977588236\n",
        "1305031540.743545 -0.418357909 0.441277683 -0.567061841 0.073828116 -0.146902055 -0.106285244 0.980649054\n",
        "1305031540.775513 -0.405562878 0.432843775 -0.571106315 0.080067277 -0.127250746 -0.096832111 0.983880103\n",
        "1305031540.807495 -0.367373288 0.426814705 -0.568240345 0.086171307 -0.112386338 -0.085204586 0.986247420\n",
        "1305031540.843557 -0.363738030 0.425649107 -0.573497534 0.091166906 -0.084287763 -0.075081035 0.989417493\n",
        "1305031540.875472 -0.350423843 0.419904500 -0.575834334 0.095350720 -0.062622644 -0.064919077 0.991348684\n",
        "1305031540.907447 -0.335099041 0.423602760 -0.567989409 0.102436796 -0.043491267 -0.054763194 0.992278278\n",
        "1305031540.943442 -0.328165412 0.423399955 -0.576092780 0.105638377 -0.022197032 -0.042974968 0.993227541\n",
        "1305031540.975401 -0.331152380 0.422505468 -0.585554719 0.108614571 -0.003733839 -0.029471897 0.993639946\n",
        "1305031541.007473 -0.325750709 0.421009272 -0.585331798 0.117120944 0.009012746 -0.019955896 0.992876232\n",
        "1305031541.043464 -0.321383506 0.417653948 -0.590196013 0.123160988 0.022381188 -0.005892111 0.992116809\n",
        "1305031541.075485 -0.318136930 0.414162636 -0.586976051 0.130555511 0.031758748 0.004967961 0.990919769\n",
        "1305031541.107513 -0.313763589 0.413694739 -0.587013483 0.135490999 0.036235854 0.010977799 0.990054846\n",
        "1305031541.143507 -0.304694206 0.409289896 -0.585462928 0.138134822 0.043164924 0.016679404 0.989331782\n",
        "1305031541.175472 -0.310802937 0.409850001 -0.586444676 0.144248098 0.055482406 0.021719206 0.987746179\n",
        "1305031541.207454 -0.319564879 0.411458343 -0.587499976 0.144369766 0.060454570 0.023192132 0.987403035\n",
        "1305031541.243593 -0.315941423 0.410138547 -0.582246304 0.139277130 0.056910511 0.025215400 0.988295138\n",
        "1305031541.275691 -0.317456484 0.410466731 -0.577797532 0.135335222 0.053566583 0.029127486 0.988921940\n",
        "1305031541.307436 -0.320667833 0.407514691 -0.581667304 0.127206117 0.045165200 0.027440397 0.990467429\n",
        "1305031541.343493 -0.320783675 0.404284894 -0.581204534 0.120780192 0.033553358 0.026900912 0.991747260\n",
        "1305031541.375507 -0.322730899 0.403215349 -0.576207697 0.112795971 0.021359019 0.024096526 0.993096292\n",
        "1305031541.407707 -0.325053096 0.401551068 -0.571487904 0.105356604 0.010560841 0.018267574 0.994210601\n",
        "1305031541.443699 -0.323895812 0.396923035 -0.564405322 0.099301122 -0.002184567 0.011418757 0.994989514\n",
        "1305031541.475389 -0.330995113 0.398851842 -0.566480577 0.095625229 -0.013498463 0.000006287 0.995325863\n",
        "1305031541.507656 -0.332430273 0.404239476 -0.554072380 0.090730980 -0.028513502 -0.014519179 0.995361269\n",
        "1305031541.543489 -0.334442765 0.403760970 -0.549880743 0.084816106 -0.041004047 -0.028539738 0.995143414\n",
        "1305031541.575608 -0.338075608 0.403206557 -0.545097172 0.077831641 -0.053034212 -0.041830186 0.994675756\n",
        "1305031541.607431 -0.342313856 0.396958947 -0.541230559 0.070878997 -0.067855574 -0.058606736 0.993447065\n",
        "1305031541.643543 -0.344978154 0.394813865 -0.536666572 0.066347539 -0.084289499 -0.074235402 0.991454661\n",
        "1305031541.675424 -0.362039626 0.412847966 -0.522563875 0.066771887 -0.097043350 -0.091278352 0.988833845\n",
        "1305031541.707418 -0.363308340 0.408682913 -0.516772211 0.061513890 -0.112714253 -0.113180205 0.985241950\n",
        "1305031541.743439 -0.372162968 0.411461860 -0.516744375 0.057580814 -0.125292465 -0.140889198 0.980375707\n",
        "1305031541.775415 -0.367096812 0.410249025 -0.511105001 0.053054515 -0.141373351 -0.175998315 0.972740114\n",
        "1305031541.807470 -0.352158606 0.392320901 -0.516195834 0.042372882 -0.153668091 -0.209438145 0.964741588\n",
        "1305031541.843441 -0.369609594 0.386087835 -0.514262795 0.033202291 -0.159071326 -0.240797132 0.956875443\n",
        "1305031541.875438 -0.378776968 0.382532716 -0.511354566 0.030135576 -0.173223391 -0.262821108 0.948688865\n",
        "1305031541.907570 -0.391135454 0.391082108 -0.510960639 0.027463950 -0.187817335 -0.277083099 0.941910446\n",
        "1305031541.943524 -0.395882905 0.383674622 -0.508292735 0.019306179 -0.210072711 -0.286395311 0.934598565\n",
        "1305031541.975524 -0.404854000 0.376954228 -0.507165134 0.013217873 -0.229773283 -0.290740162 0.928708613\n",
        "1305031542.007694 -0.408695042 0.377455771 -0.504928052 0.009174821 -0.252794862 -0.293451816 0.921898365\n",
        "1305031542.043489 -0.409190118 0.369457841 -0.501291037 0.002928849 -0.275375962 -0.297237188 0.914226234\n",
        "1305031542.075555 -0.406296730 0.363426834 -0.491632223 0.001360174 -0.289819598 -0.306024075 0.906836271\n",
        "1305031542.107416 -0.409732461 0.368367493 -0.483919084 0.001626465 -0.295283496 -0.316538393 0.901447952\n",
        "1305031542.143525 -0.415325880 0.366824538 -0.477543592 -0.001137646 -0.300087422 -0.329125494 0.895333827\n",
        "1305031542.175524 -0.417091846 0.361996323 -0.470778972 -0.005435700 -0.309051603 -0.332768947 0.890910983\n",
        "1305031542.207368 -0.423454314 0.373815566 -0.463671803 -0.008257775 -0.318195015 -0.337826222 0.885752320\n",
        "1305031542.244091 -0.425906926 0.364547580 -0.452925652 -0.015935086 -0.330807984 -0.343722612 0.878730297\n",
        "1305031542.275425 -0.409041196 0.360513717 -0.442239493 -0.020020498 -0.342880040 -0.342143446 0.874625862\n",
        "1305031542.307528 -0.402979463 0.356045395 -0.428641379 -0.025893871 -0.343946218 -0.349010229 0.871333718\n",
        "1305031542.343479 -0.405021936 0.351236522 -0.415592879 -0.028987205 -0.339690149 -0.356384903 0.869919658\n",
        "1305031542.375553 -0.405828923 0.353052139 -0.410191834 -0.031039501 -0.334536105 -0.356972635 0.871603489\n",
        "1305031542.407482 -0.403206855 0.347966403 -0.395288497 -0.039595507 -0.335880280 -0.354866058 0.871600091\n",
        "1305031542.443447 -0.404124826 0.341011167 -0.383656174 -0.045281854 -0.334990025 -0.354143351 0.871959686\n",
        "1305031542.475446 -0.403634161 0.334733367 -0.372643679 -0.047720112 -0.337274373 -0.350050062 0.872601748\n",
        "1305031542.507447 -0.394757181 0.325962037 -0.359337598 -0.052720807 -0.342367411 -0.343163341 0.873065889\n",
        "1305031542.543425 -0.390175700 0.312180579 -0.342721224 -0.057851780 -0.344812423 -0.339006186 0.873402774\n",
        "1305031542.575428 -0.385862857 0.301176876 -0.327610254 -0.058141515 -0.346854627 -0.332652450 0.875016451\n",
        "1305031542.607410 -0.377492547 0.297793597 -0.318756253 -0.057338268 -0.347587913 -0.324547470 0.877817690\n",
        "1305031542.643424 -0.372652501 0.283344835 -0.301862925 -0.062635101 -0.350192577 -0.318132073 0.878768444\n",
        "1305031542.675341 -0.364527047 0.271253467 -0.286560416 -0.062878616 -0.353189439 -0.312735736 0.879488409\n",
        "1305031542.707362 -0.353746861 0.264267653 -0.272547007 -0.060545847 -0.355426461 -0.311565638 0.879166126\n",
        "1305031542.743855 -0.346402407 0.256267458 -0.256006896 -0.062450703 -0.354297131 -0.311043948 0.879673302\n",
        "1305031542.775624 -0.344588816 0.246799707 -0.243490085 -0.063671924 -0.352105588 -0.311059147 0.880459964\n",
        "1305031542.807676 -0.335350066 0.238511503 -0.229203150 -0.063042670 -0.356522799 -0.312471300 0.878224790\n",
        "1305031542.843453 -0.326707274 0.233309925 -0.211559623 -0.065665394 -0.356796116 -0.312229693 0.878007531\n",
        "1305031542.875473 -0.323164761 0.221852824 -0.193995237 -0.070181124 -0.354449481 -0.313619405 0.878113329\n",
        "1305031542.907374 -0.318068862 0.219053492 -0.179003447 -0.071405590 -0.352604121 -0.314504623 0.878440917\n",
        "1305031542.943449 -0.318757027 0.207685515 -0.162913054 -0.077429734 -0.352007478 -0.316925675 0.877298951\n",
        "1305031542.975416 -0.315776467 0.203135580 -0.149030745 -0.079410113 -0.355449170 -0.315736681 0.876162231\n",
        "1305031543.007462 -0.309477985 0.192279816 -0.131644592 -0.086203486 -0.360369563 -0.314027131 0.874122262\n",
        "1305031543.043546 -0.307777882 0.182194531 -0.114005469 -0.091520697 -0.364526123 -0.311982661 0.872588933\n",
        "1305031543.075465 -0.299102157 0.180383444 -0.096430123 -0.093303628 -0.369791448 -0.310183823 0.870824158\n",
        "1305031543.107471 -0.294490695 0.169621021 -0.076127380 -0.100951150 -0.372357696 -0.311211109 0.868508041\n",
        "1305031543.143424 -0.287602007 0.162698746 -0.055746734 -0.104801372 -0.373374522 -0.311715305 0.867433965\n",
        "1305031543.175587 -0.288115889 0.151501611 -0.040364236 -0.111319453 -0.372138530 -0.311352611 0.867283404\n",
        "1305031543.207464 -0.285125196 0.142787576 -0.023474783 -0.116373152 -0.374066591 -0.304745167 0.868137002\n",
        "1305031543.243490 -0.279544979 0.134870753 -0.008680969 -0.121729761 -0.376168758 -0.295596749 0.869655967\n",
        "1305031543.275504 -0.278696120 0.122682326 0.006043896 -0.125385046 -0.378145844 -0.288579822 0.870635390\n",
        "1305031543.307391 -0.275535464 0.115677312 0.013919055 -0.121051311 -0.380055547 -0.282517225 0.872403800\n",
        "1305031543.343502 -0.270777464 0.109688058 0.021745622 -0.119693056 -0.382207274 -0.276879609 0.873458028\n",
        "1305031543.375520 -0.270705104 0.102580138 0.029289700 -0.115418971 -0.384918839 -0.274117768 0.873713613\n",
        "1305031543.407575 -0.267575443 0.097084746 0.027959868 -0.106948346 -0.388834625 -0.274958462 0.872792959\n",
        "1305031543.443593 -0.266326696 0.094670720 0.031300642 -0.101474606 -0.392735720 -0.272365808 0.872512698\n",
        "1305031543.475420 -0.266954094 0.092706189 0.027764328 -0.096696243 -0.394145280 -0.270932913 0.872865796\n",
        "1305031543.507652 -0.268664479 0.089310542 0.022025108 -0.091523401 -0.398923188 -0.273518682 0.870443165\n",
        "1305031543.543433 -0.269024968 0.089103296 0.018347234 -0.083973564 -0.406250417 -0.276284397 0.866934836\n",
        "1305031543.575393 -0.272264838 0.084976293 0.006652027 -0.081298038 -0.407118440 -0.278267056 0.866148174\n",
        "1305031543.607524 -0.273583293 0.088238321 -0.006190896 -0.073862337 -0.413400948 -0.283279240 0.862204671\n",
        "1305031543.643400 -0.274819702 0.087575451 -0.017467752 -0.073593996 -0.421032637 -0.290219307 0.856205702\n",
        "1305031543.675460 -0.283944964 0.075257987 -0.024313733 -0.077054374 -0.423907310 -0.292540878 0.853689075\n",
        "1305031543.707478 -0.285617232 0.078773037 -0.044996388 -0.069526933 -0.425292283 -0.293291211 0.853388965\n",
        "1305031543.743399 -0.290411681 0.070487298 -0.059867173 -0.071940705 -0.427491963 -0.294267029 0.851752341\n",
        "1305031543.775642 -0.299001962 0.065866627 -0.079121582 -0.071173035 -0.427976519 -0.290926903 0.852720380\n",
        "1305031543.807514 -0.296621680 0.066284850 -0.098357804 -0.068959005 -0.432908356 -0.285731196 0.852169394\n",
        "1305031543.843406 -0.296747863 0.062226355 -0.113215216 -0.076137938 -0.436597973 -0.281338006 0.851136982\n",
        "1305031543.875410 -0.300884902 0.051956873 -0.132826954 -0.084455349 -0.436254531 -0.276948184 0.851967692\n",
        "1305031543.907459 -0.301354080 0.046674702 -0.154025316 -0.091074541 -0.433179557 -0.271596968 0.854573548\n",
        "1305031543.943413 -0.304859430 0.036069367 -0.175080150 -0.096589267 -0.428909540 -0.270053446 0.856608570\n",
        "1305031543.975473 -0.304603577 0.034261424 -0.195808202 -0.095606022 -0.422259301 -0.267113984 0.860933602\n",
        "1305031544.007491 -0.305454671 0.024016218 -0.210849881 -0.095741577 -0.413700283 -0.264114767 0.865984440\n",
        "1305031544.043491 -0.304375231 0.023814803 -0.235578492 -0.087401703 -0.401473552 -0.262908906 0.872959793\n",
        "1305031544.075509 -0.300689042 0.019608490 -0.261212081 -0.085254215 -0.385713667 -0.259903818 0.881139398\n",
        "1305031544.107376 -0.317919135 0.016743053 -0.289642811 -0.082478665 -0.366847247 -0.256464720 0.890419126\n",
        "1305031544.143795 -0.324295074 0.019759245 -0.322530866 -0.073405445 -0.356160849 -0.250692368 0.897170246\n",
        "1305031544.175829 -0.324815214 0.023322778 -0.343147814 -0.068514116 -0.349458575 -0.246429399 0.901364028\n",
        "1305031544.207354 -0.329174995 0.030234622 -0.368449211 -0.058111545 -0.337862134 -0.241583973 0.907804728\n",
        "1305031544.243427 -0.336355329 0.033016339 -0.396227747 -0.052916579 -0.323711187 -0.239683941 0.913762808\n",
        "1305031544.275540 -0.343856066 0.039289251 -0.421105713 -0.044939667 -0.310175747 -0.240548566 0.918644547\n",
        "1305031544.307370 -0.355993450 0.046420101 -0.449878693 -0.036598992 -0.294612706 -0.243024722 0.923473239\n",
        "1305031544.343409 -0.368704796 0.063350350 -0.478535116 -0.028410932 -0.281191975 -0.243924946 0.927698493\n",
        "1305031544.375459 -0.368742347 0.086126313 -0.500607371 -0.024489028 -0.271766871 -0.243664071 0.930683017\n",
        "1305031544.407333 -0.386473179 0.101559266 -0.523383975 -0.032002628 -0.256417006 -0.249294788 0.933315694\n",
        "1305031544.443375 -0.411196500 0.106993064 -0.548486829 -0.038752977 -0.244761363 -0.252791226 0.935246825\n",
        "1305031544.475427 -0.429425418 0.129836947 -0.569288135 -0.042069707 -0.237990290 -0.253428698 0.936677456\n",
        "1305031544.507367 -0.454278678 0.136183143 -0.592136860 -0.049748566 -0.233560741 -0.257886082 0.936199367\n",
        "1305031544.543416 -0.471503198 0.145754129 -0.604286253 -0.053384677 -0.235379428 -0.263114512 0.934086382\n",
        "1305031544.575497 -0.491918504 0.157886207 -0.620600939 -0.055013023 -0.236884102 -0.266385943 0.932683229\n",
        "1305031544.607409 -0.492971331 0.186167926 -0.628353238 -0.054139860 -0.242452458 -0.266085178 0.931388378\n",
        "1305031544.643444 -0.513085365 0.201456696 -0.641210318 -0.063923694 -0.242532894 -0.269478589 0.929770291\n",
        "1305031544.675586 -0.534213245 0.201238692 -0.645255029 -0.073967092 -0.246619403 -0.271029979 0.927496910\n",
        "1305031544.707411 -0.544306457 0.220080435 -0.655365169 -0.075432129 -0.252025604 -0.270833611 0.925981760\n",
        "1305031544.743438 -0.562201917 0.224313498 -0.650126040 -0.081562661 -0.257548928 -0.272314548 0.923504651\n",
        "1305031544.775418 -0.578908205 0.226531059 -0.652922392 -0.080338687 -0.258810461 -0.274994016 0.922464728\n",
        "1305031544.807397 -0.589655757 0.241582394 -0.657069623 -0.074771427 -0.259807259 -0.275206625 0.922589123\n",
        "1305031544.843491 -0.600756228 0.267329633 -0.661785126 -0.071265124 -0.258782744 -0.274994791 0.923217595\n",
        "1305031544.875360 -0.619798541 0.273174316 -0.661072552 -0.078293219 -0.258119017 -0.279608339 0.921446681\n",
        "1305031544.907423 -0.633472681 0.281817645 -0.661757767 -0.078774795 -0.255797535 -0.284950346 0.920415938\n",
        "1305031544.943434 -0.648813248 0.286098093 -0.663860857 -0.081837185 -0.249574944 -0.291249216 0.919885278\n",
        "1305031544.975537 -0.670217812 0.298842609 -0.664374352 -0.083941147 -0.243787631 -0.297039866 0.919395924\n",
        "1305031545.007393 -0.687064171 0.296892703 -0.659550846 -0.090034373 -0.243516088 -0.295614034 0.919350922\n",
        "1305031545.043477 -0.711464643 0.297131598 -0.658662319 -0.092653722 -0.236954123 -0.295556784 0.920822561\n",
        "1305031545.075369 -0.728638768 0.298035920 -0.656510949 -0.089636192 -0.231901944 -0.291602463 0.923663795\n",
        "1305031545.107399 -0.740667582 0.305239290 -0.656977296 -0.087092735 -0.226422921 -0.283308268 0.927838326\n",
        "1305031545.144171 -0.753568053 0.307678342 -0.656219363 -0.087508567 -0.219255596 -0.272199452 0.932832599\n",
        "1305031545.175406 -0.760825276 0.307560235 -0.655331135 -0.088254862 -0.212509319 -0.260688752 0.937599182\n",
        "1305031545.207577 -0.775697052 0.309703827 -0.652532101 -0.088994205 -0.202878073 -0.249244258 0.942760706\n",
        "1305031545.243483 -0.797005057 0.306024313 -0.648830235 -0.087164439 -0.193672433 -0.236978650 0.948016047\n",
        "1305031545.275369 -0.810988188 0.315814793 -0.651436388 -0.079260267 -0.187154412 -0.225204751 0.952876627\n",
        "1305031545.307451 -0.823681235 0.322350562 -0.648727357 -0.077548370 -0.181697726 -0.214869916 0.956453383\n",
        "1305031545.343494 -0.836157501 0.317787945 -0.643813252 -0.078742526 -0.176498756 -0.204849318 0.959523082\n",
        "1305031545.375545 -0.853310347 0.316042989 -0.639135301 -0.076436408 -0.169007257 -0.192925304 0.963521600\n",
        "1305031545.407452 -0.874697745 0.317640305 -0.637432337 -0.070468687 -0.162589818 -0.181952596 0.967208326\n",
        "1305031545.444180 -0.886911452 0.313298106 -0.639686942 -0.065004595 -0.160660192 -0.171101630 0.969890177\n",
        "1305031545.475423 -0.905291140 0.296409756 -0.633331060 -0.059877038 -0.158485740 -0.160531029 0.972382009\n",
        "1305031545.507394 -0.915389955 0.310957670 -0.634614110 -0.038708638 -0.159511805 -0.152018532 0.974652767\n",
        "1305031545.543418 -0.926781833 0.300550938 -0.631470203 -0.031722408 -0.162174836 -0.142174989 0.975950420\n",
        "1305031545.578078 -0.941030085 0.302477956 -0.632803679 -0.016745908 -0.167308226 -0.140735641 0.975664377\n",
        "1305031545.607417 -0.958786428 0.309266388 -0.634283662 -0.005518550 -0.171974912 -0.140413284 0.975027323\n",
        "1305031545.643463 -0.971941531 0.311215401 -0.625996351 0.005261570 -0.177367032 -0.140286848 0.974080563\n",
        "1305031545.675289 -0.981105447 0.303551197 -0.618971765 0.016415834 -0.182207465 -0.142161235 0.972790360\n",
        "1305031545.707398 -0.985777617 0.319570988 -0.616668284 0.035953835 -0.185696319 -0.143202424 0.971451104\n",
        "1305031545.743570 -0.994036734 0.339825362 -0.619215250 0.043110058 -0.184341520 -0.143804520 0.971328974\n",
        "1305031545.775452 -1.008792162 0.348843127 -0.617261469 0.043981537 -0.185309321 -0.148192868 0.970445752\n",
        "1305031545.807404 -1.017094016 0.363836795 -0.610341728 0.042971130 -0.187454849 -0.149913028 0.969814539\n",
        "1305031545.843376 -1.015746951 0.384224027 -0.597564757 0.040337745 -0.189155236 -0.149123102 0.969719291\n",
        "1305031545.875537 -1.020460725 0.393541723 -0.591298938 0.030206559 -0.183203965 -0.150770113 0.970974863\n",
        "1305031545.907389 -1.032172799 0.404498816 -0.585110068 0.022949532 -0.175226331 -0.154789075 0.972013056\n",
        "1305031545.943457 -1.029512048 0.419103324 -0.581444979 0.011849710 -0.171430603 -0.157338798 0.972479105\n",
        "1305031545.975621 -1.034663200 0.428941101 -0.573612571 -0.000687468 -0.164707407 -0.157783851 0.973640203\n",
        "1305031546.007516 -1.042177558 0.450212479 -0.575800180 -0.009769781 -0.157327563 -0.160005048 0.974449039\n",
        "1305031546.043769 -1.036182284 0.464607954 -0.563580990 -0.025006190 -0.152651861 -0.160986036 0.974759221\n",
        "1305031546.075414 -1.033570170 0.477972031 -0.557384670 -0.039435860 -0.140094146 -0.159591570 0.976395905\n",
        "1305031546.107395 -1.029393673 0.492431819 -0.554459393 -0.047873456 -0.130461067 -0.158340931 0.977556229\n",
        "1305031546.143502 -1.028340936 0.505542159 -0.552153826 -0.055414032 -0.118261471 -0.155959934 0.979091406\n",
        "1305031546.175952 -1.030930519 0.508714318 -0.546573281 -0.067375802 -0.107248776 -0.147529036 0.980914533\n",
        "1305031546.207500 -1.024528623 0.517454207 -0.542282641 -0.077759199 -0.098568663 -0.142390266 0.981816053\n",
        "1305031546.243551 -1.023211718 0.520915508 -0.536803424 -0.084928177 -0.086161926 -0.136442930 0.983232796\n",
        "1305031546.276098 -1.018564939 0.539996207 -0.534515381 -0.082185738 -0.075569794 -0.128385767 0.985419631\n",
        "1305031546.308110 -1.010900617 0.550528944 -0.528959513 -0.090218984 -0.066594698 -0.117502101 0.986721337\n",
        "1305031546.343919 -1.014521241 0.556670666 -0.524246275 -0.094354831 -0.053942565 -0.109825686 0.987990737\n",
        "1305031546.376056 -1.012071252 0.569871247 -0.519335747 -0.092766643 -0.048395433 -0.101247221 0.989343882\n",
        "1305031546.407659 -1.003891230 0.578038037 -0.514469981 -0.095107846 -0.046558440 -0.090958118 0.990208805\n",
        "1305031546.443968 -1.006876349 0.587401628 -0.507140934 -0.093904831 -0.041006159 -0.084594145 0.991132796\n",
        "1305031546.475996 -0.996109128 0.606940567 -0.504759967 -0.092348449 -0.041479517 -0.078999028 0.991720915\n",
        "1305031546.507967 -0.994153321 0.611241043 -0.496860325 -0.097532190 -0.037081897 -0.074150644 0.991773188\n",
        "1305031546.544068 -0.989314735 0.627403915 -0.493148655 -0.093061380 -0.035366114 -0.069693960 0.992588341\n",
        "1305031546.576412 -0.987078428 0.637881339 -0.490572333 -0.098057151 -0.031207165 -0.065670043 0.992521226\n",
        "1305031546.607717 -0.985495627 0.648996294 -0.485175341 -0.104153536 -0.028164549 -0.062237393 0.992212296\n",
        "1305031546.644200 -0.980976045 0.661606312 -0.480350435 -0.109906785 -0.025553485 -0.059289202 0.991842866\n",
        "1305031546.676003 -0.979658186 0.668606997 -0.473185062 -0.117995255 -0.021227345 -0.058345407 0.991071284\n",
        "1305031546.707934 -0.974887013 0.675395727 -0.468508154 -0.124167100 -0.018283943 -0.056145288 0.990502834\n",
        "1305031546.743887 -0.973686397 0.685157299 -0.463010907 -0.131787583 -0.011771018 -0.056698982 0.989585102\n",
        "1305031546.775864 -0.975636601 0.691571474 -0.455485851 -0.140392944 -0.006230631 -0.058326945 0.988356709\n",
        "1305031546.807996 -0.973160028 0.695711017 -0.449681729 -0.144233882 -0.004771988 -0.058515519 0.987800479\n",
        "1305031546.844079 -0.972163498 0.700159490 -0.445479959 -0.147190124 -0.005115082 -0.057700932 0.987410486\n",
        "1305031546.876064 -0.970690489 0.699782610 -0.439850301 -0.151563972 -0.008172899 -0.059012938 0.986650407\n",
        "1305031546.907783 -0.970115304 0.699011922 -0.434674412 -0.150987342 -0.008861817 -0.060312528 0.986654282\n",
        "1305031546.943858 -0.971781909 0.705614865 -0.432511747 -0.144331127 -0.008444622 -0.062622145 0.987509847\n",
        "1305031546.975884 -0.973060191 0.706883013 -0.429386258 -0.145612717 -0.009609468 -0.064460464 0.987192690\n",
        "1305031547.011984 -0.973977268 0.705084682 -0.425893694 -0.146080330 -0.012293681 -0.067066759 0.986920178\n",
        "1305031547.044214 -0.969248772 0.709507227 -0.423717022 -0.141931981 -0.015329896 -0.068335988 0.987395823\n",
        "1305031547.076346 -0.969141841 0.705416739 -0.420951128 -0.142568424 -0.012756718 -0.071352549 0.987127304\n",
        "1305031547.111991 -0.969205260 0.702976882 -0.420145452 -0.139350116 -0.010200501 -0.072448380 0.987536669\n",
        "1305031547.144071 -0.970228970 0.703889012 -0.420595855 -0.133380279 -0.007748643 -0.073243111 0.988324404\n",
        "1305031547.175909 -0.971397400 0.704943478 -0.422101766 -0.130354390 -0.007599273 -0.070975937 0.988894522\n",
        "1305031547.211964 -0.972041070 0.701468408 -0.422861338 -0.130787611 -0.010874991 -0.070190683 0.988862753\n",
        "1305031547.244113 -0.971181035 0.695812881 -0.424771667 -0.130435303 -0.013295597 -0.070769772 0.988838434\n",
        "1305031547.276546 -0.971028864 0.697565377 -0.427125096 -0.125065759 -0.014118688 -0.071175680 0.989491403\n",
        "1305031547.312261 -0.971129596 0.694582820 -0.428963840 -0.124308571 -0.015723296 -0.071646489 0.989528596\n",
        "1305031547.344192 -0.971808732 0.696023524 -0.431559682 -0.120676666 -0.017302411 -0.070783302 0.990013897\n",
        "1305031547.376753 -0.972948790 0.692880690 -0.433144748 -0.121699139 -0.020406267 -0.069425315 0.989925742\n",
        "1305031547.412260 -0.971561193 0.691772044 -0.434226394 -0.120271191 -0.024528606 -0.067930862 0.990110397\n",
        "1305031547.444472 -0.969606876 0.689487159 -0.435226619 -0.119148292 -0.027779723 -0.068744808 0.990104079\n",
        "1305031547.476347 -0.970041931 0.689112425 -0.436202466 -0.115484737 -0.028181925 -0.070158444 0.990427613\n",
        "1305031547.512114 -0.969141722 0.690587997 -0.436644912 -0.112998858 -0.028315512 -0.070585296 0.990680158\n",
        "1305031547.544015 -0.969343126 0.685919464 -0.435732603 -0.115559071 -0.027669447 -0.071633816 0.990327775\n",
        "1305031547.576437 -0.969174564 0.686703444 -0.435318053 -0.112849854 -0.027105195 -0.070552461 0.990733325\n",
        "1305031547.612296 -0.970078647 0.689395785 -0.435169339 -0.112708598 -0.026355622 -0.070317492 0.990786374\n",
        "1305031547.644160 -0.968304217 0.684383154 -0.432779491 -0.115552612 -0.027641958 -0.069583893 0.990475416\n",
        "1305031547.677287 -0.966275394 0.690610170 -0.433439136 -0.111170650 -0.027089374 -0.068664201 0.991056204\n",
        "1305031547.712338 -0.964709222 0.686679959 -0.430968702 -0.118181951 -0.026665349 -0.069269933 0.990213931\n",
        "1305031547.744332 -0.963581026 0.684470177 -0.429666400 -0.117340922 -0.025876738 -0.069295891 0.990333080\n",
        "1305031547.776390 -0.964229822 0.688230872 -0.429996789 -0.114284322 -0.024022026 -0.070344165 0.990663290\n",
        "1305031547.812317 -0.964506626 0.684349477 -0.429410160 -0.117394648 -0.022055248 -0.071717598 0.990246713\n",
        "1305031547.844564 -0.962979019 0.686277032 -0.429381162 -0.114744045 -0.021526016 -0.070772044 0.990637004\n",
        "1305031547.876362 -0.963006616 0.688939631 -0.429479182 -0.113952808 -0.021306587 -0.070929334 0.990721881\n",
        "1305031547.912744 -0.960898936 0.685296535 -0.428291798 -0.116005875 -0.021983700 -0.069795489 0.990549266\n",
        "1305031547.944304 -0.960632503 0.685537279 -0.428972363 -0.115375742 -0.021099383 -0.069957919 0.990630627\n",
        "1305031547.976482 -0.961886823 0.682433546 -0.428157896 -0.117708437 -0.020157713 -0.070085905 0.990366757"
      ],
      "metadata": {
        "colab": {
          "base_uri": "https://localhost:8080/"
        },
        "id": "ac29qVvV5mh4",
        "outputId": "8df8bb5b-b894-4bf0-ee86-db64e0991769"
      },
      "execution_count": null,
      "outputs": [
        {
          "output_type": "stream",
          "name": "stdout",
          "text": [
            "Writing trajectory.txt\n"
          ]
        }
      ]
    },
    {
      "cell_type": "code",
      "source": [
        "%%writefile CMakeLists.txt\n",
        "include_directories(\"/usr/include/eigen3\")\n",
        "add_executable(coordinateTransform coordinateTransform.cpp)\n",
        "\n",
        "find_package(Pangolin REQUIRED)\n",
        "include_directories(${Pangolin_INCLUDE_DIRS})\n",
        "add_executable(plotTrajectory plotTrajectory.cpp)\n",
        "target_link_libraries(plotTrajectory ${Pangolin_LIBRARIES})"
      ],
      "metadata": {
        "colab": {
          "base_uri": "https://localhost:8080/"
        },
        "id": "gB71uIkG5CZA",
        "outputId": "4e5690d2-7e71-451c-db91-3e5f1e0cc0bb"
      },
      "execution_count": null,
      "outputs": [
        {
          "output_type": "stream",
          "name": "stdout",
          "text": [
            "Overwriting CMakeLists.txt\n"
          ]
        }
      ]
    }
  ],
  "metadata": {
    "colab": {
      "provenance": [],
      "toc_visible": true,
      "collapsed_sections": [
        "y83y0GpQadIc",
        "MWEO4GjeaF8z",
        "C8W3wzwD24Md",
        "tyL3xWNwLPfm",
        "Fn409myQKRmE",
        "XIWjbTChTVHE",
        "H3RKO01RIVFy",
        "laAY4U61IbXs",
        "ktl8HsMjeh_5",
        "GPFRDvMhep1l",
        "ls6nAayWesyJ",
        "JbSEEQ2-I6lq",
        "ze8mh25H2CqV",
        "-8iRmqZ04lef"
      ],
      "include_colab_link": true
    },
    "kernelspec": {
      "display_name": "Python 3",
      "name": "python3"
    },
    "language_info": {
      "name": "python"
    }
  },
  "nbformat": 4,
  "nbformat_minor": 0
}